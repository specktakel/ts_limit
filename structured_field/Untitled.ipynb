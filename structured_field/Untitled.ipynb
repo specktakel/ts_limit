{
 "cells": [
  {
   "cell_type": "code",
   "execution_count": 1,
   "id": "comfortable-photography",
   "metadata": {},
   "outputs": [],
   "source": [
    "from gammaALPs.core import Source, ALP, ModuleList\n",
    "from gammaALPs.base.transfer import EminGeV, EmaxGeV\n",
    "import numpy as np\n",
    "import matplotlib.pyplot as plt\n",
    "from astropy import constants as c"
   ]
  },
  {
   "cell_type": "code",
   "execution_count": 2,
   "id": "temporal-anxiety",
   "metadata": {},
   "outputs": [],
   "source": [
    "m, g = 10., 3.\n",
    "alp = ALP(m, g)"
   ]
  },
  {
   "cell_type": "code",
   "execution_count": 3,
   "id": "social-walker",
   "metadata": {},
   "outputs": [],
   "source": [
    "EGeV = np.logspace(0.,8.,1000)"
   ]
  },
  {
   "cell_type": "code",
   "execution_count": 4,
   "id": "ranking-queen",
   "metadata": {},
   "outputs": [],
   "source": [
    "pin = np.diag((1., 0., 0.))"
   ]
  },
  {
   "cell_type": "code",
   "execution_count": 5,
   "id": "expired-right",
   "metadata": {},
   "outputs": [],
   "source": [
    "src = Source(z=0., l=0., b=0.)"
   ]
  },
  {
   "cell_type": "code",
   "execution_count": 6,
   "id": "thirty-opinion",
   "metadata": {},
   "outputs": [],
   "source": [
    "ml = ModuleList(alp, src, pin=pin, EGeV=EGeV, seed=0)"
   ]
  },
  {
   "cell_type": "code",
   "execution_count": 16,
   "id": "representative-insulation",
   "metadata": {},
   "outputs": [],
   "source": [
    "ml.add_propagation(environ='ICMCell',\n",
    "                   order=0,   # order of the module\n",
    "                   B0=1.,  # B field strength\n",
    "                   L0=10.,  # cell size\n",
    "                   nsim=1,  # one single realization\n",
    "                   n0=1e-3,  # electron density\n",
    "                   r_abell=10.1,  # full path, chosen that we only have a single cell\n",
    "                   beta=0.,\n",
    "                   eta=0.\n",
    "                  )"
   ]
  },
  {
   "cell_type": "code",
   "execution_count": 8,
   "id": "palestinian-hawaii",
   "metadata": {},
   "outputs": [],
   "source": [
    "ml.modules[0].psin = np.ones_like(ml.modules[0].psin) * np.pi / 2."
   ]
  },
  {
   "cell_type": "code",
   "execution_count": 9,
   "id": "similar-chambers",
   "metadata": {},
   "outputs": [],
   "source": [
    "px, py, pa = ml.run()"
   ]
  },
  {
   "cell_type": "code",
   "execution_count": 31,
   "id": "gorgeous-nepal",
   "metadata": {},
   "outputs": [
    {
     "data": {
      "text/plain": [
       "Text(0, 0.5, '$P_{a\\\\gamma}$')"
      ]
     },
     "execution_count": 31,
     "metadata": {},
     "output_type": "execute_result"
    },
    {
     "data": {
      "image/png": "[encoded data removed]",
      "text/plain": [
       "<Figure size 432x288 with 1 Axes>"
      ]
     },
     "metadata": {
      "needs_background": "light"
     },
     "output_type": "display_data"
    }
   ],
   "source": [
    "plt.semilogx(EGeV, pa[0], lw=2)\n",
    "#plt.semilogx(EGeV, pa_arr[0], lw=1)\n",
    "\n",
    "# the critical energy, onset of strong mixing regime\n",
    "plt.axvline(EminGeV(m_neV=ml.alp.m, g11=ml.alp.g, BmuG=ml.modules[0].B, n_cm3=ml.modules[0].nel),\n",
    "            lw=1., ls='--', color='k')\n",
    "\n",
    "# maximum energy, end of strong mixing regime\n",
    "plt.axvline(EmaxGeV(g11=ml.alp.g, BmuG=ml.modules[0].B),\n",
    "            lw=1., ls='-.', color='k')\n",
    "\n",
    "plt.xlabel(\"Energy (GeV)\")\n",
    "plt.ylabel(\"$P_{a\\gamma}$\")"
   ]
  },
  {
   "cell_type": "code",
   "execution_count": 18,
   "id": "premium-tsunami",
   "metadata": {},
   "outputs": [
    {
     "data": {
      "text/plain": [
       "array([5.])"
      ]
     },
     "execution_count": 18,
     "metadata": {},
     "output_type": "execute_result"
    }
   ],
   "source": [
    "ml.modules['ICMCell'].r"
   ]
  },
  {
   "cell_type": "code",
   "execution_count": 29,
   "id": "piano-leone",
   "metadata": {},
   "outputs": [],
   "source": [
    "ml_array = ModuleList(alp, src, pin=pin, EGeV=EGeV, seed=0)\n",
    "ml_array.add_propagation('Array', 0, Btrans=np.array([1]), psi=np.array([np.pi/2]), nel=np.array([1e-3]), dL=np.array([10]))\n",
    "px_arr, py_arr, pa_arr = ml_array.run()"
   ]
  },
  {
   "cell_type": "code",
   "execution_count": null,
   "id": "bottom-services",
   "metadata": {},
   "outputs": [],
   "source": [
    "Btrans, psi, nel, dL"
   ]
  }
 ],
 "metadata": {
  "kernelspec": {
   "display_name": "Python 3",
   "language": "python",
   "name": "python3"
  },
  "language_info": {
   "codemirror_mode": {
    "name": "ipython",
    "version": 3
   },
   "file_extension": ".py",
   "mimetype": "text/x-python",
   "name": "python",
   "nbconvert_exporter": "python",
   "pygments_lexer": "ipython3",
   "version": "3.9.2"
  }
 },
 "nbformat": 4,
 "nbformat_minor": 5
}
