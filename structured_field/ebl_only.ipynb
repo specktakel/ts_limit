{
 "cells": [
  {
   "cell_type": "code",
   "execution_count": 27,
   "id": "33ac4cbf",
   "metadata": {},
   "outputs": [],
   "source": [
    "import numpy as np\n",
    "from gammaALPs.core import Source, ALP, ModuleList\n",
    "import matplotlib.pyplot as plt"
   ]
  },
  {
   "cell_type": "code",
   "execution_count": 6,
   "id": "d7aac294",
   "metadata": {},
   "outputs": [],
   "source": [
    "log10MeV = np.loadtxt('energy_bins.dat')\n",
    "EGeV = np.power(10, log10MeV - 3.)"
   ]
  },
  {
   "cell_type": "code",
   "execution_count": 8,
   "id": "585fe207",
   "metadata": {},
   "outputs": [],
   "source": [
    "ngc1275 = Source(z=0.017559, ra='03h19m48.1s', dec='+41d30m42s')\n",
    "alp = ALP(1, 1)\n",
    "pin = 0.5 * np.diag((1., 1., 0))\n",
    "ml = ModuleList(alp, ngc1275, pin = pin, EGeV = EGeV)\n",
    "ml.add_propagation(\"ICMGaussTurb\",\n",
    "                  0, # position of module counted from the source.\n",
    "                  nsim=1, # number of random B-field realizations\n",
    "                  B0=10.,  # rms of B field\n",
    "                  n0=39.,  # normalization of electron density\n",
    "                  n2=4.05, # second normalization of electron density, see Churazov et al. 2003, Eq. 4\n",
    "                  r_abell=500., # extension of the cluster\n",
    "                  r_core=80.,   # electron density parameter, see Churazov et al. 2003, Eq. 4\n",
    "                  r_core2=280., # electron density parameter, see Churazov et al. 2003, Eq. 4\n",
    "                  beta=1.2,  # electron density parameter, see Churazov et al. 2003, Eq. 4\n",
    "                  beta2=0.58, # electron density parameter, see Churazov et al. 2003, Eq. 4\n",
    "                  eta=0.5, # scaling of B-field with electron denstiy\n",
    "                  kL=0.18, # maximum turbulence scale in kpc^-1, taken from A2199 cool-core cluster, see Vacca et al. 2012\n",
    "                  kH=9.,  # minimum turbulence scale, taken from A2199 cool-core cluster, see Vacca et al. 2012\n",
    "                  q=-2.80, # turbulence spectral index, taken from A2199 cool-core cluster, see Vacca et al. 2012\n",
    "                  seed=0 # random seed for reproducability, set to None for random seed.\n",
    "                 )\n",
    "ml.add_propagation(\"EBL\", 1, model='dominguez')\n",
    "px, py, pa = ml.run()"
   ]
  },
  {
   "cell_type": "code",
   "execution_count": 25,
   "id": "a6cd08ce",
   "metadata": {},
   "outputs": [
    {
     "data": {
      "text/plain": [
       "(183,)"
      ]
     },
     "execution_count": 25,
     "metadata": {},
     "output_type": "execute_result"
    }
   ],
   "source": [
    "ml._atten"
   ]
  },
  {
   "cell_type": "code",
   "execution_count": 28,
   "id": "695282d4",
   "metadata": {},
   "outputs": [
    {
     "data": {
      "image/png": "[encoded data removed]",
      "text/plain": [
       "<Figure size 432x288 with 1 Axes>"
      ]
     },
     "metadata": {
      "needs_background": "light"
     },
     "output_type": "display_data"
    }
   ],
   "source": [
    "plt.plot(np.power(10, log10MeV), ml._atten)\n",
    "plt.xscale('log')"
   ]
  },
  {
   "cell_type": "code",
   "execution_count": null,
   "id": "fd7a9459",
   "metadata": {},
   "outputs": [],
   "source": []
  }
 ],
 "metadata": {
  "kernelspec": {
   "display_name": "Python 3",
   "language": "python",
   "name": "python3"
  },
  "language_info": {
   "codemirror_mode": {
    "name": "ipython",
    "version": 3
   },
   "file_extension": ".py",
   "mimetype": "text/x-python",
   "name": "python",
   "nbconvert_exporter": "python",
   "pygments_lexer": "ipython3",
   "version": "3.9.2"
  }
 },
 "nbformat": 4,
 "nbformat_minor": 5
}
