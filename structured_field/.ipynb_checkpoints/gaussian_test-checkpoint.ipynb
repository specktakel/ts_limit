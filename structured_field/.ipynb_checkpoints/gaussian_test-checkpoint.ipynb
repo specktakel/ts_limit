{
 "cells": [
  {
   "cell_type": "code",
   "execution_count": 1,
   "id": "romantic-officer",
   "metadata": {},
   "outputs": [],
   "source": [
    "import numpy as np\n",
    "from gammaALPs.core import Source, ALP, ModuleList\n",
    "from gammaALPs.base import environs, transfer\n",
    "import matplotlib.pyplot as plt\n",
    "from ts_limit.grid import Grid"
   ]
  },
  {
   "cell_type": "code",
   "execution_count": 2,
   "id": "amazing-prerequisite",
   "metadata": {},
   "outputs": [],
   "source": [
    "grid = Grid()"
   ]
  },
  {
   "cell_type": "code",
   "execution_count": 3,
   "id": "compressed-upset",
   "metadata": {},
   "outputs": [],
   "source": [
    "log10MeV = np.loadtxt('../grid_survival_prob/energy_bins.dat')\n",
    "EGeV = np.power(10, log10MeV - 3)"
   ]
  },
  {
   "cell_type": "code",
   "execution_count": null,
   "id": "final-thomas",
   "metadata": {},
   "outputs": [],
   "source": [
    "def gammaalps_prob(g, m):\n",
    "    alp = ALP(m,g)\n",
    "    ngc1275 = Source(z=0., ra='03h19m48.1s', dec='+41d30m42s')\n",
    "    EGeV = np.logspace(1., 3.5, 250)\n",
    "    pin = np.diag((1.,1.,0.)) * 0.5\n",
    "    ml = ModuleList(alp, ngc1275, pin = pin, EGeV = EGeV)\n",
    "    ml.add_propagation(\"ICMGaussTurb\",\n",
    "                      0, # position of module counted from the source.\n",
    "                      nsim=10, # number of random B-field realizations\n",
    "                      B0=10.,  # rms of B field\n",
    "                      n0=39.,  # normalization of electron density\n",
    "                      n2=4.05, # second normalization of electron density, see Churazov et al. 2003, Eq. 4\n",
    "                      r_abell=500., # extension of the cluster\n",
    "                      r_core=80.,   # electron density parameter, see Churazov et al. 2003, Eq. 4\n",
    "                      r_core2=280., # electron density parameter, see Churazov et al. 2003, Eq. 4\n",
    "                      beta=1.2,  # electron density parameter, see Churazov et al. 2003, Eq. 4\n",
    "                      beta2=0.58, # electron density parameter, see Churazov et al. 2003, Eq. 4\n",
    "                      eta=0.5, # scaling of B-field with electron denstiy\n",
    "                      kL=0.18, # maximum turbulence scale in kpc^-1, taken from A2199 cool-core cluster, see Vacca et al. 2012\n",
    "                      kH=9.,  # minimum turbulence scale, taken from A2199 cool-core cluster, see Vacca et al. 2012\n",
    "                      q=-2.80, # turbulence spectral index, taken from A2199 cool-core cluster, see Vacca et al. 2012\n",
    "                      seed=0 # random seed for reproducability, set to None for random seed.\n",
    "                     )\n",
    "    px, py, pa = ml.run()\n",
    "    psurv = px + py\n",
    "    B = ml.modules[\"ICMGaussTurb\"].Bn\n",
    "    psi = ml.modules[\"ICMGaussTurb\"].psin\n",
    "    n_el = ml.modules[\"ICMGaussTurb\"].nel * 1e-3\n",
    "    r = ml.modules[\"ICMGaussTurb\"].r  # kpc\n",
    "    result_dic = {'p': psurv, 'B_T': B, 'psi': psi, 'nel': n_el, 'r': r}\n",
    "    return result_dict\n",
    "\n",
    "def array_prob(g, m, res_dict):\n",
    "    pass"
   ]
  },
  {
   "cell_type": "code",
   "execution_count": null,
   "id": "injured-inquiry",
   "metadata": {},
   "outputs": [],
   "source": [
    "B = ml.modules[\"ICMGaussTurb\"].Bn   # in muG\n",
    "psi = ml.modules[\"ICMGaussTurb\"].psin\n",
    "r = ml.modules[\"ICMGaussTurb\"].r  # kpc\n",
    "n_el = ml.modules[\"ICMGaussTurb\"].nel * 1e-3   # in cm^-3"
   ]
  },
  {
   "cell_type": "code",
   "execution_count": null,
   "id": "better-america",
   "metadata": {},
   "outputs": [],
   "source": [
    "dr = r[1] - r[0]\n",
    "dL = np.full((4499), dr)\n",
    "#dL[0] = dr / 2\n",
    "#dL[-1] = dr / 2"
   ]
  },
  {
   "cell_type": "code",
   "execution_count": null,
   "id": "dense-strengthening",
   "metadata": {},
   "outputs": [],
   "source": [
    "n_el.shape"
   ]
  },
  {
   "cell_type": "code",
   "execution_count": null,
   "id": "grave-producer",
   "metadata": {},
   "outputs": [],
   "source": [
    "ml_array = ModuleList(alp, ngc1275, pin = pin, EGeV = EGeV)\n",
    "ml_array.add_propagation(\"Array\", 0, Btrans=B, psi=psi, nel=n_el, dL=dL)\n",
    "px_man, py_man, pa_man = ml_array.run()"
   ]
  },
  {
   "cell_type": "code",
   "execution_count": null,
   "id": "lonely-beaver",
   "metadata": {},
   "outputs": [],
   "source": [
    "psurv_man = px_man + py_man\n",
    "psurv_ga = px + py\n",
    "fig = plt.figure(111)\n",
    "#ax1 = fig.add_subplot(211)\n",
    "ax2 = fig.add_subplot(111)\n",
    "#ax1.plot(EGeV, psurv, label='array', alpha=0.5)\n",
    "#ax1.plot(EGeV, psurv_ga, label='IGCMGaussTurb', alpha=0.5)\n",
    "#ax1.legend()\n",
    "for c, v in enumerate(psurv_man):\n",
    "    ax2.plot(EGeV, (v - psurv_ga[c]) / psurv_ga[c], alpha=0.5, lw=1, label=f'{c}')\n",
    "ax2.set_xscale('log')\n",
    "# ax1.set_xscale('log')\n",
    "# ax1.set_yscale('log')\n",
    "ax2.legend(loc='upper right')\n",
    "ax2.set_title(r'$g_{a\\gamma\\gamma} = \\SI{10e-11}{\\per\\giga\\electronvolt}, m_a = \\SI{30}{\\nano\\electronvolt}$')\n",
    "fig.savefig('ICMGaussTurb.png')"
   ]
  },
  {
   "cell_type": "code",
   "execution_count": null,
   "id": "noble-matrix",
   "metadata": {},
   "outputs": [],
   "source": []
  }
 ],
 "metadata": {
  "kernelspec": {
   "display_name": "Python 3",
   "language": "python",
   "name": "python3"
  },
  "language_info": {
   "codemirror_mode": {
    "name": "ipython",
    "version": 3
   },
   "file_extension": ".py",
   "mimetype": "text/x-python",
   "name": "python",
   "nbconvert_exporter": "python",
   "pygments_lexer": "ipython3",
   "version": "3.9.2"
  }
 },
 "nbformat": 4,
 "nbformat_minor": 5
}
