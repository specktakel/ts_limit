{
 "cells": [
  {
   "cell_type": "code",
   "execution_count": 16,
   "id": "continued-player",
   "metadata": {},
   "outputs": [],
   "source": [
    "#from sympy import *\n",
    "from scipy import constants\n",
    "import numpy as np\n",
    "import matplotlib.pyplot as plt"
   ]
  },
  {
   "cell_type": "code",
   "execution_count": null,
   "id": "undefined-punch",
   "metadata": {},
   "outputs": [],
   "source": [
    "#variables:\n",
    "#g_agamma in 10e-11 GeV^{-1}, B_T in muG, "
   ]
  },
  {
   "cell_type": "code",
   "execution_count": null,
   "id": "racial-mount",
   "metadata": {},
   "outputs": [],
   "source": [
    "g_agamma, B_T, E, n_e = symbols('g_a\\gamma B_T E n_e')"
   ]
  },
  {
   "cell_type": "code",
   "execution_count": null,
   "id": "awful-substitute",
   "metadata": {},
   "outputs": [],
   "source": [
    "m_a, d = symbols('m_a d')"
   ]
  },
  {
   "cell_type": "code",
   "execution_count": null,
   "id": "southwest-merchandise",
   "metadata": {},
   "outputs": [],
   "source": [
    "delta_ag = symbols('\\Delta_a\\gamma')"
   ]
  },
  {
   "cell_type": "code",
   "execution_count": null,
   "id": "recent-counter",
   "metadata": {},
   "outputs": [],
   "source": [
    "w_pl = symbols('\\omega_pl')"
   ]
  },
  {
   "cell_type": "code",
   "execution_count": null,
   "id": "flush-wildlife",
   "metadata": {},
   "outputs": [],
   "source": [
    "delta_ag = 7.6e-2 * g_agamma / 0.5 * B_T"
   ]
  },
  {
   "cell_type": "code",
   "execution_count": null,
   "id": "emotional-teens",
   "metadata": {},
   "outputs": [],
   "source": [
    "delta_a = -7.8e-3 * m_a**2 * E**(-1)"
   ]
  },
  {
   "cell_type": "code",
   "execution_count": null,
   "id": "practical-housing",
   "metadata": {},
   "outputs": [],
   "source": [
    "delta_pl = -1.1e-10 * E**(-1) * n_e"
   ]
  },
  {
   "cell_type": "code",
   "execution_count": null,
   "id": "flexible-heritage",
   "metadata": {},
   "outputs": [],
   "source": [
    "E_c = 50 * abs(m_a**2 - w_pl**2) / B_T *0.5 / g_agamma"
   ]
  },
  {
   "cell_type": "code",
   "execution_count": null,
   "id": "superior-lincoln",
   "metadata": {},
   "outputs": [],
   "source": [
    "delta_osc = 2 * delta_ag * sqrt(1 + (E_c / E)**2)"
   ]
  },
  {
   "cell_type": "code",
   "execution_count": null,
   "id": "fantastic-librarian",
   "metadata": {},
   "outputs": [],
   "source": [
    "P_gammaa = (delta_ag * d)**2 * sin(delta_osc * d / 2)**2 / (delta_osc * d / 2)**2"
   ]
  },
  {
   "cell_type": "code",
   "execution_count": null,
   "id": "medium-business",
   "metadata": {
    "scrolled": true
   },
   "outputs": [],
   "source": [
    "P_gammaa"
   ]
  },
  {
   "cell_type": "code",
   "execution_count": null,
   "id": "crude-corporation",
   "metadata": {},
   "outputs": [],
   "source": [
    "E_c"
   ]
  },
  {
   "cell_type": "markdown",
   "id": "virgin-mason",
   "metadata": {},
   "source": [
    "Preceeding stuff done in sympy, if using stuff below (pure python) do NOT execute any cells. will do conflicts with variables / functions of the same name in sympy."
   ]
  },
  {
   "cell_type": "code",
   "execution_count": 15,
   "id": "artistic-hammer",
   "metadata": {
    "scrolled": true
   },
   "outputs": [
    {
     "data": {
      "text/plain": [
       "array([1.99522393e-04, 1.64730515e-03, 1.97724586e-03, 5.76051905e-04,\n",
       "       9.32696136e-05, 1.55084963e-03, 2.59672387e-03, 1.55146282e-03,\n",
       "       1.03355911e-04, 5.81588664e-04, 2.46015229e-03, 3.21094588e-03,\n",
       "       1.85460525e-03, 1.94951111e-04, 4.23894373e-04, 2.44165370e-03,\n",
       "       4.07018597e-03, 3.57854439e-03, 1.51792461e-03, 5.08168890e-05,\n",
       "       7.46909420e-04, 3.13162305e-03, 5.21554963e-03, 5.29178402e-03,\n",
       "       3.33581727e-03, 9.37756617e-04, 9.86457205e-06, 1.37973096e-03,\n",
       "       4.27392202e-03, 6.92124934e-03, 7.73647073e-03, 6.27549281e-03,\n",
       "       3.42893530e-03, 8.48840359e-04, 2.41710036e-05, 1.53221563e-03,\n",
       "       4.81213391e-03, 8.49488824e-03, 1.10617923e-02, 1.14997184e-02,\n",
       "       9.68170032e-03, 6.36110674e-03, 2.83694284e-03, 4.59045930e-04,\n",
       "       1.68034952e-04, 2.21768202e-03, 6.14128208e-03, 1.09365732e-02,\n",
       "       1.53834608e-02, 1.83867749e-02, 1.92493489e-02, 1.78164031e-02,\n",
       "       1.44753148e-02, 1.00324159e-02, 5.51260455e-03, 1.93594586e-03,\n",
       "       1.20130220e-04, 5.43278973e-04, 3.28345380e-03, 8.03395758e-03,\n",
       "       1.41802528e-02, 2.09165373e-02, 2.73777202e-02, 3.27647463e-02,\n",
       "       3.64464071e-02, 3.80273735e-02, 3.73788004e-02, 3.46335038e-02,\n",
       "       3.01518262e-02, 2.44667079e-02, 1.82172769e-02, 1.20797728e-02,\n",
       "       6.70320645e-03, 2.65524103e-03, 3.81697665e-04, 1.81124303e-04,\n",
       "       2.19419651e-03, 6.40644543e-03, 1.26619597e-02, 2.06852601e-02,\n",
       "       3.01084414e-02, 4.05008354e-02, 5.13987986e-02, 6.23336812e-02,\n",
       "       7.28565391e-02, 8.25586421e-02, 9.10872844e-02, 9.81567898e-02,\n",
       "       1.03554907e-01, 1.07145021e-01, 1.08864756e-01, 1.08721623e-01,\n",
       "       1.06786400e-01, 1.03184902e-01, 9.80887747e-02, 9.17058243e-02,\n",
       "       8.42703743e-02, 7.60339978e-02, 6.72569189e-02, 5.82002802e-02,\n",
       "       4.91194066e-02, 4.02581287e-02, 3.18441803e-02, 2.40856386e-02,\n",
       "       1.71683479e-02, 1.12542431e-02, 6.48047496e-03, 2.95923206e-03,\n",
       "       7.78151228e-04, 1.21083124e-06, 6.70006416e-04, 2.80531557e-03,\n",
       "       6.40886810e-03, 1.14652474e-02, 1.79438590e-02, 2.58009121e-02,\n",
       "       3.49813699e-02, 4.54208329e-02, 5.70473280e-02, 6.97829820e-02,\n",
       "       8.35455668e-02, 9.82499077e-02, 1.13809149e-01, 1.30135877e-01,\n",
       "       1.47143109e-01, 1.64745137e-01, 1.82858258e-01, 2.01401374e-01,\n",
       "       2.20296484e-01, 2.39469081e-01, 2.58848446e-01, 2.78367871e-01,\n",
       "       2.97964802e-01, 3.17580924e-01, 3.37162184e-01, 3.56658769e-01,\n",
       "       3.76025050e-01, 3.95219481e-01, 4.14204484e-01, 4.32946296e-01,\n",
       "       4.51414816e-01, 4.69583428e-01, 4.87428819e-01, 5.04930790e-01,\n",
       "       5.22072064e-01, 5.38838098e-01, 5.55216891e-01, 5.71198797e-01,\n",
       "       5.86776344e-01, 6.01944057e-01, 6.16698289e-01, 6.31037061e-01,\n",
       "       6.44959903e-01, 6.58467711e-01, 6.71562605e-01, 6.84247804e-01,\n",
       "       6.96527501e-01, 7.08406748e-01, 7.19891353e-01, 7.30987781e-01,\n",
       "       7.41703061e-01, 7.52044705e-01, 7.62020632e-01, 7.71639093e-01,\n",
       "       7.80908614e-01, 7.89837929e-01, 7.98435934e-01, 8.06711635e-01,\n",
       "       8.14674109e-01, 8.22332460e-01, 8.29695787e-01, 8.36773156e-01,\n",
       "       8.43573568e-01, 8.50105937e-01, 8.56379069e-01, 8.62401644e-01,\n",
       "       8.68182201e-01, 8.73729123e-01, 8.79050625e-01, 8.84154748e-01,\n",
       "       8.89049345e-01, 8.93742084e-01, 8.98240434e-01, 9.02551667e-01,\n",
       "       9.06682853e-01, 9.10640860e-01, 9.14432354e-01, 9.18063797e-01,\n",
       "       9.21541449e-01, 9.24871372e-01, 9.28059427e-01, 9.31111281e-01,\n",
       "       9.34032410e-01, 9.36828098e-01, 9.39503446e-01, 9.42063372e-01,\n",
       "       9.44512617e-01, 9.46855748e-01, 9.49097164e-01, 9.51241098e-01,\n",
       "       9.53291626e-01, 9.55252665e-01, 9.57127983e-01, 9.58921201e-01,\n",
       "       9.60635798e-01, 9.62275118e-01, 9.63842370e-01, 9.65340634e-01,\n",
       "       9.66772868e-01, 9.68141910e-01, 9.69450481e-01, 9.70701193e-01,\n",
       "       9.71896548e-01, 9.73038947e-01, 9.74130689e-01, 9.75173980e-01,\n",
       "       9.76170931e-01, 9.77123566e-01, 9.78033824e-01, 9.78903560e-01,\n",
       "       9.79734552e-01, 9.80528502e-01, 9.81287040e-01, 9.82011724e-01,\n",
       "       9.82704048e-01, 9.83365439e-01, 9.83997266e-01, 9.84600835e-01,\n",
       "       9.85177398e-01, 9.85728151e-01, 9.86254240e-01, 9.86756759e-01,\n",
       "       9.87236756e-01, 9.87695233e-01, 9.88133146e-01, 9.88551412e-01,\n",
       "       9.88950906e-01, 9.89332464e-01, 9.89696888e-01, 9.90044943e-01,\n",
       "       9.90377358e-01, 9.90694834e-01, 9.90998038e-01, 9.91287608e-01,\n",
       "       9.91564155e-01, 9.91828262e-01, 9.92080486e-01, 9.92321360e-01,\n",
       "       9.92551391e-01, 9.92771068e-01])"
      ]
     },
     "execution_count": 15,
     "metadata": {},
     "output_type": "execute_result"
    }
   ],
   "source": [
    "# [n_e] = 10^-3 cm^-3, [B_T] = muG, [m_a] = 10^-8 eV, [g_ag] = 10^-11 GeV^-1, [E]=TeV\n",
    "\n",
    "g_ag = 10\n",
    "m_a = 3     # 30 neV = 30e-9 eV = 3e-8 eV\n",
    "n_e = 1e-3\n",
    "B_T = 1\n",
    "E = np.logspace(1-3, 3.5-3, num=250)\n",
    "def w_plasma(E, m_a, g_ag, n_e, B_T): # in eV\n",
    "    #e = constants.e\n",
    "    #epsilon_0 = constants.epsilon_0\n",
    "    #m_e = constants.electron_mass\n",
    "    #return np.sqrt(n_e * e**2 / (epsilon_0 * m_e)) # in SI units\n",
    "    return 3.69e-11 * np.sqrt(1e-3 * n_e) #in \"natural\" units, eV..., n_e in cm^{-3}\n",
    "\n",
    "def delta_ag(E, m_a, g_ag, n_e, B_T): # in kpc^-1\n",
    "    return 7.6e-2 * g_ag / 5 * B_T\n",
    "\n",
    "def delta_a(E, m_a, g_ag, n_e, B_T): # in kpc^-1\n",
    "    return - 7.8e-3 * (m_a)**2 / E\n",
    "\n",
    "def delta_osc(E, m_a, g_ag, n_e, B_T): # in kpc^-1\n",
    "    return 2 * delta_ag(E, m_a, g_ag, n_e, B_T) * np.sqrt(1 + (E_c(E, m_a, g_ag, n_e, B_T) / E)**2)\n",
    "\n",
    "def E_c(E, m_a, g_ag, n_e, B_T): # in TeV\n",
    "    return 50 * np.abs(m_a**2 - w_plasma(E, m_a, g_ag, n_e, B_T)**2) / B_T * 5 / g_ag * 1e-3\n",
    "\n",
    "def P(E, d, m_a, g_ag, n_e, B_T):\n",
    "    d_ag = delta_ag(E, m_a, g_ag, n_e, B_T)\n",
    "    d_osc = delta_osc(E, m_a, g_ag, n_e, B_T)\n",
    "    return (d_ag * d)**2 * np.sin(d_osc * d / 2)**2 / (d_osc * d / 2)**2\n",
    "\n",
    "P(E, 10, m_a, g_ag, n_e, B_T)"
   ]
  },
  {
   "cell_type": "code",
   "execution_count": 6,
   "id": "graduate-thousand",
   "metadata": {
    "collapsed": true
   },
   "outputs": [
    {
     "data": {
      "text/plain": [
       "array([0.01      , 0.01023388, 0.01047322, 0.01071817, 0.01096884,\n",
       "       0.01122537, 0.01148791, 0.01175658, 0.01203154, 0.01231293,\n",
       "       0.0126009 , 0.01289561, 0.0131972 , 0.01350586, 0.01382173,\n",
       "       0.01414498, 0.0144758 , 0.01481435, 0.01516083, 0.0155154 ,\n",
       "       0.01587827, 0.01624963, 0.01662967, 0.01701859, 0.01741662,\n",
       "       0.01782395, 0.01824081, 0.01866742, 0.01910401, 0.01955081,\n",
       "       0.02000805, 0.02047599, 0.02095488, 0.02144496, 0.02194651,\n",
       "       0.02245979, 0.02298507, 0.02352263, 0.02407277, 0.02463578,\n",
       "       0.02521195, 0.0258016 , 0.02640503, 0.02702259, 0.02765458,\n",
       "       0.02830135, 0.02896326, 0.02964064, 0.03033386, 0.0310433 ,\n",
       "       0.03176933, 0.03251234, 0.03327272, 0.03405089, 0.03484726,\n",
       "       0.03566226, 0.03649631, 0.03734988, 0.0382234 , 0.03911735,\n",
       "       0.04003222, 0.04096848, 0.04192663, 0.04290719, 0.04391069,\n",
       "       0.04493766, 0.04598864, 0.04706421, 0.04816493, 0.04929139,\n",
       "       0.0504442 , 0.05162397, 0.05283133, 0.05406693, 0.05533143,\n",
       "       0.0566255 , 0.05794984, 0.05930514, 0.06069215, 0.0621116 ,\n",
       "       0.06356424, 0.06505086, 0.06657224, 0.06812921, 0.06972259,\n",
       "       0.07135323, 0.07302202, 0.07472983, 0.07647758, 0.07826621,\n",
       "       0.08009667, 0.08196994, 0.08388702, 0.08584894, 0.08785674,\n",
       "       0.0899115 , 0.09201432, 0.09416632, 0.09636864, 0.09862248,\n",
       "       0.10092902, 0.10328951, 0.10570521, 0.1081774 , 0.11070741,\n",
       "       0.1132966 , 0.11594634, 0.11865805, 0.12143317, 0.12427321,\n",
       "       0.12717966, 0.13015409, 0.13319809, 0.13631328, 0.13950132,\n",
       "       0.14276392, 0.14610283, 0.14951983, 0.15301674, 0.15659544,\n",
       "       0.16025784, 0.16400589, 0.1678416 , 0.17176701, 0.17578423,\n",
       "       0.17989541, 0.18410274, 0.18840846, 0.19281489, 0.19732437,\n",
       "       0.20193932, 0.2066622 , 0.21149554, 0.21644191, 0.22150398,\n",
       "       0.22668443, 0.23198604, 0.23741164, 0.24296413, 0.24864649,\n",
       "       0.25446174, 0.26041299, 0.26650344, 0.27273632, 0.27911497,\n",
       "       0.28564281, 0.29232331, 0.29916006, 0.3061567 , 0.31331698,\n",
       "       0.32064472, 0.32814384, 0.33581835, 0.34367234, 0.35171002,\n",
       "       0.35993568, 0.36835372, 0.37696864, 0.38578504, 0.39480763,\n",
       "       0.40404125, 0.41349081, 0.42316138, 0.43305812, 0.44318632,\n",
       "       0.45355139, 0.46415888, 0.47501446, 0.48612392, 0.4974932 ,\n",
       "       0.50912838, 0.52103569, 0.53322147, 0.54569226, 0.5584547 ,\n",
       "       0.57151563, 0.58488202, 0.59856102, 0.61255994, 0.62688627,\n",
       "       0.64154765, 0.65655192, 0.67190711, 0.68762142, 0.70370325,\n",
       "       0.7201612 , 0.73700406, 0.75424083, 0.77188073, 0.78993319,\n",
       "       0.80840785, 0.82731459, 0.84666351, 0.86646496, 0.88672952,\n",
       "       0.90746801, 0.92869153, 0.95041142, 0.97263929, 0.99538701,\n",
       "       1.01866674, 1.04249094, 1.06687233, 1.09182393, 1.1173591 ,\n",
       "       1.14349148, 1.17023503, 1.19760404, 1.22561315, 1.25427733,\n",
       "       1.2836119 , 1.31363253, 1.34435528, 1.37579655, 1.40797316,\n",
       "       1.44090231, 1.47460159, 1.50908902, 1.54438303, 1.58050248,\n",
       "       1.61746667, 1.65529538, 1.6940088 , 1.73362764, 1.77417307,\n",
       "       1.81566677, 1.8581309 , 1.90158817, 1.94606179, 1.99157556,\n",
       "       2.03815378, 2.08582135, 2.13460376, 2.18452706, 2.23561796,\n",
       "       2.28790375, 2.34141239, 2.39617246, 2.45221324, 2.50956468,\n",
       "       2.56825744, 2.62832288, 2.6897931 , 2.75270097, 2.81708011,\n",
       "       2.88296492, 2.95039062, 3.01939324, 3.09000968, 3.16227766])"
      ]
     },
     "execution_count": 6,
     "metadata": {},
     "output_type": "execute_result"
    }
   ],
   "source": [
    "E"
   ]
  },
  {
   "cell_type": "code",
   "execution_count": 21,
   "id": "northern-reservation",
   "metadata": {},
   "outputs": [
    {
     "data": {
      "image/png": "[encoded data removed]",
      "text/plain": [
       "<Figure size 432x288 with 1 Axes>"
      ]
     },
     "metadata": {
      "needs_background": "light"
     },
     "output_type": "display_data"
    }
   ],
   "source": [
    "plt.plot(E, 1-P(E, 10, m_a, g_ag, n_e, B_T)/2)\n",
    "plt.xscale('log')\n",
    "plt.yscale('log')\n",
    "plt.title('manual calculation')\n",
    "plt.savefig('p_surv_manual.png')"
   ]
  },
  {
   "cell_type": "code",
   "execution_count": null,
   "id": "fourth-description",
   "metadata": {},
   "outputs": [],
   "source": []
  },
  {
   "cell_type": "code",
   "execution_count": 7,
   "id": "flying-quest",
   "metadata": {},
   "outputs": [
    {
     "data": {
      "text/plain": [
       "array([0.01      , 0.01023388, 0.01047322, 0.01071817, 0.01096884,\n",
       "       0.01122537, 0.01148791, 0.01175658, 0.01203154, 0.01231293,\n",
       "       0.0126009 , 0.01289561, 0.0131972 , 0.01350586, 0.01382173,\n",
       "       0.01414498, 0.0144758 , 0.01481435, 0.01516083, 0.0155154 ,\n",
       "       0.01587827, 0.01624963, 0.01662967, 0.01701859, 0.01741662,\n",
       "       0.01782395, 0.01824081, 0.01866742, 0.01910401, 0.01955081,\n",
       "       0.02000805, 0.02047599, 0.02095488, 0.02144496, 0.02194651,\n",
       "       0.02245979, 0.02298507, 0.02352263, 0.02407277, 0.02463578,\n",
       "       0.02521195, 0.0258016 , 0.02640503, 0.02702259, 0.02765458,\n",
       "       0.02830135, 0.02896326, 0.02964064, 0.03033386, 0.0310433 ,\n",
       "       0.03176933, 0.03251234, 0.03327272, 0.03405089, 0.03484726,\n",
       "       0.03566226, 0.03649631, 0.03734988, 0.0382234 , 0.03911735,\n",
       "       0.04003222, 0.04096848, 0.04192663, 0.04290719, 0.04391069,\n",
       "       0.04493766, 0.04598864, 0.04706421, 0.04816493, 0.04929139,\n",
       "       0.0504442 , 0.05162397, 0.05283133, 0.05406693, 0.05533143,\n",
       "       0.0566255 , 0.05794984, 0.05930514, 0.06069215, 0.0621116 ,\n",
       "       0.06356424, 0.06505086, 0.06657224, 0.06812921, 0.06972259,\n",
       "       0.07135323, 0.07302202, 0.07472983, 0.07647758, 0.07826621,\n",
       "       0.08009667, 0.08196994, 0.08388702, 0.08584894, 0.08785674,\n",
       "       0.0899115 , 0.09201432, 0.09416632, 0.09636864, 0.09862248,\n",
       "       0.10092902, 0.10328951, 0.10570521, 0.1081774 , 0.11070741,\n",
       "       0.1132966 , 0.11594634, 0.11865805, 0.12143317, 0.12427321,\n",
       "       0.12717966, 0.13015409, 0.13319809, 0.13631328, 0.13950132,\n",
       "       0.14276392, 0.14610283, 0.14951983, 0.15301674, 0.15659544,\n",
       "       0.16025784, 0.16400589, 0.1678416 , 0.17176701, 0.17578423,\n",
       "       0.17989541, 0.18410274, 0.18840846, 0.19281489, 0.19732437,\n",
       "       0.20193932, 0.2066622 , 0.21149554, 0.21644191, 0.22150398,\n",
       "       0.22668443, 0.23198604, 0.23741164, 0.24296413, 0.24864649,\n",
       "       0.25446174, 0.26041299, 0.26650344, 0.27273632, 0.27911497,\n",
       "       0.28564281, 0.29232331, 0.29916006, 0.3061567 , 0.31331698,\n",
       "       0.32064472, 0.32814384, 0.33581835, 0.34367234, 0.35171002,\n",
       "       0.35993568, 0.36835372, 0.37696864, 0.38578504, 0.39480763,\n",
       "       0.40404125, 0.41349081, 0.42316138, 0.43305812, 0.44318632,\n",
       "       0.45355139, 0.46415888, 0.47501446, 0.48612392, 0.4974932 ,\n",
       "       0.50912838, 0.52103569, 0.53322147, 0.54569226, 0.5584547 ,\n",
       "       0.57151563, 0.58488202, 0.59856102, 0.61255994, 0.62688627,\n",
       "       0.64154765, 0.65655192, 0.67190711, 0.68762142, 0.70370325,\n",
       "       0.7201612 , 0.73700406, 0.75424083, 0.77188073, 0.78993319,\n",
       "       0.80840785, 0.82731459, 0.84666351, 0.86646496, 0.88672952,\n",
       "       0.90746801, 0.92869153, 0.95041142, 0.97263929, 0.99538701,\n",
       "       1.01866674, 1.04249094, 1.06687233, 1.09182393, 1.1173591 ,\n",
       "       1.14349148, 1.17023503, 1.19760404, 1.22561315, 1.25427733,\n",
       "       1.2836119 , 1.31363253, 1.34435528, 1.37579655, 1.40797316,\n",
       "       1.44090231, 1.47460159, 1.50908902, 1.54438303, 1.58050248,\n",
       "       1.61746667, 1.65529538, 1.6940088 , 1.73362764, 1.77417307,\n",
       "       1.81566677, 1.8581309 , 1.90158817, 1.94606179, 1.99157556,\n",
       "       2.03815378, 2.08582135, 2.13460376, 2.18452706, 2.23561796,\n",
       "       2.28790375, 2.34141239, 2.39617246, 2.45221324, 2.50956468,\n",
       "       2.56825744, 2.62832288, 2.6897931 , 2.75270097, 2.81708011,\n",
       "       2.88296492, 2.95039062, 3.01939324, 3.09000968, 3.16227766])"
      ]
     },
     "execution_count": 7,
     "metadata": {},
     "output_type": "execute_result"
    }
   ],
   "source": [
    "np.abs(E)"
   ]
  },
  {
   "cell_type": "code",
   "execution_count": 22,
   "id": "surprising-citizen",
   "metadata": {},
   "outputs": [],
   "source": [
    "p = 1-P(E, 10, m_a, g_ag, n_e, B_T)/2"
   ]
  },
  {
   "cell_type": "code",
   "execution_count": 23,
   "id": "viral-advancement",
   "metadata": {},
   "outputs": [],
   "source": [
    "np.savetxt('manual_prob.txt', p)"
   ]
  },
  {
   "cell_type": "code",
   "execution_count": null,
   "id": "indoor-suggestion",
   "metadata": {},
   "outputs": [],
   "source": []
  }
 ],
 "metadata": {
  "kernelspec": {
   "display_name": "Python 3",
   "language": "python",
   "name": "python3"
  },
  "language_info": {
   "codemirror_mode": {
    "name": "ipython",
    "version": 3
   },
   "file_extension": ".py",
   "mimetype": "text/x-python",
   "name": "python",
   "nbconvert_exporter": "python",
   "pygments_lexer": "ipython3",
   "version": "3.9.2"
  }
 },
 "nbformat": 4,
 "nbformat_minor": 5
}
