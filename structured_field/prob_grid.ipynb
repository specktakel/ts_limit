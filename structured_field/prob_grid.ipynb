{
 "cells": [
  {
   "cell_type": "code",
   "execution_count": 3,
   "metadata": {},
   "outputs": [
    {
     "name": "stderr",
     "output_type": "stream",
     "text": [
      "WARNING:root:Not all values of linear polarization are real values!\n",
      "WARNING:root:Not all values of circular polarization are real values!\n"
     ]
    },
    {
     "name": "stdout",
     "output_type": "stream",
     "text": [
      "3.9269908169872414\n"
     ]
    }
   ],
   "source": [
    "from b_field import structured_field\n",
    "from gammaALPs.core import Source, ALP, ModuleList\n",
    "from gammaALPs.nel.icm import NelICM\n",
    "from ts_limit.grid import Grid\n",
    "import numpy as np\n",
    "import matplotlib.gridspec as gridspec\n",
    "import matplotlib.pyplot as plt\n",
    "\n",
    "b = structured_field(8.3, 93, 225)\n",
    "r = b.r\n",
    "n_el = NelICM(n0=39., n2=4.05, r_abell=500., r_core=80., r_core2=280., beta=1.2, beta2=0.58, eta=1.)\n",
    "n_el_vec = n_el.__call__(r)\n",
    "#print(n_el_vec)\n",
    "#print(r)\n",
    "\n",
    "log10MeV = np.loadtxt('../grid_survival_prob/energy_bins.dat')\n",
    "EGeV = np.power(10, log10MeV - 3.)\n",
    "grid = Grid()\n",
    "which_gm = 645\n",
    "gm = grid.get_gm(which_gm)\n",
    "g = gm[0]\n",
    "m = gm[1]\n",
    "\n",
    "#n_el = np.full(b.r.shape, 4e-2)\n",
    "#fig, axes = plt.subplots(ncols=1, nrows=4, constrained_layout=True, figsize=(6.24136, 6))\n",
    "\n",
    "alp = ALP(m,g)\n",
    "source = Source(z = 0.017559, ra = '03h19m48.1s', dec = '+41d30m42s')\n",
    "pin = 0.5 * np.diag((1., 1., 0.))\n",
    "ml = ModuleList(alp, source, pin=pin, EGeV=EGeV)\n",
    "ml.add_propagation(\"Array\", 0, Btrans=b.b_trans, psi=b.angle, nel=n_el_vec, dL=b.dL_vec)\n",
    "ml.add_propagation(\"EBL\",1, model='dominguez')\n",
    "ml.add_propagation(\"GMF\",2, model='jansson12')\n",
    "px, py, pa = ml.run()\n",
    "psurv = px+py\n",
    "np.savetxt(f'gm_{which_gm}_theta_{b.theta:1.2f}_B0_{b.B_0:1.1f}.dat', psurv)\n",
    "#axes[c].plot(EGeV, psurv[0])\n",
    "#axes[c].set_xscale('log')\n",
    "#axes[c].set_ylim((0.4, 1))\n",
    "#axes[c].set_xlim((0.1, 100))\n",
    "#axes[c].set_title(f'{g:1.0f}'+r'$\\times\\SI{e-11}{\\per\\giga\\electronvolt}$')\n",
    "#fig.savefig('../../../../latex/plots/1908.03084_bfields.png', dpi=300)"
   ]
  },
  {
   "cell_type": "code",
   "execution_count": null,
   "metadata": {},
   "outputs": [],
   "source": []
  }
 ],
 "metadata": {
  "kernelspec": {
   "display_name": "Python 3",
   "language": "python",
   "name": "python3"
  },
  "language_info": {
   "codemirror_mode": {
    "name": "ipython",
    "version": 3
   },
   "file_extension": ".py",
   "mimetype": "text/x-python",
   "name": "python",
   "nbconvert_exporter": "python",
   "pygments_lexer": "ipython3",
   "version": "3.7.8"
  }
 },
 "nbformat": 4,
 "nbformat_minor": 5
}
