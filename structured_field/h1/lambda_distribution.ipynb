{
 "cells": [
  {
   "cell_type": "code",
   "execution_count": 1,
   "metadata": {},
   "outputs": [],
   "source": [
    "import os\n",
    "import numpy as np\n",
    "from ts_limit.grid import Grid\n",
    "import matplotlib as mpl\n",
    "import matplotlib.pyplot as plt\n",
    "from matplotlib.colors import BoundaryNorm\n",
    "from matplotlib.ticker import MaxNLocator"
   ]
  },
  {
   "cell_type": "code",
   "execution_count": 2,
   "metadata": {},
   "outputs": [],
   "source": [
    "\n",
    "def plot_data(ts, j, marker):\n",
    "    index = np.argmax(ts)\n",
    "    #gm = Grid().get_gm(index)\n",
    "    #g = gm[0]\n",
    "    #m = gm[1]\n",
    "    #best_me = np.array([m, g])\n",
    "    ts = ts.reshape(30, 30)\n",
    "    fig = plt.figure(j, dpi=150, figsize=(6.24136, 4))\n",
    "    cmap = plt.get_cmap('seismic')\n",
    "    levels = MaxNLocator(nbins=cmap.N).tick_values(-160, 160)\n",
    "    ax = fig.add_subplot(111)\n",
    "    norm = BoundaryNorm(levels, cmap.N)\n",
    "    x_helper = np.linspace(-1, 2, num=30, endpoint=True)\n",
    "    dx_2 = (x_helper[1] - x_helper[0]) / 2\n",
    "    x = np.logspace(-1 - dx_2, 2 + dx_2, num=31, endpoint=True, base=10.0)\n",
    "    y = np.logspace(-1 - dx_2, 2 + dx_2, num=31, endpoint=True, base=10.0)\n",
    "    g_space = np.logspace(-1. - dx_2, 2. - dx_2, num=30, base=10.0, endpoint=True)    # in 1e-11 1/GeV\n",
    "    m_space = np.logspace(-1. - dx_2, 2. - dx_2, num=30, base=10.0, endpoint=True)    # in neV\n",
    "    grid = np.zeros((g_space.shape[0], m_space.shape[0], 2))\n",
    "    for i in range(g_space.shape[0]):\n",
    "        for j in range(m_space.shape[0]):\n",
    "            grid[i, j, :] = g_space[i], m_space[j]\n",
    "    grid = grid.reshape((m_space.shape[0] * g_space.shape[0], 2))\n",
    "    xmin, xmax, ymin, ymax = 0.3, 30.0, 0.3, 7.0\n",
    "    pcol = ax.pcolor(x, y, ts, cmap=cmap, norm=norm)\n",
    "    _x = np.logspace(-1, 2, num=30, endpoint=True, base=10.0)\n",
    "    _y = np.logspace(-1, 2, num=30, endpoint=True, base=10.0)\n",
    "    cb = fig.colorbar(pcol, ax=ax, extend='neither', ticks=(-160, -80, -40, -20, 0, 20, 40, 80, 160), \\\n",
    "                 label='TS')\n",
    "    ticklabels = cb.ax.get_yticklabels()\n",
    "    cb.ax.set_yticklabels(ticklabels, ha='right')\n",
    "    cb.ax.yaxis.set_tick_params(pad=20)\n",
    "    ax.set_xlim((np.power(10, -1 - dx_2), np.power(10, 2+dx_2)))\n",
    "    ax.set_ylim((np.power(10, -1 - dx_2), np.power(10, 2+dx_2)))\n",
    "    ax.set_xlabel('$m_{a}$ [neV]')\n",
    "    ax.set_ylabel('$g_{a\\gamma\\gamma}$ [$10^{-11}$ GeV$^{-1}$]')\n",
    "    ax.set_xticks([1e-1, 1e0, 1e1, 1e2])\n",
    "    ax.set_xticklabels([r'$10^{-1}$', r'$10^{0}$', r'$10^{1}$', r'$10^{2}$'], ha='left')\n",
    "    ax.set_yticks([1e-1, 1e0, 1e1, 1e2])\n",
    "    ax.set_yticklabels([r'$10^{-1}$', r'$10^{0}$', r'$10^{1}$', r'$10^{2}$'], ha='left')\n",
    "    ax.yaxis.set_tick_params(pad=20)\n",
    "    ax.set_xscale('log')\n",
    "    ax.set_yscale('log')\n",
    "    for ma in marker:\n",
    "        gm = Grid().get_gm(ma)\n",
    "        g = gm[0]\n",
    "        m = gm[1]\n",
    "        ax.scatter(m, g, marker='x', size=0.5)\n",
    "    #ax.scatter(best_me[0], best_me[1], marker='x')\n",
    "    #ax.text(2.1, 0.10, '95\\% exclusion', color=pcon.tcolors[-3][0])\n",
    "    ax.yaxis.set_tick_params(pad=20, which='minor')\n",
    "    ax.yaxis.set_tick_params(pad=20, which='major')\n",
    "    fig.subplots_adjust(hspace=0)\n",
    "    fig.patch.set_facecolor('white')\n",
    "    fig.tight_layout(pad=2, h_pad=3, w_pad=10)\n",
    "    \n",
    "    return fig#, pcon"
   ]
  },
  {
   "cell_type": "code",
   "execution_count": 3,
   "metadata": {},
   "outputs": [],
   "source": [
    "# generate index array\n",
    "x_ind = np.arange(1, 30, 3)\n",
    "index = []\n",
    "for x in x_ind:\n",
    "    for y in x_ind:\n",
    "        index.append(x + 30 * y)"
   ]
  },
  {
   "cell_type": "code",
   "execution_count": 4,
   "metadata": {},
   "outputs": [
    {
     "data": {
      "text/plain": [
       "array([ 1,  4,  7, 10, 13, 16, 19, 22, 25, 28])"
      ]
     },
     "execution_count": 4,
     "metadata": {},
     "output_type": "execute_result"
    }
   ],
   "source": [
    "x_ind"
   ]
  },
  {
   "cell_type": "code",
   "execution_count": 21,
   "metadata": {},
   "outputs": [
    {
     "name": "stdout",
     "output_type": "stream",
     "text": [
      "31\n",
      "0\n",
      "1\n",
      "2\n",
      "3\n",
      "4\n",
      "5\n",
      "6\n",
      "7\n",
      "8\n",
      "9\n",
      "121\n",
      "0\n",
      "1\n",
      "2\n",
      "3\n",
      "4\n",
      "5\n",
      "6\n",
      "7\n",
      "8\n",
      "9\n",
      "211\n",
      "0\n",
      "1\n",
      "2\n",
      "3\n",
      "4\n",
      "5\n",
      "6\n",
      "7\n",
      "8\n",
      "9\n",
      "301\n",
      "0\n",
      "1\n",
      "2\n",
      "3\n",
      "4\n",
      "5\n",
      "6\n",
      "7\n",
      "8\n",
      "9\n",
      "391\n",
      "0\n",
      "1\n",
      "2\n",
      "3\n",
      "4\n",
      "5\n",
      "6\n",
      "7\n",
      "8\n",
      "9\n",
      "481\n",
      "0\n",
      "1\n",
      "2\n",
      "3\n",
      "4\n",
      "5\n",
      "6\n",
      "7\n",
      "8\n",
      "9\n",
      "571\n",
      "0\n",
      "1\n",
      "2\n",
      "3\n",
      "4\n",
      "5\n",
      "6\n",
      "7\n",
      "8\n",
      "9\n",
      "661\n",
      "0\n",
      "1\n",
      "2\n",
      "3\n",
      "4\n",
      "5\n",
      "6\n",
      "7\n",
      "8\n",
      "9\n",
      "751\n",
      "0\n",
      "1\n",
      "2\n",
      "3\n",
      "4\n",
      "5\n",
      "6\n",
      "7\n",
      "8\n",
      "9\n",
      "841\n",
      "0\n",
      "1\n",
      "2\n",
      "3\n",
      "4\n",
      "5\n",
      "6\n",
      "7\n"
     ]
    },
    {
     "ename": "KeyboardInterrupt",
     "evalue": "",
     "output_type": "error",
     "traceback": [
      "\u001b[0;31m---------------------------------------------------------------------------\u001b[0m",
      "\u001b[0;31mKeyboardInterrupt\u001b[0m                         Traceback (most recent call last)",
      "\u001b[0;32m<ipython-input-21-7eb1eaf28411>\u001b[0m in \u001b[0;36m<module>\u001b[0;34m()\u001b[0m\n\u001b[1;32m      7\u001b[0m         \u001b[0mts\u001b[0m \u001b[0;34m=\u001b[0m \u001b[0mnp\u001b[0m\u001b[0;34m.\u001b[0m\u001b[0mzeros\u001b[0m\u001b[0;34m(\u001b[0m\u001b[0;36m900\u001b[0m\u001b[0;34m)\u001b[0m\u001b[0;34m\u001b[0m\u001b[0;34m\u001b[0m\u001b[0m\n\u001b[1;32m      8\u001b[0m         \u001b[0;32mfor\u001b[0m \u001b[0mj\u001b[0m \u001b[0;32min\u001b[0m \u001b[0mrange\u001b[0m\u001b[0;34m(\u001b[0m\u001b[0;36m900\u001b[0m\u001b[0;34m)\u001b[0m\u001b[0;34m:\u001b[0m\u001b[0;34m\u001b[0m\u001b[0;34m\u001b[0m\u001b[0m\n\u001b[0;32m----> 9\u001b[0;31m             \u001b[0mdat\u001b[0m \u001b[0;34m=\u001b[0m \u001b[0mnp\u001b[0m\u001b[0;34m.\u001b[0m\u001b[0mloadtxt\u001b[0m\u001b[0;34m(\u001b[0m\u001b[0;34mf'../outdata/h1/gm_{i}/roi_{r}/gm_{j:03}.dat'\u001b[0m\u001b[0;34m)\u001b[0m\u001b[0;34m\u001b[0m\u001b[0;34m\u001b[0m\u001b[0m\n\u001b[0m\u001b[1;32m     10\u001b[0m             \u001b[0mts\u001b[0m\u001b[0;34m[\u001b[0m\u001b[0mj\u001b[0m\u001b[0;34m]\u001b[0m \u001b[0;34m=\u001b[0m \u001b[0;36m2\u001b[0m \u001b[0;34m*\u001b[0m \u001b[0;34m(\u001b[0m\u001b[0mdat\u001b[0m\u001b[0;34m[\u001b[0m\u001b[0;36m1\u001b[0m\u001b[0;34m]\u001b[0m \u001b[0;34m-\u001b[0m \u001b[0mdat\u001b[0m\u001b[0;34m[\u001b[0m\u001b[0;36m0\u001b[0m\u001b[0;34m]\u001b[0m\u001b[0;34m)\u001b[0m\u001b[0;34m\u001b[0m\u001b[0;34m\u001b[0m\u001b[0m\n\u001b[1;32m     11\u001b[0m         \u001b[0mnp\u001b[0m\u001b[0;34m.\u001b[0m\u001b[0msave\u001b[0m\u001b[0;34m(\u001b[0m\u001b[0;34mf'../outdata/h1/gm_{i}_roi_{r}.npy'\u001b[0m\u001b[0;34m,\u001b[0m \u001b[0mts\u001b[0m\u001b[0;34m)\u001b[0m\u001b[0;34m\u001b[0m\u001b[0;34m\u001b[0m\u001b[0m\n",
      "\u001b[0;32m/nfs/astrop/n1/kuhlmann/miniconda/envs/fermi3/lib/python3.7/site-packages/numpy/lib/npyio.py\u001b[0m in \u001b[0;36mloadtxt\u001b[0;34m(fname, dtype, comments, delimiter, converters, skiprows, usecols, unpack, ndmin, encoding, max_rows)\u001b[0m\n\u001b[1;32m   1090\u001b[0m         \u001b[0;32mtry\u001b[0m\u001b[0;34m:\u001b[0m\u001b[0;34m\u001b[0m\u001b[0;34m\u001b[0m\u001b[0m\n\u001b[1;32m   1091\u001b[0m             \u001b[0;32mwhile\u001b[0m \u001b[0;32mnot\u001b[0m \u001b[0mfirst_vals\u001b[0m\u001b[0;34m:\u001b[0m\u001b[0;34m\u001b[0m\u001b[0;34m\u001b[0m\u001b[0m\n\u001b[0;32m-> 1092\u001b[0;31m                 \u001b[0mfirst_line\u001b[0m \u001b[0;34m=\u001b[0m \u001b[0mnext\u001b[0m\u001b[0;34m(\u001b[0m\u001b[0mfh\u001b[0m\u001b[0;34m)\u001b[0m\u001b[0;34m\u001b[0m\u001b[0;34m\u001b[0m\u001b[0m\n\u001b[0m\u001b[1;32m   1093\u001b[0m                 \u001b[0mfirst_vals\u001b[0m \u001b[0;34m=\u001b[0m \u001b[0msplit_line\u001b[0m\u001b[0;34m(\u001b[0m\u001b[0mfirst_line\u001b[0m\u001b[0;34m)\u001b[0m\u001b[0;34m\u001b[0m\u001b[0;34m\u001b[0m\u001b[0m\n\u001b[1;32m   1094\u001b[0m         \u001b[0;32mexcept\u001b[0m \u001b[0mStopIteration\u001b[0m\u001b[0;34m:\u001b[0m\u001b[0;34m\u001b[0m\u001b[0;34m\u001b[0m\u001b[0m\n",
      "\u001b[0;32m/nfs/astrop/n1/kuhlmann/miniconda/envs/fermi3/lib/python3.7/codecs.py\u001b[0m in \u001b[0;36mdecode\u001b[0;34m(self, input, final)\u001b[0m\n\u001b[1;32m    317\u001b[0m         \u001b[0;32mraise\u001b[0m \u001b[0mNotImplementedError\u001b[0m\u001b[0;34m\u001b[0m\u001b[0;34m\u001b[0m\u001b[0m\n\u001b[1;32m    318\u001b[0m \u001b[0;34m\u001b[0m\u001b[0m\n\u001b[0;32m--> 319\u001b[0;31m     \u001b[0;32mdef\u001b[0m \u001b[0mdecode\u001b[0m\u001b[0;34m(\u001b[0m\u001b[0mself\u001b[0m\u001b[0;34m,\u001b[0m \u001b[0minput\u001b[0m\u001b[0;34m,\u001b[0m \u001b[0mfinal\u001b[0m\u001b[0;34m=\u001b[0m\u001b[0;32mFalse\u001b[0m\u001b[0;34m)\u001b[0m\u001b[0;34m:\u001b[0m\u001b[0;34m\u001b[0m\u001b[0;34m\u001b[0m\u001b[0m\n\u001b[0m\u001b[1;32m    320\u001b[0m         \u001b[0;31m# decode input (taking the buffer into account)\u001b[0m\u001b[0;34m\u001b[0m\u001b[0;34m\u001b[0m\u001b[0;34m\u001b[0m\u001b[0m\n\u001b[1;32m    321\u001b[0m         \u001b[0mdata\u001b[0m \u001b[0;34m=\u001b[0m \u001b[0mself\u001b[0m\u001b[0;34m.\u001b[0m\u001b[0mbuffer\u001b[0m \u001b[0;34m+\u001b[0m \u001b[0minput\u001b[0m\u001b[0;34m\u001b[0m\u001b[0;34m\u001b[0m\u001b[0m\n",
      "\u001b[0;31mKeyboardInterrupt\u001b[0m: "
     ]
    }
   ],
   "source": [
    "# loop to save everything in .npy files per gm and simulated roi\n",
    "counter = 0\n",
    "for i in index:\n",
    "    print(i)\n",
    "    for r in range(10):\n",
    "        print(r)\n",
    "        ts = np.zeros(900)\n",
    "        for j in range(900):\n",
    "            dat = np.loadtxt(f'../outdata/h1/gm_{i}/roi_{r}/gm_{j:03}.dat')\n",
    "            ts[j] = 2 * (dat[1] - dat[0])\n",
    "        np.save(f'../outdata/h1/gm_{i}_roi_{r}.npy', ts)\n",
    "    "
   ]
  },
  {
   "cell_type": "markdown",
   "metadata": {},
   "source": [
    "$TS = 2 (L_1 - L_0)$\n",
    "\n",
    "$\\lambda(m, g) = 2 (L_1(\\hat m, \\hat g) - L_1 (m, g)) \\$\n",
    "\n",
    "$$"
   ]
  },
  {
   "cell_type": "code",
   "execution_count": 6,
   "metadata": {},
   "outputs": [],
   "source": [
    "# get lambda statistics from simulated data sets and save xx% value in lambda_thr nd.array\n",
    "sim_num = 10\n",
    "lambda_thr = np.zeros(900)\n",
    "for i in index:\n",
    "    lambda_gm = np.zeros(sim_num)\n",
    "    for r in range(sim_num):\n",
    "        #read data\n",
    "        dat = np.load(f'../outdata/h1/gm_{i}_roi_{r}.npy')\n",
    "        #max ts\n",
    "        tsmax = np.max(dat)\n",
    "        lambda_gm[r] = tsmax - dat[i]\n",
    "        #print(lambda_roi)\n",
    "        #print(np.min(lambda_roi))\n",
    "    lambda_gm = np.sort(lambda_gm, axis=-1)\n",
    "    lambda_thr[i] = lambda_gm[-2]\n",
    "    #print(lambda_thr[i])"
   ]
  },
  {
   "cell_type": "code",
   "execution_count": 7,
   "metadata": {},
   "outputs": [],
   "source": [
    "# read in actual TS data and make real data lambda values\n",
    "lambda_real = np.zeros(900)\n",
    "ts = np.zeros(900)\n",
    "for i in range(900):\n",
    "    dat = np.loadtxt(f'../outdata/jansson12c/orig_data/gm_{i:03}.dat')\n",
    "    ts[i] = 2 * (dat[1] - dat[0])\n",
    "lambda_real = np.max(ts) - ts\n",
    "#print(lambda_real)"
   ]
  },
  {
   "cell_type": "code",
   "execution_count": 8,
   "metadata": {},
   "outputs": [],
   "source": [
    "# make exclusion with entry=-160 if excluded\n",
    "lambda_excl = np.zeros(900)\n",
    "for i in index:\n",
    "    if lambda_real[i] > lambda_thr[i]:\n",
    "        lambda_excl[i] = -160\n",
    "    else:\n",
    "        pass"
   ]
  },
  {
   "cell_type": "code",
   "execution_count": 9,
   "metadata": {},
   "outputs": [
    {
     "data": {
      "image/png": "[encoded data removed]",
      "text/plain": [
       "<Figure size 936.204x600 with 2 Axes>"
      ]
     },
     "metadata": {},
     "output_type": "display_data"
    }
   ],
   "source": [
    "_ = plot_data(lambda_excl, 0, ())"
   ]
  },
  {
   "cell_type": "code",
   "execution_count": null,
   "metadata": {},
   "outputs": [],
   "source": [
    "lambda_real[31]"
   ]
  },
  {
   "cell_type": "code",
   "execution_count": null,
   "metadata": {},
   "outputs": [],
   "source": [
    "index"
   ]
  },
  {
   "cell_type": "code",
   "execution_count": 10,
   "metadata": {},
   "outputs": [
    {
     "data": {
      "image/png": "[encoded data removed]",
      "text/plain": [
       "<Figure size 936.204x600 with 2 Axes>"
      ]
     },
     "metadata": {},
     "output_type": "display_data"
    }
   ],
   "source": [
    "_ = plot_data(ts, 1, ())"
   ]
  },
  {
   "cell_type": "code",
   "execution_count": 11,
   "metadata": {},
   "outputs": [
    {
     "name": "stdout",
     "output_type": "stream",
     "text": [
      "31\n",
      "121\n",
      "211\n",
      "301\n",
      "391\n",
      "481\n",
      "571\n",
      "661\n",
      "751\n",
      "841\n",
      "34\n",
      "124\n",
      "214\n",
      "304\n",
      "394\n",
      "484\n",
      "574\n",
      "664\n",
      "754\n",
      "844\n",
      "37\n",
      "127\n",
      "217\n",
      "307\n",
      "397\n",
      "487\n",
      "577\n",
      "667\n",
      "757\n",
      "847\n",
      "40\n",
      "130\n",
      "220\n",
      "310\n",
      "400\n",
      "490\n",
      "580\n",
      "670\n",
      "760\n",
      "850\n",
      "43\n",
      "133\n",
      "223\n",
      "313\n",
      "403\n",
      "493\n",
      "583\n",
      "673\n",
      "763\n",
      "853\n",
      "46\n",
      "136\n",
      "226\n",
      "316\n",
      "406\n",
      "496\n",
      "586\n",
      "676\n",
      "766\n",
      "856\n",
      "49\n",
      "139\n",
      "229\n",
      "319\n",
      "409\n",
      "499\n",
      "589\n",
      "679\n",
      "769\n",
      "859\n",
      "52\n",
      "142\n",
      "232\n",
      "322\n",
      "412\n",
      "502\n",
      "592\n",
      "682\n",
      "772\n",
      "862\n",
      "55\n",
      "145\n",
      "235\n",
      "325\n",
      "415\n",
      "505\n",
      "595\n",
      "685\n",
      "775\n",
      "865\n",
      "58\n",
      "148\n",
      "238\n",
      "328\n",
      "418\n",
      "508\n",
      "598\n",
      "688\n",
      "778\n",
      "868\n"
     ]
    }
   ],
   "source": [
    "lamb = np.zeros((len(index), 10))\n",
    "for c, i in enumerate(index):\n",
    "    print(i)\n",
    "    lamb_ = np.zeros(10)\n",
    "    for r in range(10):\n",
    "        ts = np.load(f'../outdata/h1/gm_{i}_roi_{r}.npy')\n",
    "        tsmax = np.max(ts)\n",
    "        lamb_[r] = - ts[i] + tsmax\n",
    "    lamb[c, :] = lamb_\n"
   ]
  },
  {
   "cell_type": "code",
   "execution_count": 12,
   "metadata": {},
   "outputs": [],
   "source": [
    "lamb_sorted = np.sort(lamb, axis=-1)"
   ]
  },
  {
   "cell_type": "code",
   "execution_count": 13,
   "metadata": {},
   "outputs": [],
   "source": [
    "orig_ts = np.zeros(900)\n",
    "for i in range(900):\n",
    "    dat = np.loadtxt(f'../outdata/jansson12c/orig_data/gm_{i:03}.dat')\n",
    "    orig_ts[i] = 2 * (dat[1] - dat[0])\n"
   ]
  },
  {
   "cell_type": "code",
   "execution_count": 18,
   "metadata": {},
   "outputs": [],
   "source": [
    "lamb_excl = np.zeros(900)\n",
    "for c, i in enumerate(index):\n",
    "    if orig_ts[i] < - lamb_sorted[c, -2]:# + np.max(orig_ts):\n",
    "        lamb_excl[i] = -160\n",
    "    else:\n",
    "        pass"
   ]
  },
  {
   "cell_type": "code",
   "execution_count": 16,
   "metadata": {},
   "outputs": [],
   "source": [
    "lamb_excl = np.zeros(900)\n",
    "for c, i in enumerate(index):\n",
    "    lamb_excl[i] = lamb_sorted[c, 8]\n"
   ]
  },
  {
   "cell_type": "code",
   "execution_count": 19,
   "metadata": {},
   "outputs": [
    {
     "data": {
      "image/png": "[encoded data removed]",
      "text/plain": [
       "<Figure size 936.204x600 with 2 Axes>"
      ]
     },
     "metadata": {},
     "output_type": "display_data"
    }
   ],
   "source": [
    "fig = plot_data(lamb_excl, 0, ())"
   ]
  },
  {
   "cell_type": "code",
   "execution_count": 25,
   "metadata": {},
   "outputs": [],
   "source": [
    "fig.savefig('exclusion_from_h1_90.png')"
   ]
  },
  {
   "cell_type": "code",
   "execution_count": null,
   "metadata": {},
   "outputs": [],
   "source": [
    "ts = np.zeros(900)\n",
    "for i in range(900):\n",
    "    dat = np.loadtxt(f'../outdata/h1/gm_645/roi_0/gm_{i:03}.dat')\n",
    "    ts[i] = 2 * (dat[1] - dat[0])"
   ]
  },
  {
   "cell_type": "code",
   "execution_count": null,
   "metadata": {},
   "outputs": [],
   "source": [
    "_ = plot_data(ts, 0, ())"
   ]
  },
  {
   "cell_type": "code",
   "execution_count": null,
   "metadata": {},
   "outputs": [],
   "source": [
    "! ls ../outdata/jansson12c/orig_data"
   ]
  },
  {
   "cell_type": "code",
   "execution_count": null,
   "metadata": {},
   "outputs": [],
   "source": [
    "ts = np.zeros((900, 2))\n",
    "ts[:, 0] = orig_ts"
   ]
  },
  {
   "cell_type": "code",
   "execution_count": null,
   "metadata": {},
   "outputs": [],
   "source": [
    "ts[:, 1] = np.arange(0, 900)"
   ]
  },
  {
   "cell_type": "code",
   "execution_count": null,
   "metadata": {},
   "outputs": [],
   "source": [
    "np.sort(orig_ts)"
   ]
  },
  {
   "cell_type": "code",
   "execution_count": null,
   "metadata": {},
   "outputs": [],
   "source": []
  },
  {
   "cell_type": "code",
   "execution_count": null,
   "metadata": {},
   "outputs": [],
   "source": []
  },
  {
   "cell_type": "code",
   "execution_count": null,
   "metadata": {},
   "outputs": [],
   "source": []
  },
  {
   "cell_type": "code",
   "execution_count": null,
   "metadata": {},
   "outputs": [],
   "source": [
    "ts = np.zeros(900)\n",
    "for i in range(900):\n",
    "    dat = np.loadtxt(f'../outdata/h1/roi_0/gm_{i:03}.dat')\n",
    "    ts[i] = 2 * (dat[1] - dat[0])"
   ]
  },
  {
   "cell_type": "code",
   "execution_count": null,
   "metadata": {},
   "outputs": [],
   "source": [
    "_ = plot_data(ts, 0)"
   ]
  },
  {
   "cell_type": "code",
   "execution_count": null,
   "metadata": {},
   "outputs": [],
   "source": [
    "for i in range(10):\n",
    "    print(i)\n",
    "    ts = np.zeros(900)\n",
    "    for j in range(900):\n",
    "        dat = np.loadtxt(f'../outdata/h1/roi_{i}/gm_{j:03}.dat')\n",
    "        ts[j] = 2 * (dat[1] - dat[0])\n",
    "    fig = plot_data(ts, i)\n",
    "    plt.show()"
   ]
  },
  {
   "cell_type": "code",
   "execution_count": null,
   "metadata": {},
   "outputs": [],
   "source": [
    "# read simulated loglikes\n",
    "'''\n",
    "ll = np.zeros((900, 100))\n",
    "ll_max = np.zeros(100)\n",
    "for j in range(100):\n",
    "    for i in range(900):\n",
    "        dat = np.loadtxt(f'../outdata/h1/roi_{j}/gm_{i:03}.dat')\n",
    "        ll[i, j] = dat[1]\n",
    "    ll_max[j] = np.max(ll[:, j])\n",
    "\n",
    "# lambda as defined in 1603, is >= 0 (zero for \\hat m, \\hat g per data set)\n",
    "lamb = 2 * (- ll + ll_max)\n",
    "'''\n",
    "lamb = np.zeros((900, 100))\n",
    "for j in range(100):\n",
    "    lamb[:, j] = - 2 * ( ll[:, j] - ll_max[j])\n",
    "# read loglikes of real data\n",
    "orig_ts = np.zeros(900)\n",
    "for i in range(900):\n",
    "    dat = np.loadtxt(f'../outdata/jansson12c/orig_data/gm_{i:03}.dat')\n",
    "    orig_ts[i] = 2 * (dat[1] - dat[0])\n",
    "\n",
    "# sort lambda for each pixel by size\n",
    "lamb = np.sort(lamb, axis=-1)\n",
    "\n",
    "\n",
    "lamb_excl = np.zeros(900)\n",
    "for i in range(900):\n",
    "    if orig_ts[i] < - lamb[i, 94] + np.max(orig_ts):\n",
    "        lamb_excl[i] = -160\n",
    "    else:\n",
    "        pass"
   ]
  },
  {
   "cell_type": "code",
   "execution_count": null,
   "metadata": {},
   "outputs": [],
   "source": [
    "lamb = np.zeros((900, 100))\n",
    "for j in range(100):\n",
    "    lamb[:, j] =  2 * (ll[:, j] - ll_max[j])"
   ]
  },
  {
   "cell_type": "code",
   "execution_count": null,
   "metadata": {},
   "outputs": [],
   "source": [
    "lamb = np.sort(lamb, axis=-1)"
   ]
  },
  {
   "cell_type": "code",
   "execution_count": null,
   "metadata": {},
   "outputs": [],
   "source": [
    "lamb[:, 94]"
   ]
  },
  {
   "cell_type": "code",
   "execution_count": null,
   "metadata": {},
   "outputs": [],
   "source": [
    "_ = plot_data(lamb[:, 0], 10, ())"
   ]
  },
  {
   "cell_type": "code",
   "execution_count": null,
   "metadata": {},
   "outputs": [],
   "source": [
    "lamb_excl = np.zeros(900)\n",
    "# orig_ts       # original ts of data\n",
    "# lamb[:, 8]    # 90% value of lambda distribution for each pixel\n",
    "for i in range(900):\n",
    "    if orig_ts[i] < - lamb[i, 94]:\n",
    "        lamb_excl[i] = -160\n",
    "    else:\n",
    "        pass"
   ]
  },
  {
   "cell_type": "code",
   "execution_count": null,
   "metadata": {},
   "outputs": [],
   "source": [
    "lamb_excl = np.zeros(900)\n",
    "# orig_ts       # original ts of data\n",
    "# lamb[:, 8]    # 90% value of lambda distribution for each pixel\n",
    "for i in range(900):\n",
    "    if orig_ts[i] < - lamb[i, 94] + np.max(orig_ts):\n",
    "        lamb_excl[i] = -160\n",
    "    else:\n",
    "        pass\n",
    "_ = plot_data(lamb_excl, 12, ())"
   ]
  },
  {
   "cell_type": "code",
   "execution_count": null,
   "metadata": {},
   "outputs": [],
   "source": [
    "lamb[645], orig_ts[645]"
   ]
  },
  {
   "cell_type": "code",
   "execution_count": null,
   "metadata": {},
   "outputs": [],
   "source": [
    "orig_ts[875]"
   ]
  },
  {
   "cell_type": "code",
   "execution_count": null,
   "metadata": {},
   "outputs": [],
   "source": [
    "plt.hist(lamb[0])\n",
    "plt.show()"
   ]
  },
  {
   "cell_type": "code",
   "execution_count": null,
   "metadata": {},
   "outputs": [],
   "source": [
    "np.save('loglikes_h1.npy', ll)"
   ]
  },
  {
   "cell_type": "code",
   "execution_count": null,
   "metadata": {},
   "outputs": [],
   "source": [
    "np.save('loglikes_max_h1.npy', ll_max)"
   ]
  },
  {
   "cell_type": "code",
   "execution_count": null,
   "metadata": {},
   "outputs": [],
   "source": [
    "# read simulated loglikes\n",
    "\n",
    "ll = np.zeros((900, 10))\n",
    "ll_max = np.zeros(10)\n",
    "for j in range(10):\n",
    "    for i in range(900):\n",
    "        dat = np.loadtxt(f'../outdata/h1/gm_645/roi_{j}/gm_{i:03}.dat')\n",
    "        ll[i, j] = dat[1]\n",
    "    ll_max[j] = np.max(ll[:, j])\n",
    "\n",
    "# lambda as defined in 1603, is >= 0 (zero for \\hat m, \\hat g per data set)\n",
    "#lamb = 2 * (- ll + ll_max)\n",
    "\n",
    "lamb = np.zeros((900, 10))\n",
    "for j in range(10):\n",
    "    lamb[:, j] = - 2 * ( ll[:, j] - ll_max[j])\n",
    "\n",
    "# read loglikes of real data\n",
    "orig_ts = np.zeros(900)\n",
    "for i in range(900):\n",
    "    dat = np.loadtxt(f'../outdata/jansson12c/orig_data/gm_{i:03}.dat')\n",
    "    orig_ts[i] = 2 * (dat[1] - dat[0])\n",
    "\n",
    "# sort lambda for each pixel by size\n",
    "lamb = np.sort(lamb, axis=-1)\n",
    "\n",
    "\n",
    "lamb_excl = np.zeros(900)\n",
    "for i in range(900):\n",
    "    if orig_ts[i] < - lamb[i, 8]:\n",
    "        lamb_excl[i] = -160\n",
    "    else:\n",
    "        pass"
   ]
  },
  {
   "cell_type": "code",
   "execution_count": null,
   "metadata": {},
   "outputs": [],
   "source": [
    "lamb_excl = np.zeros(900)\n",
    "for i in range(900):\n",
    "    if orig_ts[i] < - lamb[i, 8]:\n",
    "        lamb_excl[i] = -160\n",
    "    else:\n",
    "        pass\n",
    "_ = plot_data(lamb_excl, 12, ())"
   ]
  },
  {
   "cell_type": "markdown",
   "metadata": {},
   "source": [
    "Do that again for the simulated data sets under H0 and try to get the lambda dist!"
   ]
  },
  {
   "cell_type": "code",
   "execution_count": null,
   "metadata": {},
   "outputs": [],
   "source": [
    "for s in range(100):\n",
    "    for i in range(900):\n",
    "        "
   ]
  },
  {
   "cell_type": "code",
   "execution_count": null,
   "metadata": {},
   "outputs": [],
   "source": []
  },
  {
   "cell_type": "code",
   "execution_count": null,
   "metadata": {},
   "outputs": [],
   "source": []
  },
  {
   "cell_type": "code",
   "execution_count": null,
   "metadata": {},
   "outputs": [],
   "source": []
  },
  {
   "cell_type": "code",
   "execution_count": null,
   "metadata": {},
   "outputs": [],
   "source": []
  },
  {
   "cell_type": "code",
   "execution_count": null,
   "metadata": {},
   "outputs": [],
   "source": []
  },
  {
   "cell_type": "code",
   "execution_count": null,
   "metadata": {},
   "outputs": [],
   "source": []
  }
 ],
 "metadata": {
  "kernelspec": {
   "display_name": "Python 3",
   "language": "python",
   "name": "python3"
  },
  "language_info": {
   "codemirror_mode": {
    "name": "ipython",
    "version": 3
   },
   "file_extension": ".py",
   "mimetype": "text/x-python",
   "name": "python",
   "nbconvert_exporter": "python",
   "pygments_lexer": "ipython3",
   "version": "3.7.8"
  }
 },
 "nbformat": 4,
 "nbformat_minor": 4
}
