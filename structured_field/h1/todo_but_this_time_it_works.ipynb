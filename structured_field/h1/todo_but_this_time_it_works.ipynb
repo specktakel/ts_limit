{
 "cells": [
  {
   "cell_type": "code",
   "execution_count": 1,
   "metadata": {},
   "outputs": [
    {
     "name": "stderr",
     "output_type": "stream",
     "text": [
      "WARNING: AstropyDeprecationWarning: astropy.extern.six will be removed in 4.0, use the six module directly if it is still needed [astropy.extern.six]\n"
     ]
    }
   ],
   "source": [
    "#imports\n",
    "import numpy as np\n",
    "from fermipy.gtanalysis import GTAnalysis\n",
    "from ts_limit.grid_ts.janitor import Janitor\n",
    "from ts_limit.grid import Grid\n",
    "import time\n",
    "import os\n",
    "import sys\n",
    "from shutil import copy2\n"
   ]
  },
  {
   "cell_type": "code",
   "execution_count": 3,
   "metadata": {},
   "outputs": [],
   "source": [
    "gm = 210\n",
    "# copy analysis dir (roi_simulation/roi_files/fits_01)\n",
    "\n",
    "### do some path shenanigens here\n",
    "roi_location = '/nfs/astrop/n1/kuhlmann/NGC_1275/ts_limit/structured_field/h1/fits_01'\n",
    "roi_name = roi_location.rsplit('/', 1)[-1]\n",
    "roi_file_name = 'fit_newminuit.npy'\n",
    "roi_destination = '/nfs/astrop/n1/kuhlmann/NGC_1275/ts_limit/structured_field/h1/fits_01'\n",
    "outdir = '/nfs/astrop/n1/kuhlmann/NGC_1275/ts_limit/structured_field/outdata/GMF_pshirkov_BSS_PA_-147'\n",
    "dnde_path = 'dnde_gm_210.dat'\n",
    "prob_path = f'/nfs/astrop/n1/kuhlmann/NGC_1275/ts_limit/grid_survival_prob/structured/no_ebl_gmf_pshirkov/gm{gm}_theta_225_B0_8.3_PA_-147.dat'\n",
    "# ask for cluster?\n",
    "cwd = os.getcwd()\n",
    "if not '/n1/kuhlmann/' in cwd:\n",
    "    # on cluster, everything copied by bash wrapper\n",
    "    workdir = f'{os.getcwd()}/{roi_name}'\n",
    "    roi_file_path = f'{workdir}/{roi_file_name}'\n",
    "    config_path = f'{workdir}/config.yaml'\n",
    "    pass\n",
    "else:\n",
    "    # on wgs, should copy to roi_tempdir\n",
    "    files = os.listdir(roi_location)\n",
    "    workdir = roi_destination\n",
    "    roi_file_path = f'{roi_destination}/{roi_file_name}'\n",
    "    config_path = f'{roi_destination}/config.yaml'\n",
    "    for f in files:\n",
    "        break\n",
    "        # copy2(f'{roi_location}/{f}', roi_destination)\n"
   ]
  },
  {
   "cell_type": "code",
   "execution_count": 4,
   "metadata": {},
   "outputs": [
    {
     "name": "stdout",
     "output_type": "stream",
     "text": [
      "(183,)\n",
      "(183,)\n",
      "{'binning': {'binsperdec': 30, 'binsz': 0.2, 'roiwidth': 10.0}, 'data': {'evfile': 'events.lst', 'scfile': '/nfs/astrop/n1/kuhlmann/NGC_1275/raw_data_roi_15/L2009090432059398E3A906_SC00.fits', 'ltcube': '/nfs/astrop/n1/kuhlmann/NGC_1275/ts_limit/structured_field/h1/fits_01/ltcube_00.fits'}, 'fileio': {'logfile': '/nfs/astrop/n1/kuhlmann/NGC_1275/ts_limit/structured_field/h1/fits_01/fermipy.log', 'outdir': '/nfs/astrop/n1/kuhlmann/NGC_1275/ts_limit/structured_field/h1/fits_01', 'workdir': '/nfs/astrop/n1/kuhlmann/NGC_1275/ts_limit/structured_field/h1/fits_01'}, 'gtlike': {'edisp': True, 'edisp_bins': -6, 'edisp_disable': ['isodiff'], 'irfs': 'P8R3_SOURCE_V3'}, 'logging': {'verbosity': 4}, 'model': {'catalogs': ['gll_psc_v21.xml'], 'galdiff': '/nfs/astrop/n1/kuhlmann/miniconda/envs/fermi3/share/fermitools/refdata/fermi/galdiffuse/gll_iem_v07.fits', 'isodiff': '/nfs/astrop/n1/kuhlmann/miniconda/envs/fermi3/share/fermitools/refdata/fermi/galdiffuse/iso_P8R3_SOURCE_V3_v1.txt', 'src_radius': 15.0}, 'selection': {'emax': 500000, 'emin': 100, 'evclass': 128, 'evtype': 3, 'filter': 'DATA_QUAL>0 && LAT_CONFIG==1', 'target': '4FGL J0319.8+4130', 'tmax': 621322123, 'tmin': 239557417, 'zmax': 90}}\n"
     ]
    }
   ],
   "source": [
    "# get probability of g/m from somewhere with best-fitting logparabola pars\n",
    "# TODO: get exactly that done, also choose some g/m for testing\n",
    "dnde = np.loadtxt(dnde_path)\n",
    "p = np.loadtxt(prob_path)\n",
    "print(dnde.shape)\n",
    "print(p.shape)\n",
    "# set dnde of NGC1275 to that\n",
    "### define gtanalysis instance\n",
    "Janitor.write_yaml(config_path, f'{workdir}/config_written.yaml',\n",
    "                   data={'ltcube': f'{workdir}/ltcube_00.fits'},\n",
    "                   fileio={'logfile': f'{workdir}/fermipy.log',\n",
    "                           'outdir': workdir,\n",
    "                           'workdir': workdir})"
   ]
  },
  {
   "cell_type": "code",
   "execution_count": 5,
   "metadata": {},
   "outputs": [
    {
     "name": "stderr",
     "output_type": "stream",
     "text": [
      "/nfs/astrop/n1/kuhlmann/miniconda/envs/fermi3/lib/python3.7/site-packages/fermipy/config.py:213: YAMLLoadWarning: calling yaml.load() without Loader=... is deprecated, as the default Loader is unsafe. Please read https://msg.pyyaml.org/load for full details.\n",
      "  config_dict = yaml.load(open(config))\n",
      "2021-06-11 19:49:15 INFO    GTAnalysis.__init__(): \n",
      "--------------------------------------------------------------------------------\n",
      "fermipy version v1.0.0 \n",
      "ScienceTools version 2.0.0\n",
      "2021-06-11 19:49:15 DEBUG   GTAnalysis.print_config(): Configuration:\n",
      "binning:\n",
      "  binsperdec: 30.0\n",
      "  binsz: 0.2\n",
      "  coordsys: CEL\n",
      "  enumbins: null\n",
      "  hpx_ebin: true\n",
      "  hpx_order: 10\n",
      "  hpx_ordering_scheme: RING\n",
      "  npix: null\n",
      "  proj: AIT\n",
      "  projtype: WCS\n",
      "  roiwidth: 10.0\n",
      "components: []\n",
      "data:\n",
      "  cacheft1: true\n",
      "  evfile: events.lst\n",
      "  ltcube: /nfs/astrop/n1/kuhlmann/NGC_1275/ts_limit/structured_field/h1/fits_01/ltcube_00.fits\n",
      "  scfile: /nfs/astrop/n1/kuhlmann/NGC_1275/raw_data_roi_15/L2009090432059398E3A906_SC00.fits\n",
      "extension:\n",
      "  fit_ebin: false\n",
      "  fit_position: false\n",
      "  fix_shape: false\n",
      "  free_background: false\n",
      "  free_radius: null\n",
      "  make_plots: false\n",
      "  make_tsmap: true\n",
      "  psf_scale_fn: null\n",
      "  save_model_map: false\n",
      "  spatial_model: RadialGaussian\n",
      "  sqrt_ts_threshold: null\n",
      "  tsmap_fitter: tsmap\n",
      "  update: false\n",
      "  width: []\n",
      "  width_max: 1.0\n",
      "  width_min: 0.01\n",
      "  width_nstep: 21\n",
      "  write_fits: true\n",
      "  write_npy: true\n",
      "fileio:\n",
      "  logfile: /nfs/astrop/n1/kuhlmann/NGC_1275/ts_limit/structured_field/h1/fits_01/fermipy.log\n",
      "  outdir: /nfs/astrop/n1/kuhlmann/NGC_1275/ts_limit/structured_field/h1/fits_01\n",
      "  outdir_regex:\n",
      "  - \\.fits$|\\.fit$|\\.xml$|\\.npy$|\\.png$|\\.pdf$|\\.yaml$\n",
      "  savefits: true\n",
      "  scratchdir: /scratch\n",
      "  usescratch: false\n",
      "  workdir: /nfs/astrop/n1/kuhlmann/NGC_1275/ts_limit/structured_field/h1/fits_01\n",
      "  workdir_regex:\n",
      "  - \\.fits$|\\.fit$|\\.xml$|\\.npy$\n",
      "gtlike:\n",
      "  bexpmap: null\n",
      "  bexpmap_base: null\n",
      "  bexpmap_roi: null\n",
      "  bexpmap_roi_base: null\n",
      "  convolve: true\n",
      "  edisp: true\n",
      "  edisp_bins: -6\n",
      "  edisp_disable:\n",
      "  - isodiff\n",
      "  expscale: null\n",
      "  irfs: P8R3_SOURCE_V3\n",
      "  llscan_npts: 20\n",
      "  minbinsz: 0.05\n",
      "  resample: true\n",
      "  rfactor: 2\n",
      "  src_expscale: {}\n",
      "  srcmap: null\n",
      "  srcmap_base: null\n",
      "  use_external_srcmap: false\n",
      "  use_scaled_srcmap: false\n",
      "  wmap: null\n",
      "lightcurve:\n",
      "  binsz: 86400.0\n",
      "  free_background: false\n",
      "  free_params: []\n",
      "  free_radius: null\n",
      "  free_sources: []\n",
      "  make_plots: false\n",
      "  max_free_sources: 5\n",
      "  multithread: false\n",
      "  nbins: null\n",
      "  nthread: null\n",
      "  outdir: null\n",
      "  save_bin_data: true\n",
      "  shape_ts_threshold: 16.0\n",
      "  systematic: 0.02\n",
      "  time_bins: []\n",
      "  use_local_ltcube: true\n",
      "  use_scaled_srcmap: false\n",
      "  write_fits: true\n",
      "  write_npy: true\n",
      "localize:\n",
      "  dtheta_max: 0.5\n",
      "  fix_shape: false\n",
      "  free_background: false\n",
      "  free_radius: null\n",
      "  make_plots: false\n",
      "  nstep: 5\n",
      "  tsmap_fitter: tsmap\n",
      "  update: true\n",
      "  write_fits: true\n",
      "  write_npy: true\n",
      "logging:\n",
      "  chatter: 3\n",
      "  prefix: ''\n",
      "  verbosity: 4\n",
      "ltcube:\n",
      "  binsz: 1.0\n",
      "  dcostheta: 0.025\n",
      "  phibins: 0\n",
      "  use_local_ltcube: false\n",
      "mc:\n",
      "  seed: null\n",
      "model:\n",
      "  assoc_xmatch_columns:\n",
      "  - 3FGL_Name\n",
      "  catalogs:\n",
      "  - gll_psc_v21.xml\n",
      "  diffuse: []\n",
      "  diffuse_dir: []\n",
      "  diffuse_xml: []\n",
      "  extdir: null\n",
      "  extract_diffuse: false\n",
      "  galdiff:\n",
      "  - /nfs/astrop/n1/kuhlmann/miniconda/envs/fermi3/share/fermitools/refdata/fermi/galdiffuse/gll_iem_v07.fits\n",
      "  isodiff:\n",
      "  - /nfs/astrop/n1/kuhlmann/miniconda/envs/fermi3/share/fermitools/refdata/fermi/galdiffuse/iso_P8R3_SOURCE_V3_v1.txt\n",
      "  limbdiff: []\n",
      "  merge_sources: true\n",
      "  sources: []\n",
      "  src_radius: 15.0\n",
      "  src_radius_roi: null\n",
      "  src_roiwidth: null\n",
      "optimizer:\n",
      "  init_lambda: 0.0001\n",
      "  max_iter: 100\n",
      "  min_fit_quality: 2\n",
      "  optimizer: MINUIT\n",
      "  retries: 3\n",
      "  tol: 0.001\n",
      "  verbosity: 0\n",
      "plotting:\n",
      "  catalogs: []\n",
      "  cmap: magma\n",
      "  cmap_resid: RdBu_r\n",
      "  figsize:\n",
      "  - 8.0\n",
      "  - 6.0\n",
      "  format: png\n",
      "  graticule_radii: []\n",
      "  interactive: false\n",
      "  label_ts_threshold: 0.0\n",
      "  loge_bounds: []\n",
      "residmap:\n",
      "  exclude: []\n",
      "  loge_bounds: []\n",
      "  make_plots: false\n",
      "  model: {}\n",
      "  use_weights: false\n",
      "  write_fits: true\n",
      "  write_npy: true\n",
      "roiopt:\n",
      "  max_free_sources: 5\n",
      "  npred_frac: 0.95\n",
      "  npred_threshold: 1.0\n",
      "  shape_ts_threshold: 25.0\n",
      "  skip: []\n",
      "sed:\n",
      "  bin_index: 2.0\n",
      "  cov_scale: 3.0\n",
      "  free_background: false\n",
      "  free_pars: []\n",
      "  free_radius: null\n",
      "  make_plots: false\n",
      "  ul_confidence: 0.95\n",
      "  use_local_index: false\n",
      "  write_fits: true\n",
      "  write_npy: true\n",
      "selection:\n",
      "  convtype: null\n",
      "  dec: null\n",
      "  emax: 500000.0\n",
      "  emin: 100.0\n",
      "  evclass: 128\n",
      "  evtype: 3\n",
      "  filter: DATA_QUAL>0 && LAT_CONFIG==1\n",
      "  glat: null\n",
      "  glon: null\n",
      "  logemax: null\n",
      "  logemin: null\n",
      "  phasemax: null\n",
      "  phasemin: null\n",
      "  ra: null\n",
      "  radius: null\n",
      "  roicut: 'no'\n",
      "  target: 4FGL J0319.8+4130\n",
      "  tmax: 621322123\n",
      "  tmin: 239557417\n",
      "  zmax: 90.0\n",
      "sourcefind:\n",
      "  free_params: []\n",
      "  max_iter: 5\n",
      "  min_separation: 1.0\n",
      "  model: {}\n",
      "  multithread: false\n",
      "  nthread: null\n",
      "  sources_per_iter: 4\n",
      "  sqrt_ts_threshold: 5.0\n",
      "  tsmap_fitter: tsmap\n",
      "tscube:\n",
      "  cov_scale: -1.0\n",
      "  cov_scale_bb: -1.0\n",
      "  do_sed: true\n",
      "  exclude: []\n",
      "  init_lambda: 0.0\n",
      "  max_iter: 30\n",
      "  model: {}\n",
      "  nnorm: 10\n",
      "  norm_sigma: 5.0\n",
      "  remake_test_source: false\n",
      "  st_scan_level: 0\n",
      "  tol: 0.001\n",
      "  tol_type: 0\n",
      "tsmap:\n",
      "  exclude: []\n",
      "  loge_bounds: []\n",
      "  make_plots: false\n",
      "  max_kernel_radius: 3.0\n",
      "  model: {}\n",
      "  multithread: false\n",
      "  nthread: null\n",
      "  write_fits: true\n",
      "  write_npy: true\n",
      "\n",
      "/nfs/astrop/n1/kuhlmann/miniconda/envs/fermi3/lib/python3.7/site-packages/fermipy/model_utils.py:59: YAMLLoadWarning: calling yaml.load() without Loader=... is deprecated, as the default Loader is unsafe. Please read https://msg.pyyaml.org/load for full details.\n",
      "  get_function_spec.fndict = yaml.load(open(modelfile))\n",
      "2021-06-11 19:49:24 DEBUG   GTAnalysis._create_component(): Creating Analysis Component: 00\n",
      "2021-06-11 19:49:24 DEBUG   GTBinnedAnalysis.__init__(): Automatically setting selection radius to 7.5710678118654755 deg\n",
      "2021-06-11 19:49:24 DEBUG   GTBinnedAnalysis.print_config(): Configuration:\n",
      "binning:\n",
      "  binsperdec: 30.0\n",
      "  binsz: 0.2\n",
      "  coordsys: CEL\n",
      "  enumbins: null\n",
      "  hpx_ebin: true\n",
      "  hpx_order: 10\n",
      "  hpx_ordering_scheme: RING\n",
      "  npix: null\n",
      "  proj: AIT\n",
      "  projtype: WCS\n",
      "  roiwidth: 10.0\n",
      "data:\n",
      "  cacheft1: true\n",
      "  evfile: events.lst\n",
      "  ltcube: /nfs/astrop/n1/kuhlmann/NGC_1275/ts_limit/structured_field/h1/fits_01/ltcube_00.fits\n",
      "  scfile: /nfs/astrop/n1/kuhlmann/NGC_1275/raw_data_roi_15/L2009090432059398E3A906_SC00.fits\n",
      "file_suffix: _00\n",
      "fileio:\n",
      "  logfile: /nfs/astrop/n1/kuhlmann/NGC_1275/ts_limit/structured_field/h1/fits_01/fermipy.log\n",
      "  outdir: /nfs/astrop/n1/kuhlmann/NGC_1275/ts_limit/structured_field/h1/fits_01\n",
      "  outdir_regex:\n",
      "  - \\.fits$|\\.fit$|\\.xml$|\\.npy$|\\.png$|\\.pdf$|\\.yaml$\n",
      "  savefits: true\n",
      "  scratchdir: /scratch\n",
      "  usescratch: false\n",
      "  workdir: /nfs/astrop/n1/kuhlmann/NGC_1275/ts_limit/structured_field/h1/fits_01\n",
      "  workdir_regex:\n",
      "  - \\.fits$|\\.fit$|\\.xml$|\\.npy$\n",
      "gtlike:\n",
      "  bexpmap: null\n",
      "  bexpmap_base: null\n",
      "  bexpmap_roi: null\n",
      "  bexpmap_roi_base: null\n",
      "  convolve: true\n",
      "  edisp: true\n",
      "  edisp_bins: -6\n",
      "  edisp_disable:\n",
      "  - isodiff\n",
      "  expscale: null\n",
      "  irfs: P8R3_SOURCE_V3\n",
      "  llscan_npts: 20\n",
      "  minbinsz: 0.05\n",
      "  resample: true\n",
      "  rfactor: 2\n",
      "  src_expscale: {}\n",
      "  srcmap: null\n",
      "  srcmap_base: null\n",
      "  use_external_srcmap: false\n",
      "  use_scaled_srcmap: false\n",
      "  wmap: null\n",
      "logging:\n",
      "  chatter: 3\n",
      "  prefix: ''\n",
      "  verbosity: 4\n",
      "ltcube:\n",
      "  binsz: 1.0\n",
      "  dcostheta: 0.025\n",
      "  phibins: 0\n",
      "  use_local_ltcube: false\n",
      "model:\n",
      "  assoc_xmatch_columns:\n",
      "  - 3FGL_Name\n",
      "  catalogs:\n",
      "  - gll_psc_v21.xml\n",
      "  diffuse: []\n",
      "  diffuse_dir: []\n",
      "  diffuse_xml: []\n",
      "  extdir: null\n",
      "  extract_diffuse: false\n",
      "  galdiff:\n",
      "  - /nfs/astrop/n1/kuhlmann/miniconda/envs/fermi3/share/fermitools/refdata/fermi/galdiffuse/gll_iem_v07.fits\n",
      "  isodiff:\n",
      "  - /nfs/astrop/n1/kuhlmann/miniconda/envs/fermi3/share/fermitools/refdata/fermi/galdiffuse/iso_P8R3_SOURCE_V3_v1.txt\n",
      "  limbdiff: []\n",
      "  merge_sources: true\n",
      "  sources: []\n",
      "  src_radius: 15.0\n",
      "  src_radius_roi: null\n",
      "  src_roiwidth: null\n",
      "name: '00'\n",
      "selection:\n",
      "  convtype: null\n",
      "  dec: null\n",
      "  emax: 500000.0\n",
      "  emin: 100.0\n",
      "  evclass: 128\n",
      "  evtype: 3\n",
      "  filter: DATA_QUAL>0 && LAT_CONFIG==1\n",
      "  glat: null\n",
      "  glon: null\n",
      "  logemax: !!python/object/apply:numpy.core.multiarray.scalar\n",
      "  - &id001 !!python/object/apply:numpy.dtype\n",
      "    args:\n",
      "    - f8\n",
      "    - false\n",
      "    - true\n",
      "    state: !!python/tuple\n",
      "    - 3\n",
      "    - <\n",
      "    - null\n",
      "    - null\n",
      "    - null\n",
      "    - -1\n",
      "    - -1\n",
      "    - 0\n",
      "  - !!binary |\n",
      "    YAj2yr7LFkA=\n",
      "  logemin: !!python/object/apply:numpy.core.multiarray.scalar\n",
      "  - *id001\n",
      "  - !!binary |\n",
      "    AAAAAAAAAEA=\n",
      "  phasemax: null\n",
      "  phasemin: null\n",
      "  ra: null\n",
      "  radius: 7.5710678118654755\n",
      "  roicut: 'no'\n",
      "  target: 4FGL J0319.8+4130\n",
      "  tmax: 621322123\n",
      "  tmin: 239557417\n",
      "  zmax: 90.0\n",
      "\n"
     ]
    },
    {
     "name": "stderr",
     "output_type": "stream",
     "text": [
      "2021-06-11 19:49:24 INFO    GTAnalysis.setup(): Running setup.\n",
      "2021-06-11 19:49:24 INFO    GTBinnedAnalysis.setup(): Running setup for component 00\n",
      "2021-06-11 19:49:24 INFO    GTBinnedAnalysis._select_data(): Skipping data selection.\n",
      "2021-06-11 19:49:24 INFO    GTBinnedAnalysis.setup(): Using external LT cube.\n",
      "2021-06-11 19:49:24 DEBUG   GTBinnedAnalysis.setup(): Loading LT Cube /nfs/astrop/n1/kuhlmann/NGC_1275/ts_limit/structured_field/h1/fits_01/ltcube_00.fits\n",
      "2021-06-11 19:49:24 DEBUG   GTBinnedAnalysis.setup(): Creating PSF model\n",
      "/nfs/astrop/n1/kuhlmann/miniconda/envs/fermi3/lib/python3.7/site-packages/fermipy/irfs.py:51: FutureWarning: Using a non-tuple sequence for multidimensional indexing is deprecated; use `arr[tuple(seq)]` instead of `arr[seq]`. In the future this will be interpreted as an array index, `arr[np.array(seq)]`, which will result either in an error or a different result.\n",
      "  log_ratio = np.log(x[xs1] / x[xs0])\n",
      "/nfs/astrop/n1/kuhlmann/miniconda/envs/fermi3/lib/python3.7/site-packages/fermipy/irfs.py:52: FutureWarning: Using a non-tuple sequence for multidimensional indexing is deprecated; use `arr[tuple(seq)]` instead of `arr[seq]`. In the future this will be interpreted as an array index, `arr[np.array(seq)]`, which will result either in an error or a different result.\n",
      "  return 0.5 * (y[ys0] * x[xs0] + y[ys1] * x[xs1]) * log_ratio\n",
      "2021-06-11 19:49:26 DEBUG   GTBinnedAnalysis._bin_data(): Skipping gtbin.\n",
      "2021-06-11 19:49:26 INFO    GTBinnedAnalysis._create_expcube(): Skipping gtexpcube.\n",
      "WARNING: FITSFixedWarning: RADECSYS= 'FK5 ' \n",
      "the RADECSYS keyword is deprecated, use RADESYSa. [astropy.wcs.wcs]\n",
      "2021-06-11 19:49:27 INFO    GTBinnedAnalysis._create_srcmaps(): Skipping gtsrcmaps.\n",
      "2021-06-11 19:49:27 INFO    GTBinnedAnalysis.setup(): Finished setup for component 00\n",
      "2021-06-11 19:49:27 INFO    GTBinnedAnalysis._create_binned_analysis(): Creating BinnedAnalysis for component 00.\n",
      "2021-06-11 19:49:27 DEBUG   GTBinnedAnalysis._create_binned_analysis(): Creating BinnedObs\n",
      "2021-06-11 19:49:27 DEBUG   GTBinnedAnalysis._create_binned_analysis(): {'srcMaps': '/nfs/astrop/n1/kuhlmann/NGC_1275/ts_limit/structured_field/h1/fits_01/srcmap_00.fits', 'expCube': '/nfs/astrop/n1/kuhlmann/NGC_1275/ts_limit/structured_field/h1/fits_01/ltcube_00.fits', 'binnedExpMap': '/nfs/astrop/n1/kuhlmann/NGC_1275/ts_limit/structured_field/h1/fits_01/bexpmap_00.fits', 'irfs': 'P8R3_SOURCE_V3'}\n",
      "2021-06-11 19:49:33 DEBUG   GTBinnedAnalysis._create_binned_analysis(): Creating BinnedAnalysis\n",
      "2021-06-11 19:49:33 DEBUG   GTBinnedAnalysis._create_binned_analysis(): {'srcModel': '/nfs/astrop/n1/kuhlmann/NGC_1275/ts_limit/structured_field/h1/fits_01/srcmdl_00.xml', 'optimizer': 'MINUIT', 'wmap': None, 'convolve': True, 'resample': True, 'minbinsz': 0.05, 'resamp_fact': 2, 'edisp_bins': -6}\n",
      "2021-06-11 19:51:41 DEBUG   GTBinnedAnalysis._create_binned_analysis(): Disabling energy dispersion for isodiff\n",
      "2021-06-11 19:51:41 DEBUG   GTBinnedAnalysis._create_binned_analysis(): Computing fixed weights\n",
      "2021-06-11 19:51:42 DEBUG   GTBinnedAnalysis._create_binned_analysis(): Updating source maps\n",
      "2021-06-11 19:51:44 INFO    GTAnalysis.setup(): Finished setup.\n",
      "2021-06-11 19:51:44 INFO    GTAnalysis.load_roi(): Loading ROI file: /nfs/astrop/n1/kuhlmann/NGC_1275/ts_limit/structured_field/h1/fits_01/fit_newminuit.npy\n",
      "2021-06-11 19:51:44 INFO    GTBinnedAnalysis._create_binned_analysis(): Creating BinnedAnalysis for component 00.\n",
      "2021-06-11 19:51:44 DEBUG   GTBinnedAnalysis._create_binned_analysis(): Creating BinnedObs\n",
      "2021-06-11 19:51:44 DEBUG   GTBinnedAnalysis._create_binned_analysis(): {'srcMaps': '/nfs/astrop/n1/kuhlmann/NGC_1275/ts_limit/structured_field/h1/fits_01/srcmap_00.fits', 'expCube': '/nfs/astrop/n1/kuhlmann/NGC_1275/ts_limit/structured_field/h1/fits_01/ltcube_00.fits', 'binnedExpMap': '/nfs/astrop/n1/kuhlmann/NGC_1275/ts_limit/structured_field/h1/fits_01/bexpmap_00.fits', 'irfs': 'P8R3_SOURCE_V3'}\n",
      "2021-06-11 19:51:50 DEBUG   GTBinnedAnalysis._create_binned_analysis(): Creating BinnedAnalysis\n",
      "2021-06-11 19:51:50 DEBUG   GTBinnedAnalysis._create_binned_analysis(): {'srcModel': '/nfs/astrop/n1/kuhlmann/NGC_1275/ts_limit/structured_field/h1/fits_01/fit_newminuit_00.xml', 'optimizer': 'MINUIT', 'wmap': None, 'convolve': True, 'resample': True, 'minbinsz': 0.05, 'resamp_fact': 2, 'edisp_bins': -6}\n",
      "2021-06-11 19:53:58 DEBUG   GTBinnedAnalysis._create_binned_analysis(): Disabling energy dispersion for isodiff\n",
      "2021-06-11 19:53:58 DEBUG   GTBinnedAnalysis._create_binned_analysis(): Computing fixed weights\n",
      "2021-06-11 19:53:59 DEBUG   GTBinnedAnalysis._create_binned_analysis(): Updating source maps\n",
      "2021-06-11 19:54:01 INFO    GTAnalysis.load_roi(): Finished Loading ROI\n",
      "2021-06-11 19:54:01 INFO    GTAnalysis.free_source(): Fixing parameters for 4FGL J0319.8+4130     : ['norm', 'alpha', 'beta']\n",
      "2021-06-11 19:54:01 INFO    GTAnalysis.free_source(): Fixing parameters for 4FGL J0316.8+4120     : ['Prefactor']\n",
      "2021-06-11 19:54:01 INFO    GTAnalysis.free_source(): Fixing parameters for 4FGL J0315.5+4231     : ['Prefactor']\n",
      "2021-06-11 19:54:01 INFO    GTAnalysis.free_source(): Fixing parameters for 4FGL J0312.9+4119     : ['Prefactor']\n",
      "2021-06-11 19:54:01 INFO    GTAnalysis.free_source(): Fixing parameters for 4FGL J0333.8+4007     : ['Prefactor']\n",
      "2021-06-11 19:54:01 INFO    GTAnalysis.free_source(): Fixing parameters for 4FGL J0310.9+3815     : ['Prefactor']\n",
      "2021-06-11 19:54:01 INFO    GTAnalysis.free_source(): Fixing parameters for 4FGL J0340.3+4130     : ['Prefactor']\n",
      "2021-06-11 19:54:01 INFO    GTAnalysis.free_source(): Fixing parameters for isodiff               : ['Normalization']\n",
      "2021-06-11 19:54:01 INFO    GTAnalysis.free_source(): Fixing parameters for galdiff               : ['Prefactor', 'Index']\n",
      "2021-06-11 19:54:01 INFO    GTAnalysis.free_source(): Freeing parameters for 4FGL J0319.8+4130     : ['norm', 'alpha', 'beta']\n",
      "2021-06-11 19:54:01 DEBUG   GTAnalysis.get_src_model(): Generating source dict for 4FGL J0319.8+4130\n",
      "2021-06-11 19:54:01 DEBUG   GTAnalysis.profile_norm(): Profiling 4FGL J0319.8+4130\n",
      "2021-06-11 19:54:01 DEBUG   GTAnalysis.free_source(): Fixing parameters for 4FGL J0319.8+4130     : ['alpha', 'beta']\n",
      "2021-06-11 19:54:01 DEBUG   GTAnalysis.profile_norm(): Finished\n",
      "2021-06-11 19:54:01 DEBUG   GTAnalysis.get_src_model(): Generating source dict for 4FGL J0319.8+4130\n",
      "2021-06-11 19:54:01 DEBUG   GTAnalysis.profile_norm(): Profiling 4FGL J0319.8+4130\n",
      "2021-06-11 19:54:02 DEBUG   GTAnalysis.profile_norm(): Finished\n"
     ]
    },
    {
     "name": "stdout",
     "output_type": "stream",
     "text": [
      "3.346142739e-11 1.6730713695e-12\n",
      "2.070081942 0.1035040971\n",
      "0.061929495120000004 0.0030964747560000005\n",
      "1065.3058150000002\n"
     ]
    }
   ],
   "source": [
    "gta = GTAnalysis.create(roi_file_path, config=f'{workdir}/config_written.yaml')\n",
    "j = Janitor(gta)\n",
    "\n",
    "nsim = 2\n",
    "outdata = np.zeros((nsim, 2))\n"
   ]
  },
  {
   "cell_type": "code",
   "execution_count": 6,
   "metadata": {},
   "outputs": [
    {
     "name": "stderr",
     "output_type": "stream",
     "text": [
      "2021-06-11 19:54:02 DEBUG   GTAnalysis.get_src_model(): Generating source dict for 4FGL J0319.8+4130\n",
      "2021-06-11 19:54:02 DEBUG   GTAnalysis.profile_norm(): Profiling 4FGL J0319.8+4130\n",
      "2021-06-11 19:54:02 DEBUG   GTAnalysis.profile_norm(): Finished\n",
      "2021-06-11 19:54:02 INFO    GTAnalysis.simulate_roi(): Simulating ROI\n",
      "2021-06-11 19:54:03 DEBUG   GTBinnedAnalysis.update_source_maps(): Updating source map for PRIMARY\n",
      "2021-06-11 19:54:04 INFO    GTAnalysis.simulate_roi(): Finished\n",
      "2021-06-11 19:54:04 INFO    GTAnalysis.optimize(): Starting\n",
      "2021-06-11 19:54:04 DEBUG   GTAnalysis.optimize(): LogLike: 421983.076698\n",
      "2021-06-11 19:54:04 DEBUG   GTAnalysis.free_source(): Fixing parameters for 4FGL J0319.8+4130     : ['Normalization']\n",
      "2021-06-11 19:54:04 DEBUG   GTAnalysis.free_source(): Freeing parameters for galdiff               : ['Prefactor']\n",
      "2021-06-11 19:54:04 DEBUG   GTAnalysis.free_source(): Freeing parameters for 4FGL J0319.8+4130     : ['Normalization']\n",
      "2021-06-11 19:54:04 DEBUG   GTAnalysis.free_source(): Freeing parameters for isodiff               : ['Normalization']\n",
      "2021-06-11 19:54:04 DEBUG   GTAnalysis.fit(): Starting fit.\n"
     ]
    },
    {
     "name": "stdout",
     "output_type": "stream",
     "text": [
      "Joint fit  ['galdiff', '4FGL J0319.8+4130', 'isodiff']\n"
     ]
    },
    {
     "name": "stderr",
     "output_type": "stream",
     "text": [
      "2021-06-11 19:54:05 DEBUG   GTAnalysis.fit(): Fit complete.\n",
      "2021-06-11 19:54:06 DEBUG   GTAnalysis.get_src_model(): Generating source dict for 4FGL J0319.8+4130\n",
      "2021-06-11 19:54:06 DEBUG   GTAnalysis.profile_norm(): Profiling 4FGL J0319.8+4130\n",
      "2021-06-11 19:54:06 DEBUG   GTAnalysis.profile_norm(): Finished\n",
      "2021-06-11 19:54:06 DEBUG   GTAnalysis.get_src_model(): Generating source dict for galdiff\n",
      "2021-06-11 19:54:12 DEBUG   GTAnalysis.profile_norm(): Profiling galdiff\n",
      "2021-06-11 19:54:12 DEBUG   GTAnalysis.profile_norm(): Finished\n",
      "2021-06-11 19:54:12 DEBUG   GTAnalysis.get_src_model(): Generating source dict for isodiff\n",
      "2021-06-11 19:54:12 DEBUG   GTAnalysis.profile_norm(): Profiling isodiff\n",
      "2021-06-11 19:54:13 DEBUG   GTAnalysis.profile_norm(): Finished\n",
      "2021-06-11 19:54:13 DEBUG   GTAnalysis.fit(): Fit returned successfully. Quality:   3 Status:   0\n",
      "2021-06-11 19:54:13 DEBUG   GTAnalysis.fit(): LogLike:   421983.419 DeltaLogLike:        0.343 \n",
      "2021-06-11 19:54:13 DEBUG   GTAnalysis.free_source(): Fixing parameters for 4FGL J0319.8+4130     : ['Normalization']\n",
      "2021-06-11 19:54:13 DEBUG   GTAnalysis.free_source(): Fixing parameters for isodiff               : ['Normalization']\n",
      "2021-06-11 19:54:13 DEBUG   GTAnalysis.free_source(): Fixing parameters for galdiff               : ['Prefactor']\n",
      "2021-06-11 19:54:13 DEBUG   GTAnalysis.optimize(): Fitting 4FGL J0340.3+4130 npred:   3983.019 TS:   3248.187\n",
      "2021-06-11 19:54:13 DEBUG   GTAnalysis.free_source(): Freeing parameters for 4FGL J0340.3+4130     : ['Prefactor']\n",
      "2021-06-11 19:54:13 DEBUG   GTAnalysis.fit(): Starting fit.\n",
      "2021-06-11 19:54:14 DEBUG   GTAnalysis.fit(): Fit complete.\n",
      "2021-06-11 19:54:14 DEBUG   GTAnalysis.get_src_model(): Generating source dict for 4FGL J0340.3+4130\n",
      "2021-06-11 19:54:14 DEBUG   GTAnalysis.profile_norm(): Profiling 4FGL J0340.3+4130\n",
      "2021-06-11 19:54:14 DEBUG   GTAnalysis.profile_norm(): Finished\n",
      "2021-06-11 19:54:14 DEBUG   GTAnalysis.fit(): Fit returned successfully. Quality:   3 Status:   0\n",
      "2021-06-11 19:54:14 DEBUG   GTAnalysis.fit(): LogLike:   421985.621 DeltaLogLike:        2.202 \n",
      "2021-06-11 19:54:14 DEBUG   GTAnalysis.optimize(): Post-fit Results npred:   3745.897 TS:   2964.180\n",
      "2021-06-11 19:54:14 DEBUG   GTAnalysis.free_source(): Fixing parameters for 4FGL J0340.3+4130     : ['Prefactor']\n",
      "2021-06-11 19:54:14 DEBUG   GTAnalysis.optimize(): Fitting 4FGL J0324.8+3412 npred:   2325.228 TS:     61.194\n",
      "2021-06-11 19:54:14 DEBUG   GTAnalysis.free_source(): Freeing parameters for 4FGL J0324.8+3412     : ['norm']\n",
      "2021-06-11 19:54:14 DEBUG   GTAnalysis.fit(): Starting fit.\n",
      "2021-06-11 19:54:15 DEBUG   GTAnalysis.fit(): Fit complete.\n",
      "2021-06-11 19:54:15 DEBUG   GTAnalysis.get_src_model(): Generating source dict for 4FGL J0324.8+3412\n",
      "2021-06-11 19:54:15 DEBUG   GTAnalysis.profile_norm(): Profiling 4FGL J0324.8+3412\n",
      "2021-06-11 19:54:15 DEBUG   GTAnalysis.profile_norm(): Finished\n",
      "2021-06-11 19:54:15 DEBUG   GTAnalysis.fit(): Fit returned successfully. Quality:   3 Status:   0\n",
      "2021-06-11 19:54:15 DEBUG   GTAnalysis.fit(): LogLike:   421986.258 DeltaLogLike:        0.637 \n",
      "2021-06-11 19:54:15 DEBUG   GTAnalysis.optimize(): Post-fit Results npred:   1986.100 TS:     45.036\n",
      "2021-06-11 19:54:15 DEBUG   GTAnalysis.free_source(): Fixing parameters for 4FGL J0324.8+3412     : ['norm']\n",
      "2021-06-11 19:54:15 DEBUG   GTAnalysis.optimize(): Fitting 4FGL J0330.6+4659 npred:   2186.477 TS:     65.179\n",
      "2021-06-11 19:54:15 DEBUG   GTAnalysis.free_source(): Freeing parameters for 4FGL J0330.6+4659     : ['Prefactor']\n",
      "2021-06-11 19:54:15 DEBUG   GTAnalysis.fit(): Starting fit.\n",
      "2021-06-11 19:54:16 DEBUG   GTAnalysis.fit(): Fit complete.\n",
      "2021-06-11 19:54:16 DEBUG   GTAnalysis.get_src_model(): Generating source dict for 4FGL J0330.6+4659\n",
      "2021-06-11 19:54:16 DEBUG   GTAnalysis.profile_norm(): Profiling 4FGL J0330.6+4659\n",
      "2021-06-11 19:54:16 DEBUG   GTAnalysis.profile_norm(): Finished\n",
      "2021-06-11 19:54:16 DEBUG   GTAnalysis.fit(): Fit returned successfully. Quality:   3 Status:   0\n",
      "2021-06-11 19:54:16 DEBUG   GTAnalysis.fit(): LogLike:   421987.318 DeltaLogLike:        1.060 \n",
      "2021-06-11 19:54:16 DEBUG   GTAnalysis.optimize(): Post-fit Results npred:   2588.039 TS:     91.452\n",
      "2021-06-11 19:54:16 DEBUG   GTAnalysis.free_source(): Fixing parameters for 4FGL J0330.6+4659     : ['Prefactor']\n",
      "2021-06-11 19:54:16 DEBUG   GTAnalysis.optimize(): Fitting 4FGL J0303.6+4716 npred:   1721.623 TS:     51.610\n",
      "2021-06-11 19:54:16 DEBUG   GTAnalysis.free_source(): Freeing parameters for 4FGL J0303.6+4716     : ['norm']\n",
      "2021-06-11 19:54:16 DEBUG   GTAnalysis.fit(): Starting fit.\n",
      "2021-06-11 19:54:17 DEBUG   GTAnalysis.fit(): Fit complete.\n",
      "2021-06-11 19:54:17 DEBUG   GTAnalysis.get_src_model(): Generating source dict for 4FGL J0303.6+4716\n",
      "2021-06-11 19:54:17 DEBUG   GTAnalysis.profile_norm(): Profiling 4FGL J0303.6+4716\n",
      "2021-06-11 19:54:17 DEBUG   GTAnalysis.profile_norm(): Finished\n",
      "2021-06-11 19:54:17 DEBUG   GTAnalysis.fit(): Fit returned successfully. Quality:   3 Status:   0\n",
      "2021-06-11 19:54:17 DEBUG   GTAnalysis.fit(): LogLike:   421987.318 DeltaLogLike:        0.000 \n",
      "2021-06-11 19:54:17 DEBUG   GTAnalysis.optimize(): Post-fit Results npred:   1722.689 TS:     51.972\n",
      "2021-06-11 19:54:17 DEBUG   GTAnalysis.free_source(): Fixing parameters for 4FGL J0303.6+4716     : ['norm']\n",
      "2021-06-11 19:54:17 DEBUG   GTAnalysis.optimize(): Fitting 4FGL J0310.9+3815 npred:   1681.091 TS:     99.569\n",
      "2021-06-11 19:54:17 DEBUG   GTAnalysis.free_source(): Freeing parameters for 4FGL J0310.9+3815     : ['Prefactor']\n",
      "2021-06-11 19:54:17 DEBUG   GTAnalysis.fit(): Starting fit.\n",
      "2021-06-11 19:54:18 DEBUG   GTAnalysis.fit(): Fit complete.\n",
      "2021-06-11 19:54:18 DEBUG   GTAnalysis.get_src_model(): Generating source dict for 4FGL J0310.9+3815\n",
      "2021-06-11 19:54:18 DEBUG   GTAnalysis.profile_norm(): Profiling 4FGL J0310.9+3815\n",
      "2021-06-11 19:54:18 DEBUG   GTAnalysis.profile_norm(): Finished\n",
      "2021-06-11 19:54:19 DEBUG   GTAnalysis.fit(): Fit returned successfully. Quality:   3 Status:   0\n",
      "2021-06-11 19:54:19 DEBUG   GTAnalysis.fit(): LogLike:   421987.419 DeltaLogLike:        0.101 \n",
      "2021-06-11 19:54:19 DEBUG   GTAnalysis.optimize(): Post-fit Results npred:   1762.949 TS:    125.972\n",
      "2021-06-11 19:54:19 DEBUG   GTAnalysis.free_source(): Fixing parameters for 4FGL J0310.9+3815     : ['Prefactor']\n",
      "2021-06-11 19:54:19 DEBUG   GTAnalysis.optimize(): Fitting 4FGL J0312.9+4119 npred:   1571.459 TS:     58.532\n",
      "2021-06-11 19:54:19 DEBUG   GTAnalysis.free_source(): Freeing parameters for 4FGL J0312.9+4119     : ['Prefactor']\n",
      "2021-06-11 19:54:19 DEBUG   GTAnalysis.fit(): Starting fit.\n",
      "2021-06-11 19:54:19 DEBUG   GTAnalysis.fit(): Fit complete.\n",
      "2021-06-11 19:54:19 DEBUG   GTAnalysis.get_src_model(): Generating source dict for 4FGL J0312.9+4119\n",
      "2021-06-11 19:54:19 DEBUG   GTAnalysis.profile_norm(): Profiling 4FGL J0312.9+4119\n",
      "2021-06-11 19:54:20 DEBUG   GTAnalysis.profile_norm(): Finished\n",
      "2021-06-11 19:54:20 DEBUG   GTAnalysis.fit(): Fit returned successfully. Quality:   3 Status:   0\n",
      "2021-06-11 19:54:20 DEBUG   GTAnalysis.fit(): LogLike:   421987.803 DeltaLogLike:        0.383 \n",
      "2021-06-11 19:54:20 DEBUG   GTAnalysis.optimize(): Post-fit Results npred:   1771.771 TS:     77.624\n",
      "2021-06-11 19:54:20 DEBUG   GTAnalysis.free_source(): Fixing parameters for 4FGL J0312.9+4119     : ['Prefactor']\n",
      "2021-06-11 19:54:20 DEBUG   GTAnalysis.optimize(): Fitting 4FGL J0222.6+4302 npred:   1333.459 TS:     19.813\n",
      "2021-06-11 19:54:20 DEBUG   GTAnalysis.free_source(): Freeing parameters for 4FGL J0222.6+4302     : ['norm']\n",
      "2021-06-11 19:54:20 DEBUG   GTAnalysis.fit(): Starting fit.\n",
      "2021-06-11 19:54:20 DEBUG   GTAnalysis.fit(): Fit complete.\n",
      "2021-06-11 19:54:20 DEBUG   GTAnalysis.get_src_model(): Generating source dict for 4FGL J0222.6+4302\n",
      "2021-06-11 19:54:20 DEBUG   GTAnalysis.profile_norm(): Profiling 4FGL J0222.6+4302\n",
      "2021-06-11 19:54:21 DEBUG   GTAnalysis.profile_norm(): Finished\n",
      "2021-06-11 19:54:21 DEBUG   GTAnalysis.fit(): Fit returned successfully. Quality:   3 Status:   0\n",
      "2021-06-11 19:54:21 DEBUG   GTAnalysis.fit(): LogLike:   421987.841 DeltaLogLike:        0.038 \n",
      "2021-06-11 19:54:21 DEBUG   GTAnalysis.optimize(): Post-fit Results npred:   1251.799 TS:     17.438\n",
      "2021-06-11 19:54:21 DEBUG   GTAnalysis.free_source(): Fixing parameters for 4FGL J0222.6+4302     : ['norm']\n"
     ]
    },
    {
     "name": "stderr",
     "output_type": "stream",
     "text": [
      "2021-06-11 19:54:21 DEBUG   GTAnalysis.optimize(): Fitting 4FGL J0316.8+4120 npred:   1276.349 TS:     47.001\n",
      "2021-06-11 19:54:21 DEBUG   GTAnalysis.free_source(): Freeing parameters for 4FGL J0316.8+4120     : ['Prefactor']\n",
      "2021-06-11 19:54:21 DEBUG   GTAnalysis.fit(): Starting fit.\n",
      "2021-06-11 19:54:21 DEBUG   GTAnalysis.fit(): Fit complete.\n",
      "2021-06-11 19:54:21 DEBUG   GTAnalysis.get_src_model(): Generating source dict for 4FGL J0316.8+4120\n",
      "2021-06-11 19:54:21 DEBUG   GTAnalysis.profile_norm(): Profiling 4FGL J0316.8+4120\n",
      "2021-06-11 19:54:22 DEBUG   GTAnalysis.profile_norm(): Finished\n",
      "2021-06-11 19:54:22 DEBUG   GTAnalysis.fit(): Fit returned successfully. Quality:   3 Status:   0\n",
      "2021-06-11 19:54:22 DEBUG   GTAnalysis.fit(): LogLike:   421988.042 DeltaLogLike:        0.202 \n",
      "2021-06-11 19:54:22 DEBUG   GTAnalysis.optimize(): Post-fit Results npred:   1139.726 TS:     38.188\n",
      "2021-06-11 19:54:22 DEBUG   GTAnalysis.free_source(): Fixing parameters for 4FGL J0316.8+4120     : ['Prefactor']\n",
      "2021-06-11 19:54:22 DEBUG   GTAnalysis.optimize(): Fitting 4FGL J0342.2+3858 npred:   1192.802 TS:     80.514\n",
      "2021-06-11 19:54:22 DEBUG   GTAnalysis.free_source(): Freeing parameters for 4FGL J0342.2+3858     : ['Prefactor']\n",
      "2021-06-11 19:54:22 DEBUG   GTAnalysis.fit(): Starting fit.\n",
      "2021-06-11 19:54:22 DEBUG   GTAnalysis.fit(): Fit complete.\n",
      "2021-06-11 19:54:22 DEBUG   GTAnalysis.get_src_model(): Generating source dict for 4FGL J0342.2+3858\n",
      "2021-06-11 19:54:22 DEBUG   GTAnalysis.profile_norm(): Profiling 4FGL J0342.2+3858\n",
      "2021-06-11 19:54:23 DEBUG   GTAnalysis.profile_norm(): Finished\n",
      "2021-06-11 19:54:23 DEBUG   GTAnalysis.fit(): Fit returned successfully. Quality:   3 Status:   0\n",
      "2021-06-11 19:54:23 DEBUG   GTAnalysis.fit(): LogLike:   421988.185 DeltaLogLike:        0.143 \n",
      "2021-06-11 19:54:23 DEBUG   GTAnalysis.optimize(): Post-fit Results npred:   1110.706 TS:     70.146\n",
      "2021-06-11 19:54:23 DEBUG   GTAnalysis.free_source(): Fixing parameters for 4FGL J0342.2+3858     : ['Prefactor']\n",
      "2021-06-11 19:54:23 DEBUG   GTAnalysis.optimize(): Fitting 4FGL J0343.4+3621 npred:    911.088 TS:     91.177\n",
      "2021-06-11 19:54:23 DEBUG   GTAnalysis.free_source(): Freeing parameters for 4FGL J0343.4+3621     : ['Prefactor']\n",
      "2021-06-11 19:54:23 DEBUG   GTAnalysis.fit(): Starting fit.\n",
      "2021-06-11 19:54:23 DEBUG   GTAnalysis.fit(): Fit complete.\n",
      "2021-06-11 19:54:23 DEBUG   GTAnalysis.get_src_model(): Generating source dict for 4FGL J0343.4+3621\n",
      "2021-06-11 19:54:23 DEBUG   GTAnalysis.profile_norm(): Profiling 4FGL J0343.4+3621\n",
      "2021-06-11 19:54:24 DEBUG   GTAnalysis.profile_norm(): Finished\n",
      "2021-06-11 19:54:24 DEBUG   GTAnalysis.fit(): Fit returned successfully. Quality:   3 Status:   0\n",
      "2021-06-11 19:54:24 DEBUG   GTAnalysis.fit(): LogLike:   421988.196 DeltaLogLike:        0.011 \n",
      "2021-06-11 19:54:24 DEBUG   GTAnalysis.optimize(): Post-fit Results npred:    894.825 TS:     96.301\n",
      "2021-06-11 19:54:24 DEBUG   GTAnalysis.free_source(): Fixing parameters for 4FGL J0343.4+3621     : ['Prefactor']\n",
      "2021-06-11 19:54:24 DEBUG   GTAnalysis.optimize(): Fitting 4FGL J0330.1+5038 npred:    907.731 TS:      8.019\n",
      "2021-06-11 19:54:24 DEBUG   GTAnalysis.free_source(): Freeing parameters for 4FGL J0330.1+5038     : ['norm']\n",
      "2021-06-11 19:54:24 DEBUG   GTAnalysis.fit(): Starting fit.\n",
      "2021-06-11 19:54:24 DEBUG   GTAnalysis.fit(): Fit complete.\n",
      "2021-06-11 19:54:25 DEBUG   GTAnalysis.get_src_model(): Generating source dict for 4FGL J0330.1+5038\n",
      "2021-06-11 19:54:25 DEBUG   GTAnalysis.profile_norm(): Profiling 4FGL J0330.1+5038\n",
      "2021-06-11 19:54:25 DEBUG   GTAnalysis.profile_norm(): Finished\n",
      "2021-06-11 19:54:25 DEBUG   GTAnalysis.fit(): Fit returned successfully. Quality:   3 Status:   0\n",
      "2021-06-11 19:54:25 DEBUG   GTAnalysis.fit(): LogLike:   421988.196 DeltaLogLike:        0.000 \n",
      "2021-06-11 19:54:25 DEBUG   GTAnalysis.optimize(): Post-fit Results npred:    907.730 TS:      5.126\n",
      "2021-06-11 19:54:25 DEBUG   GTAnalysis.free_source(): Fixing parameters for 4FGL J0330.1+5038     : ['norm']\n",
      "2021-06-11 19:54:25 DEBUG   GTAnalysis.optimize(): Fitting 4FGL J0333.8+4007 npred:    879.696 TS:     70.576\n",
      "2021-06-11 19:54:25 DEBUG   GTAnalysis.free_source(): Freeing parameters for 4FGL J0333.8+4007     : ['Prefactor']\n",
      "2021-06-11 19:54:25 DEBUG   GTAnalysis.fit(): Starting fit.\n",
      "2021-06-11 19:54:25 DEBUG   GTAnalysis.fit(): Fit complete.\n",
      "2021-06-11 19:54:26 DEBUG   GTAnalysis.get_src_model(): Generating source dict for 4FGL J0333.8+4007\n",
      "2021-06-11 19:54:26 DEBUG   GTAnalysis.profile_norm(): Profiling 4FGL J0333.8+4007\n",
      "2021-06-11 19:54:26 DEBUG   GTAnalysis.profile_norm(): Finished\n",
      "2021-06-11 19:54:26 DEBUG   GTAnalysis.fit(): Fit returned successfully. Quality:   3 Status:   0\n",
      "2021-06-11 19:54:26 DEBUG   GTAnalysis.fit(): LogLike:   421988.267 DeltaLogLike:        0.071 \n",
      "2021-06-11 19:54:26 DEBUG   GTAnalysis.optimize(): Post-fit Results npred:    932.794 TS:     66.566\n",
      "2021-06-11 19:54:26 DEBUG   GTAnalysis.free_source(): Fixing parameters for 4FGL J0333.8+4007     : ['Prefactor']\n",
      "2021-06-11 19:54:26 DEBUG   GTAnalysis.optimize(): Fitting 4FGL J0252.9+3834 npred:    863.218 TS:     25.750\n",
      "2021-06-11 19:54:26 DEBUG   GTAnalysis.free_source(): Freeing parameters for 4FGL J0252.9+3834     : ['Prefactor']\n",
      "2021-06-11 19:54:26 DEBUG   GTAnalysis.fit(): Starting fit.\n",
      "2021-06-11 19:54:26 DEBUG   GTAnalysis.fit(): Fit complete.\n",
      "2021-06-11 19:54:27 DEBUG   GTAnalysis.get_src_model(): Generating source dict for 4FGL J0252.9+3834\n",
      "2021-06-11 19:54:27 DEBUG   GTAnalysis.profile_norm(): Profiling 4FGL J0252.9+3834\n",
      "2021-06-11 19:54:27 DEBUG   GTAnalysis.profile_norm(): Finished\n",
      "2021-06-11 19:54:27 DEBUG   GTAnalysis.fit(): Fit returned successfully. Quality:   3 Status:   0\n",
      "2021-06-11 19:54:27 DEBUG   GTAnalysis.fit(): LogLike:   421988.267 DeltaLogLike:        0.000 \n",
      "2021-06-11 19:54:27 DEBUG   GTAnalysis.optimize(): Post-fit Results npred:    864.244 TS:     26.265\n",
      "2021-06-11 19:54:27 DEBUG   GTAnalysis.free_source(): Fixing parameters for 4FGL J0252.9+3834     : ['Prefactor']\n",
      "2021-06-11 19:54:27 DEBUG   GTAnalysis.optimize(): Fitting 4FGL J0348.8+4610 npred:    843.792 TS:     51.082\n",
      "2021-06-11 19:54:27 DEBUG   GTAnalysis.free_source(): Freeing parameters for 4FGL J0348.8+4610     : ['norm']\n",
      "2021-06-11 19:54:27 DEBUG   GTAnalysis.fit(): Starting fit.\n",
      "2021-06-11 19:54:27 DEBUG   GTAnalysis.fit(): Fit complete.\n",
      "2021-06-11 19:54:28 DEBUG   GTAnalysis.get_src_model(): Generating source dict for 4FGL J0348.8+4610\n",
      "2021-06-11 19:54:28 DEBUG   GTAnalysis.profile_norm(): Profiling 4FGL J0348.8+4610\n",
      "2021-06-11 19:54:28 DEBUG   GTAnalysis.profile_norm(): Finished\n",
      "2021-06-11 19:54:28 DEBUG   GTAnalysis.fit(): Fit returned successfully. Quality:   3 Status:   0\n",
      "2021-06-11 19:54:28 DEBUG   GTAnalysis.fit(): LogLike:   421989.629 DeltaLogLike:        1.362 \n",
      "2021-06-11 19:54:28 DEBUG   GTAnalysis.optimize(): Post-fit Results npred:   1049.393 TS:     80.256\n",
      "2021-06-11 19:54:28 DEBUG   GTAnalysis.free_source(): Fixing parameters for 4FGL J0348.8+4610     : ['norm']\n",
      "2021-06-11 19:54:28 DEBUG   GTAnalysis.optimize(): Fitting 4FGL J0354.4+4643 npred:    739.399 TS:      8.957\n",
      "2021-06-11 19:54:28 DEBUG   GTAnalysis.free_source(): Freeing parameters for 4FGL J0354.4+4643     : ['Prefactor']\n",
      "2021-06-11 19:54:28 DEBUG   GTAnalysis.fit(): Starting fit.\n",
      "2021-06-11 19:54:29 DEBUG   GTAnalysis.fit(): Fit complete.\n",
      "2021-06-11 19:54:29 DEBUG   GTAnalysis.get_src_model(): Generating source dict for 4FGL J0354.4+4643\n",
      "2021-06-11 19:54:29 DEBUG   GTAnalysis.profile_norm(): Profiling 4FGL J0354.4+4643\n",
      "2021-06-11 19:54:29 DEBUG   GTAnalysis.profile_norm(): Finished\n",
      "2021-06-11 19:54:29 DEBUG   GTAnalysis.fit(): Fit returned successfully. Quality:   3 Status:   0\n",
      "2021-06-11 19:54:29 DEBUG   GTAnalysis.fit(): LogLike:   421990.262 DeltaLogLike:        0.633 \n",
      "2021-06-11 19:54:29 DEBUG   GTAnalysis.optimize(): Post-fit Results npred:    458.610 TS:      3.424\n",
      "2021-06-11 19:54:29 DEBUG   GTAnalysis.free_source(): Fixing parameters for 4FGL J0354.4+4643     : ['Prefactor']\n",
      "2021-06-11 19:54:29 DEBUG   GTAnalysis.optimize(): Fitting 4FGL J0409.7+4006c npred:    541.255 TS:      2.309\n",
      "2021-06-11 19:54:29 DEBUG   GTAnalysis.free_source(): Freeing parameters for 4FGL J0409.7+4006c    : ['norm']\n"
     ]
    },
    {
     "name": "stderr",
     "output_type": "stream",
     "text": [
      "2021-06-11 19:54:29 DEBUG   GTAnalysis.fit(): Starting fit.\n",
      "2021-06-11 19:54:30 DEBUG   GTAnalysis.fit(): Fit complete.\n",
      "2021-06-11 19:54:30 DEBUG   GTAnalysis.get_src_model(): Generating source dict for 4FGL J0409.7+4006c\n",
      "2021-06-11 19:54:30 DEBUG   GTAnalysis.profile_norm(): Profiling 4FGL J0409.7+4006c\n",
      "2021-06-11 19:54:30 DEBUG   GTAnalysis.profile_norm(): Finished\n",
      "2021-06-11 19:54:30 DEBUG   GTAnalysis.fit(): Fit returned successfully. Quality:   3 Status:   0\n",
      "2021-06-11 19:54:30 DEBUG   GTAnalysis.fit(): LogLike:   421990.262 DeltaLogLike:        0.000 \n",
      "2021-06-11 19:54:30 DEBUG   GTAnalysis.optimize(): Post-fit Results npred:    541.294 TS:      4.802\n",
      "2021-06-11 19:54:30 DEBUG   GTAnalysis.free_source(): Fixing parameters for 4FGL J0409.7+4006c    : ['norm']\n",
      "2021-06-11 19:54:30 DEBUG   GTAnalysis.optimize(): Fitting 4FGL J0221.1+3556 npred:    518.571 TS:      3.872\n",
      "2021-06-11 19:54:30 DEBUG   GTAnalysis.free_source(): Freeing parameters for 4FGL J0221.1+3556     : ['norm']\n",
      "2021-06-11 19:54:30 DEBUG   GTAnalysis.fit(): Starting fit.\n",
      "2021-06-11 19:54:31 DEBUG   GTAnalysis.fit(): Fit complete.\n",
      "2021-06-11 19:54:31 DEBUG   GTAnalysis.get_src_model(): Generating source dict for 4FGL J0221.1+3556\n",
      "2021-06-11 19:54:31 DEBUG   GTAnalysis.profile_norm(): Profiling 4FGL J0221.1+3556\n",
      "2021-06-11 19:54:31 DEBUG   GTAnalysis.profile_norm(): Finished\n",
      "2021-06-11 19:54:31 DEBUG   GTAnalysis.fit(): Fit returned successfully. Quality:   3 Status:   0\n",
      "2021-06-11 19:54:31 DEBUG   GTAnalysis.fit(): LogLike:   421990.279 DeltaLogLike:        0.017 \n",
      "2021-06-11 19:54:31 DEBUG   GTAnalysis.optimize(): Post-fit Results npred:    472.472 TS:      3.186\n",
      "2021-06-11 19:54:31 DEBUG   GTAnalysis.free_source(): Fixing parameters for 4FGL J0221.1+3556     : ['norm']\n",
      "2021-06-11 19:54:31 DEBUG   GTAnalysis.optimize(): Fitting 4FGL J0359.3+3626 npred:    478.198 TS:      2.717\n",
      "2021-06-11 19:54:31 DEBUG   GTAnalysis.free_source(): Freeing parameters for 4FGL J0359.3+3626     : ['norm']\n",
      "2021-06-11 19:54:31 DEBUG   GTAnalysis.fit(): Starting fit.\n",
      "2021-06-11 19:54:32 DEBUG   GTAnalysis.fit(): Fit complete.\n",
      "2021-06-11 19:54:32 DEBUG   GTAnalysis.get_src_model(): Generating source dict for 4FGL J0359.3+3626\n",
      "2021-06-11 19:54:32 DEBUG   GTAnalysis.profile_norm(): Profiling 4FGL J0359.3+3626\n",
      "2021-06-11 19:54:32 DEBUG   GTAnalysis.profile_norm(): Finished\n",
      "2021-06-11 19:54:32 DEBUG   GTAnalysis.fit(): Fit returned successfully. Quality:   3 Status:   0\n",
      "2021-06-11 19:54:32 DEBUG   GTAnalysis.fit(): LogLike:   421990.979 DeltaLogLike:        0.700 \n",
      "2021-06-11 19:54:32 DEBUG   GTAnalysis.optimize(): Post-fit Results npred:    130.695 TS:      0.210\n",
      "2021-06-11 19:54:32 DEBUG   GTAnalysis.free_source(): Fixing parameters for 4FGL J0359.3+3626     : ['norm']\n",
      "2021-06-11 19:54:32 DEBUG   GTAnalysis.optimize(): Fitting 4FGL J0227.2+3928 npred:    471.302 TS:      3.367\n",
      "2021-06-11 19:54:32 DEBUG   GTAnalysis.free_source(): Freeing parameters for 4FGL J0227.2+3928     : ['Prefactor']\n",
      "2021-06-11 19:54:32 DEBUG   GTAnalysis.fit(): Starting fit.\n",
      "2021-06-11 19:54:33 DEBUG   GTAnalysis.fit(): Fit complete.\n",
      "2021-06-11 19:54:33 DEBUG   GTAnalysis.get_src_model(): Generating source dict for 4FGL J0227.2+3928\n",
      "2021-06-11 19:54:33 DEBUG   GTAnalysis.profile_norm(): Profiling 4FGL J0227.2+3928\n",
      "2021-06-11 19:54:33 DEBUG   GTAnalysis.profile_norm(): Finished\n",
      "2021-06-11 19:54:33 DEBUG   GTAnalysis.fit(): Fit returned successfully. Quality:   3 Status:   0\n",
      "2021-06-11 19:54:33 DEBUG   GTAnalysis.fit(): LogLike:   421991.022 DeltaLogLike:        0.043 \n",
      "2021-06-11 19:54:33 DEBUG   GTAnalysis.optimize(): Post-fit Results npred:    547.921 TS:      4.598\n",
      "2021-06-11 19:54:33 DEBUG   GTAnalysis.free_source(): Fixing parameters for 4FGL J0227.2+3928     : ['Prefactor']\n",
      "2021-06-11 19:54:33 DEBUG   GTAnalysis.optimize(): Fitting 4FGL J0307.4+4915 npred:    401.948 TS:      1.507\n",
      "2021-06-11 19:54:33 DEBUG   GTAnalysis.free_source(): Freeing parameters for 4FGL J0307.4+4915     : ['norm']\n",
      "2021-06-11 19:54:33 DEBUG   GTAnalysis.fit(): Starting fit.\n",
      "2021-06-11 19:54:34 DEBUG   GTAnalysis.fit(): Fit complete.\n",
      "2021-06-11 19:54:34 DEBUG   GTAnalysis.get_src_model(): Generating source dict for 4FGL J0307.4+4915\n",
      "2021-06-11 19:54:34 DEBUG   GTAnalysis.profile_norm(): Profiling 4FGL J0307.4+4915\n",
      "2021-06-11 19:54:34 DEBUG   GTAnalysis.profile_norm(): Finished\n",
      "2021-06-11 19:54:34 DEBUG   GTAnalysis.fit(): Fit returned successfully. Quality:   3 Status:   0\n",
      "2021-06-11 19:54:34 DEBUG   GTAnalysis.fit(): LogLike:   421991.023 DeltaLogLike:        0.000 \n",
      "2021-06-11 19:54:34 DEBUG   GTAnalysis.optimize(): Post-fit Results npred:    394.825 TS:      1.468\n",
      "2021-06-11 19:54:34 DEBUG   GTAnalysis.free_source(): Fixing parameters for 4FGL J0307.4+4915     : ['norm']\n",
      "2021-06-11 19:54:34 DEBUG   GTAnalysis.optimize(): Fitting 4FGL J0334.3+3920 npred:    401.887 TS:     90.254\n",
      "2021-06-11 19:54:34 DEBUG   GTAnalysis.free_source(): Freeing parameters for 4FGL J0334.3+3920     : ['Prefactor']\n",
      "2021-06-11 19:54:34 DEBUG   GTAnalysis.fit(): Starting fit.\n",
      "2021-06-11 19:54:35 DEBUG   GTAnalysis.fit(): Fit complete.\n",
      "2021-06-11 19:54:35 DEBUG   GTAnalysis.get_src_model(): Generating source dict for 4FGL J0334.3+3920\n",
      "2021-06-11 19:54:35 DEBUG   GTAnalysis.profile_norm(): Profiling 4FGL J0334.3+3920\n",
      "2021-06-11 19:54:35 DEBUG   GTAnalysis.profile_norm(): Finished\n",
      "2021-06-11 19:54:35 DEBUG   GTAnalysis.fit(): Fit returned successfully. Quality:   3 Status:   0\n",
      "2021-06-11 19:54:35 DEBUG   GTAnalysis.fit(): LogLike:   421991.023 DeltaLogLike:        0.001 \n",
      "2021-06-11 19:54:35 DEBUG   GTAnalysis.optimize(): Post-fit Results npred:    404.486 TS:     87.086\n",
      "2021-06-11 19:54:35 DEBUG   GTAnalysis.free_source(): Fixing parameters for 4FGL J0334.3+3920     : ['Prefactor']\n",
      "2021-06-11 19:54:35 DEBUG   GTAnalysis.optimize(): Fitting 4FGL J0359.7+4445 npred:    258.136 TS:      0.739\n",
      "2021-06-11 19:54:35 DEBUG   GTAnalysis.free_source(): Freeing parameters for 4FGL J0359.7+4445     : ['Prefactor']\n",
      "2021-06-11 19:54:35 DEBUG   GTAnalysis.fit(): Starting fit.\n",
      "2021-06-11 19:54:36 DEBUG   GTAnalysis.fit(): Fit complete.\n",
      "2021-06-11 19:54:36 DEBUG   GTAnalysis.get_src_model(): Generating source dict for 4FGL J0359.7+4445\n",
      "2021-06-11 19:54:36 DEBUG   GTAnalysis.profile_norm(): Profiling 4FGL J0359.7+4445\n",
      "2021-06-11 19:54:36 DEBUG   GTAnalysis.profile_norm(): Finished\n",
      "2021-06-11 19:54:36 DEBUG   GTAnalysis.fit(): Fit returned successfully. Quality:   3 Status:   0\n",
      "2021-06-11 19:54:36 DEBUG   GTAnalysis.fit(): LogLike:   421991.240 DeltaLogLike:        0.216 \n",
      "2021-06-11 19:54:36 DEBUG   GTAnalysis.optimize(): Post-fit Results npred:    454.709 TS:      2.307\n",
      "2021-06-11 19:54:36 DEBUG   GTAnalysis.free_source(): Fixing parameters for 4FGL J0359.7+4445     : ['Prefactor']\n",
      "2021-06-11 19:54:36 DEBUG   GTAnalysis.optimize(): Fitting 4FGL J0315.5+4231 npred:    238.586 TS:     24.387\n",
      "2021-06-11 19:54:36 DEBUG   GTAnalysis.free_source(): Freeing parameters for 4FGL J0315.5+4231     : ['Prefactor']\n",
      "2021-06-11 19:54:36 DEBUG   GTAnalysis.fit(): Starting fit.\n",
      "2021-06-11 19:54:37 DEBUG   GTAnalysis.fit(): Fit complete.\n",
      "2021-06-11 19:54:37 DEBUG   GTAnalysis.get_src_model(): Generating source dict for 4FGL J0315.5+4231\n",
      "2021-06-11 19:54:37 DEBUG   GTAnalysis.profile_norm(): Profiling 4FGL J0315.5+4231\n",
      "2021-06-11 19:54:37 DEBUG   GTAnalysis.profile_norm(): Finished\n",
      "2021-06-11 19:54:38 DEBUG   GTAnalysis.fit(): Fit returned successfully. Quality:   3 Status:   0\n",
      "2021-06-11 19:54:38 DEBUG   GTAnalysis.fit(): LogLike:   421991.767 DeltaLogLike:        0.527 \n",
      "2021-06-11 19:54:38 DEBUG   GTAnalysis.optimize(): Post-fit Results npred:    175.250 TS:     18.965\n",
      "2021-06-11 19:54:38 DEBUG   GTAnalysis.free_source(): Fixing parameters for 4FGL J0315.5+4231     : ['Prefactor']\n",
      "2021-06-11 19:54:38 DEBUG   GTAnalysis.optimize(): Fitting 4FGL J0218.1+4232 npred:    227.137 TS:      0.583\n",
      "2021-06-11 19:54:38 DEBUG   GTAnalysis.free_source(): Freeing parameters for 4FGL J0218.1+4232     : ['Prefactor']\n",
      "2021-06-11 19:54:38 DEBUG   GTAnalysis.fit(): Starting fit.\n",
      "2021-06-11 19:54:38 DEBUG   GTAnalysis.fit(): Fit complete.\n",
      "2021-06-11 19:54:38 DEBUG   GTAnalysis.get_src_model(): Generating source dict for 4FGL J0218.1+4232\n"
     ]
    },
    {
     "name": "stderr",
     "output_type": "stream",
     "text": [
      "2021-06-11 19:54:38 DEBUG   GTAnalysis.profile_norm(): Profiling 4FGL J0218.1+4232\n",
      "2021-06-11 19:54:39 DEBUG   GTAnalysis.profile_norm(): Finished\n",
      "2021-06-11 19:54:39 DEBUG   GTAnalysis.fit(): Fit returned successfully. Quality:   3 Status:   0\n",
      "2021-06-11 19:54:39 DEBUG   GTAnalysis.fit(): LogLike:   421991.769 DeltaLogLike:        0.002 \n",
      "2021-06-11 19:54:39 DEBUG   GTAnalysis.optimize(): Post-fit Results npred:    244.376 TS:      0.686\n",
      "2021-06-11 19:54:39 DEBUG   GTAnalysis.free_source(): Fixing parameters for 4FGL J0218.1+4232     : ['Prefactor']\n",
      "2021-06-11 19:54:39 DEBUG   GTAnalysis.optimize(): Fitting 4FGL J0347.0+4844 npred:    149.569 TS:      0.281\n",
      "2021-06-11 19:54:39 DEBUG   GTAnalysis.free_source(): Freeing parameters for 4FGL J0347.0+4844     : ['Prefactor']\n",
      "2021-06-11 19:54:39 DEBUG   GTAnalysis.fit(): Starting fit.\n",
      "2021-06-11 19:54:39 DEBUG   GTAnalysis.fit(): Fit complete.\n",
      "2021-06-11 19:54:39 DEBUG   GTAnalysis.get_src_model(): Generating source dict for 4FGL J0347.0+4844\n",
      "2021-06-11 19:54:39 DEBUG   GTAnalysis.profile_norm(): Profiling 4FGL J0347.0+4844\n",
      "2021-06-11 19:54:40 DEBUG   GTAnalysis.profile_norm(): Finished\n",
      "2021-06-11 19:54:40 DEBUG   GTAnalysis.fit(): Fit returned successfully. Quality:   3 Status:   0\n",
      "2021-06-11 19:54:40 DEBUG   GTAnalysis.fit(): LogLike:   421991.899 DeltaLogLike:        0.131 \n",
      "2021-06-11 19:54:40 DEBUG   GTAnalysis.optimize(): Post-fit Results npred:      9.239 TS:      0.000\n",
      "2021-06-11 19:54:40 DEBUG   GTAnalysis.free_source(): Fixing parameters for 4FGL J0347.0+4844     : ['Prefactor']\n",
      "2021-06-11 19:54:40 DEBUG   GTAnalysis.optimize(): Fitting 4FGL J0257.0+3358 npred:    146.687 TS:      0.482\n",
      "2021-06-11 19:54:40 DEBUG   GTAnalysis.free_source(): Freeing parameters for 4FGL J0257.0+3358     : ['Prefactor']\n",
      "2021-06-11 19:54:40 DEBUG   GTAnalysis.fit(): Starting fit.\n",
      "2021-06-11 19:54:40 DEBUG   GTAnalysis.fit(): Fit complete.\n",
      "2021-06-11 19:54:40 DEBUG   GTAnalysis.get_src_model(): Generating source dict for 4FGL J0257.0+3358\n",
      "2021-06-11 19:54:40 DEBUG   GTAnalysis.profile_norm(): Profiling 4FGL J0257.0+3358\n",
      "2021-06-11 19:54:41 DEBUG   GTAnalysis.profile_norm(): Finished\n",
      "2021-06-11 19:54:41 DEBUG   GTAnalysis.fit(): Fit returned successfully. Quality:   3 Status:   0\n",
      "2021-06-11 19:54:41 DEBUG   GTAnalysis.fit(): LogLike:   421991.976 DeltaLogLike:        0.076 \n",
      "2021-06-11 19:54:41 DEBUG   GTAnalysis.optimize(): Post-fit Results npred:     63.046 TS:      0.074\n",
      "2021-06-11 19:54:41 DEBUG   GTAnalysis.free_source(): Fixing parameters for 4FGL J0257.0+3358     : ['Prefactor']\n",
      "2021-06-11 19:54:41 DEBUG   GTAnalysis.optimize(): Fitting 4FGL J0355.3+3909 npred:    143.431 TS:      0.205\n",
      "2021-06-11 19:54:41 DEBUG   GTAnalysis.free_source(): Freeing parameters for 4FGL J0355.3+3909     : ['Prefactor']\n",
      "2021-06-11 19:54:41 DEBUG   GTAnalysis.fit(): Starting fit.\n",
      "2021-06-11 19:54:41 DEBUG   GTAnalysis.fit(): Fit complete.\n",
      "2021-06-11 19:54:42 DEBUG   GTAnalysis.get_src_model(): Generating source dict for 4FGL J0355.3+3909\n",
      "2021-06-11 19:54:42 DEBUG   GTAnalysis.profile_norm(): Profiling 4FGL J0355.3+3909\n",
      "2021-06-11 19:54:42 DEBUG   GTAnalysis.profile_norm(): Finished\n",
      "2021-06-11 19:54:42 DEBUG   GTAnalysis.fit(): Fit returned successfully. Quality:   3 Status:   0\n",
      "2021-06-11 19:54:42 DEBUG   GTAnalysis.fit(): LogLike:   421992.658 DeltaLogLike:        0.683 \n",
      "2021-06-11 19:54:42 DEBUG   GTAnalysis.optimize(): Post-fit Results npred:    509.052 TS:      2.652\n",
      "2021-06-11 19:54:42 DEBUG   GTAnalysis.free_source(): Fixing parameters for 4FGL J0355.3+3909     : ['Prefactor']\n",
      "2021-06-11 19:54:42 DEBUG   GTAnalysis.optimize(): Fitting 4FGL J0312.9+3614 npred:    125.392 TS:      0.637\n",
      "2021-06-11 19:54:42 DEBUG   GTAnalysis.free_source(): Freeing parameters for 4FGL J0312.9+3614     : ['Prefactor']\n",
      "2021-06-11 19:54:42 DEBUG   GTAnalysis.fit(): Starting fit.\n",
      "2021-06-11 19:54:43 DEBUG   GTAnalysis.fit(): Fit complete.\n",
      "2021-06-11 19:54:43 DEBUG   GTAnalysis.get_src_model(): Generating source dict for 4FGL J0312.9+3614\n",
      "2021-06-11 19:54:43 DEBUG   GTAnalysis.profile_norm(): Profiling 4FGL J0312.9+3614\n",
      "2021-06-11 19:54:43 DEBUG   GTAnalysis.profile_norm(): Finished\n",
      "2021-06-11 19:54:43 DEBUG   GTAnalysis.fit(): Fit returned successfully. Quality:   3 Status:   0\n",
      "2021-06-11 19:54:43 DEBUG   GTAnalysis.fit(): LogLike:   421992.659 DeltaLogLike:        0.001 \n",
      "2021-06-11 19:54:43 DEBUG   GTAnalysis.optimize(): Post-fit Results npred:    119.237 TS:      0.586\n",
      "2021-06-11 19:54:43 DEBUG   GTAnalysis.free_source(): Fixing parameters for 4FGL J0312.9+3614     : ['Prefactor']\n",
      "2021-06-11 19:54:43 DEBUG   GTAnalysis.optimize(): Fitting 4FGL J0359.6+5057 npred:     72.669 TS:      0.055\n",
      "2021-06-11 19:54:43 DEBUG   GTAnalysis.free_source(): Freeing parameters for 4FGL J0359.6+5057     : ['norm']\n",
      "2021-06-11 19:54:43 DEBUG   GTAnalysis.fit(): Starting fit.\n",
      "2021-06-11 19:54:44 DEBUG   GTAnalysis.fit(): Fit complete.\n",
      "2021-06-11 19:54:44 DEBUG   GTAnalysis.get_src_model(): Generating source dict for 4FGL J0359.6+5057\n",
      "2021-06-11 19:54:44 DEBUG   GTAnalysis.profile_norm(): Profiling 4FGL J0359.6+5057\n",
      "2021-06-11 19:54:44 DEBUG   GTAnalysis.profile_norm(): Finished\n",
      "2021-06-11 19:54:44 DEBUG   GTAnalysis.fit(): Fit returned successfully. Quality:   3 Status:   0\n",
      "2021-06-11 19:54:44 DEBUG   GTAnalysis.fit(): LogLike:   421992.679 DeltaLogLike:        0.020 \n",
      "2021-06-11 19:54:44 DEBUG   GTAnalysis.optimize(): Post-fit Results npred:     12.685 TS:      0.001\n",
      "2021-06-11 19:54:44 DEBUG   GTAnalysis.free_source(): Fixing parameters for 4FGL J0359.6+5057     : ['norm']\n",
      "2021-06-11 19:54:44 DEBUG   GTAnalysis.optimize(): Fitting 4FGL J0253.9+5103 npred:     34.123 TS:      0.016\n",
      "2021-06-11 19:54:44 DEBUG   GTAnalysis.free_source(): Freeing parameters for 4FGL J0253.9+5103     : ['Prefactor']\n",
      "2021-06-11 19:54:44 DEBUG   GTAnalysis.fit(): Starting fit.\n",
      "2021-06-11 19:54:45 DEBUG   GTAnalysis.fit(): Fit complete.\n",
      "2021-06-11 19:54:45 DEBUG   GTAnalysis.get_src_model(): Generating source dict for 4FGL J0253.9+5103\n",
      "2021-06-11 19:54:45 DEBUG   GTAnalysis.profile_norm(): Profiling 4FGL J0253.9+5103\n",
      "2021-06-11 19:54:45 DEBUG   GTAnalysis.profile_norm(): Finished\n",
      "2021-06-11 19:54:46 DEBUG   GTAnalysis.fit(): Fit returned successfully. Quality:   3 Status:   0\n",
      "2021-06-11 19:54:46 DEBUG   GTAnalysis.fit(): LogLike:   421992.679 DeltaLogLike:        0.000 \n",
      "2021-06-11 19:54:46 DEBUG   GTAnalysis.optimize(): Post-fit Results npred:     31.290 TS:      0.013\n",
      "2021-06-11 19:54:46 DEBUG   GTAnalysis.free_source(): Fixing parameters for 4FGL J0253.9+5103     : ['Prefactor']\n",
      "2021-06-11 19:54:46 DEBUG   GTAnalysis.optimize(): Fitting 4FGL J0223.5+3912 npred:     10.854 TS:      0.009\n",
      "2021-06-11 19:54:46 DEBUG   GTAnalysis.free_source(): Freeing parameters for 4FGL J0223.5+3912     : ['Prefactor']\n",
      "2021-06-11 19:54:46 DEBUG   GTAnalysis.fit(): Starting fit.\n",
      "2021-06-11 19:54:46 DEBUG   GTAnalysis.fit(): Fit complete.\n",
      "2021-06-11 19:54:46 DEBUG   GTAnalysis.get_src_model(): Generating source dict for 4FGL J0223.5+3912\n",
      "2021-06-11 19:54:46 DEBUG   GTAnalysis.profile_norm(): Profiling 4FGL J0223.5+3912\n",
      "2021-06-11 19:54:47 DEBUG   GTAnalysis.profile_norm(): Finished\n",
      "2021-06-11 19:54:47 DEBUG   GTAnalysis.fit(): Fit returned successfully. Quality:   3 Status:   0\n",
      "2021-06-11 19:54:47 DEBUG   GTAnalysis.fit(): LogLike:   421992.682 DeltaLogLike:        0.003 \n",
      "2021-06-11 19:54:47 DEBUG   GTAnalysis.optimize(): Post-fit Results npred:     15.090 TS:      0.021\n",
      "2021-06-11 19:54:47 DEBUG   GTAnalysis.free_source(): Fixing parameters for 4FGL J0223.5+3912     : ['Prefactor']\n",
      "2021-06-11 19:54:47 DEBUG   GTAnalysis.optimize(): Fitting 4FGL J0209.3+4449 npred:      7.800 TS:      0.004\n",
      "2021-06-11 19:54:47 DEBUG   GTAnalysis.free_source(): Freeing parameters for 4FGL J0209.3+4449     : ['Prefactor']\n",
      "2021-06-11 19:54:47 DEBUG   GTAnalysis.fit(): Starting fit.\n",
      "2021-06-11 19:54:47 DEBUG   GTAnalysis.fit(): Fit complete.\n",
      "2021-06-11 19:54:47 DEBUG   GTAnalysis.get_src_model(): Generating source dict for 4FGL J0209.3+4449\n",
      "2021-06-11 19:54:47 DEBUG   GTAnalysis.profile_norm(): Profiling 4FGL J0209.3+4449\n",
      "2021-06-11 19:54:48 DEBUG   GTAnalysis.profile_norm(): Finished\n",
      "2021-06-11 19:54:48 DEBUG   GTAnalysis.fit(): Fit returned successfully. Quality:   3 Status:   0\n"
     ]
    },
    {
     "name": "stderr",
     "output_type": "stream",
     "text": [
      "2021-06-11 19:54:48 DEBUG   GTAnalysis.fit(): LogLike:   421992.683 DeltaLogLike:        0.001 \n",
      "2021-06-11 19:54:48 DEBUG   GTAnalysis.optimize(): Post-fit Results npred:     20.825 TS:      0.005\n",
      "2021-06-11 19:54:48 DEBUG   GTAnalysis.free_source(): Fixing parameters for 4FGL J0209.3+4449     : ['Prefactor']\n",
      "2021-06-11 19:54:48 DEBUG   GTAnalysis.optimize(): Fitting 4FGL J0202.7+4204 npred:      4.473 TS:      0.007\n",
      "2021-06-11 19:54:48 DEBUG   GTAnalysis.free_source(): Freeing parameters for 4FGL J0202.7+4204     : ['Prefactor']\n",
      "2021-06-11 19:54:48 DEBUG   GTAnalysis.fit(): Starting fit.\n",
      "2021-06-11 19:54:48 DEBUG   GTAnalysis.fit(): Fit complete.\n",
      "2021-06-11 19:54:48 DEBUG   GTAnalysis.get_src_model(): Generating source dict for 4FGL J0202.7+4204\n",
      "2021-06-11 19:54:48 DEBUG   GTAnalysis.profile_norm(): Profiling 4FGL J0202.7+4204\n",
      "2021-06-11 19:54:49 DEBUG   GTAnalysis.profile_norm(): Finished\n",
      "2021-06-11 19:54:49 DEBUG   GTAnalysis.fit(): Fit returned successfully. Quality:   3 Status:   0\n",
      "2021-06-11 19:54:49 DEBUG   GTAnalysis.fit(): LogLike:   421992.683 DeltaLogLike:        0.000 \n",
      "2021-06-11 19:54:49 DEBUG   GTAnalysis.optimize(): Post-fit Results npred:      4.521 TS:      0.003\n",
      "2021-06-11 19:54:49 DEBUG   GTAnalysis.free_source(): Fixing parameters for 4FGL J0202.7+4204     : ['Prefactor']\n",
      "2021-06-11 19:54:49 DEBUG   GTAnalysis.optimize(): Skipping 4FGL J0231.0+3505 with npred      0.976\n",
      "2021-06-11 19:54:49 DEBUG   GTAnalysis.optimize(): Skipping 4FGL J0242.3+5216 with npred      0.850\n",
      "2021-06-11 19:54:49 DEBUG   GTAnalysis.optimize(): Skipping 4FGL J0358.1+2850 with npred      0.658\n",
      "2021-06-11 19:54:49 DEBUG   GTAnalysis.optimize(): Skipping 4FGL J0222.7+5016 with npred      0.640\n",
      "2021-06-11 19:54:49 DEBUG   GTAnalysis.optimize(): Skipping 4FGL J0410.9+4216 with npred      0.388\n",
      "2021-06-11 19:54:49 DEBUG   GTAnalysis.optimize(): Skipping 4FGL J0346.2+3235 with npred      0.135\n",
      "2021-06-11 19:54:49 DEBUG   GTAnalysis.optimize(): Skipping 4FGL J0314.1+5033 with npred      0.130\n",
      "2021-06-11 19:54:49 DEBUG   GTAnalysis.optimize(): Skipping 4FGL J0302.5+3354 with npred      0.086\n",
      "2021-06-11 19:54:49 DEBUG   GTAnalysis.optimize(): Skipping 4FGL J0245.0+4755 with npred      0.063\n",
      "2021-06-11 19:54:49 DEBUG   GTAnalysis.optimize(): Skipping 4FGL J0230.8+4032 with npred      0.062\n",
      "2021-06-11 19:54:49 DEBUG   GTAnalysis.optimize(): Skipping 4FGL J0218.9+3643 with npred      0.045\n",
      "2021-06-11 19:54:49 DEBUG   GTAnalysis.optimize(): Skipping 4FGL J0344.2+3203c with npred      0.044\n",
      "2021-06-11 19:54:49 DEBUG   GTAnalysis.optimize(): Skipping 4FGL J0402.5+5402 with npred      0.027\n",
      "2021-06-11 19:54:49 DEBUG   GTAnalysis.optimize(): Skipping 4FGL J0400.7+3920 with npred      0.025\n",
      "2021-06-11 19:54:49 DEBUG   GTAnalysis.optimize(): Skipping 4FGL J0248.6+4230 with npred      0.024\n",
      "2021-06-11 19:54:49 DEBUG   GTAnalysis.optimize(): Skipping 4FGL J0253.5+3216 with npred      0.022\n",
      "2021-06-11 19:54:49 DEBUG   GTAnalysis.optimize(): Skipping 4FGL J0336.4+3224 with npred      0.010\n",
      "2021-06-11 19:54:49 DEBUG   GTAnalysis.optimize(): Skipping 4FGL J0344.4+3432 with npred      0.009\n",
      "2021-06-11 19:54:49 DEBUG   GTAnalysis.optimize(): Skipping 4FGL J0248.6+5131 with npred      0.007\n",
      "2021-06-11 19:54:49 DEBUG   GTAnalysis.optimize(): Skipping 4FGL J0303.2+3149 with npred      0.006\n",
      "2021-06-11 19:54:49 DEBUG   GTAnalysis.optimize(): Skipping 4FGL J0314.1+2827 with npred      0.006\n",
      "2021-06-11 19:54:49 DEBUG   GTAnalysis.optimize(): Skipping 4FGL J0325.3+3332 with npred      0.005\n",
      "2021-06-11 19:54:49 DEBUG   GTAnalysis.optimize(): Skipping 4FGL J0357.8+3204 with npred      0.002\n",
      "2021-06-11 19:54:49 DEBUG   GTAnalysis.optimize(): Skipping 4FGL J0233.0+3740 with npred      0.002\n",
      "2021-06-11 19:54:49 DEBUG   GTAnalysis.optimize(): Skipping 4FGL J0420.2+4012 with npred      0.001\n",
      "2021-06-11 19:54:49 DEBUG   GTAnalysis.optimize(): Skipping 4FGL J0418.2+3807 with npred      0.001\n",
      "2021-06-11 19:54:49 DEBUG   GTAnalysis.optimize(): Skipping 4FGL J0427.9+3632c with npred      0.001\n",
      "2021-06-11 19:54:49 DEBUG   GTAnalysis.optimize(): Skipping 4FGL J0359.4+5414 with npred      0.001\n",
      "2021-06-11 19:54:49 DEBUG   GTAnalysis.optimize(): Skipping 4FGL J0423.9+4150 with npred      0.001\n",
      "2021-06-11 19:54:49 DEBUG   GTAnalysis.optimize(): Skipping 4FGL J0237.8+5238 with npred      0.000\n",
      "2021-06-11 19:54:49 DEBUG   GTAnalysis.optimize(): Skipping 4FGL J0405.9+3041 with npred      0.000\n",
      "2021-06-11 19:54:49 DEBUG   GTAnalysis.optimize(): Skipping 4FGL J0340.4+5302 with npred      0.000\n",
      "2021-06-11 19:54:49 DEBUG   GTAnalysis.optimize(): Skipping 4FGL J0220.2+3246 with npred      0.000\n",
      "2021-06-11 19:54:49 DEBUG   GTAnalysis.optimize(): Skipping 4FGL J0418.4+3414 with npred      0.000\n",
      "2021-06-11 19:54:49 DEBUG   GTAnalysis.optimize(): Skipping 4FGL J0259.3+5453 with npred      0.000\n",
      "2021-06-11 19:54:49 DEBUG   GTAnalysis.optimize(): Skipping 4FGL J0333.7+2916 with npred      0.000\n",
      "2021-06-11 19:54:49 DEBUG   GTAnalysis.optimize(): Skipping 4FGL J0341.9+3153c with npred      0.000\n",
      "2021-06-11 19:54:49 DEBUG   GTAnalysis.optimize(): Skipping 4FGL J0414.3+4522 with npred      0.000\n",
      "2021-06-11 19:54:49 DEBUG   GTAnalysis.optimize(): Skipping 4FGL J0409.4+3201 with npred      0.000\n",
      "2021-06-11 19:54:49 DEBUG   GTAnalysis.optimize(): Fitting shape galdiff TS: 193165.884\n",
      "2021-06-11 19:54:49 DEBUG   GTAnalysis.free_source(): Freeing parameters for galdiff               : ['Prefactor', 'Index']\n",
      "2021-06-11 19:54:49 DEBUG   GTAnalysis.fit(): Starting fit.\n"
     ]
    },
    {
     "name": "stdout",
     "output_type": "stream",
     "text": [
      "Fitting shape galdiff TS: 193165.884\n"
     ]
    },
    {
     "name": "stderr",
     "output_type": "stream",
     "text": [
      "2021-06-11 19:54:50 DEBUG   GTAnalysis.fit(): Fit complete.\n",
      "2021-06-11 19:54:50 DEBUG   GTAnalysis.get_src_model(): Generating source dict for galdiff\n",
      "2021-06-11 19:54:50 DEBUG   GTAnalysis.profile_norm(): Profiling galdiff\n",
      "2021-06-11 19:54:50 DEBUG   GTAnalysis.free_source(): Fixing parameters for galdiff               : ['Index']\n",
      "2021-06-11 19:54:50 DEBUG   GTAnalysis.profile_norm(): Finished\n",
      "2021-06-11 19:54:50 DEBUG   GTAnalysis.fit(): Fit returned successfully. Quality:   3 Status:   0\n",
      "2021-06-11 19:54:50 DEBUG   GTAnalysis.fit(): LogLike:   421992.726 DeltaLogLike:        0.043 \n",
      "2021-06-11 19:54:50 DEBUG   GTAnalysis.free_source(): Fixing parameters for galdiff               : ['Prefactor', 'Index']\n",
      "2021-06-11 19:54:50 DEBUG   GTAnalysis.optimize(): Fitting shape 4FGL J0319.8+4130 TS: 131528.645\n",
      "2021-06-11 19:54:50 DEBUG   GTAnalysis.free_source(): Freeing parameters for 4FGL J0319.8+4130     : ['Normalization']\n",
      "2021-06-11 19:54:50 DEBUG   GTAnalysis.fit(): Starting fit.\n"
     ]
    },
    {
     "name": "stdout",
     "output_type": "stream",
     "text": [
      "Fitting shape 4FGL J0319.8+4130 TS: 131528.645\n"
     ]
    },
    {
     "name": "stderr",
     "output_type": "stream",
     "text": [
      "2021-06-11 19:54:51 DEBUG   GTAnalysis.fit(): Fit complete.\n",
      "2021-06-11 19:54:51 DEBUG   GTAnalysis.get_src_model(): Generating source dict for 4FGL J0319.8+4130\n",
      "2021-06-11 19:54:51 DEBUG   GTAnalysis.profile_norm(): Profiling 4FGL J0319.8+4130\n",
      "2021-06-11 19:54:51 DEBUG   GTAnalysis.profile_norm(): Finished\n",
      "2021-06-11 19:54:51 DEBUG   GTAnalysis.fit(): Fit returned successfully. Quality:   3 Status:   0\n",
      "2021-06-11 19:54:51 DEBUG   GTAnalysis.fit(): LogLike:   421992.729 DeltaLogLike:        0.003 \n",
      "2021-06-11 19:54:51 DEBUG   GTAnalysis.free_source(): Fixing parameters for 4FGL J0319.8+4130     : ['Normalization']\n",
      "2021-06-11 19:54:51 DEBUG   GTAnalysis.optimize(): Fitting shape 4FGL J0340.3+4130 TS:   2964.180\n",
      "2021-06-11 19:54:51 DEBUG   GTAnalysis.free_source(): Freeing parameters for 4FGL J0340.3+4130     : ['Prefactor', 'Index1', 'Expfactor']\n",
      "2021-06-11 19:54:51 DEBUG   GTAnalysis.fit(): Starting fit.\n"
     ]
    },
    {
     "name": "stdout",
     "output_type": "stream",
     "text": [
      "Fitting shape 4FGL J0340.3+4130 TS:   2964.180\n"
     ]
    },
    {
     "name": "stderr",
     "output_type": "stream",
     "text": [
      "2021-06-11 19:54:52 DEBUG   GTAnalysis.fit(): Fit complete.\n",
      "2021-06-11 19:54:52 DEBUG   GTAnalysis.get_src_model(): Generating source dict for 4FGL J0340.3+4130\n",
      "2021-06-11 19:54:52 DEBUG   GTAnalysis.profile_norm(): Profiling 4FGL J0340.3+4130\n",
      "2021-06-11 19:54:52 DEBUG   GTAnalysis.free_source(): Fixing parameters for 4FGL J0340.3+4130     : ['Index1', 'Expfactor']\n",
      "2021-06-11 19:54:53 DEBUG   GTAnalysis.profile_norm(): Finished\n",
      "2021-06-11 19:54:53 DEBUG   GTAnalysis.fit(): Fit returned successfully. Quality:   3 Status:   0\n",
      "2021-06-11 19:54:53 DEBUG   GTAnalysis.fit(): LogLike:   421993.995 DeltaLogLike:        1.266 \n",
      "2021-06-11 19:54:53 DEBUG   GTAnalysis.free_source(): Fixing parameters for 4FGL J0340.3+4130     : ['Prefactor', 'Index1', 'Expfactor']\n",
      "2021-06-11 19:54:53 DEBUG   GTAnalysis.optimize(): Fitting shape isodiff TS:   2468.158\n",
      "2021-06-11 19:54:53 DEBUG   GTAnalysis.free_source(): Freeing parameters for isodiff               : ['Normalization']\n",
      "2021-06-11 19:54:53 DEBUG   GTAnalysis.fit(): Starting fit.\n"
     ]
    },
    {
     "name": "stdout",
     "output_type": "stream",
     "text": [
      "Fitting shape isodiff TS:   2468.158\n"
     ]
    },
    {
     "name": "stderr",
     "output_type": "stream",
     "text": [
      "2021-06-11 19:54:53 DEBUG   GTAnalysis.fit(): Fit complete.\n",
      "2021-06-11 19:54:53 DEBUG   GTAnalysis.get_src_model(): Generating source dict for isodiff\n",
      "2021-06-11 19:54:53 DEBUG   GTAnalysis.profile_norm(): Profiling isodiff\n",
      "2021-06-11 19:54:54 DEBUG   GTAnalysis.profile_norm(): Finished\n",
      "2021-06-11 19:54:54 DEBUG   GTAnalysis.fit(): Fit returned successfully. Quality:   3 Status:   0\n",
      "2021-06-11 19:54:54 DEBUG   GTAnalysis.fit(): LogLike:   421994.015 DeltaLogLike:        0.020 \n",
      "2021-06-11 19:54:54 DEBUG   GTAnalysis.free_source(): Fixing parameters for isodiff               : ['Normalization']\n",
      "2021-06-11 19:54:54 DEBUG   GTAnalysis.optimize(): Fitting shape 4FGL J0310.9+3815 TS:    125.972\n",
      "2021-06-11 19:54:54 DEBUG   GTAnalysis.free_source(): Freeing parameters for 4FGL J0310.9+3815     : ['Prefactor', 'Index']\n",
      "2021-06-11 19:54:54 DEBUG   GTAnalysis.fit(): Starting fit.\n"
     ]
    },
    {
     "name": "stdout",
     "output_type": "stream",
     "text": [
      "Fitting shape 4FGL J0310.9+3815 TS:    125.972\n"
     ]
    },
    {
     "name": "stderr",
     "output_type": "stream",
     "text": [
      "2021-06-11 19:54:55 DEBUG   GTAnalysis.fit(): Fit complete.\n",
      "2021-06-11 19:54:55 DEBUG   GTAnalysis.get_src_model(): Generating source dict for 4FGL J0310.9+3815\n",
      "2021-06-11 19:54:55 DEBUG   GTAnalysis.profile_norm(): Profiling 4FGL J0310.9+3815\n",
      "2021-06-11 19:54:55 DEBUG   GTAnalysis.free_source(): Fixing parameters for 4FGL J0310.9+3815     : ['Index']\n",
      "2021-06-11 19:54:55 DEBUG   GTAnalysis.profile_norm(): Finished\n",
      "2021-06-11 19:54:55 DEBUG   GTAnalysis.fit(): Fit returned successfully. Quality:   3 Status:   0\n",
      "2021-06-11 19:54:55 DEBUG   GTAnalysis.fit(): LogLike:   421994.036 DeltaLogLike:        0.021 \n",
      "2021-06-11 19:54:55 DEBUG   GTAnalysis.free_source(): Fixing parameters for 4FGL J0310.9+3815     : ['Prefactor', 'Index']\n",
      "2021-06-11 19:54:55 DEBUG   GTAnalysis.optimize(): Fitting shape 4FGL J0343.4+3621 TS:     96.301\n",
      "2021-06-11 19:54:55 DEBUG   GTAnalysis.free_source(): Freeing parameters for 4FGL J0343.4+3621     : ['Prefactor', 'Index']\n",
      "2021-06-11 19:54:55 DEBUG   GTAnalysis.fit(): Starting fit.\n"
     ]
    },
    {
     "name": "stdout",
     "output_type": "stream",
     "text": [
      "Fitting shape 4FGL J0343.4+3621 TS:     96.301\n"
     ]
    },
    {
     "name": "stderr",
     "output_type": "stream",
     "text": [
      "2021-06-11 19:54:56 DEBUG   GTAnalysis.fit(): Fit complete.\n",
      "2021-06-11 19:54:56 DEBUG   GTAnalysis.get_src_model(): Generating source dict for 4FGL J0343.4+3621\n",
      "2021-06-11 19:54:56 DEBUG   GTAnalysis.profile_norm(): Profiling 4FGL J0343.4+3621\n",
      "2021-06-11 19:54:56 DEBUG   GTAnalysis.free_source(): Fixing parameters for 4FGL J0343.4+3621     : ['Index']\n",
      "2021-06-11 19:54:56 DEBUG   GTAnalysis.profile_norm(): Finished\n",
      "2021-06-11 19:54:57 DEBUG   GTAnalysis.fit(): Fit returned successfully. Quality:   3 Status:   0\n",
      "2021-06-11 19:54:57 DEBUG   GTAnalysis.fit(): LogLike:   421994.359 DeltaLogLike:        0.323 \n",
      "2021-06-11 19:54:57 DEBUG   GTAnalysis.free_source(): Fixing parameters for 4FGL J0343.4+3621     : ['Prefactor', 'Index']\n",
      "2021-06-11 19:54:57 DEBUG   GTAnalysis.optimize(): Fitting shape 4FGL J0330.6+4659 TS:     91.452\n",
      "2021-06-11 19:54:57 DEBUG   GTAnalysis.free_source(): Freeing parameters for 4FGL J0330.6+4659     : ['Prefactor', 'Index']\n",
      "2021-06-11 19:54:57 DEBUG   GTAnalysis.fit(): Starting fit.\n"
     ]
    },
    {
     "name": "stdout",
     "output_type": "stream",
     "text": [
      "Fitting shape 4FGL J0330.6+4659 TS:     91.452\n"
     ]
    },
    {
     "name": "stderr",
     "output_type": "stream",
     "text": [
      "2021-06-11 19:54:57 DEBUG   GTAnalysis.fit(): Fit complete.\n",
      "2021-06-11 19:54:57 DEBUG   GTAnalysis.get_src_model(): Generating source dict for 4FGL J0330.6+4659\n",
      "2021-06-11 19:54:57 DEBUG   GTAnalysis.profile_norm(): Profiling 4FGL J0330.6+4659\n",
      "2021-06-11 19:54:57 DEBUG   GTAnalysis.free_source(): Fixing parameters for 4FGL J0330.6+4659     : ['Index']\n",
      "2021-06-11 19:54:58 DEBUG   GTAnalysis.profile_norm(): Finished\n",
      "2021-06-11 19:54:58 DEBUG   GTAnalysis.fit(): Fit returned successfully. Quality:   3 Status:   0\n",
      "2021-06-11 19:54:58 DEBUG   GTAnalysis.fit(): LogLike:   421994.463 DeltaLogLike:        0.104 \n",
      "2021-06-11 19:54:58 DEBUG   GTAnalysis.free_source(): Fixing parameters for 4FGL J0330.6+4659     : ['Prefactor', 'Index']\n",
      "2021-06-11 19:54:58 DEBUG   GTAnalysis.optimize(): Fitting shape 4FGL J0334.3+3920 TS:     87.086\n",
      "2021-06-11 19:54:58 DEBUG   GTAnalysis.free_source(): Freeing parameters for 4FGL J0334.3+3920     : ['Prefactor', 'Index']\n",
      "2021-06-11 19:54:58 DEBUG   GTAnalysis.fit(): Starting fit.\n"
     ]
    },
    {
     "name": "stdout",
     "output_type": "stream",
     "text": [
      "Fitting shape 4FGL J0334.3+3920 TS:     87.086\n"
     ]
    },
    {
     "name": "stderr",
     "output_type": "stream",
     "text": [
      "2021-06-11 19:54:58 DEBUG   GTAnalysis.fit(): Fit complete.\n",
      "2021-06-11 19:54:59 DEBUG   GTAnalysis.get_src_model(): Generating source dict for 4FGL J0334.3+3920\n",
      "2021-06-11 19:54:59 DEBUG   GTAnalysis.profile_norm(): Profiling 4FGL J0334.3+3920\n",
      "2021-06-11 19:54:59 DEBUG   GTAnalysis.free_source(): Fixing parameters for 4FGL J0334.3+3920     : ['Index']\n",
      "2021-06-11 19:54:59 DEBUG   GTAnalysis.profile_norm(): Finished\n",
      "2021-06-11 19:54:59 DEBUG   GTAnalysis.fit(): Fit returned successfully. Quality:   3 Status:   0\n",
      "2021-06-11 19:54:59 DEBUG   GTAnalysis.fit(): LogLike:   421994.475 DeltaLogLike:        0.012 \n",
      "2021-06-11 19:54:59 DEBUG   GTAnalysis.free_source(): Fixing parameters for 4FGL J0334.3+3920     : ['Prefactor', 'Index']\n",
      "2021-06-11 19:54:59 DEBUG   GTAnalysis.optimize(): Fitting shape 4FGL J0348.8+4610 TS:     80.256\n",
      "2021-06-11 19:54:59 DEBUG   GTAnalysis.free_source(): Freeing parameters for 4FGL J0348.8+4610     : ['norm', 'alpha', 'beta']\n",
      "2021-06-11 19:54:59 DEBUG   GTAnalysis.fit(): Starting fit.\n"
     ]
    },
    {
     "name": "stdout",
     "output_type": "stream",
     "text": [
      "Fitting shape 4FGL J0348.8+4610 TS:     80.256\n"
     ]
    },
    {
     "name": "stderr",
     "output_type": "stream",
     "text": [
      "2021-06-11 19:55:00 DEBUG   GTAnalysis.fit(): Fit complete.\n",
      "2021-06-11 19:55:00 DEBUG   GTAnalysis.get_src_model(): Generating source dict for 4FGL J0348.8+4610\n",
      "2021-06-11 19:55:00 DEBUG   GTAnalysis.profile_norm(): Profiling 4FGL J0348.8+4610\n",
      "2021-06-11 19:55:00 DEBUG   GTAnalysis.free_source(): Fixing parameters for 4FGL J0348.8+4610     : ['alpha', 'beta']\n",
      "2021-06-11 19:55:01 DEBUG   GTAnalysis.profile_norm(): Finished\n",
      "2021-06-11 19:55:01 DEBUG   GTAnalysis.fit(): Fit returned successfully. Quality:   3 Status:   0\n",
      "2021-06-11 19:55:01 DEBUG   GTAnalysis.fit(): LogLike:   421994.528 DeltaLogLike:        0.054 \n",
      "2021-06-11 19:55:01 DEBUG   GTAnalysis.free_source(): Fixing parameters for 4FGL J0348.8+4610     : ['norm', 'alpha', 'beta']\n",
      "2021-06-11 19:55:01 DEBUG   GTAnalysis.optimize(): Fitting shape 4FGL J0312.9+4119 TS:     77.624\n",
      "2021-06-11 19:55:01 DEBUG   GTAnalysis.free_source(): Freeing parameters for 4FGL J0312.9+4119     : ['Prefactor', 'Index']\n",
      "2021-06-11 19:55:01 DEBUG   GTAnalysis.fit(): Starting fit.\n"
     ]
    },
    {
     "name": "stdout",
     "output_type": "stream",
     "text": [
      "Fitting shape 4FGL J0312.9+4119 TS:     77.624\n"
     ]
    },
    {
     "name": "stderr",
     "output_type": "stream",
     "text": [
      "2021-06-11 19:55:01 DEBUG   GTAnalysis.fit(): Fit complete.\n",
      "2021-06-11 19:55:01 DEBUG   GTAnalysis.get_src_model(): Generating source dict for 4FGL J0312.9+4119\n",
      "2021-06-11 19:55:01 DEBUG   GTAnalysis.profile_norm(): Profiling 4FGL J0312.9+4119\n",
      "2021-06-11 19:55:01 DEBUG   GTAnalysis.free_source(): Fixing parameters for 4FGL J0312.9+4119     : ['Index']\n",
      "2021-06-11 19:55:02 DEBUG   GTAnalysis.profile_norm(): Finished\n",
      "2021-06-11 19:55:02 DEBUG   GTAnalysis.fit(): Fit returned successfully. Quality:   3 Status:   0\n",
      "2021-06-11 19:55:02 DEBUG   GTAnalysis.fit(): LogLike:   421995.211 DeltaLogLike:        0.682 \n",
      "2021-06-11 19:55:02 DEBUG   GTAnalysis.free_source(): Fixing parameters for 4FGL J0312.9+4119     : ['Prefactor', 'Index']\n",
      "2021-06-11 19:55:02 DEBUG   GTAnalysis.optimize(): Fitting shape 4FGL J0342.2+3858 TS:     70.146\n",
      "2021-06-11 19:55:02 DEBUG   GTAnalysis.free_source(): Freeing parameters for 4FGL J0342.2+3858     : ['Prefactor', 'Index']\n",
      "2021-06-11 19:55:02 DEBUG   GTAnalysis.fit(): Starting fit.\n"
     ]
    },
    {
     "name": "stdout",
     "output_type": "stream",
     "text": [
      "Fitting shape 4FGL J0342.2+3858 TS:     70.146\n"
     ]
    },
    {
     "name": "stderr",
     "output_type": "stream",
     "text": [
      "2021-06-11 19:55:03 DEBUG   GTAnalysis.fit(): Fit complete.\n",
      "2021-06-11 19:55:03 DEBUG   GTAnalysis.get_src_model(): Generating source dict for 4FGL J0342.2+3858\n",
      "2021-06-11 19:55:03 DEBUG   GTAnalysis.profile_norm(): Profiling 4FGL J0342.2+3858\n",
      "2021-06-11 19:55:03 DEBUG   GTAnalysis.free_source(): Fixing parameters for 4FGL J0342.2+3858     : ['Index']\n",
      "2021-06-11 19:55:03 DEBUG   GTAnalysis.profile_norm(): Finished\n",
      "2021-06-11 19:55:03 DEBUG   GTAnalysis.fit(): Fit returned successfully. Quality:   3 Status:   0\n",
      "2021-06-11 19:55:03 DEBUG   GTAnalysis.fit(): LogLike:   421995.435 DeltaLogLike:        0.224 \n",
      "2021-06-11 19:55:03 DEBUG   GTAnalysis.free_source(): Fixing parameters for 4FGL J0342.2+3858     : ['Prefactor', 'Index']\n",
      "2021-06-11 19:55:03 DEBUG   GTAnalysis.optimize(): Fitting shape 4FGL J0333.8+4007 TS:     66.566\n",
      "2021-06-11 19:55:03 DEBUG   GTAnalysis.free_source(): Freeing parameters for 4FGL J0333.8+4007     : ['Prefactor', 'Index']\n",
      "2021-06-11 19:55:03 DEBUG   GTAnalysis.fit(): Starting fit.\n"
     ]
    },
    {
     "name": "stdout",
     "output_type": "stream",
     "text": [
      "Fitting shape 4FGL J0333.8+4007 TS:     66.566\n"
     ]
    },
    {
     "name": "stderr",
     "output_type": "stream",
     "text": [
      "2021-06-11 19:55:04 DEBUG   GTAnalysis.fit(): Fit complete.\n",
      "2021-06-11 19:55:04 DEBUG   GTAnalysis.get_src_model(): Generating source dict for 4FGL J0333.8+4007\n",
      "2021-06-11 19:55:04 DEBUG   GTAnalysis.profile_norm(): Profiling 4FGL J0333.8+4007\n",
      "2021-06-11 19:55:04 DEBUG   GTAnalysis.free_source(): Fixing parameters for 4FGL J0333.8+4007     : ['Index']\n",
      "2021-06-11 19:55:05 DEBUG   GTAnalysis.profile_norm(): Finished\n",
      "2021-06-11 19:55:05 DEBUG   GTAnalysis.fit(): Fit returned successfully. Quality:   3 Status:   0\n",
      "2021-06-11 19:55:05 DEBUG   GTAnalysis.fit(): LogLike:   421995.608 DeltaLogLike:        0.173 \n",
      "2021-06-11 19:55:05 DEBUG   GTAnalysis.free_source(): Fixing parameters for 4FGL J0333.8+4007     : ['Prefactor', 'Index']\n",
      "2021-06-11 19:55:05 DEBUG   GTAnalysis.optimize(): Fitting shape 4FGL J0303.6+4716 TS:     51.972\n",
      "2021-06-11 19:55:05 DEBUG   GTAnalysis.free_source(): Freeing parameters for 4FGL J0303.6+4716     : ['norm', 'alpha', 'beta']\n",
      "2021-06-11 19:55:05 DEBUG   GTAnalysis.fit(): Starting fit.\n"
     ]
    },
    {
     "name": "stdout",
     "output_type": "stream",
     "text": [
      "Fitting shape 4FGL J0303.6+4716 TS:     51.972\n"
     ]
    },
    {
     "name": "stderr",
     "output_type": "stream",
     "text": [
      "2021-06-11 19:55:06 DEBUG   GTAnalysis.fit(): Fit complete.\n",
      "2021-06-11 19:55:06 DEBUG   GTAnalysis.get_src_model(): Generating source dict for 4FGL J0303.6+4716\n",
      "2021-06-11 19:55:06 DEBUG   GTAnalysis.profile_norm(): Profiling 4FGL J0303.6+4716\n",
      "2021-06-11 19:55:06 DEBUG   GTAnalysis.free_source(): Fixing parameters for 4FGL J0303.6+4716     : ['alpha', 'beta']\n",
      "2021-06-11 19:55:06 DEBUG   GTAnalysis.profile_norm(): Finished\n",
      "2021-06-11 19:55:06 DEBUG   GTAnalysis.fit(): Fit returned successfully. Quality:   3 Status:   0\n",
      "2021-06-11 19:55:06 DEBUG   GTAnalysis.fit(): LogLike:   421995.946 DeltaLogLike:        0.337 \n",
      "2021-06-11 19:55:06 DEBUG   GTAnalysis.free_source(): Fixing parameters for 4FGL J0303.6+4716     : ['norm', 'alpha', 'beta']\n",
      "2021-06-11 19:55:06 DEBUG   GTAnalysis.optimize(): Fitting shape 4FGL J0324.8+3412 TS:     45.036\n",
      "2021-06-11 19:55:06 DEBUG   GTAnalysis.free_source(): Freeing parameters for 4FGL J0324.8+3412     : ['norm', 'alpha', 'beta']\n",
      "2021-06-11 19:55:06 DEBUG   GTAnalysis.fit(): Starting fit.\n"
     ]
    },
    {
     "name": "stdout",
     "output_type": "stream",
     "text": [
      "Fitting shape 4FGL J0324.8+3412 TS:     45.036\n"
     ]
    },
    {
     "name": "stderr",
     "output_type": "stream",
     "text": [
      "2021-06-11 19:55:08 DEBUG   GTAnalysis.fit(): Fit complete.\n",
      "2021-06-11 19:55:08 DEBUG   GTAnalysis.get_src_model(): Generating source dict for 4FGL J0324.8+3412\n",
      "2021-06-11 19:55:08 DEBUG   GTAnalysis.profile_norm(): Profiling 4FGL J0324.8+3412\n",
      "2021-06-11 19:55:08 DEBUG   GTAnalysis.free_source(): Fixing parameters for 4FGL J0324.8+3412     : ['alpha', 'beta']\n",
      "2021-06-11 19:55:09 DEBUG   GTAnalysis.profile_norm(): Finished\n",
      "2021-06-11 19:55:09 DEBUG   GTAnalysis.fit(): Fit returned successfully. Quality:   2 Status: 102\n",
      "2021-06-11 19:55:09 DEBUG   GTAnalysis.fit(): LogLike:   421996.901 DeltaLogLike:        0.955 \n",
      "2021-06-11 19:55:09 DEBUG   GTAnalysis.free_source(): Fixing parameters for 4FGL J0324.8+3412     : ['norm', 'alpha', 'beta']\n",
      "2021-06-11 19:55:09 DEBUG   GTAnalysis.optimize(): Fitting shape 4FGL J0316.8+4120 TS:     38.188\n",
      "2021-06-11 19:55:09 DEBUG   GTAnalysis.free_source(): Freeing parameters for 4FGL J0316.8+4120     : ['Prefactor', 'Index']\n",
      "2021-06-11 19:55:09 DEBUG   GTAnalysis.fit(): Starting fit.\n"
     ]
    },
    {
     "name": "stdout",
     "output_type": "stream",
     "text": [
      "Fitting shape 4FGL J0316.8+4120 TS:     38.188\n"
     ]
    },
    {
     "name": "stderr",
     "output_type": "stream",
     "text": [
      "2021-06-11 19:55:10 DEBUG   GTAnalysis.fit(): Fit complete.\n",
      "2021-06-11 19:55:10 DEBUG   GTAnalysis.get_src_model(): Generating source dict for 4FGL J0316.8+4120\n",
      "2021-06-11 19:55:10 DEBUG   GTAnalysis.profile_norm(): Profiling 4FGL J0316.8+4120\n",
      "2021-06-11 19:55:10 DEBUG   GTAnalysis.free_source(): Fixing parameters for 4FGL J0316.8+4120     : ['Index']\n",
      "2021-06-11 19:55:10 DEBUG   GTAnalysis.profile_norm(): Finished\n",
      "2021-06-11 19:55:10 DEBUG   GTAnalysis.fit(): Fit returned successfully. Quality:   3 Status:   0\n",
      "2021-06-11 19:55:10 DEBUG   GTAnalysis.fit(): LogLike:   421997.119 DeltaLogLike:        0.218 \n",
      "2021-06-11 19:55:10 DEBUG   GTAnalysis.free_source(): Fixing parameters for 4FGL J0316.8+4120     : ['Prefactor', 'Index']\n",
      "2021-06-11 19:55:10 DEBUG   GTAnalysis.optimize(): Fitting shape 4FGL J0252.9+3834 TS:     26.265\n",
      "2021-06-11 19:55:10 DEBUG   GTAnalysis.free_source(): Freeing parameters for 4FGL J0252.9+3834     : ['Prefactor', 'Index']\n",
      "2021-06-11 19:55:10 DEBUG   GTAnalysis.fit(): Starting fit.\n"
     ]
    },
    {
     "name": "stdout",
     "output_type": "stream",
     "text": [
      "Fitting shape 4FGL J0252.9+3834 TS:     26.265\n"
     ]
    },
    {
     "name": "stderr",
     "output_type": "stream",
     "text": [
      "2021-06-11 19:55:11 DEBUG   GTAnalysis.fit(): Fit complete.\n",
      "2021-06-11 19:55:11 DEBUG   GTAnalysis.get_src_model(): Generating source dict for 4FGL J0252.9+3834\n",
      "2021-06-11 19:55:11 DEBUG   GTAnalysis.profile_norm(): Profiling 4FGL J0252.9+3834\n",
      "2021-06-11 19:55:11 DEBUG   GTAnalysis.free_source(): Fixing parameters for 4FGL J0252.9+3834     : ['Index']\n",
      "2021-06-11 19:55:11 DEBUG   GTAnalysis.profile_norm(): Finished\n",
      "2021-06-11 19:55:12 DEBUG   GTAnalysis.fit(): Fit returned successfully. Quality:   3 Status:   0\n",
      "2021-06-11 19:55:12 DEBUG   GTAnalysis.fit(): LogLike:   421997.427 DeltaLogLike:        0.308 \n",
      "2021-06-11 19:55:12 DEBUG   GTAnalysis.free_source(): Fixing parameters for 4FGL J0252.9+3834     : ['Prefactor', 'Index']\n",
      "2021-06-11 19:55:12 INFO    GTAnalysis.optimize(): Finished\n",
      "2021-06-11 19:55:12 INFO    GTAnalysis.optimize(): LogLike: 421997.426779 Delta-LogLike: 14.350081\n",
      "2021-06-11 19:55:12 INFO    GTAnalysis.optimize(): Execution time: 67.29 s\n",
      "2021-06-11 19:55:12 INFO    GTAnalysis.optimize(): Starting\n",
      "2021-06-11 19:55:12 DEBUG   GTAnalysis.optimize(): LogLike: 421997.426779\n",
      "2021-06-11 19:55:12 DEBUG   GTAnalysis.free_source(): Fixing parameters for 4FGL J0319.8+4130     : ['Normalization']\n",
      "2021-06-11 19:55:12 DEBUG   GTAnalysis.free_source(): Freeing parameters for galdiff               : ['Prefactor']\n",
      "2021-06-11 19:55:12 DEBUG   GTAnalysis.free_source(): Freeing parameters for 4FGL J0319.8+4130     : ['Normalization']\n",
      "2021-06-11 19:55:12 DEBUG   GTAnalysis.free_source(): Freeing parameters for isodiff               : ['Normalization']\n",
      "2021-06-11 19:55:12 DEBUG   GTAnalysis.fit(): Starting fit.\n"
     ]
    },
    {
     "name": "stdout",
     "output_type": "stream",
     "text": [
      "Joint fit  ['galdiff', '4FGL J0319.8+4130', 'isodiff']\n"
     ]
    },
    {
     "name": "stderr",
     "output_type": "stream",
     "text": [
      "2021-06-11 19:55:13 DEBUG   GTAnalysis.fit(): Fit complete.\n",
      "2021-06-11 19:55:13 DEBUG   GTAnalysis.get_src_model(): Generating source dict for 4FGL J0319.8+4130\n",
      "2021-06-11 19:55:13 DEBUG   GTAnalysis.profile_norm(): Profiling 4FGL J0319.8+4130\n",
      "2021-06-11 19:55:13 DEBUG   GTAnalysis.profile_norm(): Finished\n",
      "2021-06-11 19:55:13 DEBUG   GTAnalysis.get_src_model(): Generating source dict for galdiff\n",
      "2021-06-11 19:55:13 DEBUG   GTAnalysis.profile_norm(): Profiling galdiff\n",
      "2021-06-11 19:55:14 DEBUG   GTAnalysis.profile_norm(): Finished\n",
      "2021-06-11 19:55:14 DEBUG   GTAnalysis.get_src_model(): Generating source dict for isodiff\n",
      "2021-06-11 19:55:14 DEBUG   GTAnalysis.profile_norm(): Profiling isodiff\n",
      "2021-06-11 19:55:14 DEBUG   GTAnalysis.profile_norm(): Finished\n",
      "2021-06-11 19:55:15 DEBUG   GTAnalysis.fit(): Fit returned successfully. Quality:   3 Status:   0\n",
      "2021-06-11 19:55:15 DEBUG   GTAnalysis.fit(): LogLike:   421997.727 DeltaLogLike:        0.300 \n",
      "2021-06-11 19:55:15 DEBUG   GTAnalysis.free_source(): Fixing parameters for 4FGL J0319.8+4130     : ['Normalization']\n",
      "2021-06-11 19:55:15 DEBUG   GTAnalysis.free_source(): Fixing parameters for isodiff               : ['Normalization']\n",
      "2021-06-11 19:55:15 DEBUG   GTAnalysis.free_source(): Fixing parameters for galdiff               : ['Prefactor']\n",
      "2021-06-11 19:55:15 DEBUG   GTAnalysis.optimize(): Fitting 4FGL J0340.3+4130 npred:   4010.980 TS:   2960.187\n",
      "2021-06-11 19:55:15 DEBUG   GTAnalysis.free_source(): Freeing parameters for 4FGL J0340.3+4130     : ['Prefactor']\n",
      "2021-06-11 19:55:15 DEBUG   GTAnalysis.fit(): Starting fit.\n",
      "2021-06-11 19:55:15 DEBUG   GTAnalysis.fit(): Fit complete.\n",
      "2021-06-11 19:55:15 DEBUG   GTAnalysis.get_src_model(): Generating source dict for 4FGL J0340.3+4130\n",
      "2021-06-11 19:55:15 DEBUG   GTAnalysis.profile_norm(): Profiling 4FGL J0340.3+4130\n",
      "2021-06-11 19:55:16 DEBUG   GTAnalysis.profile_norm(): Finished\n",
      "2021-06-11 19:55:16 DEBUG   GTAnalysis.fit(): Fit returned successfully. Quality:   3 Status:   0\n",
      "2021-06-11 19:55:16 DEBUG   GTAnalysis.fit(): LogLike:   421997.732 DeltaLogLike:        0.005 \n",
      "2021-06-11 19:55:16 DEBUG   GTAnalysis.optimize(): Post-fit Results npred:   4022.663 TS:   2970.088\n",
      "2021-06-11 19:55:16 DEBUG   GTAnalysis.free_source(): Fixing parameters for 4FGL J0340.3+4130     : ['Prefactor']\n",
      "2021-06-11 19:55:16 DEBUG   GTAnalysis.optimize(): Fitting 4FGL J0330.6+4659 npred:   2647.189 TS:     96.851\n",
      "2021-06-11 19:55:16 DEBUG   GTAnalysis.free_source(): Freeing parameters for 4FGL J0330.6+4659     : ['Prefactor']\n",
      "2021-06-11 19:55:16 DEBUG   GTAnalysis.fit(): Starting fit.\n",
      "2021-06-11 19:55:16 DEBUG   GTAnalysis.fit(): Fit complete.\n",
      "2021-06-11 19:55:16 DEBUG   GTAnalysis.get_src_model(): Generating source dict for 4FGL J0330.6+4659\n",
      "2021-06-11 19:55:16 DEBUG   GTAnalysis.profile_norm(): Profiling 4FGL J0330.6+4659\n",
      "2021-06-11 19:55:17 DEBUG   GTAnalysis.profile_norm(): Finished\n",
      "2021-06-11 19:55:17 DEBUG   GTAnalysis.fit(): Fit returned successfully. Quality:   3 Status:   0\n",
      "2021-06-11 19:55:17 DEBUG   GTAnalysis.fit(): LogLike:   421997.737 DeltaLogLike:        0.006 \n",
      "2021-06-11 19:55:17 DEBUG   GTAnalysis.optimize(): Post-fit Results npred:   2676.913 TS:     99.090\n",
      "2021-06-11 19:55:17 DEBUG   GTAnalysis.free_source(): Fixing parameters for 4FGL J0330.6+4659     : ['Prefactor']\n",
      "2021-06-11 19:55:17 DEBUG   GTAnalysis.optimize(): Fitting 4FGL J0312.9+4119 npred:   2094.001 TS:     82.853\n",
      "2021-06-11 19:55:17 DEBUG   GTAnalysis.free_source(): Freeing parameters for 4FGL J0312.9+4119     : ['Prefactor']\n",
      "2021-06-11 19:55:17 DEBUG   GTAnalysis.fit(): Starting fit.\n",
      "2021-06-11 19:55:17 DEBUG   GTAnalysis.fit(): Fit complete.\n",
      "2021-06-11 19:55:17 DEBUG   GTAnalysis.get_src_model(): Generating source dict for 4FGL J0312.9+4119\n",
      "2021-06-11 19:55:17 DEBUG   GTAnalysis.profile_norm(): Profiling 4FGL J0312.9+4119\n",
      "2021-06-11 19:55:18 DEBUG   GTAnalysis.profile_norm(): Finished\n",
      "2021-06-11 19:55:18 DEBUG   GTAnalysis.fit(): Fit returned successfully. Quality:   3 Status:   0\n",
      "2021-06-11 19:55:18 DEBUG   GTAnalysis.fit(): LogLike:   421997.744 DeltaLogLike:        0.007 \n",
      "2021-06-11 19:55:18 DEBUG   GTAnalysis.optimize(): Post-fit Results npred:   2124.020 TS:     84.920\n",
      "2021-06-11 19:55:18 DEBUG   GTAnalysis.free_source(): Fixing parameters for 4FGL J0312.9+4119     : ['Prefactor']\n",
      "2021-06-11 19:55:18 DEBUG   GTAnalysis.optimize(): Fitting 4FGL J0324.8+3412 npred:   1969.315 TS:     47.035\n",
      "2021-06-11 19:55:18 DEBUG   GTAnalysis.free_source(): Freeing parameters for 4FGL J0324.8+3412     : ['norm']\n",
      "2021-06-11 19:55:18 DEBUG   GTAnalysis.fit(): Starting fit.\n",
      "2021-06-11 19:55:18 DEBUG   GTAnalysis.fit(): Fit complete.\n",
      "2021-06-11 19:55:18 DEBUG   GTAnalysis.get_src_model(): Generating source dict for 4FGL J0324.8+3412\n",
      "2021-06-11 19:55:18 DEBUG   GTAnalysis.profile_norm(): Profiling 4FGL J0324.8+3412\n",
      "2021-06-11 19:55:19 DEBUG   GTAnalysis.profile_norm(): Finished\n",
      "2021-06-11 19:55:19 DEBUG   GTAnalysis.fit(): Fit returned successfully. Quality:   3 Status:   0\n",
      "2021-06-11 19:55:19 DEBUG   GTAnalysis.fit(): LogLike:   421997.750 DeltaLogLike:        0.005 \n",
      "2021-06-11 19:55:19 DEBUG   GTAnalysis.optimize(): Post-fit Results npred:   1999.506 TS:     48.510\n",
      "2021-06-11 19:55:19 DEBUG   GTAnalysis.free_source(): Fixing parameters for 4FGL J0324.8+3412     : ['norm']\n",
      "2021-06-11 19:55:19 DEBUG   GTAnalysis.optimize(): Fitting 4FGL J0310.9+3815 npred:   1808.176 TS:    127.506\n",
      "2021-06-11 19:55:19 DEBUG   GTAnalysis.free_source(): Freeing parameters for 4FGL J0310.9+3815     : ['Prefactor']\n",
      "2021-06-11 19:55:19 DEBUG   GTAnalysis.fit(): Starting fit.\n",
      "2021-06-11 19:55:19 DEBUG   GTAnalysis.fit(): Fit complete.\n",
      "2021-06-11 19:55:19 DEBUG   GTAnalysis.get_src_model(): Generating source dict for 4FGL J0310.9+3815\n",
      "2021-06-11 19:55:19 DEBUG   GTAnalysis.profile_norm(): Profiling 4FGL J0310.9+3815\n",
      "2021-06-11 19:55:20 DEBUG   GTAnalysis.profile_norm(): Finished\n",
      "2021-06-11 19:55:20 DEBUG   GTAnalysis.fit(): Fit returned successfully. Quality:   3 Status:   0\n",
      "2021-06-11 19:55:20 DEBUG   GTAnalysis.fit(): LogLike:   421997.755 DeltaLogLike:        0.006 \n",
      "2021-06-11 19:55:20 DEBUG   GTAnalysis.optimize(): Post-fit Results npred:   1787.927 TS:    125.435\n",
      "2021-06-11 19:55:20 DEBUG   GTAnalysis.free_source(): Fixing parameters for 4FGL J0310.9+3815     : ['Prefactor']\n",
      "2021-06-11 19:55:20 DEBUG   GTAnalysis.optimize(): Fitting 4FGL J0303.6+4716 npred:   1694.543 TS:     52.069\n",
      "2021-06-11 19:55:20 DEBUG   GTAnalysis.free_source(): Freeing parameters for 4FGL J0303.6+4716     : ['norm']\n",
      "2021-06-11 19:55:20 DEBUG   GTAnalysis.fit(): Starting fit.\n",
      "2021-06-11 19:55:20 DEBUG   GTAnalysis.fit(): Fit complete.\n",
      "2021-06-11 19:55:20 DEBUG   GTAnalysis.get_src_model(): Generating source dict for 4FGL J0303.6+4716\n",
      "2021-06-11 19:55:20 DEBUG   GTAnalysis.profile_norm(): Profiling 4FGL J0303.6+4716\n",
      "2021-06-11 19:55:21 DEBUG   GTAnalysis.profile_norm(): Finished\n",
      "2021-06-11 19:55:21 DEBUG   GTAnalysis.fit(): Fit returned successfully. Quality:   3 Status:   0\n",
      "2021-06-11 19:55:21 DEBUG   GTAnalysis.fit(): LogLike:   421997.756 DeltaLogLike:        0.000 \n",
      "2021-06-11 19:55:21 DEBUG   GTAnalysis.optimize(): Post-fit Results npred:   1701.561 TS:     52.643\n",
      "2021-06-11 19:55:21 DEBUG   GTAnalysis.free_source(): Fixing parameters for 4FGL J0303.6+4716     : ['norm']\n",
      "2021-06-11 19:55:21 DEBUG   GTAnalysis.optimize(): Fitting 4FGL J0222.6+4302 npred:   1251.799 TS:     17.438\n",
      "2021-06-11 19:55:21 DEBUG   GTAnalysis.free_source(): Freeing parameters for 4FGL J0222.6+4302     : ['norm']\n",
      "2021-06-11 19:55:21 DEBUG   GTAnalysis.fit(): Starting fit.\n",
      "2021-06-11 19:55:21 DEBUG   GTAnalysis.fit(): Fit complete.\n",
      "2021-06-11 19:55:21 DEBUG   GTAnalysis.get_src_model(): Generating source dict for 4FGL J0222.6+4302\n",
      "2021-06-11 19:55:21 DEBUG   GTAnalysis.profile_norm(): Profiling 4FGL J0222.6+4302\n",
      "2021-06-11 19:55:22 DEBUG   GTAnalysis.profile_norm(): Finished\n",
      "2021-06-11 19:55:22 DEBUG   GTAnalysis.fit(): Fit returned successfully. Quality:   3 Status:   0\n",
      "2021-06-11 19:55:22 DEBUG   GTAnalysis.fit(): LogLike:   421997.768 DeltaLogLike:        0.012 \n",
      "2021-06-11 19:55:22 DEBUG   GTAnalysis.optimize(): Post-fit Results npred:   1205.035 TS:     16.189\n",
      "2021-06-11 19:55:22 DEBUG   GTAnalysis.free_source(): Fixing parameters for 4FGL J0222.6+4302     : ['norm']\n"
     ]
    },
    {
     "name": "stderr",
     "output_type": "stream",
     "text": [
      "2021-06-11 19:55:22 DEBUG   GTAnalysis.optimize(): Fitting 4FGL J0316.8+4120 npred:   1209.102 TS:     34.751\n",
      "2021-06-11 19:55:22 DEBUG   GTAnalysis.free_source(): Freeing parameters for 4FGL J0316.8+4120     : ['Prefactor']\n",
      "2021-06-11 19:55:22 DEBUG   GTAnalysis.fit(): Starting fit.\n",
      "2021-06-11 19:55:22 DEBUG   GTAnalysis.fit(): Fit complete.\n",
      "2021-06-11 19:55:22 DEBUG   GTAnalysis.get_src_model(): Generating source dict for 4FGL J0316.8+4120\n",
      "2021-06-11 19:55:22 DEBUG   GTAnalysis.profile_norm(): Profiling 4FGL J0316.8+4120\n",
      "2021-06-11 19:55:23 DEBUG   GTAnalysis.profile_norm(): Finished\n",
      "2021-06-11 19:55:23 DEBUG   GTAnalysis.fit(): Fit returned successfully. Quality:   3 Status:   0\n",
      "2021-06-11 19:55:23 DEBUG   GTAnalysis.fit(): LogLike:   421997.800 DeltaLogLike:        0.032 \n",
      "2021-06-11 19:55:23 DEBUG   GTAnalysis.optimize(): Post-fit Results npred:   1268.186 TS:     37.550\n",
      "2021-06-11 19:55:23 DEBUG   GTAnalysis.free_source(): Fixing parameters for 4FGL J0316.8+4120     : ['Prefactor']\n",
      "2021-06-11 19:55:23 DEBUG   GTAnalysis.optimize(): Fitting 4FGL J0348.8+4610 npred:   1094.685 TS:     86.590\n",
      "2021-06-11 19:55:23 DEBUG   GTAnalysis.free_source(): Freeing parameters for 4FGL J0348.8+4610     : ['norm']\n",
      "2021-06-11 19:55:23 DEBUG   GTAnalysis.fit(): Starting fit.\n",
      "2021-06-11 19:55:23 DEBUG   GTAnalysis.fit(): Fit complete.\n",
      "2021-06-11 19:55:23 DEBUG   GTAnalysis.get_src_model(): Generating source dict for 4FGL J0348.8+4610\n",
      "2021-06-11 19:55:23 DEBUG   GTAnalysis.profile_norm(): Profiling 4FGL J0348.8+4610\n",
      "2021-06-11 19:55:24 DEBUG   GTAnalysis.profile_norm(): Finished\n",
      "2021-06-11 19:55:24 DEBUG   GTAnalysis.fit(): Fit returned successfully. Quality:   3 Status:   0\n",
      "2021-06-11 19:55:24 DEBUG   GTAnalysis.fit(): LogLike:   421997.806 DeltaLogLike:        0.006 \n",
      "2021-06-11 19:55:24 DEBUG   GTAnalysis.optimize(): Post-fit Results npred:   1108.900 TS:     88.829\n",
      "2021-06-11 19:55:24 DEBUG   GTAnalysis.free_source(): Fixing parameters for 4FGL J0348.8+4610     : ['norm']\n",
      "2021-06-11 19:55:24 DEBUG   GTAnalysis.optimize(): Fitting 4FGL J0333.8+4007 npred:   1019.937 TS:     65.049\n",
      "2021-06-11 19:55:24 DEBUG   GTAnalysis.free_source(): Freeing parameters for 4FGL J0333.8+4007     : ['Prefactor']\n",
      "2021-06-11 19:55:24 DEBUG   GTAnalysis.fit(): Starting fit.\n",
      "2021-06-11 19:55:24 DEBUG   GTAnalysis.fit(): Fit complete.\n",
      "2021-06-11 19:55:24 DEBUG   GTAnalysis.get_src_model(): Generating source dict for 4FGL J0333.8+4007\n",
      "2021-06-11 19:55:24 DEBUG   GTAnalysis.profile_norm(): Profiling 4FGL J0333.8+4007\n",
      "2021-06-11 19:55:25 DEBUG   GTAnalysis.profile_norm(): Finished\n",
      "2021-06-11 19:55:25 DEBUG   GTAnalysis.fit(): Fit returned successfully. Quality:   3 Status:   0\n",
      "2021-06-11 19:55:25 DEBUG   GTAnalysis.fit(): LogLike:   421997.807 DeltaLogLike:        0.001 \n",
      "2021-06-11 19:55:25 DEBUG   GTAnalysis.optimize(): Post-fit Results npred:   1026.165 TS:     65.653\n",
      "2021-06-11 19:55:25 DEBUG   GTAnalysis.free_source(): Fixing parameters for 4FGL J0333.8+4007     : ['Prefactor']\n",
      "2021-06-11 19:55:25 DEBUG   GTAnalysis.optimize(): Fitting 4FGL J0342.2+3858 npred:    981.844 TS:     67.525\n",
      "2021-06-11 19:55:25 DEBUG   GTAnalysis.free_source(): Freeing parameters for 4FGL J0342.2+3858     : ['Prefactor']\n",
      "2021-06-11 19:55:25 DEBUG   GTAnalysis.fit(): Starting fit.\n",
      "2021-06-11 19:55:25 DEBUG   GTAnalysis.fit(): Fit complete.\n",
      "2021-06-11 19:55:26 DEBUG   GTAnalysis.get_src_model(): Generating source dict for 4FGL J0342.2+3858\n",
      "2021-06-11 19:55:26 DEBUG   GTAnalysis.profile_norm(): Profiling 4FGL J0342.2+3858\n",
      "2021-06-11 19:55:26 DEBUG   GTAnalysis.profile_norm(): Finished\n",
      "2021-06-11 19:55:26 DEBUG   GTAnalysis.fit(): Fit returned successfully. Quality:   3 Status:   0\n",
      "2021-06-11 19:55:26 DEBUG   GTAnalysis.fit(): LogLike:   421997.808 DeltaLogLike:        0.000 \n",
      "2021-06-11 19:55:26 DEBUG   GTAnalysis.optimize(): Post-fit Results npred:    978.008 TS:     67.162\n",
      "2021-06-11 19:55:26 DEBUG   GTAnalysis.free_source(): Fixing parameters for 4FGL J0342.2+3858     : ['Prefactor']\n",
      "2021-06-11 19:55:26 DEBUG   GTAnalysis.optimize(): Fitting 4FGL J0330.1+5038 npred:    907.730 TS:      5.126\n",
      "2021-06-11 19:55:26 DEBUG   GTAnalysis.free_source(): Freeing parameters for 4FGL J0330.1+5038     : ['norm']\n",
      "2021-06-11 19:55:26 DEBUG   GTAnalysis.fit(): Starting fit.\n",
      "2021-06-11 19:55:26 DEBUG   GTAnalysis.fit(): Fit complete.\n",
      "2021-06-11 19:55:27 DEBUG   GTAnalysis.get_src_model(): Generating source dict for 4FGL J0330.1+5038\n",
      "2021-06-11 19:55:27 DEBUG   GTAnalysis.profile_norm(): Profiling 4FGL J0330.1+5038\n",
      "2021-06-11 19:55:27 DEBUG   GTAnalysis.profile_norm(): Finished\n",
      "2021-06-11 19:55:27 DEBUG   GTAnalysis.fit(): Fit returned successfully. Quality:   3 Status:   0\n",
      "2021-06-11 19:55:27 DEBUG   GTAnalysis.fit(): LogLike:   421997.808 DeltaLogLike:        0.000 \n",
      "2021-06-11 19:55:27 DEBUG   GTAnalysis.optimize(): Post-fit Results npred:    907.729 TS:      4.552\n",
      "2021-06-11 19:55:27 DEBUG   GTAnalysis.free_source(): Fixing parameters for 4FGL J0330.1+5038     : ['norm']\n",
      "2021-06-11 19:55:27 DEBUG   GTAnalysis.optimize(): Fitting 4FGL J0343.4+3621 npred:    827.590 TS:    100.512\n",
      "2021-06-11 19:55:27 DEBUG   GTAnalysis.free_source(): Freeing parameters for 4FGL J0343.4+3621     : ['Prefactor']\n",
      "2021-06-11 19:55:27 DEBUG   GTAnalysis.fit(): Starting fit.\n",
      "2021-06-11 19:55:27 DEBUG   GTAnalysis.fit(): Fit complete.\n",
      "2021-06-11 19:55:28 DEBUG   GTAnalysis.get_src_model(): Generating source dict for 4FGL J0343.4+3621\n",
      "2021-06-11 19:55:28 DEBUG   GTAnalysis.profile_norm(): Profiling 4FGL J0343.4+3621\n",
      "2021-06-11 19:55:28 DEBUG   GTAnalysis.profile_norm(): Finished\n",
      "2021-06-11 19:55:28 DEBUG   GTAnalysis.fit(): Fit returned successfully. Quality:   3 Status:   0\n",
      "2021-06-11 19:55:28 DEBUG   GTAnalysis.fit(): LogLike:   421997.811 DeltaLogLike:        0.003 \n",
      "2021-06-11 19:55:28 DEBUG   GTAnalysis.optimize(): Post-fit Results npred:    835.733 TS:    101.980\n",
      "2021-06-11 19:55:28 DEBUG   GTAnalysis.free_source(): Fixing parameters for 4FGL J0343.4+3621     : ['Prefactor']\n",
      "2021-06-11 19:55:28 DEBUG   GTAnalysis.optimize(): Fitting 4FGL J0252.9+3834 npred:    779.210 TS:     25.013\n",
      "2021-06-11 19:55:28 DEBUG   GTAnalysis.free_source(): Freeing parameters for 4FGL J0252.9+3834     : ['Prefactor']\n",
      "2021-06-11 19:55:28 DEBUG   GTAnalysis.fit(): Starting fit.\n",
      "2021-06-11 19:55:28 DEBUG   GTAnalysis.fit(): Fit complete.\n",
      "2021-06-11 19:55:29 DEBUG   GTAnalysis.get_src_model(): Generating source dict for 4FGL J0252.9+3834\n",
      "2021-06-11 19:55:29 DEBUG   GTAnalysis.profile_norm(): Profiling 4FGL J0252.9+3834\n",
      "2021-06-11 19:55:29 DEBUG   GTAnalysis.profile_norm(): Finished\n",
      "2021-06-11 19:55:29 DEBUG   GTAnalysis.fit(): Fit returned successfully. Quality:   3 Status:   0\n",
      "2021-06-11 19:55:29 DEBUG   GTAnalysis.fit(): LogLike:   421997.812 DeltaLogLike:        0.001 \n",
      "2021-06-11 19:55:29 DEBUG   GTAnalysis.optimize(): Post-fit Results npred:    771.198 TS:     24.519\n",
      "2021-06-11 19:55:29 DEBUG   GTAnalysis.free_source(): Fixing parameters for 4FGL J0252.9+3834     : ['Prefactor']\n",
      "2021-06-11 19:55:29 DEBUG   GTAnalysis.optimize(): Fitting 4FGL J0227.2+3928 npred:    547.921 TS:      4.598\n",
      "2021-06-11 19:55:29 DEBUG   GTAnalysis.free_source(): Freeing parameters for 4FGL J0227.2+3928     : ['Prefactor']\n",
      "2021-06-11 19:55:29 DEBUG   GTAnalysis.fit(): Starting fit.\n",
      "2021-06-11 19:55:29 DEBUG   GTAnalysis.fit(): Fit complete.\n",
      "2021-06-11 19:55:30 DEBUG   GTAnalysis.get_src_model(): Generating source dict for 4FGL J0227.2+3928\n",
      "2021-06-11 19:55:30 DEBUG   GTAnalysis.profile_norm(): Profiling 4FGL J0227.2+3928\n",
      "2021-06-11 19:55:30 DEBUG   GTAnalysis.profile_norm(): Finished\n",
      "2021-06-11 19:55:30 DEBUG   GTAnalysis.fit(): Fit returned successfully. Quality:   3 Status:   0\n",
      "2021-06-11 19:55:30 DEBUG   GTAnalysis.fit(): LogLike:   421997.815 DeltaLogLike:        0.003 \n",
      "2021-06-11 19:55:30 DEBUG   GTAnalysis.optimize(): Post-fit Results npred:    530.059 TS:      4.335\n",
      "2021-06-11 19:55:30 DEBUG   GTAnalysis.free_source(): Fixing parameters for 4FGL J0227.2+3928     : ['Prefactor']\n",
      "2021-06-11 19:55:30 DEBUG   GTAnalysis.optimize(): Fitting 4FGL J0409.7+4006c npred:    541.294 TS:      4.802\n",
      "2021-06-11 19:55:30 DEBUG   GTAnalysis.free_source(): Freeing parameters for 4FGL J0409.7+4006c    : ['norm']\n"
     ]
    },
    {
     "name": "stderr",
     "output_type": "stream",
     "text": [
      "2021-06-11 19:55:30 DEBUG   GTAnalysis.fit(): Starting fit.\n",
      "2021-06-11 19:55:31 DEBUG   GTAnalysis.fit(): Fit complete.\n",
      "2021-06-11 19:55:31 DEBUG   GTAnalysis.get_src_model(): Generating source dict for 4FGL J0409.7+4006c\n",
      "2021-06-11 19:55:31 DEBUG   GTAnalysis.profile_norm(): Profiling 4FGL J0409.7+4006c\n",
      "2021-06-11 19:55:31 DEBUG   GTAnalysis.profile_norm(): Finished\n",
      "2021-06-11 19:55:31 DEBUG   GTAnalysis.fit(): Fit returned successfully. Quality:   3 Status:   0\n",
      "2021-06-11 19:55:31 DEBUG   GTAnalysis.fit(): LogLike:   421997.815 DeltaLogLike:        0.000 \n",
      "2021-06-11 19:55:31 DEBUG   GTAnalysis.optimize(): Post-fit Results npred:    541.294 TS:      2.719\n",
      "2021-06-11 19:55:31 DEBUG   GTAnalysis.free_source(): Fixing parameters for 4FGL J0409.7+4006c    : ['norm']\n",
      "2021-06-11 19:55:31 DEBUG   GTAnalysis.optimize(): Fitting 4FGL J0355.3+3909 npred:    509.052 TS:      2.652\n",
      "2021-06-11 19:55:31 DEBUG   GTAnalysis.free_source(): Freeing parameters for 4FGL J0355.3+3909     : ['Prefactor']\n",
      "2021-06-11 19:55:31 DEBUG   GTAnalysis.fit(): Starting fit.\n",
      "2021-06-11 19:55:32 DEBUG   GTAnalysis.fit(): Fit complete.\n",
      "2021-06-11 19:55:32 DEBUG   GTAnalysis.get_src_model(): Generating source dict for 4FGL J0355.3+3909\n",
      "2021-06-11 19:55:32 DEBUG   GTAnalysis.profile_norm(): Profiling 4FGL J0355.3+3909\n",
      "2021-06-11 19:55:32 DEBUG   GTAnalysis.profile_norm(): Finished\n",
      "2021-06-11 19:55:32 DEBUG   GTAnalysis.fit(): Fit returned successfully. Quality:   3 Status:   0\n",
      "2021-06-11 19:55:32 DEBUG   GTAnalysis.fit(): LogLike:   421997.831 DeltaLogLike:        0.017 \n",
      "2021-06-11 19:55:32 DEBUG   GTAnalysis.optimize(): Post-fit Results npred:    453.200 TS:      2.096\n",
      "2021-06-11 19:55:32 DEBUG   GTAnalysis.free_source(): Fixing parameters for 4FGL J0355.3+3909     : ['Prefactor']\n",
      "2021-06-11 19:55:32 DEBUG   GTAnalysis.optimize(): Fitting 4FGL J0221.1+3556 npred:    472.472 TS:      3.186\n",
      "2021-06-11 19:55:32 DEBUG   GTAnalysis.free_source(): Freeing parameters for 4FGL J0221.1+3556     : ['norm']\n",
      "2021-06-11 19:55:32 DEBUG   GTAnalysis.fit(): Starting fit.\n",
      "2021-06-11 19:55:33 DEBUG   GTAnalysis.fit(): Fit complete.\n",
      "2021-06-11 19:55:33 DEBUG   GTAnalysis.get_src_model(): Generating source dict for 4FGL J0221.1+3556\n",
      "2021-06-11 19:55:33 DEBUG   GTAnalysis.profile_norm(): Profiling 4FGL J0221.1+3556\n",
      "2021-06-11 19:55:33 DEBUG   GTAnalysis.profile_norm(): Finished\n",
      "2021-06-11 19:55:33 DEBUG   GTAnalysis.fit(): Fit returned successfully. Quality:   3 Status:   0\n",
      "2021-06-11 19:55:33 DEBUG   GTAnalysis.fit(): LogLike:   421997.845 DeltaLogLike:        0.014 \n",
      "2021-06-11 19:55:33 DEBUG   GTAnalysis.optimize(): Post-fit Results npred:    430.624 TS:      2.658\n",
      "2021-06-11 19:55:33 DEBUG   GTAnalysis.free_source(): Fixing parameters for 4FGL J0221.1+3556     : ['norm']\n",
      "2021-06-11 19:55:33 DEBUG   GTAnalysis.optimize(): Fitting 4FGL J0354.4+4643 npred:    458.610 TS:      3.424\n",
      "2021-06-11 19:55:33 DEBUG   GTAnalysis.free_source(): Freeing parameters for 4FGL J0354.4+4643     : ['Prefactor']\n",
      "2021-06-11 19:55:33 DEBUG   GTAnalysis.fit(): Starting fit.\n",
      "2021-06-11 19:55:34 DEBUG   GTAnalysis.fit(): Fit complete.\n",
      "2021-06-11 19:55:34 DEBUG   GTAnalysis.get_src_model(): Generating source dict for 4FGL J0354.4+4643\n",
      "2021-06-11 19:55:34 DEBUG   GTAnalysis.profile_norm(): Profiling 4FGL J0354.4+4643\n",
      "2021-06-11 19:55:34 DEBUG   GTAnalysis.profile_norm(): Finished\n",
      "2021-06-11 19:55:34 DEBUG   GTAnalysis.fit(): Fit returned successfully. Quality:   3 Status:   0\n",
      "2021-06-11 19:55:34 DEBUG   GTAnalysis.fit(): LogLike:   421997.932 DeltaLogLike:        0.087 \n",
      "2021-06-11 19:55:34 DEBUG   GTAnalysis.optimize(): Post-fit Results npred:    357.506 TS:      2.053\n",
      "2021-06-11 19:55:34 DEBUG   GTAnalysis.free_source(): Fixing parameters for 4FGL J0354.4+4643     : ['Prefactor']\n",
      "2021-06-11 19:55:34 DEBUG   GTAnalysis.optimize(): Fitting 4FGL J0359.7+4445 npred:    454.709 TS:      2.307\n",
      "2021-06-11 19:55:34 DEBUG   GTAnalysis.free_source(): Freeing parameters for 4FGL J0359.7+4445     : ['Prefactor']\n",
      "2021-06-11 19:55:34 DEBUG   GTAnalysis.fit(): Starting fit.\n",
      "2021-06-11 19:55:35 DEBUG   GTAnalysis.fit(): Fit complete.\n",
      "2021-06-11 19:55:35 DEBUG   GTAnalysis.get_src_model(): Generating source dict for 4FGL J0359.7+4445\n",
      "2021-06-11 19:55:35 DEBUG   GTAnalysis.profile_norm(): Profiling 4FGL J0359.7+4445\n",
      "2021-06-11 19:55:35 DEBUG   GTAnalysis.profile_norm(): Finished\n",
      "2021-06-11 19:55:35 DEBUG   GTAnalysis.fit(): Fit returned successfully. Quality:   3 Status:   0\n",
      "2021-06-11 19:55:35 DEBUG   GTAnalysis.fit(): LogLike:   421997.936 DeltaLogLike:        0.004 \n",
      "2021-06-11 19:55:35 DEBUG   GTAnalysis.optimize(): Post-fit Results npred:    481.484 TS:      2.580\n",
      "2021-06-11 19:55:35 DEBUG   GTAnalysis.free_source(): Fixing parameters for 4FGL J0359.7+4445     : ['Prefactor']\n",
      "2021-06-11 19:55:35 DEBUG   GTAnalysis.optimize(): Fitting 4FGL J0307.4+4915 npred:    394.825 TS:      1.468\n",
      "2021-06-11 19:55:35 DEBUG   GTAnalysis.free_source(): Freeing parameters for 4FGL J0307.4+4915     : ['norm']\n",
      "2021-06-11 19:55:35 DEBUG   GTAnalysis.fit(): Starting fit.\n",
      "2021-06-11 19:55:36 DEBUG   GTAnalysis.fit(): Fit complete.\n",
      "2021-06-11 19:55:36 DEBUG   GTAnalysis.get_src_model(): Generating source dict for 4FGL J0307.4+4915\n",
      "2021-06-11 19:55:36 DEBUG   GTAnalysis.profile_norm(): Profiling 4FGL J0307.4+4915\n",
      "2021-06-11 19:55:36 DEBUG   GTAnalysis.profile_norm(): Finished\n",
      "2021-06-11 19:55:36 DEBUG   GTAnalysis.fit(): Fit returned successfully. Quality:   3 Status:   0\n",
      "2021-06-11 19:55:36 DEBUG   GTAnalysis.fit(): LogLike:   421997.940 DeltaLogLike:        0.003 \n",
      "2021-06-11 19:55:36 DEBUG   GTAnalysis.optimize(): Post-fit Results npred:    422.223 TS:      1.678\n",
      "2021-06-11 19:55:36 DEBUG   GTAnalysis.free_source(): Fixing parameters for 4FGL J0307.4+4915     : ['norm']\n",
      "2021-06-11 19:55:36 DEBUG   GTAnalysis.optimize(): Fitting 4FGL J0334.3+3920 npred:    387.518 TS:     85.466\n",
      "2021-06-11 19:55:36 DEBUG   GTAnalysis.free_source(): Freeing parameters for 4FGL J0334.3+3920     : ['Prefactor']\n",
      "2021-06-11 19:55:36 DEBUG   GTAnalysis.fit(): Starting fit.\n",
      "2021-06-11 19:55:37 DEBUG   GTAnalysis.fit(): Fit complete.\n",
      "2021-06-11 19:55:37 DEBUG   GTAnalysis.get_src_model(): Generating source dict for 4FGL J0334.3+3920\n",
      "2021-06-11 19:55:37 DEBUG   GTAnalysis.profile_norm(): Profiling 4FGL J0334.3+3920\n",
      "2021-06-11 19:55:37 DEBUG   GTAnalysis.profile_norm(): Finished\n",
      "2021-06-11 19:55:37 DEBUG   GTAnalysis.fit(): Fit returned successfully. Quality:   3 Status:   0\n",
      "2021-06-11 19:55:37 DEBUG   GTAnalysis.fit(): LogLike:   421997.940 DeltaLogLike:        0.001 \n",
      "2021-06-11 19:55:37 DEBUG   GTAnalysis.optimize(): Post-fit Results npred:    390.038 TS:     86.025\n",
      "2021-06-11 19:55:37 DEBUG   GTAnalysis.free_source(): Fixing parameters for 4FGL J0334.3+3920     : ['Prefactor']\n",
      "2021-06-11 19:55:37 DEBUG   GTAnalysis.optimize(): Fitting 4FGL J0218.1+4232 npred:    244.376 TS:      0.686\n",
      "2021-06-11 19:55:37 DEBUG   GTAnalysis.free_source(): Freeing parameters for 4FGL J0218.1+4232     : ['Prefactor']\n",
      "2021-06-11 19:55:37 DEBUG   GTAnalysis.fit(): Starting fit.\n",
      "2021-06-11 19:55:38 DEBUG   GTAnalysis.fit(): Fit complete.\n",
      "2021-06-11 19:55:38 DEBUG   GTAnalysis.get_src_model(): Generating source dict for 4FGL J0218.1+4232\n",
      "2021-06-11 19:55:38 DEBUG   GTAnalysis.profile_norm(): Profiling 4FGL J0218.1+4232\n",
      "2021-06-11 19:55:38 DEBUG   GTAnalysis.profile_norm(): Finished\n",
      "2021-06-11 19:55:38 DEBUG   GTAnalysis.fit(): Fit returned successfully. Quality:   3 Status:   0\n",
      "2021-06-11 19:55:38 DEBUG   GTAnalysis.fit(): LogLike:   421997.954 DeltaLogLike:        0.014 \n",
      "2021-06-11 19:55:38 DEBUG   GTAnalysis.optimize(): Post-fit Results npred:    294.175 TS:      0.997\n",
      "2021-06-11 19:55:38 DEBUG   GTAnalysis.free_source(): Fixing parameters for 4FGL J0218.1+4232     : ['Prefactor']\n",
      "2021-06-11 19:55:38 DEBUG   GTAnalysis.optimize(): Fitting 4FGL J0315.5+4231 npred:    175.250 TS:     18.965\n",
      "2021-06-11 19:55:38 DEBUG   GTAnalysis.free_source(): Freeing parameters for 4FGL J0315.5+4231     : ['Prefactor']\n",
      "2021-06-11 19:55:38 DEBUG   GTAnalysis.fit(): Starting fit.\n",
      "2021-06-11 19:55:39 DEBUG   GTAnalysis.fit(): Fit complete.\n",
      "2021-06-11 19:55:39 DEBUG   GTAnalysis.get_src_model(): Generating source dict for 4FGL J0315.5+4231\n"
     ]
    },
    {
     "name": "stderr",
     "output_type": "stream",
     "text": [
      "2021-06-11 19:55:39 DEBUG   GTAnalysis.profile_norm(): Profiling 4FGL J0315.5+4231\n",
      "2021-06-11 19:55:40 DEBUG   GTAnalysis.profile_norm(): Finished\n",
      "2021-06-11 19:55:40 DEBUG   GTAnalysis.fit(): Fit returned successfully. Quality:   3 Status:   0\n",
      "2021-06-11 19:55:40 DEBUG   GTAnalysis.fit(): LogLike:   421997.955 DeltaLogLike:        0.001 \n",
      "2021-06-11 19:55:40 DEBUG   GTAnalysis.optimize(): Post-fit Results npred:    172.760 TS:     18.720\n",
      "2021-06-11 19:55:40 DEBUG   GTAnalysis.free_source(): Fixing parameters for 4FGL J0315.5+4231     : ['Prefactor']\n",
      "2021-06-11 19:55:40 DEBUG   GTAnalysis.optimize(): Fitting 4FGL J0359.3+3626 npred:    130.695 TS:      0.210\n",
      "2021-06-11 19:55:40 DEBUG   GTAnalysis.free_source(): Freeing parameters for 4FGL J0359.3+3626     : ['norm']\n",
      "2021-06-11 19:55:40 DEBUG   GTAnalysis.fit(): Starting fit.\n",
      "2021-06-11 19:55:40 DEBUG   GTAnalysis.fit(): Fit complete.\n",
      "2021-06-11 19:55:40 DEBUG   GTAnalysis.get_src_model(): Generating source dict for 4FGL J0359.3+3626\n",
      "2021-06-11 19:55:40 DEBUG   GTAnalysis.profile_norm(): Profiling 4FGL J0359.3+3626\n",
      "2021-06-11 19:55:41 DEBUG   GTAnalysis.profile_norm(): Finished\n",
      "2021-06-11 19:55:41 DEBUG   GTAnalysis.fit(): Fit returned successfully. Quality:   3 Status:   0\n",
      "2021-06-11 19:55:41 DEBUG   GTAnalysis.fit(): LogLike:   421998.059 DeltaLogLike:        0.104 \n",
      "2021-06-11 19:55:41 DEBUG   GTAnalysis.optimize(): Post-fit Results npred:      3.097 TS:     -0.000\n",
      "2021-06-11 19:55:41 DEBUG   GTAnalysis.free_source(): Fixing parameters for 4FGL J0359.3+3626     : ['norm']\n",
      "2021-06-11 19:55:41 DEBUG   GTAnalysis.optimize(): Fitting 4FGL J0312.9+3614 npred:    119.237 TS:      0.586\n",
      "2021-06-11 19:55:41 DEBUG   GTAnalysis.free_source(): Freeing parameters for 4FGL J0312.9+3614     : ['Prefactor']\n",
      "2021-06-11 19:55:41 DEBUG   GTAnalysis.fit(): Starting fit.\n",
      "2021-06-11 19:55:41 DEBUG   GTAnalysis.fit(): Fit complete.\n",
      "2021-06-11 19:55:41 DEBUG   GTAnalysis.get_src_model(): Generating source dict for 4FGL J0312.9+3614\n",
      "2021-06-11 19:55:41 DEBUG   GTAnalysis.profile_norm(): Profiling 4FGL J0312.9+3614\n",
      "2021-06-11 19:55:42 DEBUG   GTAnalysis.profile_norm(): Finished\n",
      "2021-06-11 19:55:42 DEBUG   GTAnalysis.fit(): Fit returned successfully. Quality:   3 Status:   0\n",
      "2021-06-11 19:55:42 DEBUG   GTAnalysis.fit(): LogLike:   421998.062 DeltaLogLike:        0.003 \n",
      "2021-06-11 19:55:42 DEBUG   GTAnalysis.optimize(): Post-fit Results npred:    131.280 TS:      0.708\n",
      "2021-06-11 19:55:42 DEBUG   GTAnalysis.free_source(): Fixing parameters for 4FGL J0312.9+3614     : ['Prefactor']\n",
      "2021-06-11 19:55:42 DEBUG   GTAnalysis.optimize(): Fitting 4FGL J0257.0+3358 npred:     63.046 TS:      0.074\n",
      "2021-06-11 19:55:42 DEBUG   GTAnalysis.free_source(): Freeing parameters for 4FGL J0257.0+3358     : ['Prefactor']\n",
      "2021-06-11 19:55:42 DEBUG   GTAnalysis.fit(): Starting fit.\n",
      "2021-06-11 19:55:42 DEBUG   GTAnalysis.fit(): Fit complete.\n",
      "2021-06-11 19:55:43 DEBUG   GTAnalysis.get_src_model(): Generating source dict for 4FGL J0257.0+3358\n",
      "2021-06-11 19:55:43 DEBUG   GTAnalysis.profile_norm(): Profiling 4FGL J0257.0+3358\n",
      "2021-06-11 19:55:43 DEBUG   GTAnalysis.profile_norm(): Finished\n",
      "2021-06-11 19:55:43 DEBUG   GTAnalysis.fit(): Fit returned successfully. Quality:   3 Status:   0\n",
      "2021-06-11 19:55:43 DEBUG   GTAnalysis.fit(): LogLike:   421998.080 DeltaLogLike:        0.019 \n",
      "2021-06-11 19:55:43 DEBUG   GTAnalysis.optimize(): Post-fit Results npred:     21.420 TS:      0.009\n",
      "2021-06-11 19:55:43 DEBUG   GTAnalysis.free_source(): Fixing parameters for 4FGL J0257.0+3358     : ['Prefactor']\n",
      "2021-06-11 19:55:43 DEBUG   GTAnalysis.optimize(): Fitting 4FGL J0253.9+5103 npred:     31.290 TS:      0.013\n",
      "2021-06-11 19:55:43 DEBUG   GTAnalysis.free_source(): Freeing parameters for 4FGL J0253.9+5103     : ['Prefactor']\n",
      "2021-06-11 19:55:43 DEBUG   GTAnalysis.fit(): Starting fit.\n",
      "2021-06-11 19:55:44 DEBUG   GTAnalysis.fit(): Fit complete.\n",
      "2021-06-11 19:55:44 DEBUG   GTAnalysis.get_src_model(): Generating source dict for 4FGL J0253.9+5103\n",
      "2021-06-11 19:55:44 DEBUG   GTAnalysis.profile_norm(): Profiling 4FGL J0253.9+5103\n",
      "2021-06-11 19:55:44 DEBUG   GTAnalysis.profile_norm(): Finished\n",
      "2021-06-11 19:55:44 DEBUG   GTAnalysis.fit(): Fit returned successfully. Quality:   3 Status:   0\n",
      "2021-06-11 19:55:44 DEBUG   GTAnalysis.fit(): LogLike:   421998.080 DeltaLogLike:        0.000 \n",
      "2021-06-11 19:55:44 DEBUG   GTAnalysis.optimize(): Post-fit Results npred:     33.905 TS:      0.016\n",
      "2021-06-11 19:55:44 DEBUG   GTAnalysis.free_source(): Fixing parameters for 4FGL J0253.9+5103     : ['Prefactor']\n",
      "2021-06-11 19:55:44 DEBUG   GTAnalysis.optimize(): Fitting 4FGL J0209.3+4449 npred:     20.825 TS:      0.005\n",
      "2021-06-11 19:55:44 DEBUG   GTAnalysis.free_source(): Freeing parameters for 4FGL J0209.3+4449     : ['Prefactor']\n",
      "2021-06-11 19:55:44 DEBUG   GTAnalysis.fit(): Starting fit.\n",
      "2021-06-11 19:55:45 DEBUG   GTAnalysis.fit(): Fit complete.\n",
      "2021-06-11 19:55:45 DEBUG   GTAnalysis.get_src_model(): Generating source dict for 4FGL J0209.3+4449\n",
      "2021-06-11 19:55:45 DEBUG   GTAnalysis.profile_norm(): Profiling 4FGL J0209.3+4449\n",
      "2021-06-11 19:55:45 DEBUG   GTAnalysis.profile_norm(): Finished\n",
      "2021-06-11 19:55:45 DEBUG   GTAnalysis.fit(): Fit returned successfully. Quality:   3 Status:   0\n",
      "2021-06-11 19:55:45 DEBUG   GTAnalysis.fit(): LogLike:   421998.080 DeltaLogLike:        0.000 \n",
      "2021-06-11 19:55:45 DEBUG   GTAnalysis.optimize(): Post-fit Results npred:     20.551 TS:     -0.000\n",
      "2021-06-11 19:55:45 DEBUG   GTAnalysis.free_source(): Fixing parameters for 4FGL J0209.3+4449     : ['Prefactor']\n",
      "2021-06-11 19:55:45 DEBUG   GTAnalysis.optimize(): Fitting 4FGL J0223.5+3912 npred:     15.090 TS:      0.021\n",
      "2021-06-11 19:55:45 DEBUG   GTAnalysis.free_source(): Freeing parameters for 4FGL J0223.5+3912     : ['Prefactor']\n",
      "2021-06-11 19:55:45 DEBUG   GTAnalysis.fit(): Starting fit.\n",
      "2021-06-11 19:55:46 DEBUG   GTAnalysis.fit(): Fit complete.\n",
      "2021-06-11 19:55:46 DEBUG   GTAnalysis.get_src_model(): Generating source dict for 4FGL J0223.5+3912\n",
      "2021-06-11 19:55:46 DEBUG   GTAnalysis.profile_norm(): Profiling 4FGL J0223.5+3912\n",
      "2021-06-11 19:55:46 DEBUG   GTAnalysis.profile_norm(): Finished\n",
      "2021-06-11 19:55:46 DEBUG   GTAnalysis.fit(): Fit returned successfully. Quality:   3 Status:   0\n",
      "2021-06-11 19:55:46 DEBUG   GTAnalysis.fit(): LogLike:   421998.097 DeltaLogLike:        0.017 \n",
      "2021-06-11 19:55:46 DEBUG   GTAnalysis.optimize(): Post-fit Results npred:     62.165 TS:      0.056\n",
      "2021-06-11 19:55:46 DEBUG   GTAnalysis.free_source(): Fixing parameters for 4FGL J0223.5+3912     : ['Prefactor']\n",
      "2021-06-11 19:55:46 DEBUG   GTAnalysis.optimize(): Fitting 4FGL J0359.6+5057 npred:     12.685 TS:      0.001\n",
      "2021-06-11 19:55:46 DEBUG   GTAnalysis.free_source(): Freeing parameters for 4FGL J0359.6+5057     : ['norm']\n",
      "2021-06-11 19:55:46 DEBUG   GTAnalysis.fit(): Starting fit.\n",
      "2021-06-11 19:55:47 DEBUG   GTAnalysis.fit(): Fit complete.\n",
      "2021-06-11 19:55:47 DEBUG   GTAnalysis.get_src_model(): Generating source dict for 4FGL J0359.6+5057\n",
      "2021-06-11 19:55:47 DEBUG   GTAnalysis.profile_norm(): Profiling 4FGL J0359.6+5057\n",
      "2021-06-11 19:55:47 DEBUG   GTAnalysis.profile_norm(): Finished\n",
      "2021-06-11 19:55:48 DEBUG   GTAnalysis.fit(): Fit returned successfully. Quality:   3 Status:   0\n",
      "2021-06-11 19:55:48 DEBUG   GTAnalysis.fit(): LogLike:   421998.099 DeltaLogLike:        0.002 \n",
      "2021-06-11 19:55:48 DEBUG   GTAnalysis.optimize(): Post-fit Results npred:      0.039 TS:     -0.000\n",
      "2021-06-11 19:55:48 DEBUG   GTAnalysis.free_source(): Fixing parameters for 4FGL J0359.6+5057     : ['norm']\n",
      "2021-06-11 19:55:48 DEBUG   GTAnalysis.optimize(): Fitting 4FGL J0347.0+4844 npred:      9.239 TS:      0.000\n",
      "2021-06-11 19:55:48 DEBUG   GTAnalysis.free_source(): Freeing parameters for 4FGL J0347.0+4844     : ['Prefactor']\n",
      "2021-06-11 19:55:48 DEBUG   GTAnalysis.fit(): Starting fit.\n",
      "2021-06-11 19:55:48 DEBUG   GTAnalysis.fit(): Fit complete.\n",
      "2021-06-11 19:55:48 DEBUG   GTAnalysis.get_src_model(): Generating source dict for 4FGL J0347.0+4844\n",
      "2021-06-11 19:55:48 DEBUG   GTAnalysis.profile_norm(): Profiling 4FGL J0347.0+4844\n",
      "2021-06-11 19:55:49 DEBUG   GTAnalysis.profile_norm(): Finished\n",
      "2021-06-11 19:55:49 DEBUG   GTAnalysis.fit(): Fit returned successfully. Quality:   3 Status:   0\n"
     ]
    },
    {
     "name": "stderr",
     "output_type": "stream",
     "text": [
      "2021-06-11 19:55:49 DEBUG   GTAnalysis.fit(): LogLike:   421998.100 DeltaLogLike:        0.000 \n",
      "2021-06-11 19:55:49 DEBUG   GTAnalysis.optimize(): Post-fit Results npred:      1.194 TS:      0.000\n",
      "2021-06-11 19:55:49 DEBUG   GTAnalysis.free_source(): Fixing parameters for 4FGL J0347.0+4844     : ['Prefactor']\n",
      "2021-06-11 19:55:49 DEBUG   GTAnalysis.optimize(): Fitting 4FGL J0202.7+4204 npred:      4.521 TS:      0.003\n",
      "2021-06-11 19:55:49 DEBUG   GTAnalysis.free_source(): Freeing parameters for 4FGL J0202.7+4204     : ['Prefactor']\n",
      "2021-06-11 19:55:49 DEBUG   GTAnalysis.fit(): Starting fit.\n",
      "2021-06-11 19:55:49 DEBUG   GTAnalysis.fit(): Fit complete.\n",
      "2021-06-11 19:55:49 DEBUG   GTAnalysis.get_src_model(): Generating source dict for 4FGL J0202.7+4204\n",
      "2021-06-11 19:55:49 DEBUG   GTAnalysis.profile_norm(): Profiling 4FGL J0202.7+4204\n",
      "2021-06-11 19:55:50 DEBUG   GTAnalysis.profile_norm(): Finished\n",
      "2021-06-11 19:55:50 DEBUG   GTAnalysis.fit(): Fit returned successfully. Quality:   3 Status:   0\n",
      "2021-06-11 19:55:50 DEBUG   GTAnalysis.fit(): LogLike:   421998.101 DeltaLogLike:        0.001 \n",
      "2021-06-11 19:55:50 DEBUG   GTAnalysis.optimize(): Post-fit Results npred:      0.000 TS:     -0.000\n",
      "2021-06-11 19:55:50 DEBUG   GTAnalysis.free_source(): Fixing parameters for 4FGL J0202.7+4204     : ['Prefactor']\n",
      "2021-06-11 19:55:50 DEBUG   GTAnalysis.optimize(): Skipping 4FGL J0231.0+3505 with npred      0.976\n",
      "2021-06-11 19:55:50 DEBUG   GTAnalysis.optimize(): Skipping 4FGL J0242.3+5216 with npred      0.850\n",
      "2021-06-11 19:55:50 DEBUG   GTAnalysis.optimize(): Skipping 4FGL J0358.1+2850 with npred      0.658\n",
      "2021-06-11 19:55:50 DEBUG   GTAnalysis.optimize(): Skipping 4FGL J0222.7+5016 with npred      0.640\n",
      "2021-06-11 19:55:50 DEBUG   GTAnalysis.optimize(): Skipping 4FGL J0410.9+4216 with npred      0.388\n",
      "2021-06-11 19:55:50 DEBUG   GTAnalysis.optimize(): Skipping 4FGL J0346.2+3235 with npred      0.135\n",
      "2021-06-11 19:55:50 DEBUG   GTAnalysis.optimize(): Skipping 4FGL J0314.1+5033 with npred      0.130\n",
      "2021-06-11 19:55:50 DEBUG   GTAnalysis.optimize(): Skipping 4FGL J0302.5+3354 with npred      0.086\n",
      "2021-06-11 19:55:50 DEBUG   GTAnalysis.optimize(): Skipping 4FGL J0245.0+4755 with npred      0.063\n",
      "2021-06-11 19:55:50 DEBUG   GTAnalysis.optimize(): Skipping 4FGL J0230.8+4032 with npred      0.062\n",
      "2021-06-11 19:55:50 DEBUG   GTAnalysis.optimize(): Skipping 4FGL J0218.9+3643 with npred      0.045\n",
      "2021-06-11 19:55:50 DEBUG   GTAnalysis.optimize(): Skipping 4FGL J0344.2+3203c with npred      0.044\n",
      "2021-06-11 19:55:50 DEBUG   GTAnalysis.optimize(): Skipping 4FGL J0402.5+5402 with npred      0.027\n",
      "2021-06-11 19:55:50 DEBUG   GTAnalysis.optimize(): Skipping 4FGL J0400.7+3920 with npred      0.025\n",
      "2021-06-11 19:55:50 DEBUG   GTAnalysis.optimize(): Skipping 4FGL J0248.6+4230 with npred      0.024\n",
      "2021-06-11 19:55:50 DEBUG   GTAnalysis.optimize(): Skipping 4FGL J0253.5+3216 with npred      0.022\n",
      "2021-06-11 19:55:50 DEBUG   GTAnalysis.optimize(): Skipping 4FGL J0336.4+3224 with npred      0.010\n",
      "2021-06-11 19:55:50 DEBUG   GTAnalysis.optimize(): Skipping 4FGL J0344.4+3432 with npred      0.009\n",
      "2021-06-11 19:55:50 DEBUG   GTAnalysis.optimize(): Skipping 4FGL J0248.6+5131 with npred      0.007\n",
      "2021-06-11 19:55:50 DEBUG   GTAnalysis.optimize(): Skipping 4FGL J0303.2+3149 with npred      0.006\n",
      "2021-06-11 19:55:50 DEBUG   GTAnalysis.optimize(): Skipping 4FGL J0314.1+2827 with npred      0.006\n",
      "2021-06-11 19:55:50 DEBUG   GTAnalysis.optimize(): Skipping 4FGL J0325.3+3332 with npred      0.005\n",
      "2021-06-11 19:55:50 DEBUG   GTAnalysis.optimize(): Skipping 4FGL J0357.8+3204 with npred      0.002\n",
      "2021-06-11 19:55:50 DEBUG   GTAnalysis.optimize(): Skipping 4FGL J0233.0+3740 with npred      0.002\n",
      "2021-06-11 19:55:50 DEBUG   GTAnalysis.optimize(): Skipping 4FGL J0420.2+4012 with npred      0.001\n",
      "2021-06-11 19:55:50 DEBUG   GTAnalysis.optimize(): Skipping 4FGL J0418.2+3807 with npred      0.001\n",
      "2021-06-11 19:55:50 DEBUG   GTAnalysis.optimize(): Skipping 4FGL J0427.9+3632c with npred      0.001\n",
      "2021-06-11 19:55:50 DEBUG   GTAnalysis.optimize(): Skipping 4FGL J0359.4+5414 with npred      0.001\n",
      "2021-06-11 19:55:50 DEBUG   GTAnalysis.optimize(): Skipping 4FGL J0423.9+4150 with npred      0.001\n",
      "2021-06-11 19:55:50 DEBUG   GTAnalysis.optimize(): Skipping 4FGL J0237.8+5238 with npred      0.000\n",
      "2021-06-11 19:55:50 DEBUG   GTAnalysis.optimize(): Skipping 4FGL J0405.9+3041 with npred      0.000\n",
      "2021-06-11 19:55:50 DEBUG   GTAnalysis.optimize(): Skipping 4FGL J0340.4+5302 with npred      0.000\n",
      "2021-06-11 19:55:50 DEBUG   GTAnalysis.optimize(): Skipping 4FGL J0220.2+3246 with npred      0.000\n",
      "2021-06-11 19:55:50 DEBUG   GTAnalysis.optimize(): Skipping 4FGL J0418.4+3414 with npred      0.000\n",
      "2021-06-11 19:55:50 DEBUG   GTAnalysis.optimize(): Skipping 4FGL J0259.3+5453 with npred      0.000\n",
      "2021-06-11 19:55:50 DEBUG   GTAnalysis.optimize(): Skipping 4FGL J0333.7+2916 with npred      0.000\n",
      "2021-06-11 19:55:50 DEBUG   GTAnalysis.optimize(): Skipping 4FGL J0341.9+3153c with npred      0.000\n",
      "2021-06-11 19:55:50 DEBUG   GTAnalysis.optimize(): Skipping 4FGL J0414.3+4522 with npred      0.000\n",
      "2021-06-11 19:55:50 DEBUG   GTAnalysis.optimize(): Skipping 4FGL J0409.4+3201 with npred      0.000\n",
      "2021-06-11 19:55:50 DEBUG   GTAnalysis.optimize(): Fitting shape galdiff TS: 190943.884\n",
      "2021-06-11 19:55:50 DEBUG   GTAnalysis.free_source(): Freeing parameters for galdiff               : ['Prefactor', 'Index']\n",
      "2021-06-11 19:55:50 DEBUG   GTAnalysis.fit(): Starting fit.\n"
     ]
    },
    {
     "name": "stdout",
     "output_type": "stream",
     "text": [
      "Fitting shape galdiff TS: 190943.884\n"
     ]
    },
    {
     "name": "stderr",
     "output_type": "stream",
     "text": [
      "2021-06-11 19:55:51 DEBUG   GTAnalysis.fit(): Fit complete.\n",
      "2021-06-11 19:55:51 DEBUG   GTAnalysis.get_src_model(): Generating source dict for galdiff\n",
      "2021-06-11 19:55:51 DEBUG   GTAnalysis.profile_norm(): Profiling galdiff\n",
      "2021-06-11 19:55:51 DEBUG   GTAnalysis.free_source(): Fixing parameters for galdiff               : ['Index']\n",
      "2021-06-11 19:55:52 DEBUG   GTAnalysis.profile_norm(): Finished\n",
      "2021-06-11 19:55:52 DEBUG   GTAnalysis.fit(): Fit returned successfully. Quality:   3 Status:   0\n",
      "2021-06-11 19:55:52 DEBUG   GTAnalysis.fit(): LogLike:   421998.146 DeltaLogLike:        0.045 \n",
      "2021-06-11 19:55:52 DEBUG   GTAnalysis.free_source(): Fixing parameters for galdiff               : ['Prefactor', 'Index']\n",
      "2021-06-11 19:55:52 DEBUG   GTAnalysis.optimize(): Fitting shape 4FGL J0319.8+4130 TS: 131548.173\n",
      "2021-06-11 19:55:52 DEBUG   GTAnalysis.free_source(): Freeing parameters for 4FGL J0319.8+4130     : ['Normalization']\n",
      "2021-06-11 19:55:52 DEBUG   GTAnalysis.fit(): Starting fit.\n"
     ]
    },
    {
     "name": "stdout",
     "output_type": "stream",
     "text": [
      "Fitting shape 4FGL J0319.8+4130 TS: 131548.173\n"
     ]
    },
    {
     "name": "stderr",
     "output_type": "stream",
     "text": [
      "2021-06-11 19:55:52 DEBUG   GTAnalysis.fit(): Fit complete.\n",
      "2021-06-11 19:55:52 DEBUG   GTAnalysis.get_src_model(): Generating source dict for 4FGL J0319.8+4130\n",
      "2021-06-11 19:55:52 DEBUG   GTAnalysis.profile_norm(): Profiling 4FGL J0319.8+4130\n",
      "2021-06-11 19:55:53 DEBUG   GTAnalysis.profile_norm(): Finished\n",
      "2021-06-11 19:55:53 DEBUG   GTAnalysis.fit(): Fit returned successfully. Quality:   3 Status:   0\n",
      "2021-06-11 19:55:53 DEBUG   GTAnalysis.fit(): LogLike:   421998.154 DeltaLogLike:        0.008 \n",
      "2021-06-11 19:55:53 DEBUG   GTAnalysis.free_source(): Fixing parameters for 4FGL J0319.8+4130     : ['Normalization']\n",
      "2021-06-11 19:55:53 DEBUG   GTAnalysis.optimize(): Fitting shape 4FGL J0340.3+4130 TS:   2970.088\n",
      "2021-06-11 19:55:53 DEBUG   GTAnalysis.free_source(): Freeing parameters for 4FGL J0340.3+4130     : ['Prefactor', 'Index1', 'Expfactor']\n",
      "2021-06-11 19:55:53 DEBUG   GTAnalysis.fit(): Starting fit.\n"
     ]
    },
    {
     "name": "stdout",
     "output_type": "stream",
     "text": [
      "Fitting shape 4FGL J0340.3+4130 TS:   2970.088\n"
     ]
    },
    {
     "name": "stderr",
     "output_type": "stream",
     "text": [
      "2021-06-11 19:55:54 DEBUG   GTAnalysis.fit(): Fit complete.\n",
      "2021-06-11 19:55:54 DEBUG   GTAnalysis.get_src_model(): Generating source dict for 4FGL J0340.3+4130\n",
      "2021-06-11 19:55:54 DEBUG   GTAnalysis.profile_norm(): Profiling 4FGL J0340.3+4130\n",
      "2021-06-11 19:55:54 DEBUG   GTAnalysis.free_source(): Fixing parameters for 4FGL J0340.3+4130     : ['Index1', 'Expfactor']\n",
      "2021-06-11 19:55:54 DEBUG   GTAnalysis.profile_norm(): Finished\n",
      "2021-06-11 19:55:54 DEBUG   GTAnalysis.fit(): Fit returned successfully. Quality:   3 Status:   0\n",
      "2021-06-11 19:55:54 DEBUG   GTAnalysis.fit(): LogLike:   421998.186 DeltaLogLike:        0.033 \n",
      "2021-06-11 19:55:54 DEBUG   GTAnalysis.free_source(): Fixing parameters for 4FGL J0340.3+4130     : ['Prefactor', 'Index1', 'Expfactor']\n",
      "2021-06-11 19:55:54 DEBUG   GTAnalysis.optimize(): Fitting shape isodiff TS:   2514.240\n",
      "2021-06-11 19:55:54 DEBUG   GTAnalysis.free_source(): Freeing parameters for isodiff               : ['Normalization']\n",
      "2021-06-11 19:55:54 DEBUG   GTAnalysis.fit(): Starting fit.\n"
     ]
    },
    {
     "name": "stdout",
     "output_type": "stream",
     "text": [
      "Fitting shape isodiff TS:   2514.240\n"
     ]
    },
    {
     "name": "stderr",
     "output_type": "stream",
     "text": [
      "2021-06-11 19:55:55 DEBUG   GTAnalysis.fit(): Fit complete.\n",
      "2021-06-11 19:55:55 DEBUG   GTAnalysis.get_src_model(): Generating source dict for isodiff\n",
      "2021-06-11 19:55:55 DEBUG   GTAnalysis.profile_norm(): Profiling isodiff\n",
      "2021-06-11 19:55:55 DEBUG   GTAnalysis.profile_norm(): Finished\n",
      "2021-06-11 19:55:55 DEBUG   GTAnalysis.fit(): Fit returned successfully. Quality:   3 Status:   0\n",
      "2021-06-11 19:55:55 DEBUG   GTAnalysis.fit(): LogLike:   421998.187 DeltaLogLike:        0.001 \n",
      "2021-06-11 19:55:55 DEBUG   GTAnalysis.free_source(): Fixing parameters for isodiff               : ['Normalization']\n",
      "2021-06-11 19:55:55 DEBUG   GTAnalysis.optimize(): Fitting shape 4FGL J0310.9+3815 TS:    125.435\n",
      "2021-06-11 19:55:55 DEBUG   GTAnalysis.free_source(): Freeing parameters for 4FGL J0310.9+3815     : ['Prefactor', 'Index']\n",
      "2021-06-11 19:55:55 DEBUG   GTAnalysis.fit(): Starting fit.\n"
     ]
    },
    {
     "name": "stdout",
     "output_type": "stream",
     "text": [
      "Fitting shape 4FGL J0310.9+3815 TS:    125.435\n"
     ]
    },
    {
     "name": "stderr",
     "output_type": "stream",
     "text": [
      "2021-06-11 19:55:56 DEBUG   GTAnalysis.fit(): Fit complete.\n",
      "2021-06-11 19:55:56 DEBUG   GTAnalysis.get_src_model(): Generating source dict for 4FGL J0310.9+3815\n",
      "2021-06-11 19:55:56 DEBUG   GTAnalysis.profile_norm(): Profiling 4FGL J0310.9+3815\n",
      "2021-06-11 19:55:56 DEBUG   GTAnalysis.free_source(): Fixing parameters for 4FGL J0310.9+3815     : ['Index']\n",
      "2021-06-11 19:55:56 DEBUG   GTAnalysis.profile_norm(): Finished\n",
      "2021-06-11 19:55:57 DEBUG   GTAnalysis.fit(): Fit returned successfully. Quality:   3 Status:   0\n",
      "2021-06-11 19:55:57 DEBUG   GTAnalysis.fit(): LogLike:   421998.203 DeltaLogLike:        0.015 \n",
      "2021-06-11 19:55:57 DEBUG   GTAnalysis.free_source(): Fixing parameters for 4FGL J0310.9+3815     : ['Prefactor', 'Index']\n",
      "2021-06-11 19:55:57 DEBUG   GTAnalysis.optimize(): Fitting shape 4FGL J0343.4+3621 TS:    101.980\n",
      "2021-06-11 19:55:57 DEBUG   GTAnalysis.free_source(): Freeing parameters for 4FGL J0343.4+3621     : ['Prefactor', 'Index']\n",
      "2021-06-11 19:55:57 DEBUG   GTAnalysis.fit(): Starting fit.\n"
     ]
    },
    {
     "name": "stdout",
     "output_type": "stream",
     "text": [
      "Fitting shape 4FGL J0343.4+3621 TS:    101.980\n"
     ]
    },
    {
     "name": "stderr",
     "output_type": "stream",
     "text": [
      "2021-06-11 19:55:57 DEBUG   GTAnalysis.fit(): Fit complete.\n",
      "2021-06-11 19:55:57 DEBUG   GTAnalysis.get_src_model(): Generating source dict for 4FGL J0343.4+3621\n",
      "2021-06-11 19:55:57 DEBUG   GTAnalysis.profile_norm(): Profiling 4FGL J0343.4+3621\n",
      "2021-06-11 19:55:57 DEBUG   GTAnalysis.free_source(): Fixing parameters for 4FGL J0343.4+3621     : ['Index']\n",
      "2021-06-11 19:55:58 DEBUG   GTAnalysis.profile_norm(): Finished\n",
      "2021-06-11 19:55:58 DEBUG   GTAnalysis.fit(): Fit returned successfully. Quality:   3 Status:   0\n",
      "2021-06-11 19:55:58 DEBUG   GTAnalysis.fit(): LogLike:   421998.261 DeltaLogLike:        0.058 \n",
      "2021-06-11 19:55:58 DEBUG   GTAnalysis.free_source(): Fixing parameters for 4FGL J0343.4+3621     : ['Prefactor', 'Index']\n",
      "2021-06-11 19:55:58 DEBUG   GTAnalysis.optimize(): Fitting shape 4FGL J0330.6+4659 TS:     99.090\n",
      "2021-06-11 19:55:58 DEBUG   GTAnalysis.free_source(): Freeing parameters for 4FGL J0330.6+4659     : ['Prefactor', 'Index']\n",
      "2021-06-11 19:55:58 DEBUG   GTAnalysis.fit(): Starting fit.\n"
     ]
    },
    {
     "name": "stdout",
     "output_type": "stream",
     "text": [
      "Fitting shape 4FGL J0330.6+4659 TS:     99.090\n"
     ]
    },
    {
     "name": "stderr",
     "output_type": "stream",
     "text": [
      "2021-06-11 19:55:59 DEBUG   GTAnalysis.fit(): Fit complete.\n",
      "2021-06-11 19:55:59 DEBUG   GTAnalysis.get_src_model(): Generating source dict for 4FGL J0330.6+4659\n",
      "2021-06-11 19:55:59 DEBUG   GTAnalysis.profile_norm(): Profiling 4FGL J0330.6+4659\n",
      "2021-06-11 19:55:59 DEBUG   GTAnalysis.free_source(): Fixing parameters for 4FGL J0330.6+4659     : ['Index']\n",
      "2021-06-11 19:55:59 DEBUG   GTAnalysis.profile_norm(): Finished\n",
      "2021-06-11 19:55:59 DEBUG   GTAnalysis.fit(): Fit returned successfully. Quality:   3 Status:   0\n",
      "2021-06-11 19:55:59 DEBUG   GTAnalysis.fit(): LogLike:   421998.265 DeltaLogLike:        0.004 \n",
      "2021-06-11 19:55:59 DEBUG   GTAnalysis.free_source(): Fixing parameters for 4FGL J0330.6+4659     : ['Prefactor', 'Index']\n",
      "2021-06-11 19:55:59 DEBUG   GTAnalysis.optimize(): Fitting shape 4FGL J0348.8+4610 TS:     88.829\n",
      "2021-06-11 19:55:59 DEBUG   GTAnalysis.free_source(): Freeing parameters for 4FGL J0348.8+4610     : ['norm', 'alpha', 'beta']\n",
      "2021-06-11 19:55:59 DEBUG   GTAnalysis.fit(): Starting fit.\n"
     ]
    },
    {
     "name": "stdout",
     "output_type": "stream",
     "text": [
      "Fitting shape 4FGL J0348.8+4610 TS:     88.829\n"
     ]
    },
    {
     "name": "stderr",
     "output_type": "stream",
     "text": [
      "2021-06-11 19:56:00 DEBUG   GTAnalysis.fit(): Fit complete.\n",
      "2021-06-11 19:56:00 DEBUG   GTAnalysis.get_src_model(): Generating source dict for 4FGL J0348.8+4610\n",
      "2021-06-11 19:56:00 DEBUG   GTAnalysis.profile_norm(): Profiling 4FGL J0348.8+4610\n",
      "2021-06-11 19:56:00 DEBUG   GTAnalysis.free_source(): Fixing parameters for 4FGL J0348.8+4610     : ['alpha', 'beta']\n",
      "2021-06-11 19:56:01 DEBUG   GTAnalysis.profile_norm(): Finished\n",
      "2021-06-11 19:56:01 DEBUG   GTAnalysis.fit(): Fit returned successfully. Quality:   3 Status:   0\n",
      "2021-06-11 19:56:01 DEBUG   GTAnalysis.fit(): LogLike:   421998.290 DeltaLogLike:        0.025 \n",
      "2021-06-11 19:56:01 DEBUG   GTAnalysis.free_source(): Fixing parameters for 4FGL J0348.8+4610     : ['norm', 'alpha', 'beta']\n",
      "2021-06-11 19:56:01 DEBUG   GTAnalysis.optimize(): Fitting shape 4FGL J0334.3+3920 TS:     86.025\n",
      "2021-06-11 19:56:01 DEBUG   GTAnalysis.free_source(): Freeing parameters for 4FGL J0334.3+3920     : ['Prefactor', 'Index']\n",
      "2021-06-11 19:56:01 DEBUG   GTAnalysis.fit(): Starting fit.\n"
     ]
    },
    {
     "name": "stdout",
     "output_type": "stream",
     "text": [
      "Fitting shape 4FGL J0334.3+3920 TS:     86.025\n"
     ]
    },
    {
     "name": "stderr",
     "output_type": "stream",
     "text": [
      "2021-06-11 19:56:01 DEBUG   GTAnalysis.fit(): Fit complete.\n",
      "2021-06-11 19:56:02 DEBUG   GTAnalysis.get_src_model(): Generating source dict for 4FGL J0334.3+3920\n",
      "2021-06-11 19:56:02 DEBUG   GTAnalysis.profile_norm(): Profiling 4FGL J0334.3+3920\n",
      "2021-06-11 19:56:02 DEBUG   GTAnalysis.free_source(): Fixing parameters for 4FGL J0334.3+3920     : ['Index']\n",
      "2021-06-11 19:56:02 DEBUG   GTAnalysis.profile_norm(): Finished\n",
      "2021-06-11 19:56:02 DEBUG   GTAnalysis.fit(): Fit returned successfully. Quality:   3 Status:   0\n",
      "2021-06-11 19:56:02 DEBUG   GTAnalysis.fit(): LogLike:   421998.291 DeltaLogLike:        0.001 \n",
      "2021-06-11 19:56:02 DEBUG   GTAnalysis.free_source(): Fixing parameters for 4FGL J0334.3+3920     : ['Prefactor', 'Index']\n",
      "2021-06-11 19:56:02 DEBUG   GTAnalysis.optimize(): Fitting shape 4FGL J0312.9+4119 TS:     84.920\n",
      "2021-06-11 19:56:02 DEBUG   GTAnalysis.free_source(): Freeing parameters for 4FGL J0312.9+4119     : ['Prefactor', 'Index']\n",
      "2021-06-11 19:56:02 DEBUG   GTAnalysis.fit(): Starting fit.\n"
     ]
    },
    {
     "name": "stdout",
     "output_type": "stream",
     "text": [
      "Fitting shape 4FGL J0312.9+4119 TS:     84.920\n"
     ]
    },
    {
     "name": "stderr",
     "output_type": "stream",
     "text": [
      "2021-06-11 19:56:03 DEBUG   GTAnalysis.fit(): Fit complete.\n",
      "2021-06-11 19:56:03 DEBUG   GTAnalysis.get_src_model(): Generating source dict for 4FGL J0312.9+4119\n",
      "2021-06-11 19:56:03 DEBUG   GTAnalysis.profile_norm(): Profiling 4FGL J0312.9+4119\n",
      "2021-06-11 19:56:03 DEBUG   GTAnalysis.free_source(): Fixing parameters for 4FGL J0312.9+4119     : ['Index']\n",
      "2021-06-11 19:56:03 DEBUG   GTAnalysis.profile_norm(): Finished\n",
      "2021-06-11 19:56:03 DEBUG   GTAnalysis.fit(): Fit returned successfully. Quality:   3 Status:   0\n",
      "2021-06-11 19:56:03 DEBUG   GTAnalysis.fit(): LogLike:   421998.293 DeltaLogLike:        0.002 \n",
      "2021-06-11 19:56:03 DEBUG   GTAnalysis.free_source(): Fixing parameters for 4FGL J0312.9+4119     : ['Prefactor', 'Index']\n",
      "2021-06-11 19:56:03 DEBUG   GTAnalysis.optimize(): Fitting shape 4FGL J0342.2+3858 TS:     67.162\n",
      "2021-06-11 19:56:03 DEBUG   GTAnalysis.free_source(): Freeing parameters for 4FGL J0342.2+3858     : ['Prefactor', 'Index']\n",
      "2021-06-11 19:56:03 DEBUG   GTAnalysis.fit(): Starting fit.\n"
     ]
    },
    {
     "name": "stdout",
     "output_type": "stream",
     "text": [
      "Fitting shape 4FGL J0342.2+3858 TS:     67.162\n"
     ]
    },
    {
     "name": "stderr",
     "output_type": "stream",
     "text": [
      "2021-06-11 19:56:04 DEBUG   GTAnalysis.fit(): Fit complete.\n",
      "2021-06-11 19:56:04 DEBUG   GTAnalysis.get_src_model(): Generating source dict for 4FGL J0342.2+3858\n",
      "2021-06-11 19:56:04 DEBUG   GTAnalysis.profile_norm(): Profiling 4FGL J0342.2+3858\n",
      "2021-06-11 19:56:04 DEBUG   GTAnalysis.free_source(): Fixing parameters for 4FGL J0342.2+3858     : ['Index']\n",
      "2021-06-11 19:56:05 DEBUG   GTAnalysis.profile_norm(): Finished\n",
      "2021-06-11 19:56:05 DEBUG   GTAnalysis.fit(): Fit returned successfully. Quality:   3 Status:   0\n",
      "2021-06-11 19:56:05 DEBUG   GTAnalysis.fit(): LogLike:   421998.301 DeltaLogLike:        0.008 \n",
      "2021-06-11 19:56:05 DEBUG   GTAnalysis.free_source(): Fixing parameters for 4FGL J0342.2+3858     : ['Prefactor', 'Index']\n",
      "2021-06-11 19:56:05 DEBUG   GTAnalysis.optimize(): Fitting shape 4FGL J0333.8+4007 TS:     65.653\n",
      "2021-06-11 19:56:05 DEBUG   GTAnalysis.free_source(): Freeing parameters for 4FGL J0333.8+4007     : ['Prefactor', 'Index']\n",
      "2021-06-11 19:56:05 DEBUG   GTAnalysis.fit(): Starting fit.\n"
     ]
    },
    {
     "name": "stdout",
     "output_type": "stream",
     "text": [
      "Fitting shape 4FGL J0333.8+4007 TS:     65.653\n"
     ]
    },
    {
     "name": "stderr",
     "output_type": "stream",
     "text": [
      "2021-06-11 19:56:05 DEBUG   GTAnalysis.fit(): Fit complete.\n",
      "2021-06-11 19:56:05 DEBUG   GTAnalysis.get_src_model(): Generating source dict for 4FGL J0333.8+4007\n",
      "2021-06-11 19:56:05 DEBUG   GTAnalysis.profile_norm(): Profiling 4FGL J0333.8+4007\n",
      "2021-06-11 19:56:05 DEBUG   GTAnalysis.free_source(): Fixing parameters for 4FGL J0333.8+4007     : ['Index']\n",
      "2021-06-11 19:56:06 DEBUG   GTAnalysis.profile_norm(): Finished\n",
      "2021-06-11 19:56:06 DEBUG   GTAnalysis.fit(): Fit returned successfully. Quality:   3 Status:   0\n",
      "2021-06-11 19:56:06 DEBUG   GTAnalysis.fit(): LogLike:   421998.301 DeltaLogLike:        0.000 \n",
      "2021-06-11 19:56:06 DEBUG   GTAnalysis.free_source(): Fixing parameters for 4FGL J0333.8+4007     : ['Prefactor', 'Index']\n",
      "2021-06-11 19:56:06 DEBUG   GTAnalysis.optimize(): Fitting shape 4FGL J0303.6+4716 TS:     52.643\n",
      "2021-06-11 19:56:06 DEBUG   GTAnalysis.free_source(): Freeing parameters for 4FGL J0303.6+4716     : ['norm', 'alpha', 'beta']\n",
      "2021-06-11 19:56:06 DEBUG   GTAnalysis.fit(): Starting fit.\n"
     ]
    },
    {
     "name": "stdout",
     "output_type": "stream",
     "text": [
      "Fitting shape 4FGL J0303.6+4716 TS:     52.643\n"
     ]
    },
    {
     "name": "stderr",
     "output_type": "stream",
     "text": [
      "2021-06-11 19:56:07 DEBUG   GTAnalysis.fit(): Fit complete.\n",
      "2021-06-11 19:56:07 DEBUG   GTAnalysis.get_src_model(): Generating source dict for 4FGL J0303.6+4716\n",
      "2021-06-11 19:56:07 DEBUG   GTAnalysis.profile_norm(): Profiling 4FGL J0303.6+4716\n",
      "2021-06-11 19:56:07 DEBUG   GTAnalysis.free_source(): Fixing parameters for 4FGL J0303.6+4716     : ['alpha', 'beta']\n",
      "2021-06-11 19:56:08 DEBUG   GTAnalysis.profile_norm(): Finished\n",
      "2021-06-11 19:56:08 DEBUG   GTAnalysis.fit(): Fit returned successfully. Quality:   3 Status:   0\n",
      "2021-06-11 19:56:08 DEBUG   GTAnalysis.fit(): LogLike:   421998.312 DeltaLogLike:        0.011 \n",
      "2021-06-11 19:56:08 DEBUG   GTAnalysis.free_source(): Fixing parameters for 4FGL J0303.6+4716     : ['norm', 'alpha', 'beta']\n",
      "2021-06-11 19:56:08 DEBUG   GTAnalysis.optimize(): Fitting shape 4FGL J0324.8+3412 TS:     48.510\n",
      "2021-06-11 19:56:08 DEBUG   GTAnalysis.free_source(): Freeing parameters for 4FGL J0324.8+3412     : ['norm', 'alpha', 'beta']\n",
      "2021-06-11 19:56:08 DEBUG   GTAnalysis.fit(): Starting fit.\n"
     ]
    },
    {
     "name": "stdout",
     "output_type": "stream",
     "text": [
      "Fitting shape 4FGL J0324.8+3412 TS:     48.510\n"
     ]
    },
    {
     "name": "stderr",
     "output_type": "stream",
     "text": [
      "2021-06-11 19:56:10 DEBUG   GTAnalysis.fit(): Fit complete.\n",
      "2021-06-11 19:56:10 DEBUG   GTAnalysis.get_src_model(): Generating source dict for 4FGL J0324.8+3412\n",
      "2021-06-11 19:56:10 DEBUG   GTAnalysis.profile_norm(): Profiling 4FGL J0324.8+3412\n",
      "2021-06-11 19:56:10 DEBUG   GTAnalysis.free_source(): Fixing parameters for 4FGL J0324.8+3412     : ['alpha', 'beta']\n",
      "2021-06-11 19:56:10 DEBUG   GTAnalysis.profile_norm(): Finished\n",
      "2021-06-11 19:56:10 DEBUG   GTAnalysis.fit(): Fit returned successfully. Quality:   2 Status: 102\n",
      "2021-06-11 19:56:10 DEBUG   GTAnalysis.fit(): LogLike:   421998.326 DeltaLogLike:        0.014 \n",
      "2021-06-11 19:56:10 DEBUG   GTAnalysis.free_source(): Fixing parameters for 4FGL J0324.8+3412     : ['norm', 'alpha', 'beta']\n",
      "2021-06-11 19:56:10 DEBUG   GTAnalysis.optimize(): Fitting shape 4FGL J0316.8+4120 TS:     37.550\n",
      "2021-06-11 19:56:10 DEBUG   GTAnalysis.free_source(): Freeing parameters for 4FGL J0316.8+4120     : ['Prefactor', 'Index']\n",
      "2021-06-11 19:56:10 DEBUG   GTAnalysis.fit(): Starting fit.\n"
     ]
    },
    {
     "name": "stdout",
     "output_type": "stream",
     "text": [
      "Fitting shape 4FGL J0316.8+4120 TS:     37.550\n"
     ]
    },
    {
     "name": "stderr",
     "output_type": "stream",
     "text": [
      "2021-06-11 19:56:11 DEBUG   GTAnalysis.fit(): Fit complete.\n",
      "2021-06-11 19:56:11 DEBUG   GTAnalysis.get_src_model(): Generating source dict for 4FGL J0316.8+4120\n",
      "2021-06-11 19:56:11 DEBUG   GTAnalysis.profile_norm(): Profiling 4FGL J0316.8+4120\n",
      "2021-06-11 19:56:11 DEBUG   GTAnalysis.free_source(): Fixing parameters for 4FGL J0316.8+4120     : ['Index']\n",
      "2021-06-11 19:56:12 DEBUG   GTAnalysis.profile_norm(): Finished\n",
      "2021-06-11 19:56:12 DEBUG   GTAnalysis.fit(): Fit returned successfully. Quality:   3 Status:   0\n",
      "2021-06-11 19:56:12 DEBUG   GTAnalysis.fit(): LogLike:   421998.369 DeltaLogLike:        0.043 \n",
      "2021-06-11 19:56:12 DEBUG   GTAnalysis.free_source(): Fixing parameters for 4FGL J0316.8+4120     : ['Prefactor', 'Index']\n",
      "2021-06-11 19:56:12 INFO    GTAnalysis.optimize(): Finished\n",
      "2021-06-11 19:56:12 INFO    GTAnalysis.optimize(): LogLike: 421998.369078 Delta-LogLike: 0.942299\n",
      "2021-06-11 19:56:12 INFO    GTAnalysis.optimize(): Execution time: 60.28 s\n"
     ]
    },
    {
     "ename": "NameError",
     "evalue": "name 'i' is not defined",
     "output_type": "error",
     "traceback": [
      "\u001b[0;31m---------------------------------------------------------------------------\u001b[0m",
      "\u001b[0;31mNameError\u001b[0m                                 Traceback (most recent call last)",
      "\u001b[0;32m<ipython-input-6-5b120b5634aa>\u001b[0m in \u001b[0;36m<module>\u001b[0;34m()\u001b[0m\n\u001b[1;32m      9\u001b[0m     \u001b[0mo_dict\u001b[0m \u001b[0;34m=\u001b[0m \u001b[0mj\u001b[0m\u001b[0;34m.\u001b[0m\u001b[0mgta\u001b[0m\u001b[0;34m.\u001b[0m\u001b[0moptimize\u001b[0m\u001b[0;34m(\u001b[0m\u001b[0;34m)\u001b[0m\u001b[0;34m\u001b[0m\u001b[0;34m\u001b[0m\u001b[0m\n\u001b[1;32m     10\u001b[0m     \u001b[0;32mif\u001b[0m \u001b[0mnp\u001b[0m\u001b[0;34m.\u001b[0m\u001b[0mabs\u001b[0m\u001b[0;34m(\u001b[0m\u001b[0mo_dict\u001b[0m\u001b[0;34m[\u001b[0m\u001b[0;34m'dloglike'\u001b[0m\u001b[0;34m]\u001b[0m\u001b[0;34m)\u001b[0m \u001b[0;34m<\u001b[0m \u001b[0;36m1.0\u001b[0m\u001b[0;34m:\u001b[0m\u001b[0;34m\u001b[0m\u001b[0;34m\u001b[0m\u001b[0m\n\u001b[0;32m---> 11\u001b[0;31m         \u001b[0mprint\u001b[0m\u001b[0;34m(\u001b[0m\u001b[0;34mf'opt {i}, done here'\u001b[0m\u001b[0;34m)\u001b[0m\u001b[0;34m\u001b[0m\u001b[0;34m\u001b[0m\u001b[0m\n\u001b[0m\u001b[1;32m     12\u001b[0m         \u001b[0;32mbreak\u001b[0m\u001b[0;34m\u001b[0m\u001b[0;34m\u001b[0m\u001b[0m\n\u001b[1;32m     13\u001b[0m \u001b[0mj\u001b[0m\u001b[0;34m.\u001b[0m\u001b[0mgta\u001b[0m\u001b[0;34m.\u001b[0m\u001b[0mfree_sources\u001b[0m\u001b[0;34m(\u001b[0m\u001b[0mfree\u001b[0m\u001b[0;34m=\u001b[0m\u001b[0;32mFalse\u001b[0m\u001b[0;34m)\u001b[0m\u001b[0;34m\u001b[0m\u001b[0;34m\u001b[0m\u001b[0m\n",
      "\u001b[0;31mNameError\u001b[0m: name 'i' is not defined"
     ]
    }
   ],
   "source": [
    "\n",
    "# call gta.simulate_roi()\n",
    "j.gta.set_source_dnde(j.name, dnde)\n",
    "j.gta.simulate_roi()\n",
    "\n",
    "# do the usual fitting stuff w/o alps\n",
    "# save loglike\n",
    "#for c in range(5):\n",
    "#    o_dict = j.gta.optimize()\n",
    "#    if np.abs(o_dict['dloglike']) < 1.0:\n",
    "#        print(f'opt {c}, done here')\n",
    "#        break\n",
    "j.gta.free_sources(free=False)\n",
    "j.gta.free_source('isodiff')\n",
    "j.gta.free_source('galdiff')\n",
    "j.gta.free_sources(distance=3.0, pars='norm')\n",
    "j.gta.free_sources(minmax_ts=[100, None], pars='norm')\n",
    "j.gta.free_source(j.name)\n",
    "j.gta.fit(optimizer='NEWMINUIT', reoptimize=True)\n",
    "\n"
   ]
  },
  {
   "cell_type": "code",
   "execution_count": 7,
   "metadata": {},
   "outputs": [
    {
     "name": "stderr",
     "output_type": "stream",
     "text": [
      "2021-06-11 20:40:52 INFO    GTAnalysis.free_source(): Fixing parameters for 4FGL J0319.8+4130     : ['Normalization']\n",
      "2021-06-11 20:40:52 INFO    GTAnalysis.free_source(): Freeing parameters for isodiff               : ['Normalization']\n",
      "2021-06-11 20:40:52 INFO    GTAnalysis.free_source(): Freeing parameters for galdiff               : ['Prefactor', 'Index']\n",
      "2021-06-11 20:40:52 INFO    GTAnalysis.free_source(): Freeing parameters for 4FGL J0319.8+4130     : ['Normalization']\n",
      "2021-06-11 20:40:52 INFO    GTAnalysis.free_source(): Freeing parameters for 4FGL J0316.8+4120     : ['Prefactor']\n",
      "2021-06-11 20:40:52 INFO    GTAnalysis.free_source(): Freeing parameters for 4FGL J0315.5+4231     : ['Prefactor']\n",
      "2021-06-11 20:40:52 INFO    GTAnalysis.free_source(): Freeing parameters for 4FGL J0312.9+4119     : ['Prefactor']\n",
      "2021-06-11 20:40:52 INFO    GTAnalysis.free_source(): Freeing parameters for 4FGL J0333.8+4007     : ['Prefactor']\n",
      "2021-06-11 20:40:52 INFO    GTAnalysis.free_source(): Freeing parameters for 4FGL J0310.9+3815     : ['Prefactor']\n",
      "2021-06-11 20:40:52 INFO    GTAnalysis.free_source(): Freeing parameters for 4FGL J0340.3+4130     : ['Prefactor']\n",
      "2021-06-11 20:40:52 INFO    GTAnalysis.free_source(): Freeing parameters for 4FGL J0330.6+4659     : ['Prefactor']\n",
      "2021-06-11 20:40:52 INFO    GTAnalysis.free_source(): Freeing parameters for 4FGL J0343.4+3621     : ['Prefactor']\n",
      "2021-06-11 20:40:52 INFO    GTAnalysis.fit(): Starting fit.\n",
      "2021-06-11 20:40:58 DEBUG   GTAnalysis.fit(): Fit complete.\n",
      "2021-06-11 20:40:58 DEBUG   GTAnalysis.get_src_model(): Generating source dict for 4FGL J0310.9+3815\n",
      "2021-06-11 20:40:58 DEBUG   GTAnalysis.profile_norm(): Profiling 4FGL J0310.9+3815\n",
      "2021-06-11 20:40:58 DEBUG   GTAnalysis.free_source(): Fixing parameters for galdiff               : ['Index']\n",
      "2021-06-11 20:42:10 DEBUG   GTAnalysis.profile_norm(): Finished\n",
      "2021-06-11 20:42:10 DEBUG   GTAnalysis.get_src_model(): Generating source dict for 4FGL J0312.9+4119\n",
      "2021-06-11 20:42:10 DEBUG   GTAnalysis.profile_norm(): Profiling 4FGL J0312.9+4119\n",
      "2021-06-11 20:42:11 DEBUG   GTAnalysis.free_source(): Fixing parameters for galdiff               : ['Index']\n",
      "2021-06-11 20:43:23 DEBUG   GTAnalysis.profile_norm(): Finished\n",
      "2021-06-11 20:43:23 DEBUG   GTAnalysis.get_src_model(): Generating source dict for 4FGL J0315.5+4231\n",
      "2021-06-11 20:43:23 DEBUG   GTAnalysis.profile_norm(): Profiling 4FGL J0315.5+4231\n",
      "2021-06-11 20:43:23 DEBUG   GTAnalysis.free_source(): Fixing parameters for galdiff               : ['Index']\n",
      "2021-06-11 20:44:31 DEBUG   GTAnalysis.profile_norm(): Finished\n",
      "2021-06-11 20:44:31 DEBUG   GTAnalysis.get_src_model(): Generating source dict for 4FGL J0316.8+4120\n",
      "2021-06-11 20:44:31 DEBUG   GTAnalysis.profile_norm(): Profiling 4FGL J0316.8+4120\n",
      "2021-06-11 20:44:31 DEBUG   GTAnalysis.free_source(): Fixing parameters for galdiff               : ['Index']\n",
      "2021-06-11 20:45:42 DEBUG   GTAnalysis.profile_norm(): Finished\n",
      "2021-06-11 20:45:42 DEBUG   GTAnalysis.get_src_model(): Generating source dict for 4FGL J0319.8+4130\n",
      "2021-06-11 20:45:42 DEBUG   GTAnalysis.profile_norm(): Profiling 4FGL J0319.8+4130\n",
      "2021-06-11 20:45:42 DEBUG   GTAnalysis.free_source(): Fixing parameters for galdiff               : ['Index']\n",
      "2021-06-11 20:47:01 DEBUG   GTAnalysis.profile_norm(): Finished\n",
      "2021-06-11 20:47:01 DEBUG   GTAnalysis.get_src_model(): Generating source dict for 4FGL J0330.6+4659\n",
      "2021-06-11 20:47:01 DEBUG   GTAnalysis.profile_norm(): Profiling 4FGL J0330.6+4659\n",
      "2021-06-11 20:47:01 DEBUG   GTAnalysis.free_source(): Fixing parameters for galdiff               : ['Index']\n",
      "2021-06-11 20:48:13 DEBUG   GTAnalysis.profile_norm(): Finished\n",
      "2021-06-11 20:48:13 DEBUG   GTAnalysis.get_src_model(): Generating source dict for 4FGL J0333.8+4007\n",
      "2021-06-11 20:48:13 DEBUG   GTAnalysis.profile_norm(): Profiling 4FGL J0333.8+4007\n",
      "2021-06-11 20:48:13 DEBUG   GTAnalysis.free_source(): Fixing parameters for galdiff               : ['Index']\n",
      "2021-06-11 20:49:26 DEBUG   GTAnalysis.profile_norm(): Finished\n",
      "2021-06-11 20:49:26 DEBUG   GTAnalysis.get_src_model(): Generating source dict for 4FGL J0340.3+4130\n",
      "2021-06-11 20:49:26 DEBUG   GTAnalysis.profile_norm(): Profiling 4FGL J0340.3+4130\n",
      "2021-06-11 20:49:27 DEBUG   GTAnalysis.free_source(): Fixing parameters for galdiff               : ['Index']\n",
      "2021-06-11 20:50:38 DEBUG   GTAnalysis.profile_norm(): Finished\n",
      "2021-06-11 20:50:38 DEBUG   GTAnalysis.get_src_model(): Generating source dict for 4FGL J0343.4+3621\n",
      "2021-06-11 20:50:38 DEBUG   GTAnalysis.profile_norm(): Profiling 4FGL J0343.4+3621\n",
      "2021-06-11 20:50:38 DEBUG   GTAnalysis.free_source(): Fixing parameters for galdiff               : ['Index']\n",
      "2021-06-11 20:51:51 DEBUG   GTAnalysis.profile_norm(): Finished\n",
      "2021-06-11 20:51:52 DEBUG   GTAnalysis.get_src_model(): Generating source dict for galdiff\n",
      "2021-06-11 20:51:52 DEBUG   GTAnalysis.profile_norm(): Profiling galdiff\n",
      "2021-06-11 20:51:52 DEBUG   GTAnalysis.free_source(): Fixing parameters for galdiff               : ['Index']\n",
      "2021-06-11 20:53:15 DEBUG   GTAnalysis.profile_norm(): Finished\n",
      "2021-06-11 20:53:15 DEBUG   GTAnalysis.get_src_model(): Generating source dict for isodiff\n",
      "2021-06-11 20:53:15 DEBUG   GTAnalysis.profile_norm(): Profiling isodiff\n",
      "2021-06-11 20:53:15 DEBUG   GTAnalysis.free_source(): Fixing parameters for galdiff               : ['Index']\n",
      "2021-06-11 20:54:31 DEBUG   GTAnalysis.profile_norm(): Finished\n",
      "2021-06-11 20:54:31 INFO    GTAnalysis.fit(): Fit returned successfully. Quality:   3 Status:   0\n",
      "2021-06-11 20:54:31 INFO    GTAnalysis.fit(): LogLike:   421998.541 DeltaLogLike:        0.172 \n"
     ]
    },
    {
     "data": {
      "text/plain": [
       "{'fit_quality': 3,\n",
       " 'fit_status': 0,\n",
       " 'fit_success': True,\n",
       " 'dloglike': 0.1721347636776045,\n",
       " 'edm': 0.00013432964752175996,\n",
       " 'loglike': 421998.5412128144,\n",
       " 'covariance': array([[ 1.03886436e-01,  6.49755244e-04,  1.50817128e-03,\n",
       "         -5.59819724e-04,  3.98796368e-05,  3.16448417e-02,\n",
       "          6.72685553e-03,  6.96749418e-04,  2.66341448e-03,\n",
       "          2.06236285e-04,  4.61364282e-05, -1.96781751e-03],\n",
       "        [ 6.49755244e-04,  3.38416026e-01, -4.47903112e-03,\n",
       "         -6.29343576e-02, -4.98973512e-04,  6.81336770e-03,\n",
       "          1.00469987e-02,  5.42632924e-04,  3.76770875e-03,\n",
       "          3.98395692e-04,  4.65025655e-05, -3.00019376e-03],\n",
       "        [ 1.50817128e-03, -4.47903112e-03,  1.57223536e-01,\n",
       "         -1.61307141e-03, -1.03260369e-04, -3.17978593e-03,\n",
       "          1.86696372e-03,  2.73201557e-04,  7.05293821e-04,\n",
       "         -8.99182888e-06,  3.88566653e-05, -2.49814912e-04],\n",
       "        [-5.59819724e-04, -6.29343576e-02, -1.61307141e-03,\n",
       "          2.21313470e-01, -9.48330900e-04, -8.17967326e-04,\n",
       "          1.46275591e-03,  1.26062505e-04,  2.09028359e-04,\n",
       "          7.32408270e-05,  1.07194524e-05, -5.26381263e-04],\n",
       "        [ 3.98796368e-05, -4.98973512e-04, -1.03260369e-04,\n",
       "         -9.48330900e-04,  3.04728260e-05,  4.49979860e-04,\n",
       "         -8.42922661e-05,  4.75748049e-06,  7.37558559e-05,\n",
       "         -3.71799068e-07, -7.38395752e-07, -8.88874271e-06],\n",
       "        [ 3.16448417e-02,  6.81336770e-03, -3.17978593e-03,\n",
       "         -8.17967326e-04,  4.49979860e-04,  4.36043456e+00,\n",
       "          9.19447317e-02,  1.56858417e-02,  1.02035670e-01,\n",
       "         -3.68362339e-03, -2.17736402e-03,  1.56561828e-02],\n",
       "        [ 6.72685553e-03,  1.00469987e-02,  1.86696372e-03,\n",
       "          1.46275591e-03, -8.42922661e-05,  9.19447317e-02,\n",
       "          4.38911682e-01, -3.03284058e-03,  7.66077614e-05,\n",
       "         -1.86045136e-04, -7.63201927e-05, -2.73059806e-04],\n",
       "        [ 6.96749418e-04,  5.42632924e-04,  2.73201557e-04,\n",
       "          1.26062505e-04,  4.75748049e-06,  1.56858417e-02,\n",
       "         -3.03284058e-03,  2.25473868e-02,  1.59547720e-03,\n",
       "         -9.90000485e-05, -2.65032705e-06,  2.41381340e-04],\n",
       "        [ 2.66341448e-03,  3.76770875e-03,  7.05293821e-04,\n",
       "          2.09028359e-04,  7.37558559e-05,  1.02035670e-01,\n",
       "          7.66077614e-05,  1.59547720e-03,  2.97817408e-01,\n",
       "         -3.24441838e-04, -1.33266844e-04,  9.62706545e-04],\n",
       "        [ 2.06236285e-04,  3.98395692e-04, -8.99182888e-06,\n",
       "          7.32408270e-05, -3.71799068e-07, -3.68362339e-03,\n",
       "         -1.86045136e-04, -9.90000485e-05, -3.24441838e-04,\n",
       "          3.15417519e-05,  4.33582118e-06, -1.39110334e-04],\n",
       "        [ 4.61364282e-05,  4.65025655e-05,  3.88566653e-05,\n",
       "          1.07194524e-05, -7.38395752e-07, -2.17736402e-03,\n",
       "         -7.63201927e-05, -2.65032705e-06, -1.33266844e-04,\n",
       "          4.33582118e-06,  8.42521075e-06, -4.93845284e-05],\n",
       "        [-1.96781751e-03, -3.00019376e-03, -2.49814912e-04,\n",
       "         -5.26381263e-04, -8.88874271e-06,  1.56561828e-02,\n",
       "         -2.73059806e-04,  2.41381340e-04,  9.62706545e-04,\n",
       "         -1.39110334e-04, -4.93845284e-05,  8.42528814e-04]]),\n",
       " 'correlation': array([[ 1.00000000e+00,  3.46533248e-03,  1.18008275e-02,\n",
       "         -3.69202683e-03,  2.24137955e-02,  4.70174009e-02,\n",
       "          3.15024338e-02,  1.43962402e-02,  1.51420367e-02,\n",
       "          1.13931220e-01,  4.93144461e-02, -2.10335712e-01],\n",
       "        [ 3.46533248e-03,  1.00000000e+00, -1.94177917e-02,\n",
       "         -2.29963240e-01, -1.55380196e-01,  5.60881971e-03,\n",
       "          2.60688765e-02,  6.21201609e-03,  1.18679805e-02,\n",
       "          1.21940022e-01,  2.75398180e-02, -1.77677102e-01],\n",
       "        [ 1.18008275e-02, -1.94177917e-02,  1.00000000e+00,\n",
       "         -8.64750638e-03, -4.71757189e-02, -3.84038016e-03,\n",
       "          7.10703622e-03,  4.58855861e-03,  3.25938948e-03,\n",
       "         -4.03781436e-03,  3.37610823e-02, -2.17053703e-02],\n",
       "        [-3.69202683e-03, -2.29963240e-01, -8.64750638e-03,\n",
       "          1.00000000e+00, -3.65173801e-01, -8.32658932e-04,\n",
       "          4.69331138e-03,  1.78457129e-03,  8.14190906e-04,\n",
       "          2.77208415e-02,  7.85015607e-03, -3.85482012e-02],\n",
       "        [ 2.24137955e-02, -1.55380196e-01, -4.71757189e-02,\n",
       "         -3.65173801e-01,  1.00000000e+00,  3.90365856e-02,\n",
       "         -2.30485067e-02,  5.73947995e-03,  2.44830265e-02,\n",
       "         -1.19924806e-02, -4.60831797e-02, -5.54742691e-02],\n",
       "        [ 4.70174009e-02,  5.60881971e-03, -3.84038016e-03,\n",
       "         -8.32658932e-04,  3.90365856e-02,  1.00000000e+00,\n",
       "          6.64619980e-02,  5.00258912e-02,  8.95389699e-02,\n",
       "         -3.14099633e-01, -3.59232624e-01,  2.58302504e-01],\n",
       "        [ 3.15024338e-02,  2.60688765e-02,  7.10703622e-03,\n",
       "          4.69331138e-03, -2.30485067e-02,  6.64619980e-02,\n",
       "          1.00000000e+00, -3.04868746e-02,  2.11889366e-04,\n",
       "         -5.00019388e-02, -3.96881177e-02, -1.41996234e-02],\n",
       "        [ 1.43962402e-02,  6.21201609e-03,  4.58855861e-03,\n",
       "          1.78457129e-03,  5.73947995e-03,  5.00258912e-02,\n",
       "         -3.04868746e-02,  1.00000000e+00,  1.94700675e-02,\n",
       "         -1.17393593e-01, -6.08080358e-03,  5.53813077e-02],\n",
       "        [ 1.51420367e-02,  1.18679805e-02,  3.25938948e-03,\n",
       "          8.14190906e-04,  2.44830265e-02,  8.95389699e-02,\n",
       "          2.11889366e-04,  1.94700675e-02,  1.00000000e+00,\n",
       "         -1.05856836e-01, -8.41311234e-02,  6.07752150e-02],\n",
       "        [ 1.13931220e-01,  1.21940022e-01, -4.03781436e-03,\n",
       "          2.77208415e-02, -1.19924806e-02, -3.14099633e-01,\n",
       "         -5.00019388e-02, -1.17393593e-01, -1.05856836e-01,\n",
       "          1.00000000e+00,  2.65973318e-01, -8.53343938e-01],\n",
       "        [ 4.93144461e-02,  2.75398180e-02,  3.37610823e-02,\n",
       "          7.85015607e-03, -4.60831797e-02, -3.59232624e-01,\n",
       "         -3.96881177e-02, -6.08080358e-03, -8.41311234e-02,\n",
       "          2.65973318e-01,  1.00000000e+00, -5.86149155e-01],\n",
       "        [-2.10335712e-01, -1.77677102e-01, -2.17053703e-02,\n",
       "         -3.85482012e-02, -5.54742691e-02,  2.58302504e-01,\n",
       "         -1.41996234e-02,  5.53813077e-02,  6.07752150e-02,\n",
       "         -8.53343938e-01, -5.86149155e-01,  1.00000000e+00]]),\n",
       " 'values': array([2.91942228e+00, 4.13950822e+00, 1.17135925e+00, 2.25550569e+00,\n",
       "        9.99924523e-01, 1.77097079e+01, 4.34715932e+00, 5.04361788e+00,\n",
       "        4.46248607e+00, 9.61441169e-01, 1.60434998e-02, 9.38029562e-01]),\n",
       " 'errors': array([0.32231419, 0.58173536, 0.39651423, 0.47043966, 0.00552022,\n",
       "        2.08816536, 0.6625041 , 0.15015787, 0.5457265 , 0.0056162 ,\n",
       "        0.00290262, 0.02902635]),\n",
       " 'indices': array([ 94, 100, 109, 112, 115, 127, 134, 144, 159, 249, 250, 252]),\n",
       " 'is_norm': array([ True,  True,  True,  True,  True,  True,  True,  True,  True,\n",
       "         True, False,  True]),\n",
       " 'src_names': ['4FGL J0310.9+3815',\n",
       "  '4FGL J0312.9+4119',\n",
       "  '4FGL J0315.5+4231',\n",
       "  '4FGL J0316.8+4120',\n",
       "  '4FGL J0319.8+4130',\n",
       "  '4FGL J0330.6+4659',\n",
       "  '4FGL J0333.8+4007',\n",
       "  '4FGL J0340.3+4130',\n",
       "  '4FGL J0343.4+3621',\n",
       "  'galdiff',\n",
       "  'galdiff',\n",
       "  'isodiff'],\n",
       " 'par_names': ['Prefactor',\n",
       "  'Prefactor',\n",
       "  'Prefactor',\n",
       "  'Prefactor',\n",
       "  'Normalization',\n",
       "  'Prefactor',\n",
       "  'Prefactor',\n",
       "  'Prefactor',\n",
       "  'Prefactor',\n",
       "  'Prefactor',\n",
       "  'Index',\n",
       "  'Normalization'],\n",
       " 'config': {'optimizer': 'NEWMINUIT',\n",
       "  'tol': 0.001,\n",
       "  'max_iter': 100,\n",
       "  'init_lambda': 0.0001,\n",
       "  'retries': 3,\n",
       "  'min_fit_quality': 2,\n",
       "  'verbosity': 0,\n",
       "  'covar': True,\n",
       "  'reoptimize': True},\n",
       " 'niter': 1}"
      ]
     },
     "execution_count": 7,
     "metadata": {},
     "output_type": "execute_result"
    }
   ],
   "source": [
    "j.gta.free_sources(free=False)\n",
    "j.gta.free_source('isodiff')\n",
    "j.gta.free_source('galdiff')\n",
    "j.gta.free_sources(distance=3.0, pars='norm')\n",
    "j.gta.free_sources(minmax_ts=[100, None], pars='norm')\n",
    "j.gta.free_source(j.name)\n",
    "j.gta.fit(optimizer='NEWMINUIT', reoptimize=True)"
   ]
  },
  {
   "cell_type": "code",
   "execution_count": 8,
   "metadata": {},
   "outputs": [
    {
     "name": "stderr",
     "output_type": "stream",
     "text": [
      "2021-06-11 20:54:31 DEBUG   GTAnalysis.get_src_model(): Generating source dict for 4FGL J0319.8+4130\n",
      "2021-06-11 20:54:31 DEBUG   GTAnalysis.profile_norm(): Profiling 4FGL J0319.8+4130\n",
      "2021-06-11 20:54:31 DEBUG   GTAnalysis.free_source(): Fixing parameters for galdiff               : ['Index']\n"
     ]
    },
    {
     "name": "stdout",
     "output_type": "stream",
     "text": [
      "3.346142739e-11 2.070081942 0.061929495120000004 1065.3058150000002\n"
     ]
    },
    {
     "name": "stderr",
     "output_type": "stream",
     "text": [
      "2021-06-11 20:54:32 DEBUG   GTAnalysis.profile_norm(): Finished\n",
      "2021-06-11 20:54:32 DEBUG   GTAnalysis.get_src_model(): Generating source dict for 4FGL J0319.8+4130\n",
      "2021-06-11 20:54:32 DEBUG   GTAnalysis.profile_norm(): Profiling 4FGL J0319.8+4130\n",
      "2021-06-11 20:54:32 DEBUG   GTAnalysis.free_source(): Fixing parameters for galdiff               : ['Index']\n"
     ]
    },
    {
     "name": "stdout",
     "output_type": "stream",
     "text": [
      "3.42048540947839e-11 2.070081942 0.061929495120000004 1065.3058150000002\n"
     ]
    },
    {
     "name": "stderr",
     "output_type": "stream",
     "text": [
      "2021-06-11 20:54:33 DEBUG   GTAnalysis.profile_norm(): Finished\n",
      "2021-06-11 20:54:33 DEBUG   GTAnalysis.get_src_model(): Generating source dict for 4FGL J0319.8+4130\n",
      "2021-06-11 20:54:33 DEBUG   GTAnalysis.profile_norm(): Profiling 4FGL J0319.8+4130\n",
      "2021-06-11 20:54:33 DEBUG   GTAnalysis.free_source(): Fixing parameters for galdiff               : ['Index']\n"
     ]
    },
    {
     "name": "stdout",
     "output_type": "stream",
     "text": [
      "3.2718000685216095e-11 2.070081942 0.061929495120000004 1065.3058150000002\n"
     ]
    },
    {
     "name": "stderr",
     "output_type": "stream",
     "text": [
      "2021-06-11 20:54:33 DEBUG   GTAnalysis.profile_norm(): Finished\n",
      "2021-06-11 20:54:33 DEBUG   GTAnalysis.get_src_model(): Generating source dict for 4FGL J0319.8+4130\n",
      "2021-06-11 20:54:33 DEBUG   GTAnalysis.profile_norm(): Profiling 4FGL J0319.8+4130\n",
      "2021-06-11 20:54:34 DEBUG   GTAnalysis.free_source(): Fixing parameters for galdiff               : ['Index']\n"
     ]
    },
    {
     "name": "stdout",
     "output_type": "stream",
     "text": [
      "3.354538379674651e-11 2.070081942 0.061929495120000004 1065.3058150000002\n"
     ]
    },
    {
     "name": "stderr",
     "output_type": "stream",
     "text": [
      "2021-06-11 20:54:34 DEBUG   GTAnalysis.profile_norm(): Finished\n",
      "2021-06-11 20:54:34 DEBUG   GTAnalysis.get_src_model(): Generating source dict for 4FGL J0319.8+4130\n",
      "2021-06-11 20:54:34 DEBUG   GTAnalysis.profile_norm(): Profiling 4FGL J0319.8+4130\n",
      "2021-06-11 20:54:34 DEBUG   GTAnalysis.free_source(): Fixing parameters for galdiff               : ['Index']\n"
     ]
    },
    {
     "name": "stdout",
     "output_type": "stream",
     "text": [
      "3.337747098325348e-11 2.070081942 0.061929495120000004 1065.3058150000002\n"
     ]
    },
    {
     "name": "stderr",
     "output_type": "stream",
     "text": [
      "2021-06-11 20:54:35 DEBUG   GTAnalysis.profile_norm(): Finished\n",
      "2021-06-11 20:54:35 DEBUG   GTAnalysis.get_src_model(): Generating source dict for 4FGL J0319.8+4130\n",
      "2021-06-11 20:54:35 DEBUG   GTAnalysis.profile_norm(): Profiling 4FGL J0319.8+4130\n",
      "2021-06-11 20:54:35 DEBUG   GTAnalysis.free_source(): Fixing parameters for galdiff               : ['Index']\n"
     ]
    },
    {
     "name": "stdout",
     "output_type": "stream",
     "text": [
      "3.346142739e-11 2.1160738291241916 0.061929495120000004 1065.3058150000002\n"
     ]
    },
    {
     "name": "stderr",
     "output_type": "stream",
     "text": [
      "2021-06-11 20:54:36 DEBUG   GTAnalysis.profile_norm(): Finished\n",
      "2021-06-11 20:54:36 DEBUG   GTAnalysis.get_src_model(): Generating source dict for 4FGL J0319.8+4130\n",
      "2021-06-11 20:54:36 DEBUG   GTAnalysis.profile_norm(): Profiling 4FGL J0319.8+4130\n",
      "2021-06-11 20:54:36 DEBUG   GTAnalysis.free_source(): Fixing parameters for galdiff               : ['Index']\n"
     ]
    },
    {
     "name": "stdout",
     "output_type": "stream",
     "text": [
      "3.346142739e-11 2.024090054875808 0.061929495120000004 1065.3058150000002\n"
     ]
    },
    {
     "name": "stderr",
     "output_type": "stream",
     "text": [
      "2021-06-11 20:54:37 DEBUG   GTAnalysis.profile_norm(): Finished\n",
      "2021-06-11 20:54:37 DEBUG   GTAnalysis.get_src_model(): Generating source dict for 4FGL J0319.8+4130\n",
      "2021-06-11 20:54:37 DEBUG   GTAnalysis.profile_norm(): Profiling 4FGL J0319.8+4130\n",
      "2021-06-11 20:54:37 DEBUG   GTAnalysis.free_source(): Fixing parameters for galdiff               : ['Index']\n"
     ]
    },
    {
     "name": "stdout",
     "output_type": "stream",
     "text": [
      "3.346142739e-11 2.074681130712419 0.061929495120000004 1065.3058150000002\n"
     ]
    },
    {
     "name": "stderr",
     "output_type": "stream",
     "text": [
      "2021-06-11 20:54:37 DEBUG   GTAnalysis.profile_norm(): Finished\n",
      "2021-06-11 20:54:37 DEBUG   GTAnalysis.get_src_model(): Generating source dict for 4FGL J0319.8+4130\n",
      "2021-06-11 20:54:37 DEBUG   GTAnalysis.profile_norm(): Profiling 4FGL J0319.8+4130\n",
      "2021-06-11 20:54:38 DEBUG   GTAnalysis.free_source(): Fixing parameters for galdiff               : ['Index']\n"
     ]
    },
    {
     "name": "stdout",
     "output_type": "stream",
     "text": [
      "3.346142739e-11 2.0654827532875806 0.061929495120000004 1065.3058150000002\n"
     ]
    },
    {
     "name": "stderr",
     "output_type": "stream",
     "text": [
      "2021-06-11 20:54:38 DEBUG   GTAnalysis.profile_norm(): Finished\n",
      "2021-06-11 20:54:38 DEBUG   GTAnalysis.get_src_model(): Generating source dict for 4FGL J0319.8+4130\n",
      "2021-06-11 20:54:38 DEBUG   GTAnalysis.profile_norm(): Profiling 4FGL J0319.8+4130\n",
      "2021-06-11 20:54:38 DEBUG   GTAnalysis.free_source(): Fixing parameters for galdiff               : ['Index']\n"
     ]
    },
    {
     "name": "stdout",
     "output_type": "stream",
     "text": [
      "3.346142739e-11 2.070081942 0.06330540894295573 1065.3058150000002\n"
     ]
    },
    {
     "name": "stderr",
     "output_type": "stream",
     "text": [
      "2021-06-11 20:54:39 DEBUG   GTAnalysis.profile_norm(): Finished\n",
      "2021-06-11 20:54:39 DEBUG   GTAnalysis.get_src_model(): Generating source dict for 4FGL J0319.8+4130\n",
      "2021-06-11 20:54:39 DEBUG   GTAnalysis.profile_norm(): Profiling 4FGL J0319.8+4130\n",
      "2021-06-11 20:54:39 DEBUG   GTAnalysis.free_source(): Fixing parameters for galdiff               : ['Index']\n"
     ]
    },
    {
     "name": "stdout",
     "output_type": "stream",
     "text": [
      "3.346142739e-11 2.070081942 0.060553581297044266 1065.3058150000002\n"
     ]
    },
    {
     "name": "stderr",
     "output_type": "stream",
     "text": [
      "2021-06-11 20:54:40 DEBUG   GTAnalysis.profile_norm(): Finished\n",
      "2021-06-11 20:54:40 DEBUG   GTAnalysis.get_src_model(): Generating source dict for 4FGL J0319.8+4130\n",
      "2021-06-11 20:54:40 DEBUG   GTAnalysis.profile_norm(): Profiling 4FGL J0319.8+4130\n",
      "2021-06-11 20:54:40 DEBUG   GTAnalysis.free_source(): Fixing parameters for galdiff               : ['Index']\n"
     ]
    },
    {
     "name": "stdout",
     "output_type": "stream",
     "text": [
      "5.3689204577061154e-11 2.6533772447178814 -0.38241018108737745 1065.3058150000002\n"
     ]
    },
    {
     "name": "stderr",
     "output_type": "stream",
     "text": [
      "2021-06-11 20:54:41 DEBUG   GTAnalysis.profile_norm(): Finished\n",
      "2021-06-11 20:54:41 DEBUG   GTAnalysis.get_src_model(): Generating source dict for 4FGL J0319.8+4130\n",
      "2021-06-11 20:54:41 DEBUG   GTAnalysis.profile_norm(): Profiling 4FGL J0319.8+4130\n",
      "2021-06-11 20:54:41 DEBUG   GTAnalysis.free_source(): Fixing parameters for galdiff               : ['Index']\n"
     ]
    },
    {
     "name": "stdout",
     "output_type": "stream",
     "text": [
      "3.4472816249353055e-11 2.099246707135894 0.03971251130963113 1065.3058150000002\n"
     ]
    },
    {
     "name": "stderr",
     "output_type": "stream",
     "text": [
      "2021-06-11 20:54:41 DEBUG   GTAnalysis.profile_norm(): Finished\n",
      "2021-06-11 20:54:41 DEBUG   GTAnalysis.get_src_model(): Generating source dict for 4FGL J0319.8+4130\n",
      "2021-06-11 20:54:41 DEBUG   GTAnalysis.profile_norm(): Profiling 4FGL J0319.8+4130\n",
      "2021-06-11 20:54:42 DEBUG   GTAnalysis.free_source(): Fixing parameters for galdiff               : ['Index']\n"
     ]
    },
    {
     "name": "stdout",
     "output_type": "stream",
     "text": [
      "3.4556918892448355e-11 2.099246707135894 0.03971251130963113 1065.3058150000002\n"
     ]
    },
    {
     "name": "stderr",
     "output_type": "stream",
     "text": [
      "2021-06-11 20:54:42 DEBUG   GTAnalysis.profile_norm(): Finished\n",
      "2021-06-11 20:54:42 DEBUG   GTAnalysis.get_src_model(): Generating source dict for 4FGL J0319.8+4130\n",
      "2021-06-11 20:54:42 DEBUG   GTAnalysis.profile_norm(): Profiling 4FGL J0319.8+4130\n",
      "2021-06-11 20:54:42 DEBUG   GTAnalysis.free_source(): Fixing parameters for galdiff               : ['Index']\n"
     ]
    },
    {
     "name": "stdout",
     "output_type": "stream",
     "text": [
      "3.4388713606257755e-11 2.099246707135894 0.03971251130963113 1065.3058150000002\n"
     ]
    },
    {
     "name": "stderr",
     "output_type": "stream",
     "text": [
      "2021-06-11 20:54:43 DEBUG   GTAnalysis.profile_norm(): Finished\n",
      "2021-06-11 20:54:43 DEBUG   GTAnalysis.get_src_model(): Generating source dict for 4FGL J0319.8+4130\n",
      "2021-06-11 20:54:43 DEBUG   GTAnalysis.profile_norm(): Profiling 4FGL J0319.8+4130\n",
      "2021-06-11 20:54:43 DEBUG   GTAnalysis.free_source(): Fixing parameters for galdiff               : ['Index']\n"
     ]
    },
    {
     "name": "stdout",
     "output_type": "stream",
     "text": [
      "3.4472816249353055e-11 2.1029108124529188 0.03971251130963113 1065.3058150000002\n"
     ]
    },
    {
     "name": "stderr",
     "output_type": "stream",
     "text": [
      "2021-06-11 20:54:44 DEBUG   GTAnalysis.profile_norm(): Finished\n",
      "2021-06-11 20:54:44 DEBUG   GTAnalysis.get_src_model(): Generating source dict for 4FGL J0319.8+4130\n",
      "2021-06-11 20:54:44 DEBUG   GTAnalysis.profile_norm(): Profiling 4FGL J0319.8+4130\n",
      "2021-06-11 20:54:44 DEBUG   GTAnalysis.free_source(): Fixing parameters for galdiff               : ['Index']\n"
     ]
    },
    {
     "name": "stdout",
     "output_type": "stream",
     "text": [
      "3.4472816249353055e-11 2.095582601818869 0.03971251130963113 1065.3058150000002\n"
     ]
    },
    {
     "name": "stderr",
     "output_type": "stream",
     "text": [
      "2021-06-11 20:54:44 DEBUG   GTAnalysis.profile_norm(): Finished\n",
      "2021-06-11 20:54:45 DEBUG   GTAnalysis.get_src_model(): Generating source dict for 4FGL J0319.8+4130\n",
      "2021-06-11 20:54:45 DEBUG   GTAnalysis.profile_norm(): Profiling 4FGL J0319.8+4130\n",
      "2021-06-11 20:54:45 DEBUG   GTAnalysis.free_source(): Fixing parameters for galdiff               : ['Index']\n"
     ]
    },
    {
     "name": "stdout",
     "output_type": "stream",
     "text": [
      "3.4472816249353055e-11 2.099246707135894 0.0414963518312731 1065.3058150000002\n"
     ]
    },
    {
     "name": "stderr",
     "output_type": "stream",
     "text": [
      "2021-06-11 20:54:45 DEBUG   GTAnalysis.profile_norm(): Finished\n",
      "2021-06-11 20:54:45 DEBUG   GTAnalysis.get_src_model(): Generating source dict for 4FGL J0319.8+4130\n",
      "2021-06-11 20:54:45 DEBUG   GTAnalysis.profile_norm(): Profiling 4FGL J0319.8+4130\n",
      "2021-06-11 20:54:45 DEBUG   GTAnalysis.free_source(): Fixing parameters for galdiff               : ['Index']\n"
     ]
    },
    {
     "name": "stdout",
     "output_type": "stream",
     "text": [
      "3.4472816249353055e-11 2.099246707135894 0.037928670787989165 1065.3058150000002\n"
     ]
    },
    {
     "name": "stderr",
     "output_type": "stream",
     "text": [
      "2021-06-11 20:54:46 DEBUG   GTAnalysis.profile_norm(): Finished\n",
      "2021-06-11 20:54:46 DEBUG   GTAnalysis.get_src_model(): Generating source dict for 4FGL J0319.8+4130\n",
      "2021-06-11 20:54:46 DEBUG   GTAnalysis.profile_norm(): Profiling 4FGL J0319.8+4130\n",
      "2021-06-11 20:54:46 DEBUG   GTAnalysis.free_source(): Fixing parameters for galdiff               : ['Index']\n"
     ]
    },
    {
     "name": "stdout",
     "output_type": "stream",
     "text": [
      "4.678456144263831e-11 2.5374831961476456 -0.20295290952910322 1065.3058150000002\n"
     ]
    },
    {
     "name": "stderr",
     "output_type": "stream",
     "text": [
      "2021-06-11 20:54:47 DEBUG   GTAnalysis.profile_norm(): Finished\n",
      "2021-06-11 20:54:47 DEBUG   GTAnalysis.get_src_model(): Generating source dict for 4FGL J0319.8+4130\n",
      "2021-06-11 20:54:47 DEBUG   GTAnalysis.profile_norm(): Profiling 4FGL J0319.8+4130\n",
      "2021-06-11 20:54:47 DEBUG   GTAnalysis.free_source(): Fixing parameters for galdiff               : ['Index']\n"
     ]
    },
    {
     "name": "stdout",
     "output_type": "stream",
     "text": [
      "3.599139059501967e-11 2.1533003509614024 0.009781297100692185 1065.3058150000002\n"
     ]
    },
    {
     "name": "stderr",
     "output_type": "stream",
     "text": [
      "2021-06-11 20:54:48 DEBUG   GTAnalysis.profile_norm(): Finished\n",
      "2021-06-11 20:54:48 DEBUG   GTAnalysis.get_src_model(): Generating source dict for 4FGL J0319.8+4130\n",
      "2021-06-11 20:54:48 DEBUG   GTAnalysis.profile_norm(): Profiling 4FGL J0319.8+4130\n",
      "2021-06-11 20:54:48 DEBUG   GTAnalysis.free_source(): Fixing parameters for galdiff               : ['Index']\n"
     ]
    },
    {
     "name": "stdout",
     "output_type": "stream",
     "text": [
      "3.60755458311117e-11 2.1533003509614024 0.009781297100692185 1065.3058150000002\n"
     ]
    },
    {
     "name": "stderr",
     "output_type": "stream",
     "text": [
      "2021-06-11 20:54:48 DEBUG   GTAnalysis.profile_norm(): Finished\n",
      "2021-06-11 20:54:49 DEBUG   GTAnalysis.get_src_model(): Generating source dict for 4FGL J0319.8+4130\n",
      "2021-06-11 20:54:49 DEBUG   GTAnalysis.profile_norm(): Profiling 4FGL J0319.8+4130\n",
      "2021-06-11 20:54:49 DEBUG   GTAnalysis.free_source(): Fixing parameters for galdiff               : ['Index']\n"
     ]
    },
    {
     "name": "stdout",
     "output_type": "stream",
     "text": [
      "3.590723535892765e-11 2.1533003509614024 0.009781297100692185 1065.3058150000002\n"
     ]
    },
    {
     "name": "stderr",
     "output_type": "stream",
     "text": [
      "2021-06-11 20:54:49 DEBUG   GTAnalysis.profile_norm(): Finished\n",
      "2021-06-11 20:54:49 DEBUG   GTAnalysis.get_src_model(): Generating source dict for 4FGL J0319.8+4130\n",
      "2021-06-11 20:54:49 DEBUG   GTAnalysis.profile_norm(): Profiling 4FGL J0319.8+4130\n",
      "2021-06-11 20:54:49 DEBUG   GTAnalysis.free_source(): Fixing parameters for galdiff               : ['Index']\n"
     ]
    },
    {
     "name": "stdout",
     "output_type": "stream",
     "text": [
      "3.599139059501967e-11 2.1562757164547763 0.009781297100692185 1065.3058150000002\n"
     ]
    },
    {
     "name": "stderr",
     "output_type": "stream",
     "text": [
      "2021-06-11 20:54:50 DEBUG   GTAnalysis.profile_norm(): Finished\n",
      "2021-06-11 20:54:50 DEBUG   GTAnalysis.get_src_model(): Generating source dict for 4FGL J0319.8+4130\n",
      "2021-06-11 20:54:50 DEBUG   GTAnalysis.profile_norm(): Profiling 4FGL J0319.8+4130\n",
      "2021-06-11 20:54:50 DEBUG   GTAnalysis.free_source(): Fixing parameters for galdiff               : ['Index']\n"
     ]
    },
    {
     "name": "stdout",
     "output_type": "stream",
     "text": [
      "3.599139059501967e-11 2.1503249854680284 0.009781297100692185 1065.3058150000002\n"
     ]
    },
    {
     "name": "stderr",
     "output_type": "stream",
     "text": [
      "2021-06-11 20:54:51 DEBUG   GTAnalysis.profile_norm(): Finished\n",
      "2021-06-11 20:54:51 DEBUG   GTAnalysis.get_src_model(): Generating source dict for 4FGL J0319.8+4130\n",
      "2021-06-11 20:54:51 DEBUG   GTAnalysis.profile_norm(): Profiling 4FGL J0319.8+4130\n",
      "2021-06-11 20:54:51 DEBUG   GTAnalysis.free_source(): Fixing parameters for galdiff               : ['Index']\n"
     ]
    },
    {
     "name": "stdout",
     "output_type": "stream",
     "text": [
      "3.599139059501967e-11 2.1555569626420716 0.009781297100692185 1065.3058150000002\n"
     ]
    },
    {
     "name": "stderr",
     "output_type": "stream",
     "text": [
      "2021-06-11 20:54:52 DEBUG   GTAnalysis.profile_norm(): Finished\n",
      "2021-06-11 20:54:52 DEBUG   GTAnalysis.get_src_model(): Generating source dict for 4FGL J0319.8+4130\n",
      "2021-06-11 20:54:52 DEBUG   GTAnalysis.profile_norm(): Profiling 4FGL J0319.8+4130\n",
      "2021-06-11 20:54:52 DEBUG   GTAnalysis.free_source(): Fixing parameters for galdiff               : ['Index']\n"
     ]
    },
    {
     "name": "stdout",
     "output_type": "stream",
     "text": [
      "3.599139059501967e-11 2.151043739280733 0.009781297100692185 1065.3058150000002\n"
     ]
    },
    {
     "name": "stderr",
     "output_type": "stream",
     "text": [
      "2021-06-11 20:54:52 DEBUG   GTAnalysis.profile_norm(): Finished\n",
      "2021-06-11 20:54:52 DEBUG   GTAnalysis.get_src_model(): Generating source dict for 4FGL J0319.8+4130\n",
      "2021-06-11 20:54:52 DEBUG   GTAnalysis.profile_norm(): Profiling 4FGL J0319.8+4130\n",
      "2021-06-11 20:54:52 DEBUG   GTAnalysis.free_source(): Fixing parameters for galdiff               : ['Index']\n"
     ]
    },
    {
     "name": "stdout",
     "output_type": "stream",
     "text": [
      "3.599139059501967e-11 2.1533003509614024 0.011205051911994803 1065.3058150000002\n"
     ]
    },
    {
     "name": "stderr",
     "output_type": "stream",
     "text": [
      "2021-06-11 20:54:53 DEBUG   GTAnalysis.profile_norm(): Finished\n",
      "2021-06-11 20:54:53 DEBUG   GTAnalysis.get_src_model(): Generating source dict for 4FGL J0319.8+4130\n",
      "2021-06-11 20:54:53 DEBUG   GTAnalysis.profile_norm(): Profiling 4FGL J0319.8+4130\n",
      "2021-06-11 20:54:53 DEBUG   GTAnalysis.free_source(): Fixing parameters for galdiff               : ['Index']\n"
     ]
    },
    {
     "name": "stdout",
     "output_type": "stream",
     "text": [
      "3.599139059501967e-11 2.1533003509614024 0.008357542289389567 1065.3058150000002\n"
     ]
    },
    {
     "name": "stderr",
     "output_type": "stream",
     "text": [
      "2021-06-11 20:54:54 DEBUG   GTAnalysis.profile_norm(): Finished\n",
      "2021-06-11 20:54:54 DEBUG   GTAnalysis.get_src_model(): Generating source dict for 4FGL J0319.8+4130\n",
      "2021-06-11 20:54:54 DEBUG   GTAnalysis.profile_norm(): Profiling 4FGL J0319.8+4130\n",
      "2021-06-11 20:54:54 DEBUG   GTAnalysis.free_source(): Fixing parameters for galdiff               : ['Index']\n"
     ]
    },
    {
     "name": "stdout",
     "output_type": "stream",
     "text": [
      "3.599139059501967e-11 2.1533003509614024 0.01084806490831864 1065.3058150000002\n"
     ]
    },
    {
     "name": "stderr",
     "output_type": "stream",
     "text": [
      "2021-06-11 20:54:55 DEBUG   GTAnalysis.profile_norm(): Finished\n",
      "2021-06-11 20:54:55 DEBUG   GTAnalysis.get_src_model(): Generating source dict for 4FGL J0319.8+4130\n",
      "2021-06-11 20:54:55 DEBUG   GTAnalysis.profile_norm(): Profiling 4FGL J0319.8+4130\n",
      "2021-06-11 20:54:55 DEBUG   GTAnalysis.free_source(): Fixing parameters for galdiff               : ['Index']\n"
     ]
    },
    {
     "name": "stdout",
     "output_type": "stream",
     "text": [
      "3.599139059501967e-11 2.1533003509614024 0.00871452929306573 1065.3058150000002\n"
     ]
    },
    {
     "name": "stderr",
     "output_type": "stream",
     "text": [
      "2021-06-11 20:54:55 DEBUG   GTAnalysis.profile_norm(): Finished\n",
      "2021-06-11 20:54:56 DEBUG   GTAnalysis.get_src_model(): Generating source dict for 4FGL J0319.8+4130\n",
      "2021-06-11 20:54:56 DEBUG   GTAnalysis.profile_norm(): Profiling 4FGL J0319.8+4130\n",
      "2021-06-11 20:54:56 DEBUG   GTAnalysis.free_source(): Fixing parameters for galdiff               : ['Index']\n"
     ]
    },
    {
     "name": "stdout",
     "output_type": "stream",
     "text": [
      "4.702879727326412e-11 2.1960164903951553 -0.07963935819557237 1065.3058150000002\n"
     ]
    },
    {
     "name": "stderr",
     "output_type": "stream",
     "text": [
      "2021-06-11 20:54:56 DEBUG   GTAnalysis.profile_norm(): Finished\n",
      "2021-06-11 20:54:56 DEBUG   GTAnalysis.get_src_model(): Generating source dict for 4FGL J0319.8+4130\n",
      "2021-06-11 20:54:56 DEBUG   GTAnalysis.profile_norm(): Profiling 4FGL J0319.8+4130\n",
      "2021-06-11 20:54:56 DEBUG   GTAnalysis.free_source(): Fixing parameters for galdiff               : ['Index']\n"
     ]
    },
    {
     "name": "stdout",
     "output_type": "stream",
     "text": [
      "4.325456404284825e-11 2.1814097374118004 -0.04906202979378833 1065.3058150000002\n"
     ]
    },
    {
     "name": "stderr",
     "output_type": "stream",
     "text": [
      "2021-06-11 20:54:57 DEBUG   GTAnalysis.profile_norm(): Finished\n",
      "2021-06-11 20:54:57 DEBUG   GTAnalysis.get_src_model(): Generating source dict for 4FGL J0319.8+4130\n",
      "2021-06-11 20:54:57 DEBUG   GTAnalysis.profile_norm(): Profiling 4FGL J0319.8+4130\n",
      "2021-06-11 20:54:57 DEBUG   GTAnalysis.free_source(): Fixing parameters for galdiff               : ['Index']\n"
     ]
    },
    {
     "name": "stdout",
     "output_type": "stream",
     "text": [
      "4.333821104179158e-11 2.1814097374118004 -0.04906202979378833 1065.3058150000002\n"
     ]
    },
    {
     "name": "stderr",
     "output_type": "stream",
     "text": [
      "2021-06-11 20:54:58 DEBUG   GTAnalysis.profile_norm(): Finished\n",
      "2021-06-11 20:54:58 DEBUG   GTAnalysis.get_src_model(): Generating source dict for 4FGL J0319.8+4130\n",
      "2021-06-11 20:54:58 DEBUG   GTAnalysis.profile_norm(): Profiling 4FGL J0319.8+4130\n",
      "2021-06-11 20:54:58 DEBUG   GTAnalysis.free_source(): Fixing parameters for galdiff               : ['Index']\n"
     ]
    },
    {
     "name": "stdout",
     "output_type": "stream",
     "text": [
      "4.317091704390492e-11 2.1814097374118004 -0.04906202979378833 1065.3058150000002\n"
     ]
    },
    {
     "name": "stderr",
     "output_type": "stream",
     "text": [
      "2021-06-11 20:54:58 DEBUG   GTAnalysis.profile_norm(): Finished\n",
      "2021-06-11 20:54:59 DEBUG   GTAnalysis.get_src_model(): Generating source dict for 4FGL J0319.8+4130\n",
      "2021-06-11 20:54:59 DEBUG   GTAnalysis.profile_norm(): Profiling 4FGL J0319.8+4130\n",
      "2021-06-11 20:54:59 DEBUG   GTAnalysis.free_source(): Fixing parameters for galdiff               : ['Index']\n"
     ]
    },
    {
     "name": "stdout",
     "output_type": "stream",
     "text": [
      "4.325456404284825e-11 2.18367308583918 -0.04906202979378833 1065.3058150000002\n"
     ]
    },
    {
     "name": "stderr",
     "output_type": "stream",
     "text": [
      "2021-06-11 20:54:59 DEBUG   GTAnalysis.profile_norm(): Finished\n",
      "2021-06-11 20:54:59 DEBUG   GTAnalysis.get_src_model(): Generating source dict for 4FGL J0319.8+4130\n",
      "2021-06-11 20:54:59 DEBUG   GTAnalysis.profile_norm(): Profiling 4FGL J0319.8+4130\n",
      "2021-06-11 20:54:59 DEBUG   GTAnalysis.free_source(): Fixing parameters for galdiff               : ['Index']\n"
     ]
    },
    {
     "name": "stdout",
     "output_type": "stream",
     "text": [
      "4.325456404284825e-11 2.179146388984421 -0.04906202979378833 1065.3058150000002\n"
     ]
    },
    {
     "name": "stderr",
     "output_type": "stream",
     "text": [
      "2021-06-11 20:55:00 DEBUG   GTAnalysis.profile_norm(): Finished\n",
      "2021-06-11 20:55:00 DEBUG   GTAnalysis.get_src_model(): Generating source dict for 4FGL J0319.8+4130\n",
      "2021-06-11 20:55:00 DEBUG   GTAnalysis.profile_norm(): Profiling 4FGL J0319.8+4130\n",
      "2021-06-11 20:55:00 DEBUG   GTAnalysis.free_source(): Fixing parameters for galdiff               : ['Index']\n"
     ]
    },
    {
     "name": "stdout",
     "output_type": "stream",
     "text": [
      "4.325456404284825e-11 2.1828288139899614 -0.04906202979378833 1065.3058150000002\n"
     ]
    },
    {
     "name": "stderr",
     "output_type": "stream",
     "text": [
      "2021-06-11 20:55:01 DEBUG   GTAnalysis.profile_norm(): Finished\n",
      "2021-06-11 20:55:01 DEBUG   GTAnalysis.get_src_model(): Generating source dict for 4FGL J0319.8+4130\n",
      "2021-06-11 20:55:01 DEBUG   GTAnalysis.profile_norm(): Profiling 4FGL J0319.8+4130\n",
      "2021-06-11 20:55:01 DEBUG   GTAnalysis.free_source(): Fixing parameters for galdiff               : ['Index']\n"
     ]
    },
    {
     "name": "stdout",
     "output_type": "stream",
     "text": [
      "4.325456404284825e-11 2.1799906608336395 -0.04906202979378833 1065.3058150000002\n"
     ]
    },
    {
     "name": "stderr",
     "output_type": "stream",
     "text": [
      "2021-06-11 20:55:02 DEBUG   GTAnalysis.profile_norm(): Finished\n",
      "2021-06-11 20:55:02 DEBUG   GTAnalysis.get_src_model(): Generating source dict for 4FGL J0319.8+4130\n",
      "2021-06-11 20:55:02 DEBUG   GTAnalysis.profile_norm(): Profiling 4FGL J0319.8+4130\n",
      "2021-06-11 20:55:02 DEBUG   GTAnalysis.free_source(): Fixing parameters for galdiff               : ['Index']\n"
     ]
    },
    {
     "name": "stdout",
     "output_type": "stream",
     "text": [
      "4.325456404284825e-11 2.1814097374118004 -0.04799207197048614 1065.3058150000002\n"
     ]
    },
    {
     "name": "stderr",
     "output_type": "stream",
     "text": [
      "2021-06-11 20:55:02 DEBUG   GTAnalysis.profile_norm(): Finished\n",
      "2021-06-11 20:55:02 DEBUG   GTAnalysis.get_src_model(): Generating source dict for 4FGL J0319.8+4130\n",
      "2021-06-11 20:55:02 DEBUG   GTAnalysis.profile_norm(): Profiling 4FGL J0319.8+4130\n",
      "2021-06-11 20:55:02 DEBUG   GTAnalysis.free_source(): Fixing parameters for galdiff               : ['Index']\n"
     ]
    },
    {
     "name": "stdout",
     "output_type": "stream",
     "text": [
      "4.325456404284825e-11 2.1814097374118004 -0.050131987617090513 1065.3058150000002\n"
     ]
    },
    {
     "name": "stderr",
     "output_type": "stream",
     "text": [
      "2021-06-11 20:55:03 DEBUG   GTAnalysis.profile_norm(): Finished\n",
      "2021-06-11 20:55:03 DEBUG   GTAnalysis.get_src_model(): Generating source dict for 4FGL J0319.8+4130\n",
      "2021-06-11 20:55:03 DEBUG   GTAnalysis.profile_norm(): Profiling 4FGL J0319.8+4130\n",
      "2021-06-11 20:55:03 DEBUG   GTAnalysis.free_source(): Fixing parameters for galdiff               : ['Index']\n"
     ]
    },
    {
     "name": "stdout",
     "output_type": "stream",
     "text": [
      "4.325456404284825e-11 2.1814097374118004 -0.04845077966487582 1065.3058150000002\n"
     ]
    },
    {
     "name": "stderr",
     "output_type": "stream",
     "text": [
      "2021-06-11 20:55:04 DEBUG   GTAnalysis.profile_norm(): Finished\n",
      "2021-06-11 20:55:04 DEBUG   GTAnalysis.get_src_model(): Generating source dict for 4FGL J0319.8+4130\n",
      "2021-06-11 20:55:04 DEBUG   GTAnalysis.profile_norm(): Profiling 4FGL J0319.8+4130\n",
      "2021-06-11 20:55:04 DEBUG   GTAnalysis.free_source(): Fixing parameters for galdiff               : ['Index']\n"
     ]
    },
    {
     "name": "stdout",
     "output_type": "stream",
     "text": [
      "4.325456404284825e-11 2.1814097374118004 -0.04967327992270083 1065.3058150000002\n"
     ]
    },
    {
     "name": "stderr",
     "output_type": "stream",
     "text": [
      "2021-06-11 20:55:05 DEBUG   GTAnalysis.profile_norm(): Finished\n",
      "2021-06-11 20:55:05 DEBUG   GTAnalysis.get_src_model(): Generating source dict for 4FGL J0319.8+4130\n",
      "2021-06-11 20:55:05 DEBUG   GTAnalysis.profile_norm(): Profiling 4FGL J0319.8+4130\n",
      "2021-06-11 20:55:05 DEBUG   GTAnalysis.free_source(): Fixing parameters for galdiff               : ['Index']\n"
     ]
    },
    {
     "name": "stdout",
     "output_type": "stream",
     "text": [
      "5.144774957340725e-11 2.1332904338796785 0.011998275308006241 1065.3058150000002\n"
     ]
    },
    {
     "name": "stderr",
     "output_type": "stream",
     "text": [
      "2021-06-11 20:55:05 DEBUG   GTAnalysis.profile_norm(): Finished\n",
      "2021-06-11 20:55:06 DEBUG   GTAnalysis.get_src_model(): Generating source dict for 4FGL J0319.8+4130\n",
      "2021-06-11 20:55:06 DEBUG   GTAnalysis.profile_norm(): Profiling 4FGL J0319.8+4130\n",
      "2021-06-11 20:55:06 DEBUG   GTAnalysis.free_source(): Fixing parameters for galdiff               : ['Index']\n"
     ]
    },
    {
     "name": "stdout",
     "output_type": "stream",
     "text": [
      "5.6952392619011343e-11 2.1009611782367474 0.05302202395710163 1065.3058150000002\n"
     ]
    },
    {
     "name": "stderr",
     "output_type": "stream",
     "text": [
      "2021-06-11 20:55:06 DEBUG   GTAnalysis.profile_norm(): Finished\n",
      "2021-06-11 20:55:06 DEBUG   GTAnalysis.get_src_model(): Generating source dict for 4FGL J0319.8+4130\n",
      "2021-06-11 20:55:06 DEBUG   GTAnalysis.profile_norm(): Profiling 4FGL J0319.8+4130\n",
      "2021-06-11 20:55:06 DEBUG   GTAnalysis.free_source(): Fixing parameters for galdiff               : ['Index']\n"
     ]
    },
    {
     "name": "stdout",
     "output_type": "stream",
     "text": [
      "5.886258778082089e-11 2.0897424330424794 0.06725789094058798 1065.3058150000002\n"
     ]
    },
    {
     "name": "stderr",
     "output_type": "stream",
     "text": [
      "2021-06-11 20:55:07 DEBUG   GTAnalysis.profile_norm(): Finished\n",
      "2021-06-11 20:55:07 DEBUG   GTAnalysis.get_src_model(): Generating source dict for 4FGL J0319.8+4130\n",
      "2021-06-11 20:55:07 DEBUG   GTAnalysis.profile_norm(): Profiling 4FGL J0319.8+4130\n",
      "2021-06-11 20:55:07 DEBUG   GTAnalysis.free_source(): Fixing parameters for galdiff               : ['Index']\n"
     ]
    },
    {
     "name": "stdout",
     "output_type": "stream",
     "text": [
      "5.992991147987666e-11 2.083473946523978 0.07521219765848733 1065.3058150000002\n"
     ]
    },
    {
     "name": "stderr",
     "output_type": "stream",
     "text": [
      "2021-06-11 20:55:08 DEBUG   GTAnalysis.profile_norm(): Finished\n",
      "2021-06-11 20:55:08 DEBUG   GTAnalysis.get_src_model(): Generating source dict for 4FGL J0319.8+4130\n",
      "2021-06-11 20:55:08 DEBUG   GTAnalysis.profile_norm(): Profiling 4FGL J0319.8+4130\n",
      "2021-06-11 20:55:08 DEBUG   GTAnalysis.free_source(): Fixing parameters for galdiff               : ['Index']\n"
     ]
    },
    {
     "name": "stdout",
     "output_type": "stream",
     "text": [
      "6.001977185079015e-11 2.083473946523978 0.07521219765848733 1065.3058150000002\n"
     ]
    },
    {
     "name": "stderr",
     "output_type": "stream",
     "text": [
      "2021-06-11 20:55:09 DEBUG   GTAnalysis.profile_norm(): Finished\n",
      "2021-06-11 20:55:09 DEBUG   GTAnalysis.get_src_model(): Generating source dict for 4FGL J0319.8+4130\n",
      "2021-06-11 20:55:09 DEBUG   GTAnalysis.profile_norm(): Profiling 4FGL J0319.8+4130\n",
      "2021-06-11 20:55:09 DEBUG   GTAnalysis.free_source(): Fixing parameters for galdiff               : ['Index']\n"
     ]
    },
    {
     "name": "stdout",
     "output_type": "stream",
     "text": [
      "5.984005110896317e-11 2.083473946523978 0.07521219765848733 1065.3058150000002\n"
     ]
    },
    {
     "name": "stderr",
     "output_type": "stream",
     "text": [
      "2021-06-11 20:55:09 DEBUG   GTAnalysis.profile_norm(): Finished\n",
      "2021-06-11 20:55:09 DEBUG   GTAnalysis.get_src_model(): Generating source dict for 4FGL J0319.8+4130\n",
      "2021-06-11 20:55:09 DEBUG   GTAnalysis.profile_norm(): Profiling 4FGL J0319.8+4130\n",
      "2021-06-11 20:55:09 DEBUG   GTAnalysis.free_source(): Fixing parameters for galdiff               : ['Index']\n"
     ]
    },
    {
     "name": "stdout",
     "output_type": "stream",
     "text": [
      "5.992991147987666e-11 2.084896264267984 0.07521219765848733 1065.3058150000002\n"
     ]
    },
    {
     "name": "stderr",
     "output_type": "stream",
     "text": [
      "2021-06-11 20:55:10 DEBUG   GTAnalysis.profile_norm(): Finished\n",
      "2021-06-11 20:55:10 DEBUG   GTAnalysis.get_src_model(): Generating source dict for 4FGL J0319.8+4130\n",
      "2021-06-11 20:55:10 DEBUG   GTAnalysis.profile_norm(): Profiling 4FGL J0319.8+4130\n",
      "2021-06-11 20:55:10 DEBUG   GTAnalysis.free_source(): Fixing parameters for galdiff               : ['Index']\n"
     ]
    },
    {
     "name": "stdout",
     "output_type": "stream",
     "text": [
      "5.992991147987666e-11 2.082051628779972 0.07521219765848733 1065.3058150000002\n"
     ]
    },
    {
     "name": "stderr",
     "output_type": "stream",
     "text": [
      "2021-06-11 20:55:11 DEBUG   GTAnalysis.profile_norm(): Finished\n",
      "2021-06-11 20:55:11 DEBUG   GTAnalysis.get_src_model(): Generating source dict for 4FGL J0319.8+4130\n",
      "2021-06-11 20:55:11 DEBUG   GTAnalysis.profile_norm(): Profiling 4FGL J0319.8+4130\n",
      "2021-06-11 20:55:11 DEBUG   GTAnalysis.free_source(): Fixing parameters for galdiff               : ['Index']\n"
     ]
    },
    {
     "name": "stdout",
     "output_type": "stream",
     "text": [
      "5.992991147987666e-11 2.083473946523978 0.07582484828778357 1065.3058150000002\n"
     ]
    },
    {
     "name": "stderr",
     "output_type": "stream",
     "text": [
      "2021-06-11 20:55:12 DEBUG   GTAnalysis.profile_norm(): Finished\n",
      "2021-06-11 20:55:12 DEBUG   GTAnalysis.get_src_model(): Generating source dict for 4FGL J0319.8+4130\n",
      "2021-06-11 20:55:12 DEBUG   GTAnalysis.profile_norm(): Profiling 4FGL J0319.8+4130\n",
      "2021-06-11 20:55:12 DEBUG   GTAnalysis.free_source(): Fixing parameters for galdiff               : ['Index']\n"
     ]
    },
    {
     "name": "stdout",
     "output_type": "stream",
     "text": [
      "5.992991147987666e-11 2.083473946523978 0.07459954702919108 1065.3058150000002\n"
     ]
    },
    {
     "name": "stderr",
     "output_type": "stream",
     "text": [
      "2021-06-11 20:55:12 DEBUG   GTAnalysis.profile_norm(): Finished\n",
      "2021-06-11 20:55:12 DEBUG   GTAnalysis.get_src_model(): Generating source dict for 4FGL J0319.8+4130\n",
      "2021-06-11 20:55:12 DEBUG   GTAnalysis.profile_norm(): Profiling 4FGL J0319.8+4130\n",
      "2021-06-11 20:55:13 DEBUG   GTAnalysis.free_source(): Fixing parameters for galdiff               : ['Index']\n"
     ]
    },
    {
     "name": "stdout",
     "output_type": "stream",
     "text": [
      "5.992991147987666e-11 2.083473946523978 0.07620735584430954 1065.3058150000002\n"
     ]
    },
    {
     "name": "stderr",
     "output_type": "stream",
     "text": [
      "2021-06-11 20:55:13 DEBUG   GTAnalysis.profile_norm(): Finished\n",
      "2021-06-11 20:55:13 DEBUG   GTAnalysis.get_src_model(): Generating source dict for 4FGL J0319.8+4130\n",
      "2021-06-11 20:55:13 DEBUG   GTAnalysis.profile_norm(): Profiling 4FGL J0319.8+4130\n",
      "2021-06-11 20:55:13 DEBUG   GTAnalysis.free_source(): Fixing parameters for galdiff               : ['Index']\n"
     ]
    },
    {
     "name": "stdout",
     "output_type": "stream",
     "text": [
      "5.992991147987666e-11 2.083473946523978 0.07421703947266511 1065.3058150000002\n"
     ]
    },
    {
     "name": "stderr",
     "output_type": "stream",
     "text": [
      "2021-06-11 20:55:14 DEBUG   GTAnalysis.profile_norm(): Finished\n",
      "2021-06-11 20:55:14 DEBUG   GTAnalysis.get_src_model(): Generating source dict for 4FGL J0319.8+4130\n",
      "2021-06-11 20:55:14 DEBUG   GTAnalysis.profile_norm(): Profiling 4FGL J0319.8+4130\n",
      "2021-06-11 20:55:14 DEBUG   GTAnalysis.free_source(): Fixing parameters for galdiff               : ['Index']\n"
     ]
    },
    {
     "name": "stdout",
     "output_type": "stream",
     "text": [
      "6.352323760933692e-11 2.0814329828481624 0.06950908001899116 1065.3058150000002\n"
     ]
    },
    {
     "name": "stderr",
     "output_type": "stream",
     "text": [
      "2021-06-11 20:55:15 DEBUG   GTAnalysis.profile_norm(): Finished\n",
      "2021-06-11 20:55:15 DEBUG   GTAnalysis.get_src_model(): Generating source dict for 4FGL J0319.8+4130\n",
      "2021-06-11 20:55:15 DEBUG   GTAnalysis.profile_norm(): Profiling 4FGL J0319.8+4130\n",
      "2021-06-11 20:55:15 DEBUG   GTAnalysis.free_source(): Fixing parameters for galdiff               : ['Index']\n"
     ]
    },
    {
     "name": "stdout",
     "output_type": "stream",
     "text": [
      "6.647957510663495e-11 2.079753820637984 0.06481695358189625 1065.3058150000002\n"
     ]
    },
    {
     "name": "stderr",
     "output_type": "stream",
     "text": [
      "2021-06-11 20:55:15 DEBUG   GTAnalysis.profile_norm(): Finished\n",
      "2021-06-11 20:55:15 DEBUG   GTAnalysis.get_src_model(): Generating source dict for 4FGL J0319.8+4130\n",
      "2021-06-11 20:55:15 DEBUG   GTAnalysis.profile_norm(): Profiling 4FGL J0319.8+4130\n",
      "2021-06-11 20:55:16 DEBUG   GTAnalysis.free_source(): Fixing parameters for galdiff               : ['Index']\n"
     ]
    },
    {
     "name": "stdout",
     "output_type": "stream",
     "text": [
      "6.66072787128069e-11 2.079753820637984 0.06481695358189625 1065.3058150000002\n"
     ]
    },
    {
     "name": "stderr",
     "output_type": "stream",
     "text": [
      "2021-06-11 20:55:16 DEBUG   GTAnalysis.profile_norm(): Finished\n",
      "2021-06-11 20:55:16 DEBUG   GTAnalysis.get_src_model(): Generating source dict for 4FGL J0319.8+4130\n",
      "2021-06-11 20:55:16 DEBUG   GTAnalysis.profile_norm(): Profiling 4FGL J0319.8+4130\n",
      "2021-06-11 20:55:16 DEBUG   GTAnalysis.free_source(): Fixing parameters for galdiff               : ['Index']\n"
     ]
    },
    {
     "name": "stdout",
     "output_type": "stream",
     "text": [
      "6.6351871500463e-11 2.079753820637984 0.06481695358189625 1065.3058150000002\n"
     ]
    },
    {
     "name": "stderr",
     "output_type": "stream",
     "text": [
      "2021-06-11 20:55:17 DEBUG   GTAnalysis.profile_norm(): Finished\n",
      "2021-06-11 20:55:17 DEBUG   GTAnalysis.get_src_model(): Generating source dict for 4FGL J0319.8+4130\n",
      "2021-06-11 20:55:17 DEBUG   GTAnalysis.profile_norm(): Profiling 4FGL J0319.8+4130\n",
      "2021-06-11 20:55:17 DEBUG   GTAnalysis.free_source(): Fixing parameters for galdiff               : ['Index']\n"
     ]
    },
    {
     "name": "stdout",
     "output_type": "stream",
     "text": [
      "6.647957510663495e-11 2.081623468680362 0.06481695358189625 1065.3058150000002\n"
     ]
    },
    {
     "name": "stderr",
     "output_type": "stream",
     "text": [
      "2021-06-11 20:55:18 DEBUG   GTAnalysis.profile_norm(): Finished\n",
      "2021-06-11 20:55:18 DEBUG   GTAnalysis.get_src_model(): Generating source dict for 4FGL J0319.8+4130\n",
      "2021-06-11 20:55:18 DEBUG   GTAnalysis.profile_norm(): Profiling 4FGL J0319.8+4130\n",
      "2021-06-11 20:55:18 DEBUG   GTAnalysis.free_source(): Fixing parameters for galdiff               : ['Index']\n"
     ]
    },
    {
     "name": "stdout",
     "output_type": "stream",
     "text": [
      "6.647957510663495e-11 2.077884172595606 0.06481695358189625 1065.3058150000002\n"
     ]
    },
    {
     "name": "stderr",
     "output_type": "stream",
     "text": [
      "2021-06-11 20:55:19 DEBUG   GTAnalysis.profile_norm(): Finished\n",
      "2021-06-11 20:55:19 DEBUG   GTAnalysis.get_src_model(): Generating source dict for 4FGL J0319.8+4130\n",
      "2021-06-11 20:55:19 DEBUG   GTAnalysis.profile_norm(): Profiling 4FGL J0319.8+4130\n",
      "2021-06-11 20:55:19 DEBUG   GTAnalysis.free_source(): Fixing parameters for galdiff               : ['Index']\n"
     ]
    },
    {
     "name": "stdout",
     "output_type": "stream",
     "text": [
      "6.647957510663495e-11 2.079753820637984 0.06581249955274632 1065.3058150000002\n"
     ]
    },
    {
     "name": "stderr",
     "output_type": "stream",
     "text": [
      "2021-06-11 20:55:19 DEBUG   GTAnalysis.profile_norm(): Finished\n",
      "2021-06-11 20:55:19 DEBUG   GTAnalysis.get_src_model(): Generating source dict for 4FGL J0319.8+4130\n",
      "2021-06-11 20:55:19 DEBUG   GTAnalysis.profile_norm(): Profiling 4FGL J0319.8+4130\n",
      "2021-06-11 20:55:19 DEBUG   GTAnalysis.free_source(): Fixing parameters for galdiff               : ['Index']\n"
     ]
    },
    {
     "name": "stdout",
     "output_type": "stream",
     "text": [
      "6.647957510663495e-11 2.079753820637984 0.06382140761104618 1065.3058150000002\n"
     ]
    },
    {
     "name": "stderr",
     "output_type": "stream",
     "text": [
      "2021-06-11 20:55:20 DEBUG   GTAnalysis.profile_norm(): Finished\n",
      "2021-06-11 20:55:20 DEBUG   GTAnalysis.get_src_model(): Generating source dict for 4FGL J0319.8+4130\n",
      "2021-06-11 20:55:20 DEBUG   GTAnalysis.profile_norm(): Profiling 4FGL J0319.8+4130\n",
      "2021-06-11 20:55:20 DEBUG   GTAnalysis.free_source(): Fixing parameters for galdiff               : ['Index']\n"
     ]
    },
    {
     "name": "stdout",
     "output_type": "stream",
     "text": [
      "6.692292363674156e-11 2.061839528714777 0.061725884820559934 1065.3058150000002\n"
     ]
    },
    {
     "name": "stderr",
     "output_type": "stream",
     "text": [
      "2021-06-11 20:55:21 DEBUG   GTAnalysis.profile_norm(): Finished\n",
      "2021-06-11 20:55:21 DEBUG   GTAnalysis.get_src_model(): Generating source dict for 4FGL J0319.8+4130\n",
      "2021-06-11 20:55:21 DEBUG   GTAnalysis.profile_norm(): Profiling 4FGL J0319.8+4130\n",
      "2021-06-11 20:55:21 DEBUG   GTAnalysis.free_source(): Fixing parameters for galdiff               : ['Index']\n"
     ]
    },
    {
     "name": "stdout",
     "output_type": "stream",
     "text": [
      "6.664696646649647e-11 2.0729900727458666 0.06364988485774568 1065.3058150000002\n"
     ]
    },
    {
     "name": "stderr",
     "output_type": "stream",
     "text": [
      "2021-06-11 20:55:22 DEBUG   GTAnalysis.profile_norm(): Finished\n",
      "2021-06-11 20:55:22 DEBUG   GTAnalysis.get_src_model(): Generating source dict for 4FGL J0319.8+4130\n",
      "2021-06-11 20:55:22 DEBUG   GTAnalysis.profile_norm(): Profiling 4FGL J0319.8+4130\n",
      "2021-06-11 20:55:22 DEBUG   GTAnalysis.free_source(): Fixing parameters for galdiff               : ['Index']\n"
     ]
    },
    {
     "name": "stdout",
     "output_type": "stream",
     "text": [
      "6.678357248016228e-11 2.0729900727458666 0.06364988485774568 1065.3058150000002\n"
     ]
    },
    {
     "name": "stderr",
     "output_type": "stream",
     "text": [
      "2021-06-11 20:55:22 DEBUG   GTAnalysis.profile_norm(): Finished\n",
      "2021-06-11 20:55:22 DEBUG   GTAnalysis.get_src_model(): Generating source dict for 4FGL J0319.8+4130\n",
      "2021-06-11 20:55:22 DEBUG   GTAnalysis.profile_norm(): Profiling 4FGL J0319.8+4130\n",
      "2021-06-11 20:55:23 DEBUG   GTAnalysis.free_source(): Fixing parameters for galdiff               : ['Index']\n"
     ]
    },
    {
     "name": "stdout",
     "output_type": "stream",
     "text": [
      "6.651036045283067e-11 2.0729900727458666 0.06364988485774568 1065.3058150000002\n"
     ]
    },
    {
     "name": "stderr",
     "output_type": "stream",
     "text": [
      "2021-06-11 20:55:23 DEBUG   GTAnalysis.profile_norm(): Finished\n",
      "2021-06-11 20:55:23 DEBUG   GTAnalysis.get_src_model(): Generating source dict for 4FGL J0319.8+4130\n",
      "2021-06-11 20:55:23 DEBUG   GTAnalysis.profile_norm(): Profiling 4FGL J0319.8+4130\n",
      "2021-06-11 20:55:23 DEBUG   GTAnalysis.free_source(): Fixing parameters for galdiff               : ['Index']\n"
     ]
    },
    {
     "name": "stdout",
     "output_type": "stream",
     "text": [
      "6.664696646649647e-11 2.074633556522177 0.06364988485774568 1065.3058150000002\n"
     ]
    },
    {
     "name": "stderr",
     "output_type": "stream",
     "text": [
      "2021-06-11 20:55:24 DEBUG   GTAnalysis.profile_norm(): Finished\n",
      "2021-06-11 20:55:24 DEBUG   GTAnalysis.get_src_model(): Generating source dict for 4FGL J0319.8+4130\n",
      "2021-06-11 20:55:24 DEBUG   GTAnalysis.profile_norm(): Profiling 4FGL J0319.8+4130\n",
      "2021-06-11 20:55:24 DEBUG   GTAnalysis.free_source(): Fixing parameters for galdiff               : ['Index']\n"
     ]
    },
    {
     "name": "stdout",
     "output_type": "stream",
     "text": [
      "6.664696646649647e-11 2.071346588969556 0.06364988485774568 1065.3058150000002\n"
     ]
    },
    {
     "name": "stderr",
     "output_type": "stream",
     "text": [
      "2021-06-11 20:55:25 DEBUG   GTAnalysis.profile_norm(): Finished\n",
      "2021-06-11 20:55:25 DEBUG   GTAnalysis.get_src_model(): Generating source dict for 4FGL J0319.8+4130\n",
      "2021-06-11 20:55:25 DEBUG   GTAnalysis.profile_norm(): Profiling 4FGL J0319.8+4130\n",
      "2021-06-11 20:55:25 DEBUG   GTAnalysis.free_source(): Fixing parameters for galdiff               : ['Index']\n"
     ]
    },
    {
     "name": "stdout",
     "output_type": "stream",
     "text": [
      "6.664696646649647e-11 2.0729900727458666 0.06451097824810309 1065.3058150000002\n"
     ]
    },
    {
     "name": "stderr",
     "output_type": "stream",
     "text": [
      "2021-06-11 20:55:25 DEBUG   GTAnalysis.profile_norm(): Finished\n",
      "2021-06-11 20:55:26 DEBUG   GTAnalysis.get_src_model(): Generating source dict for 4FGL J0319.8+4130\n",
      "2021-06-11 20:55:26 DEBUG   GTAnalysis.profile_norm(): Profiling 4FGL J0319.8+4130\n",
      "2021-06-11 20:55:26 DEBUG   GTAnalysis.free_source(): Fixing parameters for galdiff               : ['Index']\n"
     ]
    },
    {
     "name": "stdout",
     "output_type": "stream",
     "text": [
      "6.664696646649647e-11 2.0729900727458666 0.06278879146738828 1065.3058150000002\n"
     ]
    },
    {
     "name": "stderr",
     "output_type": "stream",
     "text": [
      "2021-06-11 20:55:26 DEBUG   GTAnalysis.profile_norm(): Finished\n",
      "2021-06-11 20:55:26 DEBUG   GTAnalysis.get_src_model(): Generating source dict for 4FGL J0319.8+4130\n",
      "2021-06-11 20:55:26 DEBUG   GTAnalysis.profile_norm(): Profiling 4FGL J0319.8+4130\n",
      "2021-06-11 20:55:26 DEBUG   GTAnalysis.free_source(): Fixing parameters for galdiff               : ['Index']\n"
     ]
    },
    {
     "name": "stdout",
     "output_type": "stream",
     "text": [
      "6.688286140976457e-11 2.072845737040327 0.06466505877378591 1065.3058150000002\n"
     ]
    },
    {
     "name": "stderr",
     "output_type": "stream",
     "text": [
      "2021-06-11 20:55:27 DEBUG   GTAnalysis.profile_norm(): Finished\n",
      "2021-06-11 20:55:27 DEBUG   GTAnalysis.get_src_model(): Generating source dict for 4FGL J0319.8+4130\n",
      "2021-06-11 20:55:27 DEBUG   GTAnalysis.profile_norm(): Profiling 4FGL J0319.8+4130\n",
      "2021-06-11 20:55:27 DEBUG   GTAnalysis.free_source(): Fixing parameters for galdiff               : ['Index']\n"
     ]
    },
    {
     "name": "stdout",
     "output_type": "stream",
     "text": [
      "6.696473561954418e-11 2.0727956411303836 0.06501740444518173 1065.3058150000002\n"
     ]
    },
    {
     "name": "stderr",
     "output_type": "stream",
     "text": [
      "2021-06-11 20:55:28 DEBUG   GTAnalysis.profile_norm(): Finished\n",
      "2021-06-11 20:55:28 DEBUG   GTAnalysis.get_src_model(): Generating source dict for 4FGL J0319.8+4130\n",
      "2021-06-11 20:55:28 DEBUG   GTAnalysis.profile_norm(): Profiling 4FGL J0319.8+4130\n",
      "2021-06-11 20:55:28 DEBUG   GTAnalysis.free_source(): Fixing parameters for galdiff               : ['Index']\n"
     ]
    },
    {
     "name": "stdout",
     "output_type": "stream",
     "text": [
      "6.710182071327061e-11 2.0727956411303836 0.06501740444518173 1065.3058150000002\n"
     ]
    },
    {
     "name": "stderr",
     "output_type": "stream",
     "text": [
      "2021-06-11 20:55:29 DEBUG   GTAnalysis.profile_norm(): Finished\n",
      "2021-06-11 20:55:29 DEBUG   GTAnalysis.get_src_model(): Generating source dict for 4FGL J0319.8+4130\n",
      "2021-06-11 20:55:29 DEBUG   GTAnalysis.profile_norm(): Profiling 4FGL J0319.8+4130\n",
      "2021-06-11 20:55:29 DEBUG   GTAnalysis.free_source(): Fixing parameters for galdiff               : ['Index']\n"
     ]
    },
    {
     "name": "stdout",
     "output_type": "stream",
     "text": [
      "6.682765052581776e-11 2.0727956411303836 0.06501740444518173 1065.3058150000002\n"
     ]
    },
    {
     "name": "stderr",
     "output_type": "stream",
     "text": [
      "2021-06-11 20:55:29 DEBUG   GTAnalysis.profile_norm(): Finished\n",
      "2021-06-11 20:55:29 DEBUG   GTAnalysis.get_src_model(): Generating source dict for 4FGL J0319.8+4130\n",
      "2021-06-11 20:55:29 DEBUG   GTAnalysis.profile_norm(): Profiling 4FGL J0319.8+4130\n",
      "2021-06-11 20:55:29 DEBUG   GTAnalysis.free_source(): Fixing parameters for galdiff               : ['Index']\n"
     ]
    },
    {
     "name": "stdout",
     "output_type": "stream",
     "text": [
      "6.696473561954418e-11 2.0744416705977304 0.06501740444518173 1065.3058150000002\n"
     ]
    },
    {
     "name": "stderr",
     "output_type": "stream",
     "text": [
      "2021-06-11 20:55:30 DEBUG   GTAnalysis.profile_norm(): Finished\n",
      "2021-06-11 20:55:30 DEBUG   GTAnalysis.get_src_model(): Generating source dict for 4FGL J0319.8+4130\n",
      "2021-06-11 20:55:30 DEBUG   GTAnalysis.profile_norm(): Profiling 4FGL J0319.8+4130\n",
      "2021-06-11 20:55:30 DEBUG   GTAnalysis.free_source(): Fixing parameters for galdiff               : ['Index']\n"
     ]
    },
    {
     "name": "stdout",
     "output_type": "stream",
     "text": [
      "6.696473561954418e-11 2.071149611663037 0.06501740444518173 1065.3058150000002\n"
     ]
    },
    {
     "name": "stderr",
     "output_type": "stream",
     "text": [
      "2021-06-11 20:55:31 DEBUG   GTAnalysis.profile_norm(): Finished\n",
      "2021-06-11 20:55:31 DEBUG   GTAnalysis.get_src_model(): Generating source dict for 4FGL J0319.8+4130\n",
      "2021-06-11 20:55:31 DEBUG   GTAnalysis.profile_norm(): Profiling 4FGL J0319.8+4130\n",
      "2021-06-11 20:55:31 DEBUG   GTAnalysis.free_source(): Fixing parameters for galdiff               : ['Index']\n"
     ]
    },
    {
     "name": "stdout",
     "output_type": "stream",
     "text": [
      "6.696473561954418e-11 2.0727956411303836 0.06587632814433755 1065.3058150000002\n"
     ]
    },
    {
     "name": "stderr",
     "output_type": "stream",
     "text": [
      "2021-06-11 20:55:32 DEBUG   GTAnalysis.profile_norm(): Finished\n",
      "2021-06-11 20:55:32 DEBUG   GTAnalysis.get_src_model(): Generating source dict for 4FGL J0319.8+4130\n",
      "2021-06-11 20:55:32 DEBUG   GTAnalysis.profile_norm(): Profiling 4FGL J0319.8+4130\n",
      "2021-06-11 20:55:32 DEBUG   GTAnalysis.free_source(): Fixing parameters for galdiff               : ['Index']\n"
     ]
    },
    {
     "name": "stdout",
     "output_type": "stream",
     "text": [
      "6.696473561954418e-11 2.0727956411303836 0.0641584807460259 1065.3058150000002\n"
     ]
    },
    {
     "name": "stderr",
     "output_type": "stream",
     "text": [
      "2021-06-11 20:55:32 DEBUG   GTAnalysis.profile_norm(): Finished\n",
      "2021-06-11 20:55:33 DEBUG   GTAnalysis.get_src_model(): Generating source dict for 4FGL J0319.8+4130\n",
      "2021-06-11 20:55:33 DEBUG   GTAnalysis.profile_norm(): Profiling 4FGL J0319.8+4130\n",
      "2021-06-11 20:55:33 DEBUG   GTAnalysis.free_source(): Fixing parameters for galdiff               : ['Index']\n"
     ]
    },
    {
     "name": "stdout",
     "output_type": "stream",
     "text": [
      "6.696553488092781e-11 2.072776975528875 0.06512616176202878 1065.3058150000002\n"
     ]
    },
    {
     "name": "stderr",
     "output_type": "stream",
     "text": [
      "2021-06-11 20:55:33 DEBUG   GTAnalysis.profile_norm(): Finished\n",
      "2021-06-11 20:55:33 DEBUG   GTAnalysis.get_src_model(): Generating source dict for 4FGL J0319.8+4130\n",
      "2021-06-11 20:55:33 DEBUG   GTAnalysis.profile_norm(): Profiling 4FGL J0319.8+4130\n",
      "2021-06-11 20:55:33 DEBUG   GTAnalysis.free_source(): Fixing parameters for galdiff               : ['Index']\n"
     ]
    },
    {
     "name": "stdout",
     "output_type": "stream",
     "text": [
      "6.710320989651966e-11 2.072776975528875 0.06512616176202878 1065.3058150000002\n"
     ]
    },
    {
     "name": "stderr",
     "output_type": "stream",
     "text": [
      "2021-06-11 20:55:34 DEBUG   GTAnalysis.profile_norm(): Finished\n",
      "2021-06-11 20:55:34 DEBUG   GTAnalysis.get_src_model(): Generating source dict for 4FGL J0319.8+4130\n",
      "2021-06-11 20:55:34 DEBUG   GTAnalysis.profile_norm(): Profiling 4FGL J0319.8+4130\n",
      "2021-06-11 20:55:34 DEBUG   GTAnalysis.free_source(): Fixing parameters for galdiff               : ['Index']\n"
     ]
    },
    {
     "name": "stdout",
     "output_type": "stream",
     "text": [
      "6.682785986533595e-11 2.072776975528875 0.06512616176202878 1065.3058150000002\n"
     ]
    },
    {
     "name": "stderr",
     "output_type": "stream",
     "text": [
      "2021-06-11 20:55:35 DEBUG   GTAnalysis.profile_norm(): Finished\n",
      "2021-06-11 20:55:35 DEBUG   GTAnalysis.get_src_model(): Generating source dict for 4FGL J0319.8+4130\n",
      "2021-06-11 20:55:35 DEBUG   GTAnalysis.profile_norm(): Profiling 4FGL J0319.8+4130\n",
      "2021-06-11 20:55:35 DEBUG   GTAnalysis.free_source(): Fixing parameters for galdiff               : ['Index']\n"
     ]
    },
    {
     "name": "stdout",
     "output_type": "stream",
     "text": [
      "6.696553488092781e-11 2.0744235509505247 0.06512616176202878 1065.3058150000002\n"
     ]
    },
    {
     "name": "stderr",
     "output_type": "stream",
     "text": [
      "2021-06-11 20:55:36 DEBUG   GTAnalysis.profile_norm(): Finished\n",
      "2021-06-11 20:55:36 DEBUG   GTAnalysis.get_src_model(): Generating source dict for 4FGL J0319.8+4130\n",
      "2021-06-11 20:55:36 DEBUG   GTAnalysis.profile_norm(): Profiling 4FGL J0319.8+4130\n",
      "2021-06-11 20:55:36 DEBUG   GTAnalysis.free_source(): Fixing parameters for galdiff               : ['Index']\n"
     ]
    },
    {
     "name": "stdout",
     "output_type": "stream",
     "text": [
      "6.696553488092781e-11 2.0711304001072257 0.06512616176202878 1065.3058150000002\n"
     ]
    },
    {
     "name": "stderr",
     "output_type": "stream",
     "text": [
      "2021-06-11 20:55:36 DEBUG   GTAnalysis.profile_norm(): Finished\n",
      "2021-06-11 20:55:36 DEBUG   GTAnalysis.get_src_model(): Generating source dict for 4FGL J0319.8+4130\n",
      "2021-06-11 20:55:36 DEBUG   GTAnalysis.profile_norm(): Profiling 4FGL J0319.8+4130\n",
      "2021-06-11 20:55:37 DEBUG   GTAnalysis.free_source(): Fixing parameters for galdiff               : ['Index']\n"
     ]
    },
    {
     "name": "stdout",
     "output_type": "stream",
     "text": [
      "6.696553488092781e-11 2.072776975528875 0.06598729354355927 1065.3058150000002\n"
     ]
    },
    {
     "name": "stderr",
     "output_type": "stream",
     "text": [
      "2021-06-11 20:55:37 DEBUG   GTAnalysis.profile_norm(): Finished\n",
      "2021-06-11 20:55:37 DEBUG   GTAnalysis.get_src_model(): Generating source dict for 4FGL J0319.8+4130\n",
      "2021-06-11 20:55:37 DEBUG   GTAnalysis.profile_norm(): Profiling 4FGL J0319.8+4130\n",
      "2021-06-11 20:55:37 DEBUG   GTAnalysis.free_source(): Fixing parameters for galdiff               : ['Index']\n"
     ]
    },
    {
     "name": "stdout",
     "output_type": "stream",
     "text": [
      "6.696553488092781e-11 2.072776975528875 0.06426502998049828 1065.3058150000002\n"
     ]
    },
    {
     "name": "stderr",
     "output_type": "stream",
     "text": [
      "2021-06-11 20:55:38 DEBUG   GTAnalysis.profile_norm(): Finished\n",
      "2021-06-11 20:55:38 DEBUG   GTAnalysis.get_src_model(): Generating source dict for 4FGL J0319.8+4130\n",
      "2021-06-11 20:55:38 DEBUG   GTAnalysis.profile_norm(): Profiling 4FGL J0319.8+4130\n",
      "2021-06-11 20:55:38 DEBUG   GTAnalysis.free_source(): Fixing parameters for galdiff               : ['Index']\n"
     ]
    },
    {
     "name": "stdout",
     "output_type": "stream",
     "text": [
      "6.696553488092781e-11 2.072776975528875 0.06512616176202878 1065.3058150000002\n"
     ]
    },
    {
     "name": "stderr",
     "output_type": "stream",
     "text": [
      "2021-06-11 20:55:39 DEBUG   GTAnalysis.profile_norm(): Finished\n",
      "2021-06-11 20:55:39 DEBUG   GTAnalysis.get_src_model(): Generating source dict for 4FGL J0319.8+4130\n",
      "2021-06-11 20:55:39 DEBUG   GTAnalysis.profile_norm(): Profiling 4FGL J0319.8+4130\n",
      "2021-06-11 20:55:39 DEBUG   GTAnalysis.free_source(): Fixing parameters for galdiff               : ['Index']\n"
     ]
    },
    {
     "name": "stdout",
     "output_type": "stream",
     "text": [
      "6.710320989651966e-11 2.072776975528875 0.06512616176202878 1065.3058150000002\n"
     ]
    },
    {
     "name": "stderr",
     "output_type": "stream",
     "text": [
      "2021-06-11 20:55:40 DEBUG   GTAnalysis.profile_norm(): Finished\n",
      "2021-06-11 20:55:40 DEBUG   GTAnalysis.get_src_model(): Generating source dict for 4FGL J0319.8+4130\n",
      "2021-06-11 20:55:40 DEBUG   GTAnalysis.profile_norm(): Profiling 4FGL J0319.8+4130\n",
      "2021-06-11 20:55:40 DEBUG   GTAnalysis.free_source(): Fixing parameters for galdiff               : ['Index']\n"
     ]
    },
    {
     "name": "stdout",
     "output_type": "stream",
     "text": [
      "6.682785986533595e-11 2.072776975528875 0.06512616176202878 1065.3058150000002\n"
     ]
    },
    {
     "name": "stderr",
     "output_type": "stream",
     "text": [
      "2021-06-11 20:55:40 DEBUG   GTAnalysis.profile_norm(): Finished\n",
      "2021-06-11 20:55:40 DEBUG   GTAnalysis.get_src_model(): Generating source dict for 4FGL J0319.8+4130\n",
      "2021-06-11 20:55:40 DEBUG   GTAnalysis.profile_norm(): Profiling 4FGL J0319.8+4130\n",
      "2021-06-11 20:55:41 DEBUG   GTAnalysis.free_source(): Fixing parameters for galdiff               : ['Index']\n"
     ]
    },
    {
     "name": "stdout",
     "output_type": "stream",
     "text": [
      "6.696553488092781e-11 2.0744235509505247 0.06512616176202878 1065.3058150000002\n"
     ]
    },
    {
     "name": "stderr",
     "output_type": "stream",
     "text": [
      "2021-06-11 20:55:41 DEBUG   GTAnalysis.profile_norm(): Finished\n",
      "2021-06-11 20:55:41 DEBUG   GTAnalysis.get_src_model(): Generating source dict for 4FGL J0319.8+4130\n",
      "2021-06-11 20:55:41 DEBUG   GTAnalysis.profile_norm(): Profiling 4FGL J0319.8+4130\n",
      "2021-06-11 20:55:41 DEBUG   GTAnalysis.free_source(): Fixing parameters for galdiff               : ['Index']\n"
     ]
    },
    {
     "name": "stdout",
     "output_type": "stream",
     "text": [
      "6.696553488092781e-11 2.0711304001072257 0.06512616176202878 1065.3058150000002\n"
     ]
    },
    {
     "name": "stderr",
     "output_type": "stream",
     "text": [
      "2021-06-11 20:55:42 DEBUG   GTAnalysis.profile_norm(): Finished\n",
      "2021-06-11 20:55:42 DEBUG   GTAnalysis.get_src_model(): Generating source dict for 4FGL J0319.8+4130\n",
      "2021-06-11 20:55:42 DEBUG   GTAnalysis.profile_norm(): Profiling 4FGL J0319.8+4130\n",
      "2021-06-11 20:55:42 DEBUG   GTAnalysis.free_source(): Fixing parameters for galdiff               : ['Index']\n"
     ]
    },
    {
     "name": "stdout",
     "output_type": "stream",
     "text": [
      "6.696553488092781e-11 2.072776975528875 0.06598729354355927 1065.3058150000002\n"
     ]
    },
    {
     "name": "stderr",
     "output_type": "stream",
     "text": [
      "2021-06-11 20:55:43 DEBUG   GTAnalysis.profile_norm(): Finished\n",
      "2021-06-11 20:55:43 DEBUG   GTAnalysis.get_src_model(): Generating source dict for 4FGL J0319.8+4130\n",
      "2021-06-11 20:55:43 DEBUG   GTAnalysis.profile_norm(): Profiling 4FGL J0319.8+4130\n",
      "2021-06-11 20:55:43 DEBUG   GTAnalysis.free_source(): Fixing parameters for galdiff               : ['Index']\n"
     ]
    },
    {
     "name": "stdout",
     "output_type": "stream",
     "text": [
      "6.696553488092781e-11 2.072776975528875 0.06426502998049828 1065.3058150000002\n"
     ]
    },
    {
     "name": "stderr",
     "output_type": "stream",
     "text": [
      "2021-06-11 20:55:43 DEBUG   GTAnalysis.profile_norm(): Finished\n",
      "2021-06-11 20:55:44 DEBUG   GTAnalysis.get_src_model(): Generating source dict for 4FGL J0319.8+4130\n",
      "2021-06-11 20:55:44 DEBUG   GTAnalysis.profile_norm(): Profiling 4FGL J0319.8+4130\n",
      "2021-06-11 20:55:44 DEBUG   GTAnalysis.free_source(): Fixing parameters for galdiff               : ['Index']\n"
     ]
    },
    {
     "name": "stdout",
     "output_type": "stream",
     "text": [
      "6.699306988404618e-11 2.072776975528875 0.06512616176202878 1065.3058150000002\n"
     ]
    },
    {
     "name": "stderr",
     "output_type": "stream",
     "text": [
      "2021-06-11 20:55:44 DEBUG   GTAnalysis.profile_norm(): Finished\n",
      "2021-06-11 20:55:44 DEBUG   GTAnalysis.get_src_model(): Generating source dict for 4FGL J0319.8+4130\n",
      "2021-06-11 20:55:44 DEBUG   GTAnalysis.profile_norm(): Profiling 4FGL J0319.8+4130\n",
      "2021-06-11 20:55:44 DEBUG   GTAnalysis.free_source(): Fixing parameters for galdiff               : ['Index']\n"
     ]
    },
    {
     "name": "stdout",
     "output_type": "stream",
     "text": [
      "6.693799987780943e-11 2.072776975528875 0.06512616176202878 1065.3058150000002\n"
     ]
    },
    {
     "name": "stderr",
     "output_type": "stream",
     "text": [
      "2021-06-11 20:55:45 DEBUG   GTAnalysis.profile_norm(): Finished\n",
      "2021-06-11 20:55:45 DEBUG   GTAnalysis.get_src_model(): Generating source dict for 4FGL J0319.8+4130\n",
      "2021-06-11 20:55:45 DEBUG   GTAnalysis.profile_norm(): Profiling 4FGL J0319.8+4130\n",
      "2021-06-11 20:55:45 DEBUG   GTAnalysis.free_source(): Fixing parameters for galdiff               : ['Index']\n"
     ]
    },
    {
     "name": "stdout",
     "output_type": "stream",
     "text": [
      "6.697104188155148e-11 2.072776975528875 0.06512616176202878 1065.3058150000002\n"
     ]
    },
    {
     "name": "stderr",
     "output_type": "stream",
     "text": [
      "2021-06-11 20:55:46 DEBUG   GTAnalysis.profile_norm(): Finished\n",
      "2021-06-11 20:55:46 DEBUG   GTAnalysis.get_src_model(): Generating source dict for 4FGL J0319.8+4130\n",
      "2021-06-11 20:55:46 DEBUG   GTAnalysis.profile_norm(): Profiling 4FGL J0319.8+4130\n",
      "2021-06-11 20:55:46 DEBUG   GTAnalysis.free_source(): Fixing parameters for galdiff               : ['Index']\n"
     ]
    },
    {
     "name": "stdout",
     "output_type": "stream",
     "text": [
      "6.696002788030413e-11 2.072776975528875 0.06512616176202878 1065.3058150000002\n"
     ]
    },
    {
     "name": "stderr",
     "output_type": "stream",
     "text": [
      "2021-06-11 20:55:47 DEBUG   GTAnalysis.profile_norm(): Finished\n",
      "2021-06-11 20:55:47 DEBUG   GTAnalysis.get_src_model(): Generating source dict for 4FGL J0319.8+4130\n",
      "2021-06-11 20:55:47 DEBUG   GTAnalysis.profile_norm(): Profiling 4FGL J0319.8+4130\n",
      "2021-06-11 20:55:47 DEBUG   GTAnalysis.free_source(): Fixing parameters for galdiff               : ['Index']\n"
     ]
    },
    {
     "name": "stdout",
     "output_type": "stream",
     "text": [
      "6.696553488092781e-11 2.073106290613205 0.06512616176202878 1065.3058150000002\n"
     ]
    },
    {
     "name": "stderr",
     "output_type": "stream",
     "text": [
      "2021-06-11 20:55:48 DEBUG   GTAnalysis.profile_norm(): Finished\n",
      "2021-06-11 20:55:48 DEBUG   GTAnalysis.get_src_model(): Generating source dict for 4FGL J0319.8+4130\n",
      "2021-06-11 20:55:48 DEBUG   GTAnalysis.profile_norm(): Profiling 4FGL J0319.8+4130\n",
      "2021-06-11 20:55:48 DEBUG   GTAnalysis.free_source(): Fixing parameters for galdiff               : ['Index']\n"
     ]
    },
    {
     "name": "stdout",
     "output_type": "stream",
     "text": [
      "6.696553488092781e-11 2.072447660444545 0.06512616176202878 1065.3058150000002\n"
     ]
    },
    {
     "name": "stderr",
     "output_type": "stream",
     "text": [
      "2021-06-11 20:55:48 DEBUG   GTAnalysis.profile_norm(): Finished\n",
      "2021-06-11 20:55:48 DEBUG   GTAnalysis.get_src_model(): Generating source dict for 4FGL J0319.8+4130\n",
      "2021-06-11 20:55:48 DEBUG   GTAnalysis.profile_norm(): Profiling 4FGL J0319.8+4130\n",
      "2021-06-11 20:55:49 DEBUG   GTAnalysis.free_source(): Fixing parameters for galdiff               : ['Index']\n"
     ]
    },
    {
     "name": "stdout",
     "output_type": "stream",
     "text": [
      "6.696553488092781e-11 2.0728428385457414 0.06512616176202878 1065.3058150000002\n"
     ]
    },
    {
     "name": "stderr",
     "output_type": "stream",
     "text": [
      "2021-06-11 20:55:49 DEBUG   GTAnalysis.profile_norm(): Finished\n",
      "2021-06-11 20:55:49 DEBUG   GTAnalysis.get_src_model(): Generating source dict for 4FGL J0319.8+4130\n",
      "2021-06-11 20:55:49 DEBUG   GTAnalysis.profile_norm(): Profiling 4FGL J0319.8+4130\n",
      "2021-06-11 20:55:49 DEBUG   GTAnalysis.free_source(): Fixing parameters for galdiff               : ['Index']\n"
     ]
    },
    {
     "name": "stdout",
     "output_type": "stream",
     "text": [
      "6.696553488092781e-11 2.072711112512009 0.06512616176202878 1065.3058150000002\n"
     ]
    },
    {
     "name": "stderr",
     "output_type": "stream",
     "text": [
      "2021-06-11 20:55:50 DEBUG   GTAnalysis.profile_norm(): Finished\n",
      "2021-06-11 20:55:50 DEBUG   GTAnalysis.get_src_model(): Generating source dict for 4FGL J0319.8+4130\n",
      "2021-06-11 20:55:50 DEBUG   GTAnalysis.profile_norm(): Profiling 4FGL J0319.8+4130\n",
      "2021-06-11 20:55:50 DEBUG   GTAnalysis.free_source(): Fixing parameters for galdiff               : ['Index']\n"
     ]
    },
    {
     "name": "stdout",
     "output_type": "stream",
     "text": [
      "6.696553488092781e-11 2.072776975528875 0.06529838811833487 1065.3058150000002\n"
     ]
    },
    {
     "name": "stderr",
     "output_type": "stream",
     "text": [
      "2021-06-11 20:55:51 DEBUG   GTAnalysis.profile_norm(): Finished\n",
      "2021-06-11 20:55:51 DEBUG   GTAnalysis.get_src_model(): Generating source dict for 4FGL J0319.8+4130\n",
      "2021-06-11 20:55:51 DEBUG   GTAnalysis.profile_norm(): Profiling 4FGL J0319.8+4130\n",
      "2021-06-11 20:55:51 DEBUG   GTAnalysis.free_source(): Fixing parameters for galdiff               : ['Index']\n"
     ]
    },
    {
     "name": "stdout",
     "output_type": "stream",
     "text": [
      "6.696553488092781e-11 2.072776975528875 0.06495393540572268 1065.3058150000002\n"
     ]
    },
    {
     "name": "stderr",
     "output_type": "stream",
     "text": [
      "2021-06-11 20:55:52 DEBUG   GTAnalysis.profile_norm(): Finished\n",
      "2021-06-11 20:55:52 DEBUG   GTAnalysis.get_src_model(): Generating source dict for 4FGL J0319.8+4130\n",
      "2021-06-11 20:55:52 DEBUG   GTAnalysis.profile_norm(): Profiling 4FGL J0319.8+4130\n",
      "2021-06-11 20:55:52 DEBUG   GTAnalysis.free_source(): Fixing parameters for galdiff               : ['Index']\n"
     ]
    },
    {
     "name": "stdout",
     "output_type": "stream",
     "text": [
      "6.696553488092781e-11 2.072776975528875 0.06516060703328999 1065.3058150000002\n"
     ]
    },
    {
     "name": "stderr",
     "output_type": "stream",
     "text": [
      "2021-06-11 20:55:52 DEBUG   GTAnalysis.profile_norm(): Finished\n",
      "2021-06-11 20:55:52 DEBUG   GTAnalysis.get_src_model(): Generating source dict for 4FGL J0319.8+4130\n",
      "2021-06-11 20:55:52 DEBUG   GTAnalysis.profile_norm(): Profiling 4FGL J0319.8+4130\n",
      "2021-06-11 20:55:52 DEBUG   GTAnalysis.free_source(): Fixing parameters for galdiff               : ['Index']\n"
     ]
    },
    {
     "name": "stdout",
     "output_type": "stream",
     "text": [
      "6.696553488092781e-11 2.072776975528875 0.06509171649076756 1065.3058150000002\n"
     ]
    },
    {
     "name": "stderr",
     "output_type": "stream",
     "text": [
      "2021-06-11 20:55:53 DEBUG   GTAnalysis.profile_norm(): Finished\n",
      "2021-06-11 20:55:53 DEBUG   GTAnalysis.get_src_model(): Generating source dict for 4FGL J0319.8+4130\n",
      "2021-06-11 20:55:53 DEBUG   GTAnalysis.profile_norm(): Profiling 4FGL J0319.8+4130\n",
      "2021-06-11 20:55:53 DEBUG   GTAnalysis.free_source(): Fixing parameters for galdiff               : ['Index']\n"
     ]
    },
    {
     "name": "stdout",
     "output_type": "stream",
     "text": [
      "6.710320989651966e-11 2.0744235509505247 0.06512616176202878 1065.3058150000002\n"
     ]
    },
    {
     "name": "stderr",
     "output_type": "stream",
     "text": [
      "2021-06-11 20:55:54 DEBUG   GTAnalysis.profile_norm(): Finished\n",
      "2021-06-11 20:55:54 DEBUG   GTAnalysis.get_src_model(): Generating source dict for 4FGL J0319.8+4130\n",
      "2021-06-11 20:55:54 DEBUG   GTAnalysis.profile_norm(): Profiling 4FGL J0319.8+4130\n",
      "2021-06-11 20:55:54 DEBUG   GTAnalysis.free_source(): Fixing parameters for galdiff               : ['Index']\n"
     ]
    },
    {
     "name": "stdout",
     "output_type": "stream",
     "text": [
      "6.710320989651966e-11 2.072776975528875 0.06598729354355927 1065.3058150000002\n"
     ]
    },
    {
     "name": "stderr",
     "output_type": "stream",
     "text": [
      "2021-06-11 20:55:55 DEBUG   GTAnalysis.profile_norm(): Finished\n",
      "2021-06-11 20:55:55 DEBUG   GTAnalysis.get_src_model(): Generating source dict for 4FGL J0319.8+4130\n",
      "2021-06-11 20:55:55 DEBUG   GTAnalysis.profile_norm(): Profiling 4FGL J0319.8+4130\n",
      "2021-06-11 20:55:55 DEBUG   GTAnalysis.free_source(): Fixing parameters for galdiff               : ['Index']\n"
     ]
    },
    {
     "name": "stdout",
     "output_type": "stream",
     "text": [
      "6.696553488092781e-11 2.0744235509505247 0.06598729354355927 1065.3058150000002\n"
     ]
    },
    {
     "name": "stderr",
     "output_type": "stream",
     "text": [
      "2021-06-11 20:55:55 DEBUG   GTAnalysis.profile_norm(): Finished\n",
      "2021-06-11 20:55:55 DEBUG   GTAnalysis.get_src_model(): Generating source dict for 4FGL J0319.8+4130\n",
      "2021-06-11 20:55:55 DEBUG   GTAnalysis.profile_norm(): Profiling 4FGL J0319.8+4130\n",
      "2021-06-11 20:55:56 DEBUG   GTAnalysis.free_source(): Fixing parameters for galdiff               : ['Index']\n"
     ]
    },
    {
     "name": "stdout",
     "output_type": "stream",
     "text": [
      "┌──────────────────────────────────┬──────────────────────────────────────┐\n",
      "│ FCN = -4.22e+05                  │       Ncalls = 108 (108 total)       │\n",
      "│ EDM = 5.74e-07 (Goal: 0.0001)    │               up = 0.5               │\n",
      "├───────────────┬──────────────────┼──────────────────────────────────────┤\n",
      "│ Valid Minimum │ Valid Parameters │        No Parameters at limit        │\n",
      "├───────────────┴──────────────────┼──────────────────────────────────────┤\n",
      "│ Below EDM threshold (goal x 10)  │           Below call limit           │\n",
      "├───────────────┬──────────────────┼───────────┬─────────────┬────────────┤\n",
      "│   Hesse ok    │  Has Covariance  │ Accurate  │  Pos. def.  │ Not forced │\n",
      "└───────────────┴──────────────────┴───────────┴─────────────┴────────────┘\n"
     ]
    },
    {
     "name": "stderr",
     "output_type": "stream",
     "text": [
      "2021-06-11 20:55:56 DEBUG   GTAnalysis.profile_norm(): Finished\n",
      "2021-06-11 20:55:56 INFO    GTAnalysis.simulate_roi(): Simulating ROI\n",
      "2021-06-11 20:55:56 INFO    GTAnalysis.simulate_roi(): Restoring\n",
      "2021-06-11 20:55:57 DEBUG   GTBinnedAnalysis.update_source_maps(): Updating source map for PRIMARY\n",
      "2021-06-11 20:55:59 INFO    GTAnalysis.simulate_roi(): Finished\n"
     ]
    }
   ],
   "source": [
    "no_alps_ll = - j.gta.like()\n",
    "# do fitting with alps, switching to dnde again\n",
    "# save loglike\n",
    "j.p = np.loadtxt(prob_path)\n",
    "j.fit()\n",
    "with_alps_ll = - j.gta.like()\n",
    "j.gta.simulate_roi(restore=True)\n",
    "# repeat\n",
    "outdata[0] = np.array([no_alps_ll, with_alps_ll])\n",
    "np.savetxt('h1_simulation.dat', outdata, fmt='%5.4f')"
   ]
  },
  {
   "cell_type": "code",
   "execution_count": null,
   "metadata": {},
   "outputs": [],
   "source": []
  }
 ],
 "metadata": {
  "kernelspec": {
   "display_name": "Python 3",
   "language": "python",
   "name": "python3"
  },
  "language_info": {
   "codemirror_mode": {
    "name": "ipython",
    "version": 3
   },
   "file_extension": ".py",
   "mimetype": "text/x-python",
   "name": "python",
   "nbconvert_exporter": "python",
   "pygments_lexer": "ipython3",
   "version": "3.7.8"
  }
 },
 "nbformat": 4,
 "nbformat_minor": 4
}
