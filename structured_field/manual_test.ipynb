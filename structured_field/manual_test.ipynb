{
 "cells": [
  {
   "cell_type": "code",
   "execution_count": 1,
   "id": "continued-player",
   "metadata": {},
   "outputs": [],
   "source": [
    "#from sympy import *\n",
    "from scipy import constants\n",
    "import numpy as np\n",
    "import matplotlib.pyplot as plt\n",
    "from ts_limit.grid import Grid"
   ]
  },
  {
   "cell_type": "code",
   "execution_count": null,
   "id": "undefined-punch",
   "metadata": {},
   "outputs": [],
   "source": [
    "#variables:\n",
    "#g_agamma in 10e-11 GeV^{-1}, B_T in muG, "
   ]
  },
  {
   "cell_type": "code",
   "execution_count": null,
   "id": "racial-mount",
   "metadata": {},
   "outputs": [],
   "source": [
    "g_agamma, B_T, E, n_e = symbols('g_a\\gamma B_T E n_e')"
   ]
  },
  {
   "cell_type": "code",
   "execution_count": null,
   "id": "awful-substitute",
   "metadata": {},
   "outputs": [],
   "source": [
    "m_a, d = symbols('m_a d')"
   ]
  },
  {
   "cell_type": "code",
   "execution_count": null,
   "id": "southwest-merchandise",
   "metadata": {},
   "outputs": [],
   "source": [
    "delta_ag = symbols('\\Delta_a\\gamma')"
   ]
  },
  {
   "cell_type": "code",
   "execution_count": null,
   "id": "recent-counter",
   "metadata": {},
   "outputs": [],
   "source": [
    "w_pl = symbols('\\omega_pl')"
   ]
  },
  {
   "cell_type": "code",
   "execution_count": null,
   "id": "flush-wildlife",
   "metadata": {},
   "outputs": [],
   "source": [
    "delta_ag = 7.6e-2 * g_agamma / 0.5 * B_T"
   ]
  },
  {
   "cell_type": "code",
   "execution_count": null,
   "id": "emotional-teens",
   "metadata": {},
   "outputs": [],
   "source": [
    "delta_a = -7.8e-3 * m_a**2 * E**(-1)"
   ]
  },
  {
   "cell_type": "code",
   "execution_count": null,
   "id": "practical-housing",
   "metadata": {},
   "outputs": [],
   "source": [
    "delta_pl = -1.1e-10 * E**(-1) * n_e"
   ]
  },
  {
   "cell_type": "code",
   "execution_count": null,
   "id": "flexible-heritage",
   "metadata": {},
   "outputs": [],
   "source": [
    "E_c = 50 * abs(m_a**2 - w_pl**2) / B_T *0.5 / g_agamma"
   ]
  },
  {
   "cell_type": "code",
   "execution_count": null,
   "id": "superior-lincoln",
   "metadata": {},
   "outputs": [],
   "source": [
    "delta_osc = 2 * delta_ag * sqrt(1 + (E_c / E)**2)"
   ]
  },
  {
   "cell_type": "code",
   "execution_count": null,
   "id": "fantastic-librarian",
   "metadata": {},
   "outputs": [],
   "source": [
    "P_gammaa = (delta_ag * d)**2 * sin(delta_osc * d / 2)**2 / (delta_osc * d / 2)**2"
   ]
  },
  {
   "cell_type": "code",
   "execution_count": null,
   "id": "medium-business",
   "metadata": {
    "scrolled": true
   },
   "outputs": [],
   "source": [
    "P_gammaa"
   ]
  },
  {
   "cell_type": "code",
   "execution_count": null,
   "id": "crude-corporation",
   "metadata": {},
   "outputs": [],
   "source": [
    "E_c"
   ]
  },
  {
   "cell_type": "markdown",
   "id": "virgin-mason",
   "metadata": {},
   "source": [
    "Preceeding stuff done in sympy, if using stuff below (pure python) do NOT execute any cells. will do conflicts with variables / functions of the same name in sympy."
   ]
  },
  {
   "cell_type": "code",
   "execution_count": null,
   "id": "artistic-hammer",
   "metadata": {
    "scrolled": true
   },
   "outputs": [],
   "source": [
    "# [n_e] = 10^-3 cm^-3, [B_T] = muG, [m_a] = 10^-8 eV, [g_ag] = 10^-11 GeV^-1, [E]=TeV\n",
    "\n",
    "g_ag = 10\n",
    "m_a = 3     # 30 neV = 30e-9 eV = 3e-8 eV\n",
    "n_e = 1e-3\n",
    "B_T = 1\n",
    "E = np.logspace(1-3, 3.5-3, num=250)\n",
    "def w_plasma(E, m_a, g_ag, n_e, B_T): # in eV\n",
    "    #e = constants.e\n",
    "    #epsilon_0 = constants.epsilon_0\n",
    "    #m_e = constants.electron_mass\n",
    "    #return np.sqrt(n_e * e**2 / (epsilon_0 * m_e)) # in SI units\n",
    "    return 3.69e-11 * np.sqrt(1e-3 * n_e) #in \"natural\" units, eV..., n_e in cm^{-3}\n",
    "\n",
    "def delta_ag(E, m_a, g_ag, n_e, B_T): # in kpc^-1\n",
    "    return 7.6e-2 * g_ag / 5 * B_T\n",
    "\n",
    "def delta_a(E, m_a, g_ag, n_e, B_T): # in kpc^-1\n",
    "    return - 7.8e-3 * (m_a)**2 / E\n",
    "\n",
    "def delta_osc(E, m_a, g_ag, n_e, B_T): # in kpc^-1\n",
    "    return 2 * delta_ag(E, m_a, g_ag, n_e, B_T) * np.sqrt(1 + (E_c(E, m_a, g_ag, n_e, B_T) / E)**2)\n",
    "\n",
    "def E_c(E, m_a, g_ag, n_e, B_T): # in TeV\n",
    "    return 50 * np.abs(m_a**2 - w_plasma(E, m_a, g_ag, n_e, B_T)**2) / B_T * 5 / g_ag * 1e-3\n",
    "\n",
    "def P(E, d, m_a, g_ag, n_e, B_T):\n",
    "    d_ag = delta_ag(E, m_a, g_ag, n_e, B_T)\n",
    "    d_osc = delta_osc(E, m_a, g_ag, n_e, B_T)\n",
    "    return (d_ag * d)**2 * np.sin(d_osc * d / 2)**2 / (d_osc * d / 2)**2\n",
    "\n",
    "P(E, 10, m_a, g_ag, n_e, B_T)"
   ]
  },
  {
   "cell_type": "code",
   "execution_count": null,
   "id": "graduate-thousand",
   "metadata": {},
   "outputs": [],
   "source": [
    "E"
   ]
  },
  {
   "cell_type": "code",
   "execution_count": null,
   "id": "northern-reservation",
   "metadata": {},
   "outputs": [],
   "source": [
    "plt.plot(E, 1-P(E, 10, m_a, g_ag, n_e, B_T)/2)\n",
    "plt.xscale('log')\n",
    "plt.yscale('log')\n",
    "plt.title('manual calculation')\n",
    "plt.savefig('p_surv_manual.png')"
   ]
  },
  {
   "cell_type": "code",
   "execution_count": null,
   "id": "fourth-description",
   "metadata": {},
   "outputs": [],
   "source": []
  },
  {
   "cell_type": "code",
   "execution_count": null,
   "id": "flying-quest",
   "metadata": {},
   "outputs": [],
   "source": [
    "np.abs(E)"
   ]
  },
  {
   "cell_type": "code",
   "execution_count": null,
   "id": "surprising-citizen",
   "metadata": {},
   "outputs": [],
   "source": [
    "p = 1-P(E, 10, m_a, g_ag, n_e, B_T)/2"
   ]
  },
  {
   "cell_type": "code",
   "execution_count": null,
   "id": "viral-advancement",
   "metadata": {},
   "outputs": [],
   "source": [
    "np.savetxt('manual_prob.txt', p)"
   ]
  },
  {
   "cell_type": "code",
   "execution_count": null,
   "id": "indoor-suggestion",
   "metadata": {},
   "outputs": [],
   "source": []
  }
 ],
 "metadata": {
  "kernelspec": {
   "display_name": "Python 3",
   "language": "python",
   "name": "python3"
  },
  "language_info": {
   "codemirror_mode": {
    "name": "ipython",
    "version": 3
   },
   "file_extension": ".py",
   "mimetype": "text/x-python",
   "name": "python",
   "nbconvert_exporter": "python",
   "pygments_lexer": "ipython3",
   "version": "3.9.2"
  }
 },
 "nbformat": 4,
 "nbformat_minor": 5
}
