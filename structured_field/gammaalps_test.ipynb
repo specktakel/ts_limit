{
 "cells": [
  {
   "cell_type": "code",
   "execution_count": 39,
   "id": "pleased-evidence",
   "metadata": {},
   "outputs": [],
   "source": [
    "from gammaALPs.core import Source, ALP, ModuleList\n",
    "from gammaALPs.base import environs, transfer\n",
    "import numpy as np\n",
    "import matplotlib.pyplot as plt\n",
    "from matplotlib.patheffects import withStroke"
   ]
  },
  {
   "cell_type": "code",
   "execution_count": 47,
   "id": "protective-result",
   "metadata": {},
   "outputs": [],
   "source": [
    "m = 30\n",
    "g = 10\n",
    "alp = ALP(m,g)\n",
    "ngc1275 = Source(z=0., ra='03h19m48.1s', dec='+41d30m42s')\n",
    "EGeV = np.logspace(1., 3.5, 250)\n",
    "pin = np.diag((1.,1.,0.)) * 0.5\n",
    "ml = ModuleList(alp, ngc1275, pin = pin, EGeV = EGeV)"
   ]
  },
  {
   "cell_type": "code",
   "execution_count": 48,
   "id": "collectible-major",
   "metadata": {},
   "outputs": [],
   "source": [
    "Btrans = np.array([1])\n",
    "psi = np.array([0])\n",
    "nel = np.array([1e-3])\n",
    "dL = np.array([10])"
   ]
  },
  {
   "cell_type": "code",
   "execution_count": 49,
   "id": "lightweight-crown",
   "metadata": {},
   "outputs": [],
   "source": [
    "ml.add_propagation(\"Array\", 0, Btrans=Btrans, psi=psi, nel=nel, dL=dL)\n",
    "#ml.add_propagation(\"EBL\",1, model='dominguez') # EBL attenuation comes second, after beam has left cluster\n",
    "#ml.add_propagation(\"GMF\",2, model='jansson12') # finally, the beam enters the Milky Way Field"
   ]
  },
  {
   "cell_type": "code",
   "execution_count": 50,
   "id": "satisfactory-information",
   "metadata": {},
   "outputs": [],
   "source": [
    "px, py, pa = ml.run()"
   ]
  },
  {
   "cell_type": "code",
   "execution_count": 51,
   "id": "material-tyler",
   "metadata": {
    "collapsed": true
   },
   "outputs": [
    {
     "data": {
      "text/plain": [
       "array([[0.49972288, 0.49995079, 0.49926486, 0.49896898, 0.4996201 ,\n",
       "        0.49998565, 0.49933488, 0.49871047, 0.49911907, 0.49989711,\n",
       "        0.49979808, 0.49888059, 0.49837882, 0.49895342, 0.49983646,\n",
       "        0.49986532, 0.49891911, 0.4980163 , 0.49812081, 0.49910596,\n",
       "        0.49993519, 0.49973028, 0.49859623, 0.49747756, 0.49729465,\n",
       "        0.4981783 , 0.49940621, 0.4999993 , 0.4994508 , 0.49805482,\n",
       "        0.49666535, 0.4961182 , 0.49672003, 0.49809892, 0.49945179,\n",
       "        0.49999981, 0.49938575, 0.49782365, 0.49596412, 0.49457657,\n",
       "        0.49421282, 0.49499491, 0.4965942 , 0.49838218, 0.49967341,\n",
       "        0.49996242, 0.49907646, 0.49720745, 0.49483117, 0.49255374,\n",
       "        0.49093894, 0.49036532, 0.49094524, 0.49251625, 0.49469619,\n",
       "        0.49698004, 0.49885169, 0.49988532, 0.49981844, 0.49858698,\n",
       "        0.49632202, 0.4933147 , 0.48995959, 0.48668913, 0.48390998,\n",
       "        0.48195035, 0.4810237 , 0.48121113, 0.48246175, 0.48460815,\n",
       "        0.48739282, 0.49050088, 0.49359469, 0.49634647, 0.49846612,\n",
       "        0.49972237, 0.49995637, 0.499088  , 0.49711514, 0.49410752,\n",
       "        0.49019617, 0.48556011, 0.48041162, 0.47498122, 0.46950365,\n",
       "        0.46420519, 0.45929315, 0.45494773, 0.4513161 , 0.44850903,\n",
       "        0.44659952, 0.44562325, 0.44558065, 0.44644002, 0.44814166,\n",
       "        0.45060228, 0.45372001, 0.45737904, 0.46145446, 0.46581645,\n",
       "        0.47033431, 0.47487989, 0.47933042, 0.48357092, 0.48749609,\n",
       "        0.49101157, 0.49403487, 0.4964959 , 0.49833701, 0.49951288,\n",
       "        0.4999901 , 0.49974652, 0.49877051, 0.49706007, 0.49462188,\n",
       "        0.49147039, 0.4876267 , 0.48311768, 0.477975  , 0.47223423,\n",
       "        0.46593396, 0.45911509, 0.45182004, 0.44409217, 0.43597517,\n",
       "        0.42751258, 0.41874736, 0.40972148, 0.40047567, 0.39104914,\n",
       "        0.38147935, 0.37180189, 0.3620504 , 0.35225638, 0.34244925,\n",
       "        0.33265632, 0.32290274, 0.31321159, 0.30360387, 0.29409862,\n",
       "        0.28471297, 0.27546216, 0.26635974, 0.25741754, 0.24864585,\n",
       "        0.2400535 , 0.23164791, 0.22343523, 0.21542044, 0.20760739,\n",
       "        0.19999895, 0.19259704, 0.18540275, 0.17841641, 0.17163765,\n",
       "        0.16506548, 0.15869837, 0.15253427, 0.1465707 , 0.1408048 ,\n",
       "        0.13523338, 0.12985297, 0.12465982, 0.11965002, 0.11481944,\n",
       "        0.11016385, 0.10567889, 0.10136012, 0.09720303, 0.09320311,\n",
       "        0.0893558 , 0.08565654, 0.0821008 , 0.07868408, 0.07540192,\n",
       "        0.0722499 , 0.06922368, 0.06631898, 0.06353159, 0.06085741,\n",
       "        0.0582924 , 0.05583262, 0.05347423, 0.05121347, 0.04904671,\n",
       "        0.0469704 , 0.04498108, 0.04307542, 0.04125017, 0.03950219,\n",
       "        0.03782843, 0.03622596, 0.03469193, 0.03322358, 0.03181827,\n",
       "        0.03047344, 0.02918661, 0.0279554 , 0.02677752, 0.02565076,\n",
       "        0.02457299, 0.02354217, 0.02255633, 0.02161357, 0.02071208,\n",
       "        0.01985011, 0.01902597, 0.01823806, 0.01748483, 0.01676478,\n",
       "        0.01607651, 0.01541863, 0.01478983, 0.01418887, 0.01361452,\n",
       "        0.01306564, 0.01254112, 0.01203989, 0.01156094, 0.01110329,\n",
       "        0.01066602, 0.01024823, 0.00984905, 0.00946768, 0.00910333,\n",
       "        0.00875525, 0.00842272, 0.00810506, 0.0078016 , 0.00751172,\n",
       "        0.00723482, 0.00697032, 0.00671766, 0.00647634, 0.00624583,\n",
       "        0.00602566, 0.00581537, 0.00561452, 0.00542268, 0.00523946,\n",
       "        0.00506448, 0.00489735, 0.00473774, 0.0045853 , 0.00443972,\n",
       "        0.00430069, 0.00416792, 0.00404112, 0.00392002, 0.00380438]])"
      ]
     },
     "execution_count": 51,
     "metadata": {},
     "output_type": "execute_result"
    }
   ],
   "source": [
    "py"
   ]
  },
  {
   "cell_type": "code",
   "execution_count": 54,
   "id": "variable-citation",
   "metadata": {},
   "outputs": [
    {
     "data": {
      "image/png": "[encoded data removed]",
      "text/plain": [
       "<Figure size 432x288 with 1 Axes>"
      ]
     },
     "metadata": {
      "needs_background": "light"
     },
     "output_type": "display_data"
    }
   ],
   "source": [
    "pgg = px + py # the total photon survival probability\n",
    "\n",
    "effect = dict(path_effects=[withStroke(foreground=\"w\", linewidth=2)])\n",
    "\n",
    "for i, p in enumerate(pgg):  # plot all realizations\n",
    "    plt.loglog(ml.EGeV, p, color=plt.cm.tab10(0.), alpha=1 if not i else 0.2)\n",
    "\n",
    "plt.xlabel('Energy (GeV)')\n",
    "plt.ylabel('Photon survival probability')\n",
    "\n",
    "plt.annotate(r'$m_a = {0:.1f}\\,\\mathrm{{neV}}, g_{{a\\gamma}}'\n",
    "             r' = {1:.1f} \\times 10^{{-11}}\\,\\mathrm{{GeV}}^{{-1}}$'.format(ml.alp.m, ml.alp.g),\n",
    "             xy=(0.05,0.1),\n",
    "             size ='x-large',\n",
    "             xycoords='axes fraction',\n",
    "             **effect)\n",
    "plt.title('calculation by gammaalps')\n",
    "plt.savefig('p_surv_gammaalps.png')"
   ]
  },
  {
   "cell_type": "code",
   "execution_count": 31,
   "id": "sitting-property",
   "metadata": {},
   "outputs": [
    {
     "ename": "AttributeError",
     "evalue": "'MixFromArray' object has no attribute 'r'",
     "output_type": "error",
     "traceback": [
      "\u001b[0;31m---------------------------------------------------------------------------\u001b[0m",
      "\u001b[0;31mAttributeError\u001b[0m                            Traceback (most recent call last)",
      "\u001b[0;32m<ipython-input-31-5579c898b52e>\u001b[0m in \u001b[0;36m<module>\u001b[0;34m\u001b[0m\n\u001b[0;32m----> 1\u001b[0;31m \u001b[0mplt\u001b[0m\u001b[0;34m.\u001b[0m\u001b[0mplot\u001b[0m\u001b[0;34m(\u001b[0m\u001b[0mml\u001b[0m\u001b[0;34m.\u001b[0m\u001b[0mmodules\u001b[0m\u001b[0;34m[\u001b[0m\u001b[0;34m'MixFromArray'\u001b[0m\u001b[0;34m]\u001b[0m\u001b[0;34m.\u001b[0m\u001b[0mr\u001b[0m\u001b[0;34m,\u001b[0m \u001b[0mml\u001b[0m\u001b[0;34m.\u001b[0m\u001b[0mmoduls\u001b[0m\u001b[0;34m[\u001b[0m\u001b[0;34m'Array'\u001b[0m\u001b[0;34m]\u001b[0m\u001b[0;34m.\u001b[0m\u001b[0mB\u001b[0m\u001b[0;34m)\u001b[0m\u001b[0;34m\u001b[0m\u001b[0;34m\u001b[0m\u001b[0m\n\u001b[0m",
      "\u001b[0;31mAttributeError\u001b[0m: 'MixFromArray' object has no attribute 'r'"
     ]
    }
   ],
   "source": [
    "plt.plot(ml.modules['MixFromArray'].r, ml.moduls['Array'].B)"
   ]
  },
  {
   "cell_type": "code",
   "execution_count": 37,
   "id": "municipal-plaintiff",
   "metadata": {},
   "outputs": [
    {
     "data": {
      "text/plain": [
       "dict_keys(['_alp', '_source', '_EGeV', '_px', '_py', '_pa', '_pin', '_modules', '_seed', '_px_src', '_py_src', '_pa_src', '_px_final', '_py_final', '_pa_final', '_lin_pol', '_circ_pol', '_ModuleList__nsim_max', '_atten', '_eblnorm', '_Tenv', '_all_nsim'])"
      ]
     },
     "execution_count": 37,
     "metadata": {},
     "output_type": "execute_result"
    }
   ],
   "source": [
    "ml.__dict__.keys()"
   ]
  },
  {
   "cell_type": "code",
   "execution_count": 55,
   "id": "bound-mentor",
   "metadata": {},
   "outputs": [],
   "source": [
    "p_man = np.loadtxt('manual_prob.txt')"
   ]
  },
  {
   "cell_type": "code",
   "execution_count": 59,
   "id": "accessory-baltimore",
   "metadata": {},
   "outputs": [
    {
     "data": {
      "text/plain": [
       "(250,)"
      ]
     },
     "execution_count": 59,
     "metadata": {},
     "output_type": "execute_result"
    }
   ],
   "source": [
    "p_man.shape"
   ]
  },
  {
   "cell_type": "code",
   "execution_count": 64,
   "id": "clinical-lemon",
   "metadata": {},
   "outputs": [
    {
     "data": {
      "text/plain": [
       "array([ True,  True,  True,  True,  True,  True,  True,  True,  True,\n",
       "        True,  True,  True,  True,  True,  True,  True,  True,  True,\n",
       "        True,  True,  True,  True,  True,  True,  True,  True,  True,\n",
       "        True,  True,  True,  True,  True,  True,  True,  True,  True,\n",
       "        True,  True,  True,  True,  True,  True,  True,  True,  True,\n",
       "        True,  True,  True,  True,  True,  True,  True,  True,  True,\n",
       "        True,  True,  True,  True,  True,  True,  True,  True,  True,\n",
       "        True,  True,  True,  True,  True,  True,  True,  True,  True,\n",
       "        True,  True,  True,  True,  True,  True,  True,  True,  True,\n",
       "        True,  True,  True,  True,  True,  True,  True,  True,  True,\n",
       "        True,  True,  True,  True,  True,  True,  True,  True,  True,\n",
       "        True,  True,  True,  True,  True,  True,  True,  True,  True,\n",
       "        True,  True,  True,  True,  True,  True,  True,  True,  True,\n",
       "        True,  True,  True,  True,  True,  True,  True,  True,  True,\n",
       "        True,  True,  True,  True,  True,  True,  True,  True,  True,\n",
       "        True,  True,  True,  True,  True,  True,  True,  True,  True,\n",
       "        True,  True,  True,  True,  True,  True,  True,  True,  True,\n",
       "        True,  True,  True,  True,  True,  True,  True,  True,  True,\n",
       "        True,  True,  True,  True,  True,  True,  True,  True,  True,\n",
       "        True,  True,  True,  True,  True,  True,  True,  True,  True,\n",
       "        True,  True,  True,  True,  True,  True,  True,  True,  True,\n",
       "        True,  True,  True,  True,  True,  True,  True,  True,  True,\n",
       "        True,  True,  True,  True,  True,  True,  True,  True,  True,\n",
       "        True,  True,  True,  True,  True,  True,  True,  True,  True,\n",
       "        True,  True,  True,  True,  True,  True,  True,  True,  True,\n",
       "        True,  True,  True,  True,  True,  True,  True,  True,  True,\n",
       "        True,  True,  True,  True,  True,  True,  True,  True,  True,\n",
       "        True,  True,  True,  True,  True,  True,  True])"
      ]
     },
     "execution_count": 64,
     "metadata": {},
     "output_type": "execute_result"
    }
   ],
   "source": [
    "np.isclose(pgg[0], p_man, rtol=1e-1)"
   ]
  },
  {
   "cell_type": "code",
   "execution_count": 73,
   "id": "olive-printing",
   "metadata": {},
   "outputs": [
    {
     "data": {
      "image/png": "[encoded data removed]",
      "text/plain": [
       "<Figure size 432x288 with 1 Axes>"
      ]
     },
     "metadata": {
      "needs_background": "light"
     },
     "output_type": "display_data"
    }
   ],
   "source": [
    "plt.plot(ml.EGeV, (p_man - pgg[0]) / pgg[0])\n",
    "plt.xscale('log')\n",
    "plt.title('relative deviation')\n",
    "plt.ylabel('(manual - gammaalps) / gammaalps')\n",
    "plt.xlabel('$E$ [GeV]')\n",
    "plt.savefig('relative_deviation.png')"
   ]
  },
  {
   "cell_type": "code",
   "execution_count": null,
   "id": "weekly-portsmouth",
   "metadata": {},
   "outputs": [],
   "source": []
  }
 ],
 "metadata": {
  "kernelspec": {
   "display_name": "Python 3",
   "language": "python",
   "name": "python3"
  },
  "language_info": {
   "codemirror_mode": {
    "name": "ipython",
    "version": 3
   },
   "file_extension": ".py",
   "mimetype": "text/x-python",
   "name": "python",
   "nbconvert_exporter": "python",
   "pygments_lexer": "ipython3",
   "version": "3.9.2"
  }
 },
 "nbformat": 4,
 "nbformat_minor": 5
}
