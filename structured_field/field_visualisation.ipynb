{
 "cells": [
  {
   "cell_type": "code",
   "execution_count": 2,
   "metadata": {},
   "outputs": [],
   "source": [
    "import numpy as np\n",
    "import matplotlib.pyplot as plt\n",
    "from gammaALPs.core import Source, ALP, ModuleList\n",
    "from gammaALPs.base import environs, transfer\n",
    "#np.seterr(divide='ignore', invalid='ignore')"
   ]
  },
  {
   "cell_type": "code",
   "execution_count": 12,
   "metadata": {},
   "outputs": [],
   "source": [
    "# variable definitions\n",
    "\n",
    "alpha = 5.7634591968\n",
    "c = 1\n",
    "theta = np.radians(-45)"
   ]
  },
  {
   "cell_type": "code",
   "execution_count": 10,
   "metadata": {},
   "outputs": [],
   "source": [
    "#function definitions\n",
    "\n",
    "def b_r(r):\n",
    "    zero_val = - np.cos(theta) * (6 * F_0 + 2 * alpha**5 * c) / (3 * alpha**2)\n",
    "    if np.any(np.isclose(r, 0)):\n",
    "        try:\n",
    "            zero_args = np.argwhere(np.isclose(r, 0))\n",
    "            val = 2 * np.cos(theta) * f(r) / r**2\n",
    "            val[zero_args] = zero_val\n",
    "        except TypeError:\n",
    "            val = zero_val\n",
    "    else:\n",
    "        val = 2 * np.cos(theta) * f(r) / r**2\n",
    "    return val\n",
    "    \n",
    "\n",
    "def b_theta(r):\n",
    "    zero_val = np.sin(theta) * (6 * F_0 + 2 * alpha**5 * c) / (3 * alpha**2)\n",
    "    if np.any(np.isclose(r, 0)):\n",
    "        try:\n",
    "            zero_args = np.argwhere(np.isclose(r, 0))\n",
    "            val = - np.sin(theta) * f_prime(r) / r\n",
    "            val[zero_args] = zero_val\n",
    "        except TypeError:\n",
    "            val = zero_val\n",
    "    else:\n",
    "        val = - np.sin(theta) * f_prime(r) / r\n",
    "    return val\n",
    "\n",
    "\n",
    "def b_phi(r):\n",
    "    zero_val = 0\n",
    "    if np.any(np.isclose(r, 0)):\n",
    "        try:\n",
    "            zero_args = np.argwhere(np.isclose(r, 0))\n",
    "            val =  alpha * np.sin(theta) * f(r) / r\n",
    "            val[zero_args] = zero_val\n",
    "        except TypeError:\n",
    "            val = zero_val\n",
    "    else:\n",
    "        val = alpha * np.sin(theta) * f(r) / r\n",
    "    return val\n",
    "\n",
    "\n",
    "def f(r):\n",
    "    return c * (alpha * np.cos(alpha * r) - np.sin(alpha * r) / r) \\\n",
    "           - F_0 * r**2 / alpha**2\n",
    "\n",
    "\n",
    "def f_prime(r):\n",
    "    return c * ( - alpha**2 * np.sin(alpha * r) \\\n",
    "                - alpha * np.cos(alpha * r) / r \\\n",
    "                + np.sin(alpha * r) / r**2) \\\n",
    "               - 2 * F_0 * r / alpha**2\n",
    "\n",
    "\n",
    "F_0 = c * (alpha * np.cos(alpha) - np.sin(alpha)) * alpha**2\n",
    "norm = np.sqrt((3 * F_0 + c * alpha**5)**2) * 2 / (3 * alpha**2)\n",
    "scale = 8.3 / norm"
   ]
  },
  {
   "cell_type": "code",
   "execution_count": 5,
   "metadata": {},
   "outputs": [
    {
     "data": {
      "text/plain": [
       "182.66504956621472"
      ]
     },
     "execution_count": 5,
     "metadata": {},
     "output_type": "execute_result"
    }
   ],
   "source": [
    "F_0"
   ]
  },
  {
   "cell_type": "code",
   "execution_count": 13,
   "metadata": {},
   "outputs": [
    {
     "name": "stderr",
     "output_type": "stream",
     "text": [
      "/home/julian/anaconda3/envs/fermi3/lib/python3.7/site-packages/ipykernel_launcher.py:46: RuntimeWarning: invalid value encountered in true_divide\n",
      "/home/julian/anaconda3/envs/fermi3/lib/python3.7/site-packages/ipykernel_launcher.py:46: RuntimeWarning: invalid value encountered in true_divide\n",
      "/home/julian/anaconda3/envs/fermi3/lib/python3.7/site-packages/ipykernel_launcher.py:53: RuntimeWarning: divide by zero encountered in true_divide\n",
      "/home/julian/anaconda3/envs/fermi3/lib/python3.7/site-packages/ipykernel_launcher.py:53: RuntimeWarning: invalid value encountered in true_divide\n"
     ]
    },
    {
     "data": {
      "text/plain": [
       "<matplotlib.legend.Legend at 0x7fa8394f4c90>"
      ]
     },
     "execution_count": 13,
     "metadata": {},
     "output_type": "execute_result"
    },
    {
     "data": {
      "image/png": "[encoded data removed]",
      "text/plain": [
       "<Figure size 432x288 with 1 Axes>"
      ]
     },
     "metadata": {
      "needs_background": "light"
     },
     "output_type": "display_data"
    }
   ],
   "source": [
    "fig = plt.figure(1)\n",
    "ax = fig.add_subplot(111)\n",
    "\n",
    "r = np.linspace(0, 1.01, num=102)\n",
    "\n",
    "ax.plot(r, scale * b_r(r), label='$B_r$')\n",
    "ax.plot(r, scale * b_phi(r), label='$B_\\phi$')\n",
    "ax.plot(r, scale * b_theta(r), label=r'$B_\\theta$')\n",
    "#ax.set_ylim((-6, 6))\n",
    "ax.legend()\n",
    "#fig.savefig('structured_field.png', dpi=300)"
   ]
  },
  {
   "cell_type": "code",
   "execution_count": 7,
   "metadata": {},
   "outputs": [
    {
     "data": {
      "text/plain": [
       "array([0.  , 0.01, 0.02, 0.03, 0.04, 0.05, 0.06, 0.07, 0.08, 0.09, 0.1 ,\n",
       "       0.11, 0.12, 0.13, 0.14, 0.15, 0.16, 0.17, 0.18, 0.19, 0.2 , 0.21,\n",
       "       0.22, 0.23, 0.24, 0.25, 0.26, 0.27, 0.28, 0.29, 0.3 , 0.31, 0.32,\n",
       "       0.33, 0.34, 0.35, 0.36, 0.37, 0.38, 0.39, 0.4 , 0.41, 0.42, 0.43,\n",
       "       0.44, 0.45, 0.46, 0.47, 0.48, 0.49, 0.5 , 0.51, 0.52, 0.53, 0.54,\n",
       "       0.55, 0.56, 0.57, 0.58, 0.59, 0.6 , 0.61, 0.62, 0.63, 0.64, 0.65,\n",
       "       0.66, 0.67, 0.68, 0.69, 0.7 , 0.71, 0.72, 0.73, 0.74, 0.75, 0.76,\n",
       "       0.77, 0.78, 0.79, 0.8 , 0.81, 0.82, 0.83, 0.84, 0.85, 0.86, 0.87,\n",
       "       0.88, 0.89, 0.9 , 0.91, 0.92, 0.93, 0.94, 0.95, 0.96, 0.97, 0.98,\n",
       "       0.99, 1.  ])"
      ]
     },
     "execution_count": 7,
     "metadata": {},
     "output_type": "execute_result"
    }
   ],
   "source": [
    "r"
   ]
  },
  {
   "cell_type": "code",
   "execution_count": 17,
   "metadata": {},
   "outputs": [],
   "source": [
    "r_supp = r.copy()"
   ]
  },
  {
   "cell_type": "code",
   "execution_count": 18,
   "metadata": {},
   "outputs": [],
   "source": [
    "r_supp[1:] -=0.005\n",
    "r_supp[-1] = 1"
   ]
  },
  {
   "cell_type": "code",
   "execution_count": 20,
   "metadata": {},
   "outputs": [
    {
     "data": {
      "text/plain": [
       "(102,)"
      ]
     },
     "execution_count": 20,
     "metadata": {},
     "output_type": "execute_result"
    }
   ],
   "source": [
    "r_supp.shape"
   ]
  },
  {
   "cell_type": "code",
   "execution_count": null,
   "metadata": {},
   "outputs": [],
   "source": []
  }
 ],
 "metadata": {
  "kernelspec": {
   "display_name": "Python 3",
   "language": "python",
   "name": "python3"
  },
  "language_info": {
   "codemirror_mode": {
    "name": "ipython",
    "version": 3
   },
   "file_extension": ".py",
   "mimetype": "text/x-python",
   "name": "python",
   "nbconvert_exporter": "python",
   "pygments_lexer": "ipython3",
   "version": "3.7.8"
  }
 },
 "nbformat": 4,
 "nbformat_minor": 5
}
