{
 "cells": [
  {
   "cell_type": "code",
   "execution_count": 1,
   "id": "automated-county",
   "metadata": {},
   "outputs": [],
   "source": [
    "from sympy import *"
   ]
  },
  {
   "cell_type": "code",
   "execution_count": 2,
   "id": "saving-pasta",
   "metadata": {},
   "outputs": [],
   "source": [
    "c, alpha, F_0, x = symbols('c alpha F_0 x')"
   ]
  },
  {
   "cell_type": "code",
   "execution_count": 3,
   "id": "chronic-launch",
   "metadata": {},
   "outputs": [],
   "source": [
    "theta = symbols('theta')"
   ]
  },
  {
   "cell_type": "code",
   "execution_count": 8,
   "id": "mediterranean-jason",
   "metadata": {},
   "outputs": [],
   "source": [
    "f = c * (alpha * cos(alpha * x) - sin(alpha*x)/x) - F_0 * x**2 / alpha**2"
   ]
  },
  {
   "cell_type": "code",
   "execution_count": 10,
   "id": "centered-allowance",
   "metadata": {},
   "outputs": [
    {
     "data": {
      "text/plain": [
       "'- \\\\frac{F_{0} x^{2}}{\\\\alpha^{2}} + c \\\\left(\\\\alpha \\\\cos{\\\\left(\\\\alpha x \\\\right)} - \\\\frac{\\\\sin{\\\\left(\\\\alpha x \\\\right)}}{x}\\\\right)'"
      ]
     },
     "execution_count": 10,
     "metadata": {},
     "output_type": "execute_result"
    }
   ],
   "source": [
    "latex(f)"
   ]
  },
  {
   "cell_type": "code",
   "execution_count": 4,
   "id": "judicial-gibson",
   "metadata": {},
   "outputs": [],
   "source": [
    "f_prime = diff(c * (alpha * cos(alpha * x) - sin(alpha * x) / x) - F_0 * x**2 / alpha **2, x)"
   ]
  },
  {
   "cell_type": "code",
   "execution_count": 12,
   "id": "minute-discharge",
   "metadata": {},
   "outputs": [],
   "source": [
    "B_r = 2 * cos(theta) * f / x**2"
   ]
  },
  {
   "cell_type": "code",
   "execution_count": 6,
   "id": "chronic-hammer",
   "metadata": {},
   "outputs": [],
   "source": [
    "B_theta = - sin(theta) * f_prime / x"
   ]
  },
  {
   "cell_type": "code",
   "execution_count": 7,
   "id": "running-being",
   "metadata": {},
   "outputs": [
    {
     "ename": "NameError",
     "evalue": "name 'f' is not defined",
     "output_type": "error",
     "traceback": [
      "\u001b[0;31m---------------------------------------------------------------------------\u001b[0m",
      "\u001b[0;31mNameError\u001b[0m                                 Traceback (most recent call last)",
      "\u001b[0;32m<ipython-input-7-547acb2feb4a>\u001b[0m in \u001b[0;36m<module>\u001b[0;34m\u001b[0m\n\u001b[0;32m----> 1\u001b[0;31m \u001b[0mB_phi\u001b[0m \u001b[0;34m=\u001b[0m \u001b[0malpha\u001b[0m \u001b[0;34m*\u001b[0m \u001b[0msin\u001b[0m\u001b[0;34m(\u001b[0m\u001b[0mtheta\u001b[0m\u001b[0;34m)\u001b[0m \u001b[0;34m*\u001b[0m \u001b[0mf\u001b[0m \u001b[0;34m/\u001b[0m \u001b[0mx\u001b[0m\u001b[0;34m\u001b[0m\u001b[0;34m\u001b[0m\u001b[0m\n\u001b[0m",
      "\u001b[0;31mNameError\u001b[0m: name 'f' is not defined"
     ]
    }
   ],
   "source": [
    "B_phi = alpha * sin(theta) * f / x"
   ]
  },
  {
   "cell_type": "code",
   "execution_count": 74,
   "id": "extended-investment",
   "metadata": {},
   "outputs": [],
   "source": [
    "B_theta_0 = limit(B_theta, x, 0)"
   ]
  },
  {
   "cell_type": "code",
   "execution_count": 13,
   "id": "legendary-plaintiff",
   "metadata": {},
   "outputs": [],
   "source": [
    "B_r_0 = limit(B_r, x, 0)"
   ]
  },
  {
   "cell_type": "code",
   "execution_count": 71,
   "id": "novel-heather",
   "metadata": {},
   "outputs": [
    {
     "data": {
      "text/latex": [
       "$\\displaystyle \\frac{- 6 F_{0} \\cos{\\left(\\theta \\right)} - 2 \\alpha^{5} c \\cos{\\left(\\theta \\right)}}{3 \\alpha^{2}}$"
      ],
      "text/plain": [
       "(-6*F_0*cos(theta) - 2*alpha**5*c*cos(theta))/(3*alpha**2)"
      ]
     },
     "execution_count": 71,
     "metadata": {},
     "output_type": "execute_result"
    }
   ],
   "source": [
    "B_r_0"
   ]
  },
  {
   "cell_type": "code",
   "execution_count": 68,
   "id": "constitutional-relief",
   "metadata": {},
   "outputs": [
    {
     "data": {
      "text/latex": [
       "$\\displaystyle 97.8744954396036$"
      ],
      "text/plain": [
       "97.8744954396036"
      ]
     },
     "execution_count": 68,
     "metadata": {},
     "output_type": "execute_result"
    }
   ],
   "source": [
    "B_r_0.subs(alpha, 5.76).subs(theta, rad(180+45)).subs(c, 1).subs(F_0, 182.7).evalf()"
   ]
  },
  {
   "cell_type": "code",
   "execution_count": 67,
   "id": "emotional-gardening",
   "metadata": {},
   "outputs": [
    {
     "ename": "AttributeError",
     "evalue": "'Mul' object has no attribute 'eval'",
     "output_type": "error",
     "traceback": [
      "\u001b[0;31m---------------------------------------------------------------------------\u001b[0m",
      "\u001b[0;31mAttributeError\u001b[0m                            Traceback (most recent call last)",
      "\u001b[0;32m<ipython-input-67-a6f3df1b0d1b>\u001b[0m in \u001b[0;36m<module>\u001b[0;34m\u001b[0m\n\u001b[0;32m----> 1\u001b[0;31m \u001b[0;34m(\u001b[0m\u001b[0;36m69.2\u001b[0m \u001b[0;34m*\u001b[0m \u001b[0msqrt\u001b[0m\u001b[0;34m(\u001b[0m\u001b[0;36m2\u001b[0m\u001b[0;34m)\u001b[0m\u001b[0;34m)\u001b[0m\u001b[0;34m.\u001b[0m\u001b[0meval\u001b[0m\u001b[0;34m(\u001b[0m\u001b[0;34m)\u001b[0m\u001b[0;34m\u001b[0m\u001b[0;34m\u001b[0m\u001b[0m\n\u001b[0m",
      "\u001b[0;31mAttributeError\u001b[0m: 'Mul' object has no attribute 'eval'"
     ]
    }
   ],
   "source": [
    "(69.2 * sqrt(2)).eval()"
   ]
  },
  {
   "cell_type": "code",
   "execution_count": 83,
   "id": "dynamic-reservation",
   "metadata": {},
   "outputs": [
    {
     "data": {
      "text/latex": [
       "$\\displaystyle \\frac{2 \\sqrt{\\frac{\\left(3 F_{0} + \\alpha^{5} c\\right)^{2}}{\\alpha^{4}}}}{3}$"
      ],
      "text/plain": [
       "2*sqrt((3*F_0 + alpha**5*c)**2/alpha**4)/3"
      ]
     },
     "execution_count": 83,
     "metadata": {},
     "output_type": "execute_result"
    }
   ],
   "source": [
    "simplify(sqrt(B_r_0**2 + B_theta_0**2))"
   ]
  },
  {
   "cell_type": "code",
   "execution_count": null,
   "id": "purple-tract",
   "metadata": {},
   "outputs": [],
   "source": []
  }
 ],
 "metadata": {
  "kernelspec": {
   "display_name": "Python 3",
   "language": "python",
   "name": "python3"
  },
  "language_info": {
   "codemirror_mode": {
    "name": "ipython",
    "version": 3
   },
   "file_extension": ".py",
   "mimetype": "text/x-python",
   "name": "python",
   "nbconvert_exporter": "python",
   "pygments_lexer": "ipython3",
   "version": "3.9.2"
  }
 },
 "nbformat": 4,
 "nbformat_minor": 5
}
